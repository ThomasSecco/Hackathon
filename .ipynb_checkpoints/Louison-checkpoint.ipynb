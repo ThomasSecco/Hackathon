{
 "cells": [
  {
   "cell_type": "code",
   "execution_count": 27,
   "id": "223a2cbc-c678-4f09-bab1-e93b59338a31",
   "metadata": {},
   "outputs": [],
   "source": [
    "import pandas as pd\n",
    "import numpy as np\n",
    "import matplotlib.pyplot as plt"
   ]
  },
  {
   "cell_type": "code",
   "execution_count": 28,
   "id": "5d95077d-02ad-4cc2-a578-d7816544cb44",
   "metadata": {},
   "outputs": [
    {
     "data": {
      "text/html": [
       "<div>\n",
       "<style scoped>\n",
       "    .dataframe tbody tr th:only-of-type {\n",
       "        vertical-align: middle;\n",
       "    }\n",
       "\n",
       "    .dataframe tbody tr th {\n",
       "        vertical-align: top;\n",
       "    }\n",
       "\n",
       "    .dataframe thead th {\n",
       "        text-align: right;\n",
       "    }\n",
       "</style>\n",
       "<table border=\"1\" class=\"dataframe\">\n",
       "  <thead>\n",
       "    <tr style=\"text-align: right;\">\n",
       "      <th></th>\n",
       "      <th>Container</th>\n",
       "      <th>Zone</th>\n",
       "      <th>Entry</th>\n",
       "      <th>Exit</th>\n",
       "    </tr>\n",
       "  </thead>\n",
       "  <tbody>\n",
       "    <tr>\n",
       "      <th>0</th>\n",
       "      <td>SN7</td>\n",
       "      <td>A</td>\n",
       "      <td>09.12.2020</td>\n",
       "      <td>24.12.2020</td>\n",
       "    </tr>\n",
       "    <tr>\n",
       "      <th>1</th>\n",
       "      <td>SN7</td>\n",
       "      <td>B</td>\n",
       "      <td>24.12.2020</td>\n",
       "      <td>29.12.2020</td>\n",
       "    </tr>\n",
       "    <tr>\n",
       "      <th>2</th>\n",
       "      <td>SN7</td>\n",
       "      <td>C</td>\n",
       "      <td>29.12.2020</td>\n",
       "      <td>30.12.2020</td>\n",
       "    </tr>\n",
       "    <tr>\n",
       "      <th>3</th>\n",
       "      <td>SN7</td>\n",
       "      <td>D</td>\n",
       "      <td>10.01.2021</td>\n",
       "      <td>12.01.2021</td>\n",
       "    </tr>\n",
       "    <tr>\n",
       "      <th>4</th>\n",
       "      <td>SN7</td>\n",
       "      <td>E</td>\n",
       "      <td>12.01.2021</td>\n",
       "      <td>27.01.2021</td>\n",
       "    </tr>\n",
       "  </tbody>\n",
       "</table>\n",
       "</div>"
      ],
      "text/plain": [
       "  Container Zone       Entry        Exit\n",
       "0       SN7    A  09.12.2020  24.12.2020\n",
       "1       SN7    B  24.12.2020  29.12.2020\n",
       "2       SN7    C  29.12.2020  30.12.2020\n",
       "3       SN7    D  10.01.2021  12.01.2021\n",
       "4       SN7    E  12.01.2021  27.01.2021"
      ]
     },
     "execution_count": 28,
     "metadata": {},
     "output_type": "execute_result"
    }
   ],
   "source": [
    "events = pd.read_excel(\"dataset/ariane_tracks_booster_container_1.0.xlsx\")\n",
    "events.head()"
   ]
  },
  {
   "cell_type": "code",
   "execution_count": 29,
   "id": "43e70661-715b-4e31-af4c-e86ca3bfe911",
   "metadata": {},
   "outputs": [
    {
     "data": {
      "text/html": [
       "<div>\n",
       "<style scoped>\n",
       "    .dataframe tbody tr th:only-of-type {\n",
       "        vertical-align: middle;\n",
       "    }\n",
       "\n",
       "    .dataframe tbody tr th {\n",
       "        vertical-align: top;\n",
       "    }\n",
       "\n",
       "    .dataframe thead th {\n",
       "        text-align: right;\n",
       "    }\n",
       "</style>\n",
       "<table border=\"1\" class=\"dataframe\">\n",
       "  <thead>\n",
       "    <tr style=\"text-align: right;\">\n",
       "      <th></th>\n",
       "      <th>Date</th>\n",
       "      <th>Config</th>\n",
       "    </tr>\n",
       "  </thead>\n",
       "  <tbody>\n",
       "    <tr>\n",
       "      <th>0</th>\n",
       "      <td>2021-01-12</td>\n",
       "      <td>2</td>\n",
       "    </tr>\n",
       "    <tr>\n",
       "      <th>1</th>\n",
       "      <td>2021-08-24</td>\n",
       "      <td>4</td>\n",
       "    </tr>\n",
       "    <tr>\n",
       "      <th>2</th>\n",
       "      <td>2021-10-19</td>\n",
       "      <td>2</td>\n",
       "    </tr>\n",
       "    <tr>\n",
       "      <th>3</th>\n",
       "      <td>2022-01-28</td>\n",
       "      <td>2</td>\n",
       "    </tr>\n",
       "    <tr>\n",
       "      <th>4</th>\n",
       "      <td>2022-06-21</td>\n",
       "      <td>4</td>\n",
       "    </tr>\n",
       "  </tbody>\n",
       "</table>\n",
       "</div>"
      ],
      "text/plain": [
       "        Date  Config\n",
       "0 2021-01-12       2\n",
       "1 2021-08-24       4\n",
       "2 2021-10-19       2\n",
       "3 2022-01-28       2\n",
       "4 2022-06-21       4"
      ]
     },
     "execution_count": 29,
     "metadata": {},
     "output_type": "execute_result"
    }
   ],
   "source": [
    "demands = pd.read_excel(\"dataset/a6_booster_delivery_planning.xlsx\")\n",
    "demands.head()"
   ]
  },
  {
   "cell_type": "code",
   "execution_count": 30,
   "id": "d5440884-fde7-4682-aa60-c446bd6c376a",
   "metadata": {},
   "outputs": [
    {
     "data": {
      "text/html": [
       "<div>\n",
       "<style scoped>\n",
       "    .dataframe tbody tr th:only-of-type {\n",
       "        vertical-align: middle;\n",
       "    }\n",
       "\n",
       "    .dataframe tbody tr th {\n",
       "        vertical-align: top;\n",
       "    }\n",
       "\n",
       "    .dataframe thead th {\n",
       "        text-align: right;\n",
       "    }\n",
       "</style>\n",
       "<table border=\"1\" class=\"dataframe\">\n",
       "  <thead>\n",
       "    <tr style=\"text-align: right;\">\n",
       "      <th></th>\n",
       "      <th>Container</th>\n",
       "      <th>Zone</th>\n",
       "      <th>Entry</th>\n",
       "      <th>Exit</th>\n",
       "    </tr>\n",
       "  </thead>\n",
       "  <tbody>\n",
       "    <tr>\n",
       "      <th>0</th>\n",
       "      <td>SN7</td>\n",
       "      <td>A</td>\n",
       "      <td>2020-12-09</td>\n",
       "      <td>2020-12-24</td>\n",
       "    </tr>\n",
       "    <tr>\n",
       "      <th>1</th>\n",
       "      <td>SN7</td>\n",
       "      <td>B</td>\n",
       "      <td>2020-12-24</td>\n",
       "      <td>2020-12-29</td>\n",
       "    </tr>\n",
       "    <tr>\n",
       "      <th>2</th>\n",
       "      <td>SN7</td>\n",
       "      <td>C</td>\n",
       "      <td>2020-12-29</td>\n",
       "      <td>2020-12-30</td>\n",
       "    </tr>\n",
       "    <tr>\n",
       "      <th>3</th>\n",
       "      <td>SN7</td>\n",
       "      <td>D</td>\n",
       "      <td>2021-01-10</td>\n",
       "      <td>2021-01-12</td>\n",
       "    </tr>\n",
       "    <tr>\n",
       "      <th>4</th>\n",
       "      <td>SN7</td>\n",
       "      <td>E</td>\n",
       "      <td>2021-01-12</td>\n",
       "      <td>2021-01-27</td>\n",
       "    </tr>\n",
       "  </tbody>\n",
       "</table>\n",
       "</div>"
      ],
      "text/plain": [
       "  Container Zone      Entry       Exit\n",
       "0       SN7    A 2020-12-09 2020-12-24\n",
       "1       SN7    B 2020-12-24 2020-12-29\n",
       "2       SN7    C 2020-12-29 2020-12-30\n",
       "3       SN7    D 2021-01-10 2021-01-12\n",
       "4       SN7    E 2021-01-12 2021-01-27"
      ]
     },
     "execution_count": 30,
     "metadata": {},
     "output_type": "execute_result"
    }
   ],
   "source": [
    "events['Entry'] = pd.to_datetime(events['Entry'], format='%d.%m.%Y')\n",
    "events['Exit'] = pd.to_datetime(events['Exit'], format='%d.%m.%Y')\n",
    "events.head()"
   ]
  },
  {
   "cell_type": "code",
   "execution_count": 33,
   "id": "5546025d-1b4b-4983-a917-419c569cb8ee",
   "metadata": {},
   "outputs": [
    {
     "name": "stdout",
     "output_type": "stream",
     "text": [
      "Container            object\n",
      "Zone                 object\n",
      "Entry        datetime64[ns]\n",
      "Exit         datetime64[ns]\n",
      "dtype: object\n",
      "Date      datetime64[ns]\n",
      "Config             int64\n",
      "dtype: object\n"
     ]
    }
   ],
   "source": [
    "print(events.dtypes)\n",
    "print(demands.dtypes)"
   ]
  },
  {
   "cell_type": "code",
   "execution_count": null,
   "id": "7cd5aa1b-4c3f-48bd-937a-9fbeb27b60fe",
   "metadata": {},
   "outputs": [],
   "source": []
  }
 ],
 "metadata": {
  "kernelspec": {
   "display_name": "Python 3 (ipykernel)",
   "language": "python",
   "name": "python3"
  },
  "language_info": {
   "codemirror_mode": {
    "name": "ipython",
    "version": 3
   },
   "file_extension": ".py",
   "mimetype": "text/x-python",
   "name": "python",
   "nbconvert_exporter": "python",
   "pygments_lexer": "ipython3",
   "version": "3.9.18"
  }
 },
 "nbformat": 4,
 "nbformat_minor": 5
}
