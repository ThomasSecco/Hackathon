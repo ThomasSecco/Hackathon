{
 "cells": [
  {
   "cell_type": "code",
   "execution_count": 1,
   "metadata": {},
   "outputs": [],
   "source": [
    "import pandas as pd"
   ]
  },
  {
   "cell_type": "code",
   "execution_count": null,
   "metadata": {},
   "outputs": [],
   "source": [
    "data = pd.read_csv('contianer_use')\n",
    "\n",
    "colors = ['#BFEEDB', '#8ED3AE', '#48AF8A', '#247B6C', '#CCE3F8', '#85C6EB', '#519EE5', '#283952']\n",
    "\n",
    "# Data\n",
    "containers = ['container '+str(i) for i in range(1,9)]\n",
    "quantites_containers = list(data['Container'].value_counts())\n",
    "\n",
    "# Create figure\n",
    "fig = go.Figure(data=[go.Pie(labels=containers, values=quantites_containers)])\n",
    "\n",
    "# Update layout\n",
    "fig.update_traces(marker=dict(colors=colors))\n",
    "fig.update_layout(title='Usage of containers')\n",
    "\n",
    "# Show plot\n",
    "fig.show()"
   ]
  }
 ],
 "metadata": {
  "kernelspec": {
   "display_name": "Python 3",
   "language": "python",
   "name": "python3"
  },
  "language_info": {
   "codemirror_mode": {
    "name": "ipython",
    "version": 3
   },
   "file_extension": ".py",
   "mimetype": "text/x-python",
   "name": "python",
   "nbconvert_exporter": "python",
   "pygments_lexer": "ipython3",
   "version": "3.10.12"
  }
 },
 "nbformat": 4,
 "nbformat_minor": 2
}
