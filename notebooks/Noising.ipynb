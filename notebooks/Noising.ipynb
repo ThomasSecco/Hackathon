{
 "cells": [
  {
   "cell_type": "code",
   "execution_count": 66,
   "id": "0f279d9d-26f4-4af0-bc72-0e49353320ed",
   "metadata": {},
   "outputs": [],
   "source": [
    "import numpy as np\n",
    "import pandas as pd\n",
    "import random"
   ]
  },
  {
   "cell_type": "code",
   "execution_count": 67,
   "id": "99c7e27e-b210-4665-b1c2-2d17c34b9020",
   "metadata": {},
   "outputs": [],
   "source": [
    "datas = \"../dataset/true_datas.csv\"\n",
    "datas = pd.read_csv(datas)\n"
   ]
  },
  {
   "cell_type": "code",
   "execution_count": 68,
   "id": "8c9d25d5-c9c1-4d20-a2b2-74d61ceaa6cb",
   "metadata": {},
   "outputs": [],
   "source": [
    "def get_season(month):\n",
    "    if month in [3, 4, 5]:   # Spring: March, April, May\n",
    "        return 0\n",
    "    elif month in [6, 7, 8]:  # Summer: June, July, August\n",
    "        return 1\n",
    "    elif month in [9, 10, 11]: # Autumn/Fall: September, October, November\n",
    "        return 2\n",
    "    else:   # Winter: December, January, February\n",
    "        return 3\n",
    "\n",
    "datas['Season'] = pd.to_datetime(datas['Entry']).dt.month.map(get_season)\n"
   ]
  },
  {
   "cell_type": "code",
   "execution_count": 69,
   "id": "6e85f0ff-71a1-4207-9a52-b406445e2e92",
   "metadata": {},
   "outputs": [
    {
     "data": {
      "text/html": [
       "<div>\n",
       "<style scoped>\n",
       "    .dataframe tbody tr th:only-of-type {\n",
       "        vertical-align: middle;\n",
       "    }\n",
       "\n",
       "    .dataframe tbody tr th {\n",
       "        vertical-align: top;\n",
       "    }\n",
       "\n",
       "    .dataframe thead th {\n",
       "        text-align: right;\n",
       "    }\n",
       "</style>\n",
       "<table border=\"1\" class=\"dataframe\">\n",
       "  <thead>\n",
       "    <tr style=\"text-align: right;\">\n",
       "      <th></th>\n",
       "      <th>Days</th>\n",
       "      <th>Inverted</th>\n",
       "      <th>PerfMean</th>\n",
       "      <th>PerfStd</th>\n",
       "      <th>EntryLoad</th>\n",
       "      <th>ExitLoad</th>\n",
       "      <th>EntryDemand</th>\n",
       "      <th>ExitDemand</th>\n",
       "      <th>Distance</th>\n",
       "      <th>ContainerQuantity</th>\n",
       "      <th>...</th>\n",
       "      <th>Entry_wind_speed_10m_max</th>\n",
       "      <th>Entry_wind_gusts_10m_max</th>\n",
       "      <th>Entry_wind_direction_10m_dominant</th>\n",
       "      <th>Exit_precipitation_sum</th>\n",
       "      <th>Exit_rain_sum</th>\n",
       "      <th>Exit_snowfall_sum</th>\n",
       "      <th>Exit_wind_speed_10m_max</th>\n",
       "      <th>Exit_wind_gusts_10m_max</th>\n",
       "      <th>Exit_wind_direction_10m_dominant</th>\n",
       "      <th>Season</th>\n",
       "    </tr>\n",
       "  </thead>\n",
       "  <tbody>\n",
       "    <tr>\n",
       "      <th>0</th>\n",
       "      <td>15.0</td>\n",
       "      <td>0.0</td>\n",
       "      <td>24.0</td>\n",
       "      <td>7.348469</td>\n",
       "      <td>0.0</td>\n",
       "      <td>0.0</td>\n",
       "      <td>0.0</td>\n",
       "      <td>0.0</td>\n",
       "      <td>0.00</td>\n",
       "      <td>2.0</td>\n",
       "      <td>...</td>\n",
       "      <td>26.980793</td>\n",
       "      <td>63.000000</td>\n",
       "      <td>247.30750</td>\n",
       "      <td>0.000000</td>\n",
       "      <td>0.000000</td>\n",
       "      <td>0.0</td>\n",
       "      <td>21.897945</td>\n",
       "      <td>42.120000</td>\n",
       "      <td>343.37125</td>\n",
       "      <td>3</td>\n",
       "    </tr>\n",
       "    <tr>\n",
       "      <th>1</th>\n",
       "      <td>0.0</td>\n",
       "      <td>0.0</td>\n",
       "      <td>0.0</td>\n",
       "      <td>0.000000</td>\n",
       "      <td>0.0</td>\n",
       "      <td>0.0</td>\n",
       "      <td>0.0</td>\n",
       "      <td>0.0</td>\n",
       "      <td>9.70</td>\n",
       "      <td>2.0</td>\n",
       "      <td>...</td>\n",
       "      <td>21.897945</td>\n",
       "      <td>42.120000</td>\n",
       "      <td>343.37125</td>\n",
       "      <td>0.000000</td>\n",
       "      <td>0.000000</td>\n",
       "      <td>0.0</td>\n",
       "      <td>21.897945</td>\n",
       "      <td>42.120000</td>\n",
       "      <td>343.37125</td>\n",
       "      <td>3</td>\n",
       "    </tr>\n",
       "    <tr>\n",
       "      <th>2</th>\n",
       "      <td>5.0</td>\n",
       "      <td>0.0</td>\n",
       "      <td>5.0</td>\n",
       "      <td>0.000000</td>\n",
       "      <td>0.0</td>\n",
       "      <td>0.0</td>\n",
       "      <td>0.0</td>\n",
       "      <td>0.0</td>\n",
       "      <td>0.00</td>\n",
       "      <td>2.0</td>\n",
       "      <td>...</td>\n",
       "      <td>21.897945</td>\n",
       "      <td>42.120000</td>\n",
       "      <td>343.37125</td>\n",
       "      <td>3.700000</td>\n",
       "      <td>3.700000</td>\n",
       "      <td>0.0</td>\n",
       "      <td>19.174856</td>\n",
       "      <td>36.360000</td>\n",
       "      <td>242.80690</td>\n",
       "      <td>3</td>\n",
       "    </tr>\n",
       "    <tr>\n",
       "      <th>3</th>\n",
       "      <td>0.0</td>\n",
       "      <td>0.0</td>\n",
       "      <td>0.0</td>\n",
       "      <td>0.000000</td>\n",
       "      <td>0.0</td>\n",
       "      <td>0.0</td>\n",
       "      <td>0.0</td>\n",
       "      <td>0.0</td>\n",
       "      <td>9.42</td>\n",
       "      <td>2.0</td>\n",
       "      <td>...</td>\n",
       "      <td>19.174856</td>\n",
       "      <td>36.360000</td>\n",
       "      <td>242.80690</td>\n",
       "      <td>3.700000</td>\n",
       "      <td>3.700000</td>\n",
       "      <td>0.0</td>\n",
       "      <td>19.174856</td>\n",
       "      <td>36.360000</td>\n",
       "      <td>242.80690</td>\n",
       "      <td>3</td>\n",
       "    </tr>\n",
       "    <tr>\n",
       "      <th>4</th>\n",
       "      <td>1.0</td>\n",
       "      <td>0.0</td>\n",
       "      <td>1.0</td>\n",
       "      <td>0.000000</td>\n",
       "      <td>0.0</td>\n",
       "      <td>0.0</td>\n",
       "      <td>0.0</td>\n",
       "      <td>0.0</td>\n",
       "      <td>0.00</td>\n",
       "      <td>2.0</td>\n",
       "      <td>...</td>\n",
       "      <td>19.174856</td>\n",
       "      <td>36.360000</td>\n",
       "      <td>242.80690</td>\n",
       "      <td>17.600000</td>\n",
       "      <td>17.600000</td>\n",
       "      <td>0.0</td>\n",
       "      <td>21.096123</td>\n",
       "      <td>39.960000</td>\n",
       "      <td>251.11560</td>\n",
       "      <td>3</td>\n",
       "    </tr>\n",
       "    <tr>\n",
       "      <th>...</th>\n",
       "      <td>...</td>\n",
       "      <td>...</td>\n",
       "      <td>...</td>\n",
       "      <td>...</td>\n",
       "      <td>...</td>\n",
       "      <td>...</td>\n",
       "      <td>...</td>\n",
       "      <td>...</td>\n",
       "      <td>...</td>\n",
       "      <td>...</td>\n",
       "      <td>...</td>\n",
       "      <td>...</td>\n",
       "      <td>...</td>\n",
       "      <td>...</td>\n",
       "      <td>...</td>\n",
       "      <td>...</td>\n",
       "      <td>...</td>\n",
       "      <td>...</td>\n",
       "      <td>...</td>\n",
       "      <td>...</td>\n",
       "      <td>...</td>\n",
       "    </tr>\n",
       "    <tr>\n",
       "      <th>250</th>\n",
       "      <td>2.0</td>\n",
       "      <td>1.0</td>\n",
       "      <td>2.0</td>\n",
       "      <td>0.000000</td>\n",
       "      <td>0.0</td>\n",
       "      <td>0.0</td>\n",
       "      <td>0.0</td>\n",
       "      <td>0.0</td>\n",
       "      <td>0.00</td>\n",
       "      <td>4.0</td>\n",
       "      <td>...</td>\n",
       "      <td>17.385378</td>\n",
       "      <td>34.792004</td>\n",
       "      <td>173.40240</td>\n",
       "      <td>1.955556</td>\n",
       "      <td>1.955556</td>\n",
       "      <td>0.0</td>\n",
       "      <td>17.385378</td>\n",
       "      <td>34.792004</td>\n",
       "      <td>173.40240</td>\n",
       "      <td>0</td>\n",
       "    </tr>\n",
       "    <tr>\n",
       "      <th>251</th>\n",
       "      <td>10.0</td>\n",
       "      <td>1.0</td>\n",
       "      <td>10.5</td>\n",
       "      <td>1.060660</td>\n",
       "      <td>0.0</td>\n",
       "      <td>0.0</td>\n",
       "      <td>0.0</td>\n",
       "      <td>0.0</td>\n",
       "      <td>6698.14</td>\n",
       "      <td>4.0</td>\n",
       "      <td>...</td>\n",
       "      <td>17.385378</td>\n",
       "      <td>34.792004</td>\n",
       "      <td>173.40240</td>\n",
       "      <td>1.955556</td>\n",
       "      <td>1.955556</td>\n",
       "      <td>0.0</td>\n",
       "      <td>17.385378</td>\n",
       "      <td>34.792004</td>\n",
       "      <td>173.40240</td>\n",
       "      <td>0</td>\n",
       "    </tr>\n",
       "    <tr>\n",
       "      <th>252</th>\n",
       "      <td>1.0</td>\n",
       "      <td>1.0</td>\n",
       "      <td>1.0</td>\n",
       "      <td>0.000000</td>\n",
       "      <td>0.0</td>\n",
       "      <td>0.0</td>\n",
       "      <td>0.0</td>\n",
       "      <td>0.0</td>\n",
       "      <td>0.00</td>\n",
       "      <td>4.0</td>\n",
       "      <td>...</td>\n",
       "      <td>17.385378</td>\n",
       "      <td>34.792004</td>\n",
       "      <td>173.40240</td>\n",
       "      <td>1.955556</td>\n",
       "      <td>1.955556</td>\n",
       "      <td>0.0</td>\n",
       "      <td>17.385378</td>\n",
       "      <td>34.792004</td>\n",
       "      <td>173.40240</td>\n",
       "      <td>0</td>\n",
       "    </tr>\n",
       "    <tr>\n",
       "      <th>253</th>\n",
       "      <td>0.0</td>\n",
       "      <td>1.0</td>\n",
       "      <td>0.0</td>\n",
       "      <td>0.000000</td>\n",
       "      <td>0.0</td>\n",
       "      <td>0.0</td>\n",
       "      <td>0.0</td>\n",
       "      <td>0.0</td>\n",
       "      <td>9.42</td>\n",
       "      <td>4.0</td>\n",
       "      <td>...</td>\n",
       "      <td>17.385378</td>\n",
       "      <td>34.792004</td>\n",
       "      <td>173.40240</td>\n",
       "      <td>1.955556</td>\n",
       "      <td>1.955556</td>\n",
       "      <td>0.0</td>\n",
       "      <td>17.385378</td>\n",
       "      <td>34.792004</td>\n",
       "      <td>173.40240</td>\n",
       "      <td>0</td>\n",
       "    </tr>\n",
       "    <tr>\n",
       "      <th>254</th>\n",
       "      <td>5.0</td>\n",
       "      <td>1.0</td>\n",
       "      <td>5.0</td>\n",
       "      <td>0.000000</td>\n",
       "      <td>0.0</td>\n",
       "      <td>0.0</td>\n",
       "      <td>0.0</td>\n",
       "      <td>0.0</td>\n",
       "      <td>0.00</td>\n",
       "      <td>4.0</td>\n",
       "      <td>...</td>\n",
       "      <td>17.385378</td>\n",
       "      <td>34.792004</td>\n",
       "      <td>173.40240</td>\n",
       "      <td>1.955556</td>\n",
       "      <td>1.955556</td>\n",
       "      <td>0.0</td>\n",
       "      <td>17.385378</td>\n",
       "      <td>34.792004</td>\n",
       "      <td>173.40240</td>\n",
       "      <td>0</td>\n",
       "    </tr>\n",
       "  </tbody>\n",
       "</table>\n",
       "<p>255 rows × 26 columns</p>\n",
       "</div>"
      ],
      "text/plain": [
       "     Days  Inverted  PerfMean   PerfStd  EntryLoad  ExitLoad  EntryDemand  \\\n",
       "0    15.0       0.0      24.0  7.348469        0.0       0.0          0.0   \n",
       "1     0.0       0.0       0.0  0.000000        0.0       0.0          0.0   \n",
       "2     5.0       0.0       5.0  0.000000        0.0       0.0          0.0   \n",
       "3     0.0       0.0       0.0  0.000000        0.0       0.0          0.0   \n",
       "4     1.0       0.0       1.0  0.000000        0.0       0.0          0.0   \n",
       "..    ...       ...       ...       ...        ...       ...          ...   \n",
       "250   2.0       1.0       2.0  0.000000        0.0       0.0          0.0   \n",
       "251  10.0       1.0      10.5  1.060660        0.0       0.0          0.0   \n",
       "252   1.0       1.0       1.0  0.000000        0.0       0.0          0.0   \n",
       "253   0.0       1.0       0.0  0.000000        0.0       0.0          0.0   \n",
       "254   5.0       1.0       5.0  0.000000        0.0       0.0          0.0   \n",
       "\n",
       "     ExitDemand  Distance  ContainerQuantity  ...  Entry_wind_speed_10m_max  \\\n",
       "0           0.0      0.00                2.0  ...                 26.980793   \n",
       "1           0.0      9.70                2.0  ...                 21.897945   \n",
       "2           0.0      0.00                2.0  ...                 21.897945   \n",
       "3           0.0      9.42                2.0  ...                 19.174856   \n",
       "4           0.0      0.00                2.0  ...                 19.174856   \n",
       "..          ...       ...                ...  ...                       ...   \n",
       "250         0.0      0.00                4.0  ...                 17.385378   \n",
       "251         0.0   6698.14                4.0  ...                 17.385378   \n",
       "252         0.0      0.00                4.0  ...                 17.385378   \n",
       "253         0.0      9.42                4.0  ...                 17.385378   \n",
       "254         0.0      0.00                4.0  ...                 17.385378   \n",
       "\n",
       "     Entry_wind_gusts_10m_max  Entry_wind_direction_10m_dominant  \\\n",
       "0                   63.000000                          247.30750   \n",
       "1                   42.120000                          343.37125   \n",
       "2                   42.120000                          343.37125   \n",
       "3                   36.360000                          242.80690   \n",
       "4                   36.360000                          242.80690   \n",
       "..                        ...                                ...   \n",
       "250                 34.792004                          173.40240   \n",
       "251                 34.792004                          173.40240   \n",
       "252                 34.792004                          173.40240   \n",
       "253                 34.792004                          173.40240   \n",
       "254                 34.792004                          173.40240   \n",
       "\n",
       "     Exit_precipitation_sum  Exit_rain_sum  Exit_snowfall_sum  \\\n",
       "0                  0.000000       0.000000                0.0   \n",
       "1                  0.000000       0.000000                0.0   \n",
       "2                  3.700000       3.700000                0.0   \n",
       "3                  3.700000       3.700000                0.0   \n",
       "4                 17.600000      17.600000                0.0   \n",
       "..                      ...            ...                ...   \n",
       "250                1.955556       1.955556                0.0   \n",
       "251                1.955556       1.955556                0.0   \n",
       "252                1.955556       1.955556                0.0   \n",
       "253                1.955556       1.955556                0.0   \n",
       "254                1.955556       1.955556                0.0   \n",
       "\n",
       "     Exit_wind_speed_10m_max  Exit_wind_gusts_10m_max  \\\n",
       "0                  21.897945                42.120000   \n",
       "1                  21.897945                42.120000   \n",
       "2                  19.174856                36.360000   \n",
       "3                  19.174856                36.360000   \n",
       "4                  21.096123                39.960000   \n",
       "..                       ...                      ...   \n",
       "250                17.385378                34.792004   \n",
       "251                17.385378                34.792004   \n",
       "252                17.385378                34.792004   \n",
       "253                17.385378                34.792004   \n",
       "254                17.385378                34.792004   \n",
       "\n",
       "     Exit_wind_direction_10m_dominant  Season  \n",
       "0                           343.37125       3  \n",
       "1                           343.37125       3  \n",
       "2                           242.80690       3  \n",
       "3                           242.80690       3  \n",
       "4                           251.11560       3  \n",
       "..                                ...     ...  \n",
       "250                         173.40240       0  \n",
       "251                         173.40240       0  \n",
       "252                         173.40240       0  \n",
       "253                         173.40240       0  \n",
       "254                         173.40240       0  \n",
       "\n",
       "[255 rows x 26 columns]"
      ]
     },
     "execution_count": 69,
     "metadata": {},
     "output_type": "execute_result"
    }
   ],
   "source": [
    "datas = datas.drop(columns=['Exit','Entry'])\n",
    "datas"
   ]
  },
  {
   "cell_type": "code",
   "execution_count": 70,
   "id": "7731a557-3a07-4ae4-aac6-e4f763d1dd14",
   "metadata": {},
   "outputs": [
    {
     "data": {
      "text/plain": [
       "(Days                                 float64\n",
       " Inverted                             float64\n",
       " PerfMean                             float64\n",
       " PerfStd                              float64\n",
       " EntryLoad                            float64\n",
       " ExitLoad                             float64\n",
       " EntryDemand                          float64\n",
       " ExitDemand                           float64\n",
       " Distance                             float64\n",
       " ContainerQuantity                    float64\n",
       " Stage                                  int64\n",
       " Entry_Working_Day                      int64\n",
       " Exit_Working_Day                       int64\n",
       " Entry_precipitation_sum              float64\n",
       " Entry_rain_sum                       float64\n",
       " Entry_snowfall_sum                   float64\n",
       " Entry_wind_speed_10m_max             float64\n",
       " Entry_wind_gusts_10m_max             float64\n",
       " Entry_wind_direction_10m_dominant    float64\n",
       " Exit_precipitation_sum               float64\n",
       " Exit_rain_sum                        float64\n",
       " Exit_snowfall_sum                    float64\n",
       " Exit_wind_speed_10m_max              float64\n",
       " Exit_wind_gusts_10m_max              float64\n",
       " Exit_wind_direction_10m_dominant     float64\n",
       " Season                                 int64\n",
       " dtype: object,\n",
       " 255)"
      ]
     },
     "execution_count": 70,
     "metadata": {},
     "output_type": "execute_result"
    }
   ],
   "source": [
    "datas.dtypes, len(datas)"
   ]
  },
  {
   "cell_type": "code",
   "execution_count": 114,
   "id": "9539e5c9-b0d9-412c-89ff-15a056079d49",
   "metadata": {},
   "outputs": [
    {
     "name": "stdout",
     "output_type": "stream",
     "text": [
      "510\n"
     ]
    },
    {
     "data": {
      "text/html": [
       "<div>\n",
       "<style scoped>\n",
       "    .dataframe tbody tr th:only-of-type {\n",
       "        vertical-align: middle;\n",
       "    }\n",
       "\n",
       "    .dataframe tbody tr th {\n",
       "        vertical-align: top;\n",
       "    }\n",
       "\n",
       "    .dataframe thead th {\n",
       "        text-align: right;\n",
       "    }\n",
       "</style>\n",
       "<table border=\"1\" class=\"dataframe\">\n",
       "  <thead>\n",
       "    <tr style=\"text-align: right;\">\n",
       "      <th></th>\n",
       "      <th>Days</th>\n",
       "      <th>Inverted</th>\n",
       "      <th>PerfMean</th>\n",
       "      <th>PerfStd</th>\n",
       "      <th>EntryLoad</th>\n",
       "      <th>ExitLoad</th>\n",
       "      <th>EntryDemand</th>\n",
       "      <th>ExitDemand</th>\n",
       "      <th>Distance</th>\n",
       "      <th>ContainerQuantity</th>\n",
       "      <th>...</th>\n",
       "      <th>Entry_wind_speed_10m_max</th>\n",
       "      <th>Entry_wind_gusts_10m_max</th>\n",
       "      <th>Entry_wind_direction_10m_dominant</th>\n",
       "      <th>Exit_precipitation_sum</th>\n",
       "      <th>Exit_rain_sum</th>\n",
       "      <th>Exit_snowfall_sum</th>\n",
       "      <th>Exit_wind_speed_10m_max</th>\n",
       "      <th>Exit_wind_gusts_10m_max</th>\n",
       "      <th>Exit_wind_direction_10m_dominant</th>\n",
       "      <th>Season</th>\n",
       "    </tr>\n",
       "  </thead>\n",
       "  <tbody>\n",
       "    <tr>\n",
       "      <th>0</th>\n",
       "      <td>15.0</td>\n",
       "      <td>0.0</td>\n",
       "      <td>24.000000</td>\n",
       "      <td>7.348469</td>\n",
       "      <td>0.0</td>\n",
       "      <td>0.0</td>\n",
       "      <td>0.0</td>\n",
       "      <td>0.0</td>\n",
       "      <td>0.00</td>\n",
       "      <td>2.0</td>\n",
       "      <td>...</td>\n",
       "      <td>26.980793</td>\n",
       "      <td>63.000000</td>\n",
       "      <td>247.30750</td>\n",
       "      <td>0.000000</td>\n",
       "      <td>0.000000</td>\n",
       "      <td>0.0</td>\n",
       "      <td>21.897945</td>\n",
       "      <td>42.120000</td>\n",
       "      <td>343.37125</td>\n",
       "      <td>3</td>\n",
       "    </tr>\n",
       "    <tr>\n",
       "      <th>1</th>\n",
       "      <td>0.0</td>\n",
       "      <td>0.0</td>\n",
       "      <td>0.000000</td>\n",
       "      <td>0.000000</td>\n",
       "      <td>0.0</td>\n",
       "      <td>0.0</td>\n",
       "      <td>0.0</td>\n",
       "      <td>0.0</td>\n",
       "      <td>9.70</td>\n",
       "      <td>2.0</td>\n",
       "      <td>...</td>\n",
       "      <td>21.897945</td>\n",
       "      <td>42.120000</td>\n",
       "      <td>343.37125</td>\n",
       "      <td>0.000000</td>\n",
       "      <td>0.000000</td>\n",
       "      <td>0.0</td>\n",
       "      <td>21.897945</td>\n",
       "      <td>42.120000</td>\n",
       "      <td>343.37125</td>\n",
       "      <td>3</td>\n",
       "    </tr>\n",
       "    <tr>\n",
       "      <th>2</th>\n",
       "      <td>5.0</td>\n",
       "      <td>0.0</td>\n",
       "      <td>5.000000</td>\n",
       "      <td>0.000000</td>\n",
       "      <td>0.0</td>\n",
       "      <td>0.0</td>\n",
       "      <td>0.0</td>\n",
       "      <td>0.0</td>\n",
       "      <td>0.00</td>\n",
       "      <td>2.0</td>\n",
       "      <td>...</td>\n",
       "      <td>21.897945</td>\n",
       "      <td>42.120000</td>\n",
       "      <td>343.37125</td>\n",
       "      <td>3.700000</td>\n",
       "      <td>3.700000</td>\n",
       "      <td>0.0</td>\n",
       "      <td>19.174856</td>\n",
       "      <td>36.360000</td>\n",
       "      <td>242.80690</td>\n",
       "      <td>3</td>\n",
       "    </tr>\n",
       "    <tr>\n",
       "      <th>3</th>\n",
       "      <td>0.0</td>\n",
       "      <td>0.0</td>\n",
       "      <td>0.000000</td>\n",
       "      <td>0.000000</td>\n",
       "      <td>0.0</td>\n",
       "      <td>0.0</td>\n",
       "      <td>0.0</td>\n",
       "      <td>0.0</td>\n",
       "      <td>9.42</td>\n",
       "      <td>2.0</td>\n",
       "      <td>...</td>\n",
       "      <td>19.174856</td>\n",
       "      <td>36.360000</td>\n",
       "      <td>242.80690</td>\n",
       "      <td>3.700000</td>\n",
       "      <td>3.700000</td>\n",
       "      <td>0.0</td>\n",
       "      <td>19.174856</td>\n",
       "      <td>36.360000</td>\n",
       "      <td>242.80690</td>\n",
       "      <td>3</td>\n",
       "    </tr>\n",
       "    <tr>\n",
       "      <th>4</th>\n",
       "      <td>1.0</td>\n",
       "      <td>0.0</td>\n",
       "      <td>1.000000</td>\n",
       "      <td>0.000000</td>\n",
       "      <td>0.0</td>\n",
       "      <td>0.0</td>\n",
       "      <td>0.0</td>\n",
       "      <td>0.0</td>\n",
       "      <td>0.00</td>\n",
       "      <td>2.0</td>\n",
       "      <td>...</td>\n",
       "      <td>19.174856</td>\n",
       "      <td>36.360000</td>\n",
       "      <td>242.80690</td>\n",
       "      <td>17.600000</td>\n",
       "      <td>17.600000</td>\n",
       "      <td>0.0</td>\n",
       "      <td>21.096123</td>\n",
       "      <td>39.960000</td>\n",
       "      <td>251.11560</td>\n",
       "      <td>3</td>\n",
       "    </tr>\n",
       "    <tr>\n",
       "      <th>5</th>\n",
       "      <td>11.0</td>\n",
       "      <td>0.0</td>\n",
       "      <td>10.375000</td>\n",
       "      <td>0.599479</td>\n",
       "      <td>0.0</td>\n",
       "      <td>2.0</td>\n",
       "      <td>0.0</td>\n",
       "      <td>2.0</td>\n",
       "      <td>6698.14</td>\n",
       "      <td>2.0</td>\n",
       "      <td>...</td>\n",
       "      <td>21.096123</td>\n",
       "      <td>39.960000</td>\n",
       "      <td>251.11560</td>\n",
       "      <td>0.000000</td>\n",
       "      <td>0.000000</td>\n",
       "      <td>0.0</td>\n",
       "      <td>12.144331</td>\n",
       "      <td>24.840000</td>\n",
       "      <td>351.42484</td>\n",
       "      <td>3</td>\n",
       "    </tr>\n",
       "    <tr>\n",
       "      <th>6</th>\n",
       "      <td>2.0</td>\n",
       "      <td>0.0</td>\n",
       "      <td>2.000000</td>\n",
       "      <td>0.000000</td>\n",
       "      <td>2.0</td>\n",
       "      <td>2.0</td>\n",
       "      <td>2.0</td>\n",
       "      <td>2.0</td>\n",
       "      <td>0.00</td>\n",
       "      <td>2.0</td>\n",
       "      <td>...</td>\n",
       "      <td>12.144331</td>\n",
       "      <td>24.840000</td>\n",
       "      <td>351.42484</td>\n",
       "      <td>2.000000</td>\n",
       "      <td>2.000000</td>\n",
       "      <td>0.0</td>\n",
       "      <td>16.735160</td>\n",
       "      <td>33.120000</td>\n",
       "      <td>280.13187</td>\n",
       "      <td>3</td>\n",
       "    </tr>\n",
       "    <tr>\n",
       "      <th>7</th>\n",
       "      <td>0.0</td>\n",
       "      <td>0.0</td>\n",
       "      <td>0.000000</td>\n",
       "      <td>0.000000</td>\n",
       "      <td>2.0</td>\n",
       "      <td>2.0</td>\n",
       "      <td>2.0</td>\n",
       "      <td>2.0</td>\n",
       "      <td>15.06</td>\n",
       "      <td>2.0</td>\n",
       "      <td>...</td>\n",
       "      <td>16.735160</td>\n",
       "      <td>33.120000</td>\n",
       "      <td>280.13187</td>\n",
       "      <td>2.000000</td>\n",
       "      <td>2.000000</td>\n",
       "      <td>0.0</td>\n",
       "      <td>16.735160</td>\n",
       "      <td>33.120000</td>\n",
       "      <td>280.13187</td>\n",
       "      <td>3</td>\n",
       "    </tr>\n",
       "    <tr>\n",
       "      <th>8</th>\n",
       "      <td>15.0</td>\n",
       "      <td>0.0</td>\n",
       "      <td>15.937500</td>\n",
       "      <td>3.630922</td>\n",
       "      <td>2.0</td>\n",
       "      <td>2.0</td>\n",
       "      <td>2.0</td>\n",
       "      <td>2.0</td>\n",
       "      <td>0.00</td>\n",
       "      <td>2.0</td>\n",
       "      <td>...</td>\n",
       "      <td>16.735160</td>\n",
       "      <td>33.120000</td>\n",
       "      <td>280.13187</td>\n",
       "      <td>0.600000</td>\n",
       "      <td>0.600000</td>\n",
       "      <td>0.0</td>\n",
       "      <td>18.416384</td>\n",
       "      <td>38.519997</td>\n",
       "      <td>253.16681</td>\n",
       "      <td>3</td>\n",
       "    </tr>\n",
       "    <tr>\n",
       "      <th>9</th>\n",
       "      <td>0.0</td>\n",
       "      <td>1.0</td>\n",
       "      <td>0.000000</td>\n",
       "      <td>0.000000</td>\n",
       "      <td>2.0</td>\n",
       "      <td>2.0</td>\n",
       "      <td>2.0</td>\n",
       "      <td>2.0</td>\n",
       "      <td>15.06</td>\n",
       "      <td>2.0</td>\n",
       "      <td>...</td>\n",
       "      <td>18.416384</td>\n",
       "      <td>38.519997</td>\n",
       "      <td>253.16681</td>\n",
       "      <td>0.600000</td>\n",
       "      <td>0.600000</td>\n",
       "      <td>0.0</td>\n",
       "      <td>18.416384</td>\n",
       "      <td>38.519997</td>\n",
       "      <td>253.16681</td>\n",
       "      <td>3</td>\n",
       "    </tr>\n",
       "    <tr>\n",
       "      <th>10</th>\n",
       "      <td>2.0</td>\n",
       "      <td>1.0</td>\n",
       "      <td>2.000000</td>\n",
       "      <td>0.000000</td>\n",
       "      <td>2.0</td>\n",
       "      <td>2.0</td>\n",
       "      <td>2.0</td>\n",
       "      <td>2.0</td>\n",
       "      <td>0.00</td>\n",
       "      <td>2.0</td>\n",
       "      <td>...</td>\n",
       "      <td>18.416384</td>\n",
       "      <td>38.519997</td>\n",
       "      <td>253.16681</td>\n",
       "      <td>12.499998</td>\n",
       "      <td>12.499998</td>\n",
       "      <td>0.0</td>\n",
       "      <td>33.557330</td>\n",
       "      <td>71.640000</td>\n",
       "      <td>249.14357</td>\n",
       "      <td>3</td>\n",
       "    </tr>\n",
       "    <tr>\n",
       "      <th>11</th>\n",
       "      <td>10.0</td>\n",
       "      <td>1.0</td>\n",
       "      <td>10.500000</td>\n",
       "      <td>1.060660</td>\n",
       "      <td>2.0</td>\n",
       "      <td>0.0</td>\n",
       "      <td>2.0</td>\n",
       "      <td>0.0</td>\n",
       "      <td>6698.14</td>\n",
       "      <td>2.0</td>\n",
       "      <td>...</td>\n",
       "      <td>33.557330</td>\n",
       "      <td>71.640000</td>\n",
       "      <td>249.14357</td>\n",
       "      <td>13.400001</td>\n",
       "      <td>13.400001</td>\n",
       "      <td>0.0</td>\n",
       "      <td>20.617662</td>\n",
       "      <td>43.560000</td>\n",
       "      <td>186.28355</td>\n",
       "      <td>3</td>\n",
       "    </tr>\n",
       "    <tr>\n",
       "      <th>12</th>\n",
       "      <td>1.0</td>\n",
       "      <td>1.0</td>\n",
       "      <td>1.000000</td>\n",
       "      <td>0.000000</td>\n",
       "      <td>0.0</td>\n",
       "      <td>0.0</td>\n",
       "      <td>0.0</td>\n",
       "      <td>0.0</td>\n",
       "      <td>0.00</td>\n",
       "      <td>2.0</td>\n",
       "      <td>...</td>\n",
       "      <td>20.617662</td>\n",
       "      <td>43.560000</td>\n",
       "      <td>186.28355</td>\n",
       "      <td>2.200000</td>\n",
       "      <td>2.200000</td>\n",
       "      <td>0.0</td>\n",
       "      <td>16.267857</td>\n",
       "      <td>34.200000</td>\n",
       "      <td>230.07678</td>\n",
       "      <td>3</td>\n",
       "    </tr>\n",
       "    <tr>\n",
       "      <th>13</th>\n",
       "      <td>0.0</td>\n",
       "      <td>1.0</td>\n",
       "      <td>0.000000</td>\n",
       "      <td>0.000000</td>\n",
       "      <td>0.0</td>\n",
       "      <td>0.0</td>\n",
       "      <td>0.0</td>\n",
       "      <td>0.0</td>\n",
       "      <td>9.42</td>\n",
       "      <td>1.0</td>\n",
       "      <td>...</td>\n",
       "      <td>16.267857</td>\n",
       "      <td>34.200000</td>\n",
       "      <td>230.07678</td>\n",
       "      <td>2.200000</td>\n",
       "      <td>2.200000</td>\n",
       "      <td>0.0</td>\n",
       "      <td>16.267857</td>\n",
       "      <td>34.200000</td>\n",
       "      <td>230.07678</td>\n",
       "      <td>3</td>\n",
       "    </tr>\n",
       "    <tr>\n",
       "      <th>14</th>\n",
       "      <td>5.0</td>\n",
       "      <td>1.0</td>\n",
       "      <td>5.000000</td>\n",
       "      <td>0.000000</td>\n",
       "      <td>0.0</td>\n",
       "      <td>0.0</td>\n",
       "      <td>0.0</td>\n",
       "      <td>0.0</td>\n",
       "      <td>0.00</td>\n",
       "      <td>1.0</td>\n",
       "      <td>...</td>\n",
       "      <td>16.267857</td>\n",
       "      <td>34.200000</td>\n",
       "      <td>230.07678</td>\n",
       "      <td>0.000000</td>\n",
       "      <td>0.000000</td>\n",
       "      <td>0.0</td>\n",
       "      <td>19.959720</td>\n",
       "      <td>36.000000</td>\n",
       "      <td>140.36986</td>\n",
       "      <td>3</td>\n",
       "    </tr>\n",
       "    <tr>\n",
       "      <th>15</th>\n",
       "      <td>158.0</td>\n",
       "      <td>1.0</td>\n",
       "      <td>119.892857</td>\n",
       "      <td>100.928666</td>\n",
       "      <td>0.0</td>\n",
       "      <td>0.0</td>\n",
       "      <td>0.0</td>\n",
       "      <td>0.0</td>\n",
       "      <td>9.70</td>\n",
       "      <td>1.0</td>\n",
       "      <td>...</td>\n",
       "      <td>19.959720</td>\n",
       "      <td>36.000000</td>\n",
       "      <td>140.36986</td>\n",
       "      <td>0.100000</td>\n",
       "      <td>0.100000</td>\n",
       "      <td>0.0</td>\n",
       "      <td>18.861387</td>\n",
       "      <td>39.960000</td>\n",
       "      <td>260.67508</td>\n",
       "      <td>3</td>\n",
       "    </tr>\n",
       "    <tr>\n",
       "      <th>16</th>\n",
       "      <td>30.0</td>\n",
       "      <td>0.0</td>\n",
       "      <td>24.000000</td>\n",
       "      <td>7.348469</td>\n",
       "      <td>0.0</td>\n",
       "      <td>2.0</td>\n",
       "      <td>0.0</td>\n",
       "      <td>4.0</td>\n",
       "      <td>0.00</td>\n",
       "      <td>2.0</td>\n",
       "      <td>...</td>\n",
       "      <td>18.861387</td>\n",
       "      <td>39.960000</td>\n",
       "      <td>260.67508</td>\n",
       "      <td>2.100000</td>\n",
       "      <td>2.100000</td>\n",
       "      <td>0.0</td>\n",
       "      <td>27.002400</td>\n",
       "      <td>52.920000</td>\n",
       "      <td>252.19260</td>\n",
       "      <td>1</td>\n",
       "    </tr>\n",
       "    <tr>\n",
       "      <th>17</th>\n",
       "      <td>0.0</td>\n",
       "      <td>0.0</td>\n",
       "      <td>0.000000</td>\n",
       "      <td>0.000000</td>\n",
       "      <td>2.0</td>\n",
       "      <td>2.0</td>\n",
       "      <td>4.0</td>\n",
       "      <td>4.0</td>\n",
       "      <td>9.70</td>\n",
       "      <td>4.0</td>\n",
       "      <td>...</td>\n",
       "      <td>27.002400</td>\n",
       "      <td>52.920000</td>\n",
       "      <td>252.19260</td>\n",
       "      <td>2.100000</td>\n",
       "      <td>2.100000</td>\n",
       "      <td>0.0</td>\n",
       "      <td>27.002400</td>\n",
       "      <td>52.920000</td>\n",
       "      <td>252.19260</td>\n",
       "      <td>1</td>\n",
       "    </tr>\n",
       "    <tr>\n",
       "      <th>18</th>\n",
       "      <td>5.0</td>\n",
       "      <td>0.0</td>\n",
       "      <td>5.000000</td>\n",
       "      <td>0.000000</td>\n",
       "      <td>2.0</td>\n",
       "      <td>2.0</td>\n",
       "      <td>4.0</td>\n",
       "      <td>4.0</td>\n",
       "      <td>0.00</td>\n",
       "      <td>4.0</td>\n",
       "      <td>...</td>\n",
       "      <td>27.002400</td>\n",
       "      <td>52.920000</td>\n",
       "      <td>252.19260</td>\n",
       "      <td>0.000000</td>\n",
       "      <td>0.000000</td>\n",
       "      <td>0.0</td>\n",
       "      <td>15.546833</td>\n",
       "      <td>41.760002</td>\n",
       "      <td>291.16125</td>\n",
       "      <td>1</td>\n",
       "    </tr>\n",
       "    <tr>\n",
       "      <th>19</th>\n",
       "      <td>0.0</td>\n",
       "      <td>0.0</td>\n",
       "      <td>0.000000</td>\n",
       "      <td>0.000000</td>\n",
       "      <td>2.0</td>\n",
       "      <td>2.0</td>\n",
       "      <td>4.0</td>\n",
       "      <td>4.0</td>\n",
       "      <td>9.42</td>\n",
       "      <td>4.0</td>\n",
       "      <td>...</td>\n",
       "      <td>15.546833</td>\n",
       "      <td>41.760002</td>\n",
       "      <td>291.16125</td>\n",
       "      <td>0.000000</td>\n",
       "      <td>0.000000</td>\n",
       "      <td>0.0</td>\n",
       "      <td>15.546833</td>\n",
       "      <td>41.760002</td>\n",
       "      <td>291.16125</td>\n",
       "      <td>1</td>\n",
       "    </tr>\n",
       "  </tbody>\n",
       "</table>\n",
       "<p>20 rows × 26 columns</p>\n",
       "</div>"
      ],
      "text/plain": [
       "     Days  Inverted    PerfMean     PerfStd  EntryLoad  ExitLoad  EntryDemand  \\\n",
       "0    15.0       0.0   24.000000    7.348469        0.0       0.0          0.0   \n",
       "1     0.0       0.0    0.000000    0.000000        0.0       0.0          0.0   \n",
       "2     5.0       0.0    5.000000    0.000000        0.0       0.0          0.0   \n",
       "3     0.0       0.0    0.000000    0.000000        0.0       0.0          0.0   \n",
       "4     1.0       0.0    1.000000    0.000000        0.0       0.0          0.0   \n",
       "5    11.0       0.0   10.375000    0.599479        0.0       2.0          0.0   \n",
       "6     2.0       0.0    2.000000    0.000000        2.0       2.0          2.0   \n",
       "7     0.0       0.0    0.000000    0.000000        2.0       2.0          2.0   \n",
       "8    15.0       0.0   15.937500    3.630922        2.0       2.0          2.0   \n",
       "9     0.0       1.0    0.000000    0.000000        2.0       2.0          2.0   \n",
       "10    2.0       1.0    2.000000    0.000000        2.0       2.0          2.0   \n",
       "11   10.0       1.0   10.500000    1.060660        2.0       0.0          2.0   \n",
       "12    1.0       1.0    1.000000    0.000000        0.0       0.0          0.0   \n",
       "13    0.0       1.0    0.000000    0.000000        0.0       0.0          0.0   \n",
       "14    5.0       1.0    5.000000    0.000000        0.0       0.0          0.0   \n",
       "15  158.0       1.0  119.892857  100.928666        0.0       0.0          0.0   \n",
       "16   30.0       0.0   24.000000    7.348469        0.0       2.0          0.0   \n",
       "17    0.0       0.0    0.000000    0.000000        2.0       2.0          4.0   \n",
       "18    5.0       0.0    5.000000    0.000000        2.0       2.0          4.0   \n",
       "19    0.0       0.0    0.000000    0.000000        2.0       2.0          4.0   \n",
       "\n",
       "    ExitDemand  Distance  ContainerQuantity  ...  Entry_wind_speed_10m_max  \\\n",
       "0          0.0      0.00                2.0  ...                 26.980793   \n",
       "1          0.0      9.70                2.0  ...                 21.897945   \n",
       "2          0.0      0.00                2.0  ...                 21.897945   \n",
       "3          0.0      9.42                2.0  ...                 19.174856   \n",
       "4          0.0      0.00                2.0  ...                 19.174856   \n",
       "5          2.0   6698.14                2.0  ...                 21.096123   \n",
       "6          2.0      0.00                2.0  ...                 12.144331   \n",
       "7          2.0     15.06                2.0  ...                 16.735160   \n",
       "8          2.0      0.00                2.0  ...                 16.735160   \n",
       "9          2.0     15.06                2.0  ...                 18.416384   \n",
       "10         2.0      0.00                2.0  ...                 18.416384   \n",
       "11         0.0   6698.14                2.0  ...                 33.557330   \n",
       "12         0.0      0.00                2.0  ...                 20.617662   \n",
       "13         0.0      9.42                1.0  ...                 16.267857   \n",
       "14         0.0      0.00                1.0  ...                 16.267857   \n",
       "15         0.0      9.70                1.0  ...                 19.959720   \n",
       "16         4.0      0.00                2.0  ...                 18.861387   \n",
       "17         4.0      9.70                4.0  ...                 27.002400   \n",
       "18         4.0      0.00                4.0  ...                 27.002400   \n",
       "19         4.0      9.42                4.0  ...                 15.546833   \n",
       "\n",
       "    Entry_wind_gusts_10m_max  Entry_wind_direction_10m_dominant  \\\n",
       "0                  63.000000                          247.30750   \n",
       "1                  42.120000                          343.37125   \n",
       "2                  42.120000                          343.37125   \n",
       "3                  36.360000                          242.80690   \n",
       "4                  36.360000                          242.80690   \n",
       "5                  39.960000                          251.11560   \n",
       "6                  24.840000                          351.42484   \n",
       "7                  33.120000                          280.13187   \n",
       "8                  33.120000                          280.13187   \n",
       "9                  38.519997                          253.16681   \n",
       "10                 38.519997                          253.16681   \n",
       "11                 71.640000                          249.14357   \n",
       "12                 43.560000                          186.28355   \n",
       "13                 34.200000                          230.07678   \n",
       "14                 34.200000                          230.07678   \n",
       "15                 36.000000                          140.36986   \n",
       "16                 39.960000                          260.67508   \n",
       "17                 52.920000                          252.19260   \n",
       "18                 52.920000                          252.19260   \n",
       "19                 41.760002                          291.16125   \n",
       "\n",
       "    Exit_precipitation_sum  Exit_rain_sum  Exit_snowfall_sum  \\\n",
       "0                 0.000000       0.000000                0.0   \n",
       "1                 0.000000       0.000000                0.0   \n",
       "2                 3.700000       3.700000                0.0   \n",
       "3                 3.700000       3.700000                0.0   \n",
       "4                17.600000      17.600000                0.0   \n",
       "5                 0.000000       0.000000                0.0   \n",
       "6                 2.000000       2.000000                0.0   \n",
       "7                 2.000000       2.000000                0.0   \n",
       "8                 0.600000       0.600000                0.0   \n",
       "9                 0.600000       0.600000                0.0   \n",
       "10               12.499998      12.499998                0.0   \n",
       "11               13.400001      13.400001                0.0   \n",
       "12                2.200000       2.200000                0.0   \n",
       "13                2.200000       2.200000                0.0   \n",
       "14                0.000000       0.000000                0.0   \n",
       "15                0.100000       0.100000                0.0   \n",
       "16                2.100000       2.100000                0.0   \n",
       "17                2.100000       2.100000                0.0   \n",
       "18                0.000000       0.000000                0.0   \n",
       "19                0.000000       0.000000                0.0   \n",
       "\n",
       "    Exit_wind_speed_10m_max  Exit_wind_gusts_10m_max  \\\n",
       "0                 21.897945                42.120000   \n",
       "1                 21.897945                42.120000   \n",
       "2                 19.174856                36.360000   \n",
       "3                 19.174856                36.360000   \n",
       "4                 21.096123                39.960000   \n",
       "5                 12.144331                24.840000   \n",
       "6                 16.735160                33.120000   \n",
       "7                 16.735160                33.120000   \n",
       "8                 18.416384                38.519997   \n",
       "9                 18.416384                38.519997   \n",
       "10                33.557330                71.640000   \n",
       "11                20.617662                43.560000   \n",
       "12                16.267857                34.200000   \n",
       "13                16.267857                34.200000   \n",
       "14                19.959720                36.000000   \n",
       "15                18.861387                39.960000   \n",
       "16                27.002400                52.920000   \n",
       "17                27.002400                52.920000   \n",
       "18                15.546833                41.760002   \n",
       "19                15.546833                41.760002   \n",
       "\n",
       "    Exit_wind_direction_10m_dominant  Season  \n",
       "0                          343.37125       3  \n",
       "1                          343.37125       3  \n",
       "2                          242.80690       3  \n",
       "3                          242.80690       3  \n",
       "4                          251.11560       3  \n",
       "5                          351.42484       3  \n",
       "6                          280.13187       3  \n",
       "7                          280.13187       3  \n",
       "8                          253.16681       3  \n",
       "9                          253.16681       3  \n",
       "10                         249.14357       3  \n",
       "11                         186.28355       3  \n",
       "12                         230.07678       3  \n",
       "13                         230.07678       3  \n",
       "14                         140.36986       3  \n",
       "15                         260.67508       3  \n",
       "16                         252.19260       1  \n",
       "17                         252.19260       1  \n",
       "18                         291.16125       1  \n",
       "19                         291.16125       1  \n",
       "\n",
       "[20 rows x 26 columns]"
      ]
     },
     "execution_count": 114,
     "metadata": {},
     "output_type": "execute_result"
    }
   ],
   "source": [
    "# Function to perform data augmentation\n",
    "def distribution_percentage(x):\n",
    "    if x == 0:\n",
    "        return x\n",
    "    else:\n",
    "        # Add a random value from a specified distribution\n",
    "        return x*(1+abs(np.random.normal(0, 0.1)))\n",
    "\n",
    "def weather_rain_distribution_percentage(x):\n",
    "    r = random.random()\n",
    "    if x == 0 and r<0.90:\n",
    "        return x\n",
    "    elif x == 0 and r>0.90:\n",
    "        return np.random.normal(3.5, 7)\n",
    "    else:\n",
    "        # Add a random value from a specified distribution\n",
    "        return x*(1+abs(np.random.normal(0, 0.1)))\n",
    "\n",
    "\n",
    "def weather_snow_distribution_percentage(x):\n",
    "    r = random.random()\n",
    "    if r<0.95:\n",
    "        return x\n",
    "    elif r>0.95:\n",
    "        return abs(np.random.normal(0.001, 0.0005))\n",
    "\n",
    "\n",
    "def augment_data(df, augmentation_factor=1):\n",
    "    augmented_data = []\n",
    "    for _ in range(int(augmentation_factor-1)):\n",
    "        # Apply transformation (for example, adding random noise)\n",
    "        augmented_Days = df['Days'] + abs(np.random.normal(0, 0.05, len(df))) + abs(np.random.poisson(lam=0.025, size=len(df))*np.random.normal(0, np.sqrt(5), size=len(df)))\n",
    "        \n",
    "        # print(abs(np.random.poisson(lam=0.075, size=len(df))*np.random.normal(0, 10, size=len(df))))\n",
    "        augmented_Inverted = df['Inverted']\n",
    "        augmented_PerfMean = df['PerfMean'].apply(distribution_percentage)\n",
    "        augmented_PerfStd = df['PerfStd'].apply(distribution_percentage) #Im supposed to compute them but no time\n",
    "        augmented_EntryLoad = df['EntryLoad']\n",
    "        augmented_ExitLoad = df['ExitLoad']\n",
    "        augmented_EntryDemand = df['EntryDemand']\n",
    "        augmented_ExitDemand = df['ExitDemand']\n",
    "        augmented_Distance = df['Distance'].apply(distribution_percentage)\n",
    "        augmented_ContainerQuantity =df['ContainerQuantity']\n",
    "        augmented_Stage = df['Stage']\n",
    "        augmented_Season = df['Season']\n",
    "        augmented_Entry_Working_Day = df['Entry_Working_Day']\n",
    "        augmented_Exit_Working_Day = df['Exit_Working_Day']\n",
    "        augmented_Entry_rain_sum = df['Entry_rain_sum'].apply(weather_rain_distribution_percentage)\n",
    "        augmented_Exit_rain_sum = df['Exit_rain_sum'].apply(weather_rain_distribution_percentage)\n",
    "        augmented_Entry_snowfall_sum = df['Entry_snowfall_sum'].apply(weather_snow_distribution_percentage)\n",
    "        augmented_Exit_snowfall_sum = df['Exit_snowfall_sum'].apply(weather_snow_distribution_percentage)\n",
    "        mask = (~df['Exit_snowfall_sum'].isnull()) & (df['Season'] != 3)\n",
    "        # Set values to 0\n",
    "        # print((augmented_Exit_snowfall_sum == 0).sum())\n",
    "        augmented_Exit_snowfall_sum.loc[mask] = 0\n",
    "        # print((augmented_Exit_snowfall_sum == 0).sum())\n",
    "        mask = (~df['Entry_snowfall_sum'].isnull()) & (df['Season'] != 3)\n",
    "        # Set values to 0\n",
    "        augmented_Entry_snowfall_sum.loc[mask] = 0\n",
    "        augmented_Entry_precipitation_sum = augmented_Entry_rain_sum + augmented_Entry_snowfall_sum\n",
    "        augmented_Exit_precipitation_sum = augmented_Exit_rain_sum + augmented_Exit_snowfall_sum\n",
    "        augmented_Entry_wind_speed_10m_max = df['Entry_wind_speed_10m_max'] + np.random.normal(0, 0.6, len(df))\n",
    "        augmented_Entry_wind_gusts_10m_max = df['Entry_wind_gusts_10m_max'] + np.random.normal(0, 1.2, len(df))\n",
    "        augmented_Entry_wind_direction_10m_dominant = df['Entry_wind_direction_10m_dominant'] + np.random.normal(0, 10, len(df))\n",
    "        augmented_Exit_wind_speed_10m_max = df['Exit_wind_speed_10m_max'] + np.random.normal(0, 0.6, len(df))\n",
    "        augmented_Exit_wind_gusts_10m_max = df['Exit_wind_gusts_10m_max'] + np.random.normal(0, 1.2, len(df))\n",
    "        augmented_Exit_wind_direction_10m_dominant = df['Exit_wind_direction_10m_dominant'] + np.random.normal(0, 10, len(df))\n",
    "        \n",
    "        # print(augmented_Days)\n",
    "        \n",
    "        # Create a new DataFrame with augmented data\n",
    "        augmented_df = pd.DataFrame({\n",
    "            'Days': augmented_Days,\n",
    "            'Season' : augmented_Season,\n",
    "            'Inverted': augmented_Inverted,\n",
    "            'PerfMean': augmented_PerfMean,\n",
    "            'PerfStd': augmented_PerfStd,\n",
    "            'Distance': augmented_Distance,\n",
    "            'EntryLoad': augmented_EntryLoad,\n",
    "            'ExitLoad': augmented_ExitLoad,\n",
    "            'EntryDemand': augmented_EntryDemand,\n",
    "            'ExitDemand': augmented_ExitDemand,\n",
    "            'ContainerQuantity': augmented_ContainerQuantity,\n",
    "            'Stage': augmented_Stage,\n",
    "            'Entry_Working_Day': augmented_Entry_Working_Day,\n",
    "            'Exit_Working_Day': augmented_Exit_Working_Day,\n",
    "            'Entry_precipitation_sum': augmented_Entry_precipitation_sum,\n",
    "            'Exit_precipitation_sum': augmented_Exit_precipitation_sum,\n",
    "            'Entry_snowfall_sum': augmented_Entry_snowfall_sum,\n",
    "            'Exit_snowfall_sum': augmented_Exit_snowfall_sum,\n",
    "            'Entry_rain_sum': augmented_Entry_rain_sum,\n",
    "            'Exit_rain_sum': augmented_Exit_rain_sum,\n",
    "            'Entry_wind_speed_10m_max': augmented_Entry_wind_speed_10m_max,\n",
    "            'Entry_wind_gusts_10m_max': augmented_Entry_wind_gusts_10m_max,\n",
    "            'Entry_wind_direction_10m_dominant': augmented_Entry_wind_direction_10m_dominant,\n",
    "            'Exit_wind_speed_10m_max': augmented_Exit_wind_speed_10m_max,\n",
    "            'Exit_wind_gusts_10m_max': augmented_Exit_wind_gusts_10m_max,\n",
    "            'Exit_wind_direction_10m_dominant': augmented_Exit_wind_direction_10m_dominant\n",
    "        })\n",
    "        \n",
    "        augmented_data.append(augmented_df)\n",
    "    \n",
    "    \n",
    "    # Concatenate the original DataFrame with the augmented data\n",
    "    augmented_df = pd.concat([df] + augmented_data, ignore_index=True)\n",
    "    return augmented_df\n",
    "\n",
    "# Number of times to augment the data\n",
    "augmentation_factor = 2 # int\n",
    "\n",
    "# Perform data augmentation\n",
    "augmented_df = augment_data(datas, augmentation_factor)\n",
    "\n",
    "print(len(augmented_df))\n",
    "augmented_df[:20]\n"
   ]
  },
  {
   "cell_type": "code",
   "execution_count": 72,
   "id": "332e8ffb-2a97-41ed-91d4-a3bc98b815f3",
   "metadata": {},
   "outputs": [
    {
     "data": {
      "text/html": [
       "<div>\n",
       "<style scoped>\n",
       "    .dataframe tbody tr th:only-of-type {\n",
       "        vertical-align: middle;\n",
       "    }\n",
       "\n",
       "    .dataframe tbody tr th {\n",
       "        vertical-align: top;\n",
       "    }\n",
       "\n",
       "    .dataframe thead th {\n",
       "        text-align: right;\n",
       "    }\n",
       "</style>\n",
       "<table border=\"1\" class=\"dataframe\">\n",
       "  <thead>\n",
       "    <tr style=\"text-align: right;\">\n",
       "      <th></th>\n",
       "      <th>Days</th>\n",
       "      <th>Inverted</th>\n",
       "      <th>PerfMean</th>\n",
       "      <th>PerfStd</th>\n",
       "      <th>EntryLoad</th>\n",
       "      <th>ExitLoad</th>\n",
       "      <th>EntryDemand</th>\n",
       "      <th>ExitDemand</th>\n",
       "      <th>Distance</th>\n",
       "      <th>ContainerQuantity</th>\n",
       "      <th>...</th>\n",
       "      <th>Entry_wind_speed_10m_max</th>\n",
       "      <th>Entry_wind_gusts_10m_max</th>\n",
       "      <th>Entry_wind_direction_10m_dominant</th>\n",
       "      <th>Exit_precipitation_sum</th>\n",
       "      <th>Exit_rain_sum</th>\n",
       "      <th>Exit_snowfall_sum</th>\n",
       "      <th>Exit_wind_speed_10m_max</th>\n",
       "      <th>Exit_wind_gusts_10m_max</th>\n",
       "      <th>Exit_wind_direction_10m_dominant</th>\n",
       "      <th>Season</th>\n",
       "    </tr>\n",
       "  </thead>\n",
       "  <tbody>\n",
       "    <tr>\n",
       "      <th>255</th>\n",
       "      <td>15.104165</td>\n",
       "      <td>0.0</td>\n",
       "      <td>25.969686</td>\n",
       "      <td>8.189661</td>\n",
       "      <td>0.0</td>\n",
       "      <td>0.0</td>\n",
       "      <td>0.0</td>\n",
       "      <td>0.0</td>\n",
       "      <td>0.000000</td>\n",
       "      <td>2.0</td>\n",
       "      <td>...</td>\n",
       "      <td>26.665964</td>\n",
       "      <td>63.099400</td>\n",
       "      <td>240.449678</td>\n",
       "      <td>0.000000</td>\n",
       "      <td>0.000000</td>\n",
       "      <td>0.000000</td>\n",
       "      <td>21.119359</td>\n",
       "      <td>41.949932</td>\n",
       "      <td>332.200425</td>\n",
       "      <td>3</td>\n",
       "    </tr>\n",
       "    <tr>\n",
       "      <th>256</th>\n",
       "      <td>0.174187</td>\n",
       "      <td>0.0</td>\n",
       "      <td>0.000000</td>\n",
       "      <td>0.000000</td>\n",
       "      <td>0.0</td>\n",
       "      <td>0.0</td>\n",
       "      <td>0.0</td>\n",
       "      <td>0.0</td>\n",
       "      <td>9.979884</td>\n",
       "      <td>2.0</td>\n",
       "      <td>...</td>\n",
       "      <td>22.202236</td>\n",
       "      <td>38.894667</td>\n",
       "      <td>346.823629</td>\n",
       "      <td>0.000000</td>\n",
       "      <td>0.000000</td>\n",
       "      <td>0.000000</td>\n",
       "      <td>21.967838</td>\n",
       "      <td>41.737391</td>\n",
       "      <td>338.904138</td>\n",
       "      <td>3</td>\n",
       "    </tr>\n",
       "    <tr>\n",
       "      <th>257</th>\n",
       "      <td>5.040128</td>\n",
       "      <td>0.0</td>\n",
       "      <td>5.316339</td>\n",
       "      <td>0.000000</td>\n",
       "      <td>0.0</td>\n",
       "      <td>0.0</td>\n",
       "      <td>0.0</td>\n",
       "      <td>0.0</td>\n",
       "      <td>0.000000</td>\n",
       "      <td>2.0</td>\n",
       "      <td>...</td>\n",
       "      <td>21.847372</td>\n",
       "      <td>41.680295</td>\n",
       "      <td>348.424483</td>\n",
       "      <td>3.845567</td>\n",
       "      <td>3.845567</td>\n",
       "      <td>0.000000</td>\n",
       "      <td>19.226317</td>\n",
       "      <td>36.305780</td>\n",
       "      <td>234.041849</td>\n",
       "      <td>3</td>\n",
       "    </tr>\n",
       "    <tr>\n",
       "      <th>258</th>\n",
       "      <td>0.010823</td>\n",
       "      <td>0.0</td>\n",
       "      <td>0.000000</td>\n",
       "      <td>0.000000</td>\n",
       "      <td>0.0</td>\n",
       "      <td>0.0</td>\n",
       "      <td>0.0</td>\n",
       "      <td>0.0</td>\n",
       "      <td>9.479613</td>\n",
       "      <td>2.0</td>\n",
       "      <td>...</td>\n",
       "      <td>19.091721</td>\n",
       "      <td>35.198966</td>\n",
       "      <td>238.773155</td>\n",
       "      <td>4.172336</td>\n",
       "      <td>4.172336</td>\n",
       "      <td>0.000000</td>\n",
       "      <td>19.215325</td>\n",
       "      <td>34.429813</td>\n",
       "      <td>221.511169</td>\n",
       "      <td>3</td>\n",
       "    </tr>\n",
       "    <tr>\n",
       "      <th>259</th>\n",
       "      <td>1.024281</td>\n",
       "      <td>0.0</td>\n",
       "      <td>1.107559</td>\n",
       "      <td>0.000000</td>\n",
       "      <td>0.0</td>\n",
       "      <td>0.0</td>\n",
       "      <td>0.0</td>\n",
       "      <td>0.0</td>\n",
       "      <td>0.000000</td>\n",
       "      <td>2.0</td>\n",
       "      <td>...</td>\n",
       "      <td>18.753854</td>\n",
       "      <td>36.430698</td>\n",
       "      <td>240.565466</td>\n",
       "      <td>19.778824</td>\n",
       "      <td>19.778824</td>\n",
       "      <td>0.000000</td>\n",
       "      <td>20.513213</td>\n",
       "      <td>39.852112</td>\n",
       "      <td>252.350559</td>\n",
       "      <td>3</td>\n",
       "    </tr>\n",
       "    <tr>\n",
       "      <th>260</th>\n",
       "      <td>11.261589</td>\n",
       "      <td>0.0</td>\n",
       "      <td>10.635774</td>\n",
       "      <td>0.629583</td>\n",
       "      <td>0.0</td>\n",
       "      <td>2.0</td>\n",
       "      <td>0.0</td>\n",
       "      <td>2.0</td>\n",
       "      <td>6843.468920</td>\n",
       "      <td>2.0</td>\n",
       "      <td>...</td>\n",
       "      <td>20.654155</td>\n",
       "      <td>39.089471</td>\n",
       "      <td>251.390681</td>\n",
       "      <td>0.008844</td>\n",
       "      <td>0.000000</td>\n",
       "      <td>0.008844</td>\n",
       "      <td>11.737257</td>\n",
       "      <td>25.566010</td>\n",
       "      <td>347.114368</td>\n",
       "      <td>3</td>\n",
       "    </tr>\n",
       "    <tr>\n",
       "      <th>261</th>\n",
       "      <td>2.060848</td>\n",
       "      <td>0.0</td>\n",
       "      <td>2.223709</td>\n",
       "      <td>0.000000</td>\n",
       "      <td>2.0</td>\n",
       "      <td>2.0</td>\n",
       "      <td>2.0</td>\n",
       "      <td>2.0</td>\n",
       "      <td>0.000000</td>\n",
       "      <td>2.0</td>\n",
       "      <td>...</td>\n",
       "      <td>12.170532</td>\n",
       "      <td>24.481734</td>\n",
       "      <td>347.970093</td>\n",
       "      <td>2.056282</td>\n",
       "      <td>2.056282</td>\n",
       "      <td>0.000000</td>\n",
       "      <td>16.625038</td>\n",
       "      <td>33.305964</td>\n",
       "      <td>285.017856</td>\n",
       "      <td>3</td>\n",
       "    </tr>\n",
       "    <tr>\n",
       "      <th>262</th>\n",
       "      <td>0.150434</td>\n",
       "      <td>0.0</td>\n",
       "      <td>0.000000</td>\n",
       "      <td>0.000000</td>\n",
       "      <td>2.0</td>\n",
       "      <td>2.0</td>\n",
       "      <td>2.0</td>\n",
       "      <td>2.0</td>\n",
       "      <td>16.747330</td>\n",
       "      <td>2.0</td>\n",
       "      <td>...</td>\n",
       "      <td>16.978059</td>\n",
       "      <td>31.562470</td>\n",
       "      <td>288.004089</td>\n",
       "      <td>2.162036</td>\n",
       "      <td>2.162036</td>\n",
       "      <td>0.000000</td>\n",
       "      <td>15.714357</td>\n",
       "      <td>34.557852</td>\n",
       "      <td>285.561879</td>\n",
       "      <td>3</td>\n",
       "    </tr>\n",
       "    <tr>\n",
       "      <th>263</th>\n",
       "      <td>15.010109</td>\n",
       "      <td>0.0</td>\n",
       "      <td>17.255699</td>\n",
       "      <td>3.682529</td>\n",
       "      <td>2.0</td>\n",
       "      <td>2.0</td>\n",
       "      <td>2.0</td>\n",
       "      <td>2.0</td>\n",
       "      <td>0.000000</td>\n",
       "      <td>2.0</td>\n",
       "      <td>...</td>\n",
       "      <td>15.758584</td>\n",
       "      <td>32.500844</td>\n",
       "      <td>289.637568</td>\n",
       "      <td>0.681893</td>\n",
       "      <td>0.681893</td>\n",
       "      <td>0.000000</td>\n",
       "      <td>18.340119</td>\n",
       "      <td>38.946533</td>\n",
       "      <td>246.856784</td>\n",
       "      <td>3</td>\n",
       "    </tr>\n",
       "    <tr>\n",
       "      <th>264</th>\n",
       "      <td>0.063504</td>\n",
       "      <td>1.0</td>\n",
       "      <td>0.000000</td>\n",
       "      <td>0.000000</td>\n",
       "      <td>2.0</td>\n",
       "      <td>2.0</td>\n",
       "      <td>2.0</td>\n",
       "      <td>2.0</td>\n",
       "      <td>17.895615</td>\n",
       "      <td>2.0</td>\n",
       "      <td>...</td>\n",
       "      <td>18.805397</td>\n",
       "      <td>40.410707</td>\n",
       "      <td>252.258788</td>\n",
       "      <td>0.647361</td>\n",
       "      <td>0.647361</td>\n",
       "      <td>0.000000</td>\n",
       "      <td>19.336623</td>\n",
       "      <td>37.728739</td>\n",
       "      <td>256.665253</td>\n",
       "      <td>3</td>\n",
       "    </tr>\n",
       "    <tr>\n",
       "      <th>265</th>\n",
       "      <td>2.069932</td>\n",
       "      <td>1.0</td>\n",
       "      <td>2.300554</td>\n",
       "      <td>0.000000</td>\n",
       "      <td>2.0</td>\n",
       "      <td>2.0</td>\n",
       "      <td>2.0</td>\n",
       "      <td>2.0</td>\n",
       "      <td>0.000000</td>\n",
       "      <td>2.0</td>\n",
       "      <td>...</td>\n",
       "      <td>18.699345</td>\n",
       "      <td>39.502984</td>\n",
       "      <td>258.707952</td>\n",
       "      <td>12.565054</td>\n",
       "      <td>12.565054</td>\n",
       "      <td>0.000000</td>\n",
       "      <td>33.812594</td>\n",
       "      <td>72.567295</td>\n",
       "      <td>247.242254</td>\n",
       "      <td>3</td>\n",
       "    </tr>\n",
       "    <tr>\n",
       "      <th>266</th>\n",
       "      <td>10.012137</td>\n",
       "      <td>1.0</td>\n",
       "      <td>10.812794</td>\n",
       "      <td>1.136557</td>\n",
       "      <td>2.0</td>\n",
       "      <td>0.0</td>\n",
       "      <td>2.0</td>\n",
       "      <td>0.0</td>\n",
       "      <td>7022.242667</td>\n",
       "      <td>2.0</td>\n",
       "      <td>...</td>\n",
       "      <td>34.784996</td>\n",
       "      <td>70.218873</td>\n",
       "      <td>263.168235</td>\n",
       "      <td>14.717086</td>\n",
       "      <td>14.717086</td>\n",
       "      <td>0.000000</td>\n",
       "      <td>20.232674</td>\n",
       "      <td>44.558802</td>\n",
       "      <td>190.206650</td>\n",
       "      <td>3</td>\n",
       "    </tr>\n",
       "    <tr>\n",
       "      <th>267</th>\n",
       "      <td>1.062457</td>\n",
       "      <td>1.0</td>\n",
       "      <td>1.113369</td>\n",
       "      <td>0.000000</td>\n",
       "      <td>0.0</td>\n",
       "      <td>0.0</td>\n",
       "      <td>0.0</td>\n",
       "      <td>0.0</td>\n",
       "      <td>0.000000</td>\n",
       "      <td>2.0</td>\n",
       "      <td>...</td>\n",
       "      <td>20.272318</td>\n",
       "      <td>43.564767</td>\n",
       "      <td>190.313648</td>\n",
       "      <td>2.386686</td>\n",
       "      <td>2.386686</td>\n",
       "      <td>0.000000</td>\n",
       "      <td>16.209766</td>\n",
       "      <td>32.619599</td>\n",
       "      <td>233.281985</td>\n",
       "      <td>3</td>\n",
       "    </tr>\n",
       "    <tr>\n",
       "      <th>268</th>\n",
       "      <td>0.063023</td>\n",
       "      <td>1.0</td>\n",
       "      <td>0.000000</td>\n",
       "      <td>0.000000</td>\n",
       "      <td>0.0</td>\n",
       "      <td>0.0</td>\n",
       "      <td>0.0</td>\n",
       "      <td>0.0</td>\n",
       "      <td>10.013829</td>\n",
       "      <td>1.0</td>\n",
       "      <td>...</td>\n",
       "      <td>16.207537</td>\n",
       "      <td>35.866104</td>\n",
       "      <td>232.096759</td>\n",
       "      <td>2.339944</td>\n",
       "      <td>2.339944</td>\n",
       "      <td>0.000000</td>\n",
       "      <td>16.005439</td>\n",
       "      <td>34.218958</td>\n",
       "      <td>228.642166</td>\n",
       "      <td>3</td>\n",
       "    </tr>\n",
       "    <tr>\n",
       "      <th>269</th>\n",
       "      <td>5.009426</td>\n",
       "      <td>1.0</td>\n",
       "      <td>5.239858</td>\n",
       "      <td>0.000000</td>\n",
       "      <td>0.0</td>\n",
       "      <td>0.0</td>\n",
       "      <td>0.0</td>\n",
       "      <td>0.0</td>\n",
       "      <td>0.000000</td>\n",
       "      <td>1.0</td>\n",
       "      <td>...</td>\n",
       "      <td>15.777738</td>\n",
       "      <td>34.594377</td>\n",
       "      <td>238.964624</td>\n",
       "      <td>0.000000</td>\n",
       "      <td>0.000000</td>\n",
       "      <td>0.000000</td>\n",
       "      <td>20.042226</td>\n",
       "      <td>38.009793</td>\n",
       "      <td>158.395021</td>\n",
       "      <td>3</td>\n",
       "    </tr>\n",
       "    <tr>\n",
       "      <th>270</th>\n",
       "      <td>158.134921</td>\n",
       "      <td>1.0</td>\n",
       "      <td>130.487813</td>\n",
       "      <td>116.724871</td>\n",
       "      <td>0.0</td>\n",
       "      <td>0.0</td>\n",
       "      <td>0.0</td>\n",
       "      <td>0.0</td>\n",
       "      <td>10.817213</td>\n",
       "      <td>1.0</td>\n",
       "      <td>...</td>\n",
       "      <td>20.518154</td>\n",
       "      <td>34.944139</td>\n",
       "      <td>125.025896</td>\n",
       "      <td>0.118249</td>\n",
       "      <td>0.118249</td>\n",
       "      <td>0.000000</td>\n",
       "      <td>17.565375</td>\n",
       "      <td>40.408939</td>\n",
       "      <td>252.511372</td>\n",
       "      <td>3</td>\n",
       "    </tr>\n",
       "    <tr>\n",
       "      <th>271</th>\n",
       "      <td>30.857508</td>\n",
       "      <td>0.0</td>\n",
       "      <td>24.281173</td>\n",
       "      <td>8.883567</td>\n",
       "      <td>0.0</td>\n",
       "      <td>2.0</td>\n",
       "      <td>0.0</td>\n",
       "      <td>4.0</td>\n",
       "      <td>0.000000</td>\n",
       "      <td>2.0</td>\n",
       "      <td>...</td>\n",
       "      <td>18.238877</td>\n",
       "      <td>38.813668</td>\n",
       "      <td>266.746765</td>\n",
       "      <td>2.164127</td>\n",
       "      <td>2.164127</td>\n",
       "      <td>0.000000</td>\n",
       "      <td>26.953608</td>\n",
       "      <td>53.012837</td>\n",
       "      <td>234.353942</td>\n",
       "      <td>1</td>\n",
       "    </tr>\n",
       "    <tr>\n",
       "      <th>272</th>\n",
       "      <td>0.244158</td>\n",
       "      <td>0.0</td>\n",
       "      <td>0.000000</td>\n",
       "      <td>0.000000</td>\n",
       "      <td>2.0</td>\n",
       "      <td>2.0</td>\n",
       "      <td>4.0</td>\n",
       "      <td>4.0</td>\n",
       "      <td>10.692022</td>\n",
       "      <td>4.0</td>\n",
       "      <td>...</td>\n",
       "      <td>26.833003</td>\n",
       "      <td>53.843769</td>\n",
       "      <td>266.769468</td>\n",
       "      <td>2.404182</td>\n",
       "      <td>2.404182</td>\n",
       "      <td>0.000000</td>\n",
       "      <td>27.307921</td>\n",
       "      <td>53.052921</td>\n",
       "      <td>256.634747</td>\n",
       "      <td>1</td>\n",
       "    </tr>\n",
       "    <tr>\n",
       "      <th>273</th>\n",
       "      <td>5.138344</td>\n",
       "      <td>0.0</td>\n",
       "      <td>5.353425</td>\n",
       "      <td>0.000000</td>\n",
       "      <td>2.0</td>\n",
       "      <td>2.0</td>\n",
       "      <td>4.0</td>\n",
       "      <td>4.0</td>\n",
       "      <td>0.000000</td>\n",
       "      <td>4.0</td>\n",
       "      <td>...</td>\n",
       "      <td>27.220165</td>\n",
       "      <td>52.659645</td>\n",
       "      <td>251.613200</td>\n",
       "      <td>0.000000</td>\n",
       "      <td>0.000000</td>\n",
       "      <td>0.000000</td>\n",
       "      <td>15.816868</td>\n",
       "      <td>40.003644</td>\n",
       "      <td>284.809959</td>\n",
       "      <td>1</td>\n",
       "    </tr>\n",
       "    <tr>\n",
       "      <th>274</th>\n",
       "      <td>0.060125</td>\n",
       "      <td>0.0</td>\n",
       "      <td>0.000000</td>\n",
       "      <td>0.000000</td>\n",
       "      <td>2.0</td>\n",
       "      <td>2.0</td>\n",
       "      <td>4.0</td>\n",
       "      <td>4.0</td>\n",
       "      <td>11.430866</td>\n",
       "      <td>4.0</td>\n",
       "      <td>...</td>\n",
       "      <td>15.728140</td>\n",
       "      <td>43.391113</td>\n",
       "      <td>280.377671</td>\n",
       "      <td>0.000000</td>\n",
       "      <td>0.000000</td>\n",
       "      <td>0.000000</td>\n",
       "      <td>16.262807</td>\n",
       "      <td>44.295597</td>\n",
       "      <td>283.643160</td>\n",
       "      <td>1</td>\n",
       "    </tr>\n",
       "    <tr>\n",
       "      <th>275</th>\n",
       "      <td>1.047020</td>\n",
       "      <td>0.0</td>\n",
       "      <td>1.017757</td>\n",
       "      <td>0.000000</td>\n",
       "      <td>2.0</td>\n",
       "      <td>2.0</td>\n",
       "      <td>4.0</td>\n",
       "      <td>4.0</td>\n",
       "      <td>0.000000</td>\n",
       "      <td>4.0</td>\n",
       "      <td>...</td>\n",
       "      <td>15.972620</td>\n",
       "      <td>42.799963</td>\n",
       "      <td>296.589211</td>\n",
       "      <td>0.000000</td>\n",
       "      <td>0.000000</td>\n",
       "      <td>0.000000</td>\n",
       "      <td>9.890452</td>\n",
       "      <td>22.404642</td>\n",
       "      <td>326.897002</td>\n",
       "      <td>1</td>\n",
       "    </tr>\n",
       "  </tbody>\n",
       "</table>\n",
       "<p>21 rows × 26 columns</p>\n",
       "</div>"
      ],
      "text/plain": [
       "           Days  Inverted    PerfMean     PerfStd  EntryLoad  ExitLoad  \\\n",
       "255   15.104165       0.0   25.969686    8.189661        0.0       0.0   \n",
       "256    0.174187       0.0    0.000000    0.000000        0.0       0.0   \n",
       "257    5.040128       0.0    5.316339    0.000000        0.0       0.0   \n",
       "258    0.010823       0.0    0.000000    0.000000        0.0       0.0   \n",
       "259    1.024281       0.0    1.107559    0.000000        0.0       0.0   \n",
       "260   11.261589       0.0   10.635774    0.629583        0.0       2.0   \n",
       "261    2.060848       0.0    2.223709    0.000000        2.0       2.0   \n",
       "262    0.150434       0.0    0.000000    0.000000        2.0       2.0   \n",
       "263   15.010109       0.0   17.255699    3.682529        2.0       2.0   \n",
       "264    0.063504       1.0    0.000000    0.000000        2.0       2.0   \n",
       "265    2.069932       1.0    2.300554    0.000000        2.0       2.0   \n",
       "266   10.012137       1.0   10.812794    1.136557        2.0       0.0   \n",
       "267    1.062457       1.0    1.113369    0.000000        0.0       0.0   \n",
       "268    0.063023       1.0    0.000000    0.000000        0.0       0.0   \n",
       "269    5.009426       1.0    5.239858    0.000000        0.0       0.0   \n",
       "270  158.134921       1.0  130.487813  116.724871        0.0       0.0   \n",
       "271   30.857508       0.0   24.281173    8.883567        0.0       2.0   \n",
       "272    0.244158       0.0    0.000000    0.000000        2.0       2.0   \n",
       "273    5.138344       0.0    5.353425    0.000000        2.0       2.0   \n",
       "274    0.060125       0.0    0.000000    0.000000        2.0       2.0   \n",
       "275    1.047020       0.0    1.017757    0.000000        2.0       2.0   \n",
       "\n",
       "     EntryDemand  ExitDemand     Distance  ContainerQuantity  ...  \\\n",
       "255          0.0         0.0     0.000000                2.0  ...   \n",
       "256          0.0         0.0     9.979884                2.0  ...   \n",
       "257          0.0         0.0     0.000000                2.0  ...   \n",
       "258          0.0         0.0     9.479613                2.0  ...   \n",
       "259          0.0         0.0     0.000000                2.0  ...   \n",
       "260          0.0         2.0  6843.468920                2.0  ...   \n",
       "261          2.0         2.0     0.000000                2.0  ...   \n",
       "262          2.0         2.0    16.747330                2.0  ...   \n",
       "263          2.0         2.0     0.000000                2.0  ...   \n",
       "264          2.0         2.0    17.895615                2.0  ...   \n",
       "265          2.0         2.0     0.000000                2.0  ...   \n",
       "266          2.0         0.0  7022.242667                2.0  ...   \n",
       "267          0.0         0.0     0.000000                2.0  ...   \n",
       "268          0.0         0.0    10.013829                1.0  ...   \n",
       "269          0.0         0.0     0.000000                1.0  ...   \n",
       "270          0.0         0.0    10.817213                1.0  ...   \n",
       "271          0.0         4.0     0.000000                2.0  ...   \n",
       "272          4.0         4.0    10.692022                4.0  ...   \n",
       "273          4.0         4.0     0.000000                4.0  ...   \n",
       "274          4.0         4.0    11.430866                4.0  ...   \n",
       "275          4.0         4.0     0.000000                4.0  ...   \n",
       "\n",
       "     Entry_wind_speed_10m_max  Entry_wind_gusts_10m_max  \\\n",
       "255                 26.665964                 63.099400   \n",
       "256                 22.202236                 38.894667   \n",
       "257                 21.847372                 41.680295   \n",
       "258                 19.091721                 35.198966   \n",
       "259                 18.753854                 36.430698   \n",
       "260                 20.654155                 39.089471   \n",
       "261                 12.170532                 24.481734   \n",
       "262                 16.978059                 31.562470   \n",
       "263                 15.758584                 32.500844   \n",
       "264                 18.805397                 40.410707   \n",
       "265                 18.699345                 39.502984   \n",
       "266                 34.784996                 70.218873   \n",
       "267                 20.272318                 43.564767   \n",
       "268                 16.207537                 35.866104   \n",
       "269                 15.777738                 34.594377   \n",
       "270                 20.518154                 34.944139   \n",
       "271                 18.238877                 38.813668   \n",
       "272                 26.833003                 53.843769   \n",
       "273                 27.220165                 52.659645   \n",
       "274                 15.728140                 43.391113   \n",
       "275                 15.972620                 42.799963   \n",
       "\n",
       "     Entry_wind_direction_10m_dominant  Exit_precipitation_sum  Exit_rain_sum  \\\n",
       "255                         240.449678                0.000000       0.000000   \n",
       "256                         346.823629                0.000000       0.000000   \n",
       "257                         348.424483                3.845567       3.845567   \n",
       "258                         238.773155                4.172336       4.172336   \n",
       "259                         240.565466               19.778824      19.778824   \n",
       "260                         251.390681                0.008844       0.000000   \n",
       "261                         347.970093                2.056282       2.056282   \n",
       "262                         288.004089                2.162036       2.162036   \n",
       "263                         289.637568                0.681893       0.681893   \n",
       "264                         252.258788                0.647361       0.647361   \n",
       "265                         258.707952               12.565054      12.565054   \n",
       "266                         263.168235               14.717086      14.717086   \n",
       "267                         190.313648                2.386686       2.386686   \n",
       "268                         232.096759                2.339944       2.339944   \n",
       "269                         238.964624                0.000000       0.000000   \n",
       "270                         125.025896                0.118249       0.118249   \n",
       "271                         266.746765                2.164127       2.164127   \n",
       "272                         266.769468                2.404182       2.404182   \n",
       "273                         251.613200                0.000000       0.000000   \n",
       "274                         280.377671                0.000000       0.000000   \n",
       "275                         296.589211                0.000000       0.000000   \n",
       "\n",
       "     Exit_snowfall_sum  Exit_wind_speed_10m_max  Exit_wind_gusts_10m_max  \\\n",
       "255           0.000000                21.119359                41.949932   \n",
       "256           0.000000                21.967838                41.737391   \n",
       "257           0.000000                19.226317                36.305780   \n",
       "258           0.000000                19.215325                34.429813   \n",
       "259           0.000000                20.513213                39.852112   \n",
       "260           0.008844                11.737257                25.566010   \n",
       "261           0.000000                16.625038                33.305964   \n",
       "262           0.000000                15.714357                34.557852   \n",
       "263           0.000000                18.340119                38.946533   \n",
       "264           0.000000                19.336623                37.728739   \n",
       "265           0.000000                33.812594                72.567295   \n",
       "266           0.000000                20.232674                44.558802   \n",
       "267           0.000000                16.209766                32.619599   \n",
       "268           0.000000                16.005439                34.218958   \n",
       "269           0.000000                20.042226                38.009793   \n",
       "270           0.000000                17.565375                40.408939   \n",
       "271           0.000000                26.953608                53.012837   \n",
       "272           0.000000                27.307921                53.052921   \n",
       "273           0.000000                15.816868                40.003644   \n",
       "274           0.000000                16.262807                44.295597   \n",
       "275           0.000000                 9.890452                22.404642   \n",
       "\n",
       "     Exit_wind_direction_10m_dominant  Season  \n",
       "255                        332.200425       3  \n",
       "256                        338.904138       3  \n",
       "257                        234.041849       3  \n",
       "258                        221.511169       3  \n",
       "259                        252.350559       3  \n",
       "260                        347.114368       3  \n",
       "261                        285.017856       3  \n",
       "262                        285.561879       3  \n",
       "263                        246.856784       3  \n",
       "264                        256.665253       3  \n",
       "265                        247.242254       3  \n",
       "266                        190.206650       3  \n",
       "267                        233.281985       3  \n",
       "268                        228.642166       3  \n",
       "269                        158.395021       3  \n",
       "270                        252.511372       3  \n",
       "271                        234.353942       1  \n",
       "272                        256.634747       1  \n",
       "273                        284.809959       1  \n",
       "274                        283.643160       1  \n",
       "275                        326.897002       1  \n",
       "\n",
       "[21 rows x 26 columns]"
      ]
     },
     "execution_count": 72,
     "metadata": {},
     "output_type": "execute_result"
    }
   ],
   "source": [
    "augmented_df[255:276]"
   ]
  },
  {
   "cell_type": "code",
   "execution_count": 73,
   "id": "024ba229-ab6d-40d3-8b67-323bbe3eb23b",
   "metadata": {},
   "outputs": [
    {
     "data": {
      "text/plain": [
       "count    255.000000\n",
       "mean       0.000021\n",
       "std        0.000123\n",
       "min        0.000000\n",
       "25%        0.000000\n",
       "50%        0.000000\n",
       "75%        0.000000\n",
       "max        0.000753\n",
       "Name: Exit_snowfall_sum, dtype: float64"
      ]
     },
     "execution_count": 73,
     "metadata": {},
     "output_type": "execute_result"
    }
   ],
   "source": [
    "datas['Exit_snowfall_sum'].describe()"
   ]
  },
  {
   "cell_type": "code",
   "execution_count": 74,
   "id": "a985dc0c-414b-4014-87f5-029c4bc74a3d",
   "metadata": {},
   "outputs": [
    {
     "data": {
      "text/plain": [
       "0      247.30750\n",
       "1      343.37125\n",
       "2      343.37125\n",
       "3      242.80690\n",
       "4      242.80690\n",
       "         ...    \n",
       "250    173.40240\n",
       "251    173.40240\n",
       "252    173.40240\n",
       "253    173.40240\n",
       "254    173.40240\n",
       "Name: Entry_wind_direction_10m_dominant, Length: 255, dtype: float64"
      ]
     },
     "execution_count": 74,
     "metadata": {},
     "output_type": "execute_result"
    }
   ],
   "source": [
    "datas['Entry_wind_direction_10m_dominant']"
   ]
  },
  {
   "cell_type": "code",
   "execution_count": 75,
   "id": "1c0f0db8-618d-4fe5-838c-94ff40d1b202",
   "metadata": {},
   "outputs": [],
   "source": [
    "augmented_df.to_csv('augmented_data.csv', index=False)"
   ]
  },
  {
   "cell_type": "code",
   "execution_count": null,
   "id": "a441fb82-0cb2-4bc5-9423-081067e57cfd",
   "metadata": {},
   "outputs": [],
   "source": [
    "augmented_df.to_csv('augmented_data.csv', index=False)"
   ]
  },
  {
   "cell_type": "code",
   "execution_count": 124,
   "id": "051bad2c-f332-4d5e-9dde-e41bb5b85e3f",
   "metadata": {},
   "outputs": [
    {
     "name": "stdout",
     "output_type": "stream",
     "text": [
      "[4.63881393e-02 5.63998880e-02 4.20410000e-02 1.45159648e-02\n",
      " 8.72179959e-02 5.05419798e-02 6.77074517e-02 5.51869116e-02\n",
      " 3.05298652e-02 1.00057308e-01 5.87727768e-02 1.08568719e-02\n",
      " 1.99717227e-02 2.98798033e-02 1.90501308e-02 4.79830031e-02\n",
      " 1.58918973e-02 1.09566627e-01 5.83024258e-03 9.77515427e-03\n",
      " 1.34451305e-02 8.70947064e-02 2.81087630e-02 2.34794483e-02\n",
      " 3.39997615e-02 4.38570195e-03 2.98587750e-02 1.55982494e-02\n",
      " 3.98004661e-02 4.15130234e-02 1.20497856e-02 6.06742428e-02\n",
      " 8.63120624e-03 1.91469909e-02 8.08217334e-02 6.06411157e-02\n",
      " 6.11213835e-02 8.02550038e-02 8.07009779e-02 4.21157457e-02\n",
      " 7.33087003e-02 3.33323537e-02 4.14118012e-02 2.01757478e-02\n",
      " 3.28556496e-03 6.64202531e-02 3.25544428e-02 6.21408915e-02\n",
      " 5.90444715e-02 6.65154153e-01 5.78341470e-03 6.29139418e-02\n",
      " 1.14455036e-02 2.29601371e-02 4.52869392e-01 4.26671229e-02\n",
      " 5.30419698e-02 4.09246907e-02 5.94676430e-02 6.48144961e-03\n",
      " 7.61973184e-02 8.22165558e-02 1.62719055e-02 2.04580110e-02\n",
      " 6.90926679e-02 1.31654211e-02 2.89053790e-03 4.94173742e-03\n",
      " 2.93914556e-03 7.80824848e-03 5.65360996e-02 6.06317909e-02\n",
      " 3.05199323e-02 5.96055599e-02 5.53215085e-02 5.35873908e-02\n",
      " 4.49109052e-03 1.82500883e-02 3.53521211e-02 5.95599010e-03\n",
      " 3.09923123e-02 3.39578492e-02 7.04409944e-03 1.01848487e-01\n",
      " 4.99649604e-02 2.28987503e-02 1.25708985e-02 2.92290250e-03\n",
      " 1.18382877e-01 5.38432515e-02 5.67152713e-02 8.44104932e-02\n",
      " 4.22285300e-02 1.67757160e-02 3.68696229e-03 6.42370033e-02\n",
      " 5.16621182e-03 9.91976681e-02 6.91256979e-02 1.11287735e-01\n",
      " 5.27580908e-02 7.24907806e-03 1.61224218e-02 4.49151980e-02\n",
      " 6.12480806e-02 1.59902423e-02 3.76092596e-02 2.54947372e-02\n",
      " 9.93427610e-02 3.51461173e-02 6.63964218e-03 5.59263584e-02\n",
      " 7.74950029e-02 3.64011976e-02 2.08439068e-02 4.90290733e-02\n",
      " 3.62567683e-02 5.88108740e-02 9.01569040e-02 5.22466121e-02\n",
      " 4.25489147e-02 5.94303368e-02 4.35307303e-02 7.03876641e-02\n",
      " 1.82506208e-02 3.08392300e-02 1.05231538e-01 4.28520843e-02\n",
      " 5.09678878e-03 4.43425229e-04 8.94948369e-03 1.05181902e-01\n",
      " 1.16140679e-02 2.16180812e-02 5.18733172e-02 8.15885373e-02\n",
      " 1.58327865e-02 9.29560072e-02 2.29934381e-03 6.30866770e-03\n",
      " 1.76182653e-01 2.00919656e-02 4.67309507e-02 3.81398170e-02\n",
      " 1.44383880e-03 5.63413672e-02 7.67949752e-02 9.18735250e-02\n",
      " 1.09859514e-01 2.43323010e-02 6.80552585e-03 1.49698739e-02\n",
      " 9.99704453e-03 1.17043911e-01 1.36928242e-02 9.71733473e-02\n",
      " 6.24677285e-02 6.35051090e-02 7.11347867e-03 5.71615473e-02\n",
      " 4.13371651e-02 6.07215184e-02 8.55746192e-02 3.15638265e-02\n",
      " 8.08881883e-02 5.44659335e-02 2.51721470e-02 1.74579115e-02\n",
      " 4.62712591e-02 3.93965200e-02 9.47280338e-02 5.90668468e-02\n",
      " 2.04301157e-02 6.51266766e-02 4.23610489e-02 1.01272926e-02\n",
      " 5.58589846e-03 3.33865582e-02 1.01743370e-02 1.43477440e-02\n",
      " 2.71154125e-03 5.94131452e-03 1.06705166e-02 4.23881401e-02\n",
      " 7.70169136e-02 1.18105050e-02 8.60390578e-02 4.44472886e-02\n",
      " 5.90618354e-02 7.94070519e-02 3.82700623e-02 9.17087646e-02\n",
      " 1.30042284e-02 1.56740508e-02 2.15934243e-02 1.13867323e-01\n",
      " 1.00916353e-02 4.25354335e-02 2.18877619e-02 1.90462765e-02\n",
      " 8.49555193e-03 3.84621992e-04 5.05193220e-02 7.99326194e-03\n",
      " 1.06906754e-01 4.83657891e-02 2.83006622e-02 5.88425190e-02\n",
      " 8.48126023e-02 8.62571499e-02 1.72375748e-02 9.25593369e-02\n",
      " 3.50471648e+00 3.99166132e-03 1.28839426e-02 2.61031427e-03\n",
      " 2.55177489e-02 3.40007616e-02 7.40146917e-02 5.01660545e-03\n",
      " 3.74100908e-03 1.88495140e-03 3.10153759e+00 2.90704266e-02\n",
      " 2.20182194e-02 6.78175958e-02 4.72018029e-02 1.68484870e-02\n",
      " 2.40097128e-02 1.85657588e-02 9.55742910e-03 4.47736153e-02\n",
      " 9.39106841e-02 2.42792158e-02 1.19500749e-02 3.79471779e-03\n",
      " 1.26457014e-02 2.48113235e-02 4.10513525e-03 8.61009554e-02\n",
      " 8.07371885e-03 7.91117941e-03 5.91153635e-02 1.77266287e-02\n",
      " 5.90411939e-02 1.15276278e-02 7.74057985e-02 8.50021706e-03\n",
      " 5.97606922e-01 3.46743635e-03 2.40453109e-02 9.62040355e-02\n",
      " 1.80511600e-02 7.09416580e-03 3.71786674e-02]\n"
     ]
    }
   ],
   "source": [
    "import plotly.graph_objects as go\n",
    "\n",
    "# Convert DataFrame columns to NumPy arrays\n",
    "days_original = datas['Days'].to_numpy()\n",
    "rain_original = datas['Entry_rain_sum'].to_numpy()\n",
    "wind_gusts_original = datas['Entry_wind_gusts_10m_max'].to_numpy()\n",
    "snowfall_original = datas['Entry_snowfall_sum'].to_numpy()\n",
    "\n",
    "# Calculate the difference between original and augmented data\n",
    "delta_days = augmented_df['Days'][255:].to_numpy() - days_original\n",
    "delta_rain = augmented_df['Entry_rain_sum'][255:].to_numpy() - rain_original\n",
    "delta_wind_gusts = augmented_df['Entry_wind_gusts_10m_max'][255:].to_numpy() - wind_gusts_original\n",
    "delta_snowfall = augmented_df['Entry_snowfall_sum'][255:].to_numpy() - snowfall_original\n",
    "\n",
    "print(delta_days)\n",
    "\n",
    "np.savetxt('delta_days.csv', delta_days, delimiter=',')\n",
    "np.savetxt('delta_rain.csv', delta_rain, delimiter=',')\n",
    "np.savetxt('delta_wind_gusts.csv', delta_wind_gusts, delimiter=',')\n",
    "np.savetxt('delta_snowfall.csv', delta_snowfall, delimiter=',')\n",
    "\n",
    "\n"
   ]
  },
  {
   "cell_type": "code",
   "execution_count": 128,
   "id": "8040414a-f301-4be7-b3c6-1d30f69fa0bd",
   "metadata": {},
   "outputs": [
    {
     "data": {
      "application/vnd.plotly.v1+json": {
       "config": {
        "plotlyServerURL": "https://plot.ly"
       },
       "data": [
        {
         "line": {
          "color": "#48AF8A"
         },
         "mode": "lines",
         "name": "Days Difference",
         "type": "scatter",
         "y": [
          0.04638813931499186,
          0.056399887962524646,
          0.04204099999840771,
          0.014515964764266923,
          0.08721799592678159,
          0.050541979822456895,
          0.06770745169038106,
          0.05518691164576111,
          0.03052986524505208,
          0.1000573078662038,
          0.05877277679595405,
          0.010856871898846876,
          0.01997172272513148,
          0.029879803316305926,
          0.019050130760037476,
          0.047983003062370244,
          0.015891897282468648,
          0.10956662741549915,
          0.005830242576177369,
          0.009775154271926052,
          0.013445130510322922,
          0.08709470635281136,
          0.028108763017146376,
          0.023479448261517353,
          0.03399976148659256,
          0.004385701953277171,
          0.029858775013090533,
          0.015598249365185168,
          0.0398004661315845,
          0.04151302342293772,
          0.012049785625215899,
          0.06067424278223399,
          0.008631206241787481,
          0.019146990938139652,
          0.0808217334358119,
          0.06064111569996118,
          0.06112138346556151,
          0.0802550037589269,
          0.08070097794827036,
          0.04211574569563936,
          0.07330870029624759,
          0.03333235365835498,
          0.041411801238357526,
          0.02017574776237581,
          0.003285564958366738,
          0.06642025311746913,
          0.03255444276485875,
          0.062140891516544096,
          0.05904447152541614,
          0.6651541525509401,
          0.005783414702193568,
          0.06291394183145727,
          0.011445503613091376,
          0.022960137115680013,
          0.45286939158628,
          0.04266712286827201,
          0.0530419697845641,
          0.04092469074978888,
          0.05946764297566487,
          0.006481449614243573,
          0.07619731838970928,
          0.08221655575448894,
          0.016271905548073562,
          0.020458010999591325,
          0.06909266792004619,
          0.013165421086466012,
          0.002890537901819812,
          0.00494173742126236,
          0.0029391455645095214,
          0.007808248484344915,
          0.05653609956168622,
          0.0606317909420786,
          0.03051993225600036,
          0.05960555990221339,
          0.05532150854314552,
          0.05358739083083641,
          0.0044910905229842485,
          0.018250088279867516,
          0.035352121110555856,
          0.005955990102974873,
          0.030992312253797772,
          0.03395784918637812,
          0.007044099439539764,
          0.10184848684249914,
          0.04996496038953069,
          0.022898750319145136,
          0.012570898501351735,
          0.002922902496492956,
          0.11838287660623337,
          0.05384325151701397,
          0.056715271341515106,
          0.08441049320802302,
          0.04222853002858784,
          0.016775715987104242,
          0.0036869622869684093,
          0.06423700334267181,
          0.005166211820880617,
          0.09919766812569364,
          0.06912569791737896,
          0.1112877346149963,
          0.05275809078705507,
          0.0072490780590448445,
          0.016122421781296272,
          0.044915197981010735,
          0.0612480806475042,
          0.01599024231681261,
          0.0376092596474491,
          0.025494737235277398,
          0.09934276095367522,
          0.03514611730196293,
          0.006639642182870735,
          0.05592635838837445,
          0.07749500287346933,
          0.036401197623554316,
          0.020843906777129766,
          0.04902907325199379,
          0.03625676830990443,
          0.05881087396045359,
          0.09015690396449844,
          0.05224661207146308,
          0.042548914673174475,
          0.05943033676674081,
          0.043530730296248876,
          0.07038766409256603,
          0.018250620840612297,
          0.030839230016454167,
          0.10523153826452301,
          0.04285208425423326,
          0.005096788781957073,
          0.000443425229453176,
          0.008949483689223285,
          0.10518190243963144,
          0.011614067883835233,
          0.02161808122513439,
          0.051873317223599,
          0.08158853730021076,
          0.01583278650424247,
          0.09295600722828823,
          0.002299343812538268,
          0.006308667695187548,
          0.17618265334220595,
          0.020091965602801465,
          0.04673095074756928,
          0.038139816982635466,
          0.0014438388004158753,
          0.05634136724375849,
          0.07679497521458241,
          0.09187352500843371,
          0.10985951375068986,
          0.02433230097545014,
          0.006805525851220295,
          0.01496987388166815,
          0.009997044525771458,
          0.11704391072311937,
          0.013692824176695595,
          0.09717334733834093,
          0.062467728474970036,
          0.06350510899279094,
          0.007113478665005113,
          0.05716154730962586,
          0.0413371651251655,
          0.06072151844499141,
          0.08557461920322326,
          0.031563826516236126,
          0.08088818830735466,
          0.054465933548692114,
          0.025172146959828723,
          0.017457911514707845,
          0.046271259090117534,
          0.039396519986203415,
          0.09472803380165917,
          0.059066846808641306,
          0.02043011571312725,
          0.06512667656479444,
          0.04236104891932957,
          0.010127292570255096,
          0.005585898456593963,
          0.033386558198763794,
          0.010174336984688111,
          0.014347744004119534,
          0.002711541251890992,
          0.005941314518683738,
          0.010670516576159413,
          0.04238814008495684,
          0.07701691359968788,
          0.011810505020370794,
          0.08603905778054965,
          0.04444728859125746,
          0.05906183542586518,
          0.07940705188254388,
          0.038270062282606876,
          0.09170876461907351,
          0.013004228405387508,
          0.015674050808140893,
          0.02159342434685607,
          0.11386732328872817,
          0.01009163525834067,
          0.04253543347804561,
          0.021887761922833704,
          0.0190462765483832,
          0.008495551925939537,
          0.0003846219918131055,
          0.050519321990486865,
          0.007993261935688167,
          0.10690675392259302,
          0.04836578912366152,
          0.028300662166824253,
          0.05884251897101933,
          0.08481260226655019,
          0.08625714989429767,
          0.017237574831076415,
          0.09255933685009676,
          3.5047164841222767,
          0.003991661319061022,
          0.012883942555639294,
          0.002610314266570768,
          0.02551774888573366,
          0.03400076164759205,
          0.07401469168159736,
          0.005016605448460592,
          0.0037410090774008253,
          0.0018849514017773813,
          3.101537592585432,
          0.029070426646795156,
          0.022018219433398822,
          0.06781759580166424,
          0.04720180285360698,
          0.0168484869904435,
          0.024009712817163454,
          0.018565758836954327,
          0.009557429100229164,
          0.044773615328824526,
          0.09391068410814718,
          0.024279215800149245,
          0.011950074861535298,
          0.003794717792612534,
          0.01264570144263466,
          0.024811323470127933,
          0.004105135245215786,
          0.08610095544481755,
          0.008073718851265142,
          0.007911179410799813,
          0.059115363453583925,
          0.01772662868023128,
          0.05904119393803353,
          0.011527627788677108,
          0.07740579845918649,
          0.008500217061131042,
          0.5976069216817148,
          0.0034674363535586354,
          0.024045310933082042,
          0.09620403554438361,
          0.0180511599978721,
          0.00709416580113327,
          0.037178667422868905
         ]
        }
       ],
       "layout": {
        "height": 400,
        "template": {
         "data": {
          "bar": [
           {
            "error_x": {
             "color": "#2a3f5f"
            },
            "error_y": {
             "color": "#2a3f5f"
            },
            "marker": {
             "line": {
              "color": "#E5ECF6",
              "width": 0.5
             },
             "pattern": {
              "fillmode": "overlay",
              "size": 10,
              "solidity": 0.2
             }
            },
            "type": "bar"
           }
          ],
          "barpolar": [
           {
            "marker": {
             "line": {
              "color": "#E5ECF6",
              "width": 0.5
             },
             "pattern": {
              "fillmode": "overlay",
              "size": 10,
              "solidity": 0.2
             }
            },
            "type": "barpolar"
           }
          ],
          "carpet": [
           {
            "aaxis": {
             "endlinecolor": "#2a3f5f",
             "gridcolor": "white",
             "linecolor": "white",
             "minorgridcolor": "white",
             "startlinecolor": "#2a3f5f"
            },
            "baxis": {
             "endlinecolor": "#2a3f5f",
             "gridcolor": "white",
             "linecolor": "white",
             "minorgridcolor": "white",
             "startlinecolor": "#2a3f5f"
            },
            "type": "carpet"
           }
          ],
          "choropleth": [
           {
            "colorbar": {
             "outlinewidth": 0,
             "ticks": ""
            },
            "type": "choropleth"
           }
          ],
          "contour": [
           {
            "colorbar": {
             "outlinewidth": 0,
             "ticks": ""
            },
            "colorscale": [
             [
              0,
              "#0d0887"
             ],
             [
              0.1111111111111111,
              "#46039f"
             ],
             [
              0.2222222222222222,
              "#7201a8"
             ],
             [
              0.3333333333333333,
              "#9c179e"
             ],
             [
              0.4444444444444444,
              "#bd3786"
             ],
             [
              0.5555555555555556,
              "#d8576b"
             ],
             [
              0.6666666666666666,
              "#ed7953"
             ],
             [
              0.7777777777777778,
              "#fb9f3a"
             ],
             [
              0.8888888888888888,
              "#fdca26"
             ],
             [
              1,
              "#f0f921"
             ]
            ],
            "type": "contour"
           }
          ],
          "contourcarpet": [
           {
            "colorbar": {
             "outlinewidth": 0,
             "ticks": ""
            },
            "type": "contourcarpet"
           }
          ],
          "heatmap": [
           {
            "colorbar": {
             "outlinewidth": 0,
             "ticks": ""
            },
            "colorscale": [
             [
              0,
              "#0d0887"
             ],
             [
              0.1111111111111111,
              "#46039f"
             ],
             [
              0.2222222222222222,
              "#7201a8"
             ],
             [
              0.3333333333333333,
              "#9c179e"
             ],
             [
              0.4444444444444444,
              "#bd3786"
             ],
             [
              0.5555555555555556,
              "#d8576b"
             ],
             [
              0.6666666666666666,
              "#ed7953"
             ],
             [
              0.7777777777777778,
              "#fb9f3a"
             ],
             [
              0.8888888888888888,
              "#fdca26"
             ],
             [
              1,
              "#f0f921"
             ]
            ],
            "type": "heatmap"
           }
          ],
          "heatmapgl": [
           {
            "colorbar": {
             "outlinewidth": 0,
             "ticks": ""
            },
            "colorscale": [
             [
              0,
              "#0d0887"
             ],
             [
              0.1111111111111111,
              "#46039f"
             ],
             [
              0.2222222222222222,
              "#7201a8"
             ],
             [
              0.3333333333333333,
              "#9c179e"
             ],
             [
              0.4444444444444444,
              "#bd3786"
             ],
             [
              0.5555555555555556,
              "#d8576b"
             ],
             [
              0.6666666666666666,
              "#ed7953"
             ],
             [
              0.7777777777777778,
              "#fb9f3a"
             ],
             [
              0.8888888888888888,
              "#fdca26"
             ],
             [
              1,
              "#f0f921"
             ]
            ],
            "type": "heatmapgl"
           }
          ],
          "histogram": [
           {
            "marker": {
             "pattern": {
              "fillmode": "overlay",
              "size": 10,
              "solidity": 0.2
             }
            },
            "type": "histogram"
           }
          ],
          "histogram2d": [
           {
            "colorbar": {
             "outlinewidth": 0,
             "ticks": ""
            },
            "colorscale": [
             [
              0,
              "#0d0887"
             ],
             [
              0.1111111111111111,
              "#46039f"
             ],
             [
              0.2222222222222222,
              "#7201a8"
             ],
             [
              0.3333333333333333,
              "#9c179e"
             ],
             [
              0.4444444444444444,
              "#bd3786"
             ],
             [
              0.5555555555555556,
              "#d8576b"
             ],
             [
              0.6666666666666666,
              "#ed7953"
             ],
             [
              0.7777777777777778,
              "#fb9f3a"
             ],
             [
              0.8888888888888888,
              "#fdca26"
             ],
             [
              1,
              "#f0f921"
             ]
            ],
            "type": "histogram2d"
           }
          ],
          "histogram2dcontour": [
           {
            "colorbar": {
             "outlinewidth": 0,
             "ticks": ""
            },
            "colorscale": [
             [
              0,
              "#0d0887"
             ],
             [
              0.1111111111111111,
              "#46039f"
             ],
             [
              0.2222222222222222,
              "#7201a8"
             ],
             [
              0.3333333333333333,
              "#9c179e"
             ],
             [
              0.4444444444444444,
              "#bd3786"
             ],
             [
              0.5555555555555556,
              "#d8576b"
             ],
             [
              0.6666666666666666,
              "#ed7953"
             ],
             [
              0.7777777777777778,
              "#fb9f3a"
             ],
             [
              0.8888888888888888,
              "#fdca26"
             ],
             [
              1,
              "#f0f921"
             ]
            ],
            "type": "histogram2dcontour"
           }
          ],
          "mesh3d": [
           {
            "colorbar": {
             "outlinewidth": 0,
             "ticks": ""
            },
            "type": "mesh3d"
           }
          ],
          "parcoords": [
           {
            "line": {
             "colorbar": {
              "outlinewidth": 0,
              "ticks": ""
             }
            },
            "type": "parcoords"
           }
          ],
          "pie": [
           {
            "automargin": true,
            "type": "pie"
           }
          ],
          "scatter": [
           {
            "fillpattern": {
             "fillmode": "overlay",
             "size": 10,
             "solidity": 0.2
            },
            "type": "scatter"
           }
          ],
          "scatter3d": [
           {
            "line": {
             "colorbar": {
              "outlinewidth": 0,
              "ticks": ""
             }
            },
            "marker": {
             "colorbar": {
              "outlinewidth": 0,
              "ticks": ""
             }
            },
            "type": "scatter3d"
           }
          ],
          "scattercarpet": [
           {
            "marker": {
             "colorbar": {
              "outlinewidth": 0,
              "ticks": ""
             }
            },
            "type": "scattercarpet"
           }
          ],
          "scattergeo": [
           {
            "marker": {
             "colorbar": {
              "outlinewidth": 0,
              "ticks": ""
             }
            },
            "type": "scattergeo"
           }
          ],
          "scattergl": [
           {
            "marker": {
             "colorbar": {
              "outlinewidth": 0,
              "ticks": ""
             }
            },
            "type": "scattergl"
           }
          ],
          "scattermapbox": [
           {
            "marker": {
             "colorbar": {
              "outlinewidth": 0,
              "ticks": ""
             }
            },
            "type": "scattermapbox"
           }
          ],
          "scatterpolar": [
           {
            "marker": {
             "colorbar": {
              "outlinewidth": 0,
              "ticks": ""
             }
            },
            "type": "scatterpolar"
           }
          ],
          "scatterpolargl": [
           {
            "marker": {
             "colorbar": {
              "outlinewidth": 0,
              "ticks": ""
             }
            },
            "type": "scatterpolargl"
           }
          ],
          "scatterternary": [
           {
            "marker": {
             "colorbar": {
              "outlinewidth": 0,
              "ticks": ""
             }
            },
            "type": "scatterternary"
           }
          ],
          "surface": [
           {
            "colorbar": {
             "outlinewidth": 0,
             "ticks": ""
            },
            "colorscale": [
             [
              0,
              "#0d0887"
             ],
             [
              0.1111111111111111,
              "#46039f"
             ],
             [
              0.2222222222222222,
              "#7201a8"
             ],
             [
              0.3333333333333333,
              "#9c179e"
             ],
             [
              0.4444444444444444,
              "#bd3786"
             ],
             [
              0.5555555555555556,
              "#d8576b"
             ],
             [
              0.6666666666666666,
              "#ed7953"
             ],
             [
              0.7777777777777778,
              "#fb9f3a"
             ],
             [
              0.8888888888888888,
              "#fdca26"
             ],
             [
              1,
              "#f0f921"
             ]
            ],
            "type": "surface"
           }
          ],
          "table": [
           {
            "cells": {
             "fill": {
              "color": "#EBF0F8"
             },
             "line": {
              "color": "white"
             }
            },
            "header": {
             "fill": {
              "color": "#C8D4E3"
             },
             "line": {
              "color": "white"
             }
            },
            "type": "table"
           }
          ]
         },
         "layout": {
          "annotationdefaults": {
           "arrowcolor": "#2a3f5f",
           "arrowhead": 0,
           "arrowwidth": 1
          },
          "autotypenumbers": "strict",
          "coloraxis": {
           "colorbar": {
            "outlinewidth": 0,
            "ticks": ""
           }
          },
          "colorscale": {
           "diverging": [
            [
             0,
             "#8e0152"
            ],
            [
             0.1,
             "#c51b7d"
            ],
            [
             0.2,
             "#de77ae"
            ],
            [
             0.3,
             "#f1b6da"
            ],
            [
             0.4,
             "#fde0ef"
            ],
            [
             0.5,
             "#f7f7f7"
            ],
            [
             0.6,
             "#e6f5d0"
            ],
            [
             0.7,
             "#b8e186"
            ],
            [
             0.8,
             "#7fbc41"
            ],
            [
             0.9,
             "#4d9221"
            ],
            [
             1,
             "#276419"
            ]
           ],
           "sequential": [
            [
             0,
             "#0d0887"
            ],
            [
             0.1111111111111111,
             "#46039f"
            ],
            [
             0.2222222222222222,
             "#7201a8"
            ],
            [
             0.3333333333333333,
             "#9c179e"
            ],
            [
             0.4444444444444444,
             "#bd3786"
            ],
            [
             0.5555555555555556,
             "#d8576b"
            ],
            [
             0.6666666666666666,
             "#ed7953"
            ],
            [
             0.7777777777777778,
             "#fb9f3a"
            ],
            [
             0.8888888888888888,
             "#fdca26"
            ],
            [
             1,
             "#f0f921"
            ]
           ],
           "sequentialminus": [
            [
             0,
             "#0d0887"
            ],
            [
             0.1111111111111111,
             "#46039f"
            ],
            [
             0.2222222222222222,
             "#7201a8"
            ],
            [
             0.3333333333333333,
             "#9c179e"
            ],
            [
             0.4444444444444444,
             "#bd3786"
            ],
            [
             0.5555555555555556,
             "#d8576b"
            ],
            [
             0.6666666666666666,
             "#ed7953"
            ],
            [
             0.7777777777777778,
             "#fb9f3a"
            ],
            [
             0.8888888888888888,
             "#fdca26"
            ],
            [
             1,
             "#f0f921"
            ]
           ]
          },
          "colorway": [
           "#636efa",
           "#EF553B",
           "#00cc96",
           "#ab63fa",
           "#FFA15A",
           "#19d3f3",
           "#FF6692",
           "#B6E880",
           "#FF97FF",
           "#FECB52"
          ],
          "font": {
           "color": "#2a3f5f"
          },
          "geo": {
           "bgcolor": "white",
           "lakecolor": "white",
           "landcolor": "#E5ECF6",
           "showlakes": true,
           "showland": true,
           "subunitcolor": "white"
          },
          "hoverlabel": {
           "align": "left"
          },
          "hovermode": "closest",
          "mapbox": {
           "style": "light"
          },
          "paper_bgcolor": "white",
          "plot_bgcolor": "#E5ECF6",
          "polar": {
           "angularaxis": {
            "gridcolor": "white",
            "linecolor": "white",
            "ticks": ""
           },
           "bgcolor": "#E5ECF6",
           "radialaxis": {
            "gridcolor": "white",
            "linecolor": "white",
            "ticks": ""
           }
          },
          "scene": {
           "xaxis": {
            "backgroundcolor": "#E5ECF6",
            "gridcolor": "white",
            "gridwidth": 2,
            "linecolor": "white",
            "showbackground": true,
            "ticks": "",
            "zerolinecolor": "white"
           },
           "yaxis": {
            "backgroundcolor": "#E5ECF6",
            "gridcolor": "white",
            "gridwidth": 2,
            "linecolor": "white",
            "showbackground": true,
            "ticks": "",
            "zerolinecolor": "white"
           },
           "zaxis": {
            "backgroundcolor": "#E5ECF6",
            "gridcolor": "white",
            "gridwidth": 2,
            "linecolor": "white",
            "showbackground": true,
            "ticks": "",
            "zerolinecolor": "white"
           }
          },
          "shapedefaults": {
           "line": {
            "color": "#2a3f5f"
           }
          },
          "ternary": {
           "aaxis": {
            "gridcolor": "white",
            "linecolor": "white",
            "ticks": ""
           },
           "baxis": {
            "gridcolor": "white",
            "linecolor": "white",
            "ticks": ""
           },
           "bgcolor": "#E5ECF6",
           "caxis": {
            "gridcolor": "white",
            "linecolor": "white",
            "ticks": ""
           }
          },
          "title": {
           "x": 0.05
          },
          "xaxis": {
           "automargin": true,
           "gridcolor": "white",
           "linecolor": "white",
           "ticks": "",
           "title": {
            "standoff": 15
           },
           "zerolinecolor": "white",
           "zerolinewidth": 2
          },
          "yaxis": {
           "automargin": true,
           "gridcolor": "white",
           "linecolor": "white",
           "ticks": "",
           "title": {
            "standoff": 15
           },
           "zerolinecolor": "white",
           "zerolinewidth": 2
          }
         }
        },
        "title": {
         "text": "Days Difference"
        },
        "width": 800,
        "xaxis": {
         "autorange": true,
         "range": [
          0,
          254
         ],
         "title": {
          "text": "Index"
         }
        },
        "yaxis": {
         "autorange": true,
         "range": [
          -0.19430048145987933,
          3.699401587573969
         ],
         "title": {
          "text": "Difference"
         },
         "type": "linear"
        }
       }
      },
      "image/png": "[encoded data removed]",
      "text/html": [
       "<div>                            <div id=\"16f1f9af-a765-4b74-9ecf-5df1248465b6\" class=\"plotly-graph-div\" style=\"height:400px; width:800px;\"></div>            <script type=\"text/javascript\">                require([\"plotly\"], function(Plotly) {                    window.PLOTLYENV=window.PLOTLYENV || {};                                    if (document.getElementById(\"16f1f9af-a765-4b74-9ecf-5df1248465b6\")) {                    Plotly.newPlot(                        \"16f1f9af-a765-4b74-9ecf-5df1248465b6\",                        [{\"line\":{\"color\":\"#48AF8A\"},\"mode\":\"lines\",\"name\":\"Days Difference\",\"y\":[0.04638813931499186,0.056399887962524646,0.04204099999840771,0.014515964764266923,0.08721799592678159,0.050541979822456895,0.06770745169038106,0.05518691164576111,0.03052986524505208,0.1000573078662038,0.05877277679595405,0.010856871898846876,0.01997172272513148,0.029879803316305926,0.019050130760037476,0.047983003062370244,0.015891897282468648,0.10956662741549915,0.005830242576177369,0.009775154271926052,0.013445130510322922,0.08709470635281136,0.028108763017146376,0.023479448261517353,0.03399976148659256,0.004385701953277171,0.029858775013090533,0.015598249365185168,0.0398004661315845,0.04151302342293772,0.012049785625215899,0.06067424278223399,0.008631206241787481,0.019146990938139652,0.0808217334358119,0.06064111569996118,0.06112138346556151,0.0802550037589269,0.08070097794827036,0.04211574569563936,0.07330870029624759,0.03333235365835498,0.041411801238357526,0.02017574776237581,0.003285564958366738,0.06642025311746913,0.03255444276485875,0.062140891516544096,0.05904447152541614,0.6651541525509401,0.005783414702193568,0.06291394183145727,0.011445503613091376,0.022960137115680013,0.45286939158628,0.04266712286827201,0.0530419697845641,0.04092469074978888,0.05946764297566487,0.006481449614243573,0.07619731838970928,0.08221655575448894,0.016271905548073562,0.020458010999591325,0.06909266792004619,0.013165421086466012,0.002890537901819812,0.00494173742126236,0.0029391455645095214,0.007808248484344915,0.05653609956168622,0.0606317909420786,0.03051993225600036,0.05960555990221339,0.05532150854314552,0.05358739083083641,0.0044910905229842485,0.018250088279867516,0.035352121110555856,0.005955990102974873,0.030992312253797772,0.03395784918637812,0.007044099439539764,0.10184848684249914,0.04996496038953069,0.022898750319145136,0.012570898501351735,0.002922902496492956,0.11838287660623337,0.05384325151701397,0.056715271341515106,0.08441049320802302,0.04222853002858784,0.016775715987104242,0.0036869622869684093,0.06423700334267181,0.005166211820880617,0.09919766812569364,0.06912569791737896,0.1112877346149963,0.05275809078705507,0.0072490780590448445,0.016122421781296272,0.044915197981010735,0.0612480806475042,0.01599024231681261,0.0376092596474491,0.025494737235277398,0.09934276095367522,0.03514611730196293,0.006639642182870735,0.05592635838837445,0.07749500287346933,0.036401197623554316,0.020843906777129766,0.04902907325199379,0.03625676830990443,0.05881087396045359,0.09015690396449844,0.05224661207146308,0.042548914673174475,0.05943033676674081,0.043530730296248876,0.07038766409256603,0.018250620840612297,0.030839230016454167,0.10523153826452301,0.04285208425423326,0.005096788781957073,0.000443425229453176,0.008949483689223285,0.10518190243963144,0.011614067883835233,0.02161808122513439,0.051873317223599,0.08158853730021076,0.01583278650424247,0.09295600722828823,0.002299343812538268,0.006308667695187548,0.17618265334220595,0.020091965602801465,0.04673095074756928,0.038139816982635466,0.0014438388004158753,0.05634136724375849,0.07679497521458241,0.09187352500843371,0.10985951375068986,0.02433230097545014,0.006805525851220295,0.01496987388166815,0.009997044525771458,0.11704391072311937,0.013692824176695595,0.09717334733834093,0.062467728474970036,0.06350510899279094,0.007113478665005113,0.05716154730962586,0.0413371651251655,0.06072151844499141,0.08557461920322326,0.031563826516236126,0.08088818830735466,0.054465933548692114,0.025172146959828723,0.017457911514707845,0.046271259090117534,0.039396519986203415,0.09472803380165917,0.059066846808641306,0.02043011571312725,0.06512667656479444,0.04236104891932957,0.010127292570255096,0.005585898456593963,0.033386558198763794,0.010174336984688111,0.014347744004119534,0.002711541251890992,0.005941314518683738,0.010670516576159413,0.04238814008495684,0.07701691359968788,0.011810505020370794,0.08603905778054965,0.04444728859125746,0.05906183542586518,0.07940705188254388,0.038270062282606876,0.09170876461907351,0.013004228405387508,0.015674050808140893,0.02159342434685607,0.11386732328872817,0.01009163525834067,0.04253543347804561,0.021887761922833704,0.0190462765483832,0.008495551925939537,0.0003846219918131055,0.050519321990486865,0.007993261935688167,0.10690675392259302,0.04836578912366152,0.028300662166824253,0.05884251897101933,0.08481260226655019,0.08625714989429767,0.017237574831076415,0.09255933685009676,3.5047164841222767,0.003991661319061022,0.012883942555639294,0.002610314266570768,0.02551774888573366,0.03400076164759205,0.07401469168159736,0.005016605448460592,0.0037410090774008253,0.0018849514017773813,3.101537592585432,0.029070426646795156,0.022018219433398822,0.06781759580166424,0.04720180285360698,0.0168484869904435,0.024009712817163454,0.018565758836954327,0.009557429100229164,0.044773615328824526,0.09391068410814718,0.024279215800149245,0.011950074861535298,0.003794717792612534,0.01264570144263466,0.024811323470127933,0.004105135245215786,0.08610095544481755,0.008073718851265142,0.007911179410799813,0.059115363453583925,0.01772662868023128,0.05904119393803353,0.011527627788677108,0.07740579845918649,0.008500217061131042,0.5976069216817148,0.0034674363535586354,0.024045310933082042,0.09620403554438361,0.0180511599978721,0.00709416580113327,0.037178667422868905],\"type\":\"scatter\"}],                        {\"template\":{\"data\":{\"histogram2dcontour\":[{\"type\":\"histogram2dcontour\",\"colorbar\":{\"outlinewidth\":0,\"ticks\":\"\"},\"colorscale\":[[0.0,\"#0d0887\"],[0.1111111111111111,\"#46039f\"],[0.2222222222222222,\"#7201a8\"],[0.3333333333333333,\"#9c179e\"],[0.4444444444444444,\"#bd3786\"],[0.5555555555555556,\"#d8576b\"],[0.6666666666666666,\"#ed7953\"],[0.7777777777777778,\"#fb9f3a\"],[0.8888888888888888,\"#fdca26\"],[1.0,\"#f0f921\"]]}],\"choropleth\":[{\"type\":\"choropleth\",\"colorbar\":{\"outlinewidth\":0,\"ticks\":\"\"}}],\"histogram2d\":[{\"type\":\"histogram2d\",\"colorbar\":{\"outlinewidth\":0,\"ticks\":\"\"},\"colorscale\":[[0.0,\"#0d0887\"],[0.1111111111111111,\"#46039f\"],[0.2222222222222222,\"#7201a8\"],[0.3333333333333333,\"#9c179e\"],[0.4444444444444444,\"#bd3786\"],[0.5555555555555556,\"#d8576b\"],[0.6666666666666666,\"#ed7953\"],[0.7777777777777778,\"#fb9f3a\"],[0.8888888888888888,\"#fdca26\"],[1.0,\"#f0f921\"]]}],\"heatmap\":[{\"type\":\"heatmap\",\"colorbar\":{\"outlinewidth\":0,\"ticks\":\"\"},\"colorscale\":[[0.0,\"#0d0887\"],[0.1111111111111111,\"#46039f\"],[0.2222222222222222,\"#7201a8\"],[0.3333333333333333,\"#9c179e\"],[0.4444444444444444,\"#bd3786\"],[0.5555555555555556,\"#d8576b\"],[0.6666666666666666,\"#ed7953\"],[0.7777777777777778,\"#fb9f3a\"],[0.8888888888888888,\"#fdca26\"],[1.0,\"#f0f921\"]]}],\"heatmapgl\":[{\"type\":\"heatmapgl\",\"colorbar\":{\"outlinewidth\":0,\"ticks\":\"\"},\"colorscale\":[[0.0,\"#0d0887\"],[0.1111111111111111,\"#46039f\"],[0.2222222222222222,\"#7201a8\"],[0.3333333333333333,\"#9c179e\"],[0.4444444444444444,\"#bd3786\"],[0.5555555555555556,\"#d8576b\"],[0.6666666666666666,\"#ed7953\"],[0.7777777777777778,\"#fb9f3a\"],[0.8888888888888888,\"#fdca26\"],[1.0,\"#f0f921\"]]}],\"contourcarpet\":[{\"type\":\"contourcarpet\",\"colorbar\":{\"outlinewidth\":0,\"ticks\":\"\"}}],\"contour\":[{\"type\":\"contour\",\"colorbar\":{\"outlinewidth\":0,\"ticks\":\"\"},\"colorscale\":[[0.0,\"#0d0887\"],[0.1111111111111111,\"#46039f\"],[0.2222222222222222,\"#7201a8\"],[0.3333333333333333,\"#9c179e\"],[0.4444444444444444,\"#bd3786\"],[0.5555555555555556,\"#d8576b\"],[0.6666666666666666,\"#ed7953\"],[0.7777777777777778,\"#fb9f3a\"],[0.8888888888888888,\"#fdca26\"],[1.0,\"#f0f921\"]]}],\"surface\":[{\"type\":\"surface\",\"colorbar\":{\"outlinewidth\":0,\"ticks\":\"\"},\"colorscale\":[[0.0,\"#0d0887\"],[0.1111111111111111,\"#46039f\"],[0.2222222222222222,\"#7201a8\"],[0.3333333333333333,\"#9c179e\"],[0.4444444444444444,\"#bd3786\"],[0.5555555555555556,\"#d8576b\"],[0.6666666666666666,\"#ed7953\"],[0.7777777777777778,\"#fb9f3a\"],[0.8888888888888888,\"#fdca26\"],[1.0,\"#f0f921\"]]}],\"mesh3d\":[{\"type\":\"mesh3d\",\"colorbar\":{\"outlinewidth\":0,\"ticks\":\"\"}}],\"scatter\":[{\"fillpattern\":{\"fillmode\":\"overlay\",\"size\":10,\"solidity\":0.2},\"type\":\"scatter\"}],\"parcoords\":[{\"type\":\"parcoords\",\"line\":{\"colorbar\":{\"outlinewidth\":0,\"ticks\":\"\"}}}],\"scatterpolargl\":[{\"type\":\"scatterpolargl\",\"marker\":{\"colorbar\":{\"outlinewidth\":0,\"ticks\":\"\"}}}],\"bar\":[{\"error_x\":{\"color\":\"#2a3f5f\"},\"error_y\":{\"color\":\"#2a3f5f\"},\"marker\":{\"line\":{\"color\":\"#E5ECF6\",\"width\":0.5},\"pattern\":{\"fillmode\":\"overlay\",\"size\":10,\"solidity\":0.2}},\"type\":\"bar\"}],\"scattergeo\":[{\"type\":\"scattergeo\",\"marker\":{\"colorbar\":{\"outlinewidth\":0,\"ticks\":\"\"}}}],\"scatterpolar\":[{\"type\":\"scatterpolar\",\"marker\":{\"colorbar\":{\"outlinewidth\":0,\"ticks\":\"\"}}}],\"histogram\":[{\"marker\":{\"pattern\":{\"fillmode\":\"overlay\",\"size\":10,\"solidity\":0.2}},\"type\":\"histogram\"}],\"scattergl\":[{\"type\":\"scattergl\",\"marker\":{\"colorbar\":{\"outlinewidth\":0,\"ticks\":\"\"}}}],\"scatter3d\":[{\"type\":\"scatter3d\",\"line\":{\"colorbar\":{\"outlinewidth\":0,\"ticks\":\"\"}},\"marker\":{\"colorbar\":{\"outlinewidth\":0,\"ticks\":\"\"}}}],\"scattermapbox\":[{\"type\":\"scattermapbox\",\"marker\":{\"colorbar\":{\"outlinewidth\":0,\"ticks\":\"\"}}}],\"scatterternary\":[{\"type\":\"scatterternary\",\"marker\":{\"colorbar\":{\"outlinewidth\":0,\"ticks\":\"\"}}}],\"scattercarpet\":[{\"type\":\"scattercarpet\",\"marker\":{\"colorbar\":{\"outlinewidth\":0,\"ticks\":\"\"}}}],\"carpet\":[{\"aaxis\":{\"endlinecolor\":\"#2a3f5f\",\"gridcolor\":\"white\",\"linecolor\":\"white\",\"minorgridcolor\":\"white\",\"startlinecolor\":\"#2a3f5f\"},\"baxis\":{\"endlinecolor\":\"#2a3f5f\",\"gridcolor\":\"white\",\"linecolor\":\"white\",\"minorgridcolor\":\"white\",\"startlinecolor\":\"#2a3f5f\"},\"type\":\"carpet\"}],\"table\":[{\"cells\":{\"fill\":{\"color\":\"#EBF0F8\"},\"line\":{\"color\":\"white\"}},\"header\":{\"fill\":{\"color\":\"#C8D4E3\"},\"line\":{\"color\":\"white\"}},\"type\":\"table\"}],\"barpolar\":[{\"marker\":{\"line\":{\"color\":\"#E5ECF6\",\"width\":0.5},\"pattern\":{\"fillmode\":\"overlay\",\"size\":10,\"solidity\":0.2}},\"type\":\"barpolar\"}],\"pie\":[{\"automargin\":true,\"type\":\"pie\"}]},\"layout\":{\"autotypenumbers\":\"strict\",\"colorway\":[\"#636efa\",\"#EF553B\",\"#00cc96\",\"#ab63fa\",\"#FFA15A\",\"#19d3f3\",\"#FF6692\",\"#B6E880\",\"#FF97FF\",\"#FECB52\"],\"font\":{\"color\":\"#2a3f5f\"},\"hovermode\":\"closest\",\"hoverlabel\":{\"align\":\"left\"},\"paper_bgcolor\":\"white\",\"plot_bgcolor\":\"#E5ECF6\",\"polar\":{\"bgcolor\":\"#E5ECF6\",\"angularaxis\":{\"gridcolor\":\"white\",\"linecolor\":\"white\",\"ticks\":\"\"},\"radialaxis\":{\"gridcolor\":\"white\",\"linecolor\":\"white\",\"ticks\":\"\"}},\"ternary\":{\"bgcolor\":\"#E5ECF6\",\"aaxis\":{\"gridcolor\":\"white\",\"linecolor\":\"white\",\"ticks\":\"\"},\"baxis\":{\"gridcolor\":\"white\",\"linecolor\":\"white\",\"ticks\":\"\"},\"caxis\":{\"gridcolor\":\"white\",\"linecolor\":\"white\",\"ticks\":\"\"}},\"coloraxis\":{\"colorbar\":{\"outlinewidth\":0,\"ticks\":\"\"}},\"colorscale\":{\"sequential\":[[0.0,\"#0d0887\"],[0.1111111111111111,\"#46039f\"],[0.2222222222222222,\"#7201a8\"],[0.3333333333333333,\"#9c179e\"],[0.4444444444444444,\"#bd3786\"],[0.5555555555555556,\"#d8576b\"],[0.6666666666666666,\"#ed7953\"],[0.7777777777777778,\"#fb9f3a\"],[0.8888888888888888,\"#fdca26\"],[1.0,\"#f0f921\"]],\"sequentialminus\":[[0.0,\"#0d0887\"],[0.1111111111111111,\"#46039f\"],[0.2222222222222222,\"#7201a8\"],[0.3333333333333333,\"#9c179e\"],[0.4444444444444444,\"#bd3786\"],[0.5555555555555556,\"#d8576b\"],[0.6666666666666666,\"#ed7953\"],[0.7777777777777778,\"#fb9f3a\"],[0.8888888888888888,\"#fdca26\"],[1.0,\"#f0f921\"]],\"diverging\":[[0,\"#8e0152\"],[0.1,\"#c51b7d\"],[0.2,\"#de77ae\"],[0.3,\"#f1b6da\"],[0.4,\"#fde0ef\"],[0.5,\"#f7f7f7\"],[0.6,\"#e6f5d0\"],[0.7,\"#b8e186\"],[0.8,\"#7fbc41\"],[0.9,\"#4d9221\"],[1,\"#276419\"]]},\"xaxis\":{\"gridcolor\":\"white\",\"linecolor\":\"white\",\"ticks\":\"\",\"title\":{\"standoff\":15},\"zerolinecolor\":\"white\",\"automargin\":true,\"zerolinewidth\":2},\"yaxis\":{\"gridcolor\":\"white\",\"linecolor\":\"white\",\"ticks\":\"\",\"title\":{\"standoff\":15},\"zerolinecolor\":\"white\",\"automargin\":true,\"zerolinewidth\":2},\"scene\":{\"xaxis\":{\"backgroundcolor\":\"#E5ECF6\",\"gridcolor\":\"white\",\"linecolor\":\"white\",\"showbackground\":true,\"ticks\":\"\",\"zerolinecolor\":\"white\",\"gridwidth\":2},\"yaxis\":{\"backgroundcolor\":\"#E5ECF6\",\"gridcolor\":\"white\",\"linecolor\":\"white\",\"showbackground\":true,\"ticks\":\"\",\"zerolinecolor\":\"white\",\"gridwidth\":2},\"zaxis\":{\"backgroundcolor\":\"#E5ECF6\",\"gridcolor\":\"white\",\"linecolor\":\"white\",\"showbackground\":true,\"ticks\":\"\",\"zerolinecolor\":\"white\",\"gridwidth\":2}},\"shapedefaults\":{\"line\":{\"color\":\"#2a3f5f\"}},\"annotationdefaults\":{\"arrowcolor\":\"#2a3f5f\",\"arrowhead\":0,\"arrowwidth\":1},\"geo\":{\"bgcolor\":\"white\",\"landcolor\":\"#E5ECF6\",\"subunitcolor\":\"white\",\"showland\":true,\"showlakes\":true,\"lakecolor\":\"white\"},\"title\":{\"x\":0.05},\"mapbox\":{\"style\":\"light\"}}},\"title\":{\"text\":\"Days Difference\"},\"xaxis\":{\"title\":{\"text\":\"Index\"}},\"yaxis\":{\"title\":{\"text\":\"Difference\"}},\"width\":800,\"height\":400},                        {\"responsive\": true}                    ).then(function(){\n",
       "                            \n",
       "var gd = document.getElementById('16f1f9af-a765-4b74-9ecf-5df1248465b6');\n",
       "var x = new MutationObserver(function (mutations, observer) {{\n",
       "        var display = window.getComputedStyle(gd).display;\n",
       "        if (!display || display === 'none') {{\n",
       "            console.log([gd, 'removed!']);\n",
       "            Plotly.purge(gd);\n",
       "            observer.disconnect();\n",
       "        }}\n",
       "}});\n",
       "\n",
       "// Listen for the removal of the full notebook cells\n",
       "var notebookContainer = gd.closest('#notebook-container');\n",
       "if (notebookContainer) {{\n",
       "    x.observe(notebookContainer, {childList: true});\n",
       "}}\n",
       "\n",
       "// Listen for the clearing of the current output cell\n",
       "var outputEl = gd.closest('.output');\n",
       "if (outputEl) {{\n",
       "    x.observe(outputEl, {childList: true});\n",
       "}}\n",
       "\n",
       "                        })                };                });            </script>        </div>"
      ]
     },
     "metadata": {},
     "output_type": "display_data"
    },
    {
     "data": {
      "application/vnd.plotly.v1+json": {
       "config": {
        "plotlyServerURL": "https://plot.ly"
       },
       "data": [
        {
         "line": {
          "color": "#519EE5"
         },
         "mode": "lines",
         "name": "Rain Sum Difference",
         "type": "scatter",
         "y": [
          0.08459185478405118,
          0,
          0,
          0.49744065584997,
          0.1659585386628457,
          0.0926091835377072,
          0,
          0.4069173207257184,
          0.07577058548682025,
          0.07450212961034697,
          0.019036584070113993,
          1.8335131863906664,
          2.403383080760374,
          0.11251037295215838,
          0.0716838528260042,
          0,
          0.00608442920618138,
          0.08922334996879222,
          0.07778557777060291,
          0,
          0,
          0,
          8.433830011051022,
          0,
          0,
          0.061896506210861624,
          0.18038500252005685,
          0,
          0.09444615071671913,
          0.005480963380695425,
          -6.038844518716642,
          0,
          0.007304939028135421,
          0.026127045862637643,
          0.012012340627207421,
          0.09281678533349935,
          0.053902398125157736,
          0.018387078334560686,
          0.03758422778708198,
          0,
          0,
          0.010130331487281152,
          0.05344802200421439,
          0.006362225692450929,
          0.012310882104701076,
          0,
          3.5100848851127764,
          -5.874922848769728,
          0,
          0,
          0,
          0.023021896533098385,
          0.5147776994858262,
          0.4626332512004918,
          0,
          0,
          0,
          0,
          0,
          0,
          0.010458360249783416,
          0.0447219334761364,
          0.528048295175557,
          0.06062983953018142,
          14.716222789303483,
          0,
          0.016045173308054217,
          0.7442649920809652,
          2.237962039466911,
          3.48481511488313,
          0.7418571163975187,
          1.4500530248506358,
          0,
          0.6158495513423574,
          0.058340737058383496,
          1.6413700744473587,
          0,
          0,
          0,
          0,
          0.1779472203439848,
          0.09649555296844414,
          0.03483418203035982,
          0.004615368749945614,
          0.005575611991838869,
          0.00020754582166970792,
          0.0364539912740757,
          0.5234640505644528,
          1.724978786711283,
          0,
          10.326747648074107,
          1.5524060557282073,
          1.084956343286649,
          0.03347036651828894,
          0.9978614342506082,
          0.41394692129107646,
          0.22701554884033914,
          0,
          0.04257794931129055,
          0.877528159497861,
          0.08445652168816586,
          0.14302683803790917,
          2.7192341376669233,
          0.47579633708255287,
          0.07679311557406443,
          1.1959075764647356,
          0.723484180688537,
          0.08451654655189844,
          0.07756800859708657,
          0.11882779938754173,
          0,
          0,
          0.1384534465088505,
          0.19757590746358034,
          0.05382447412585223,
          0.01248999507311166,
          0.4221254214684498,
          0.12681189165551654,
          0,
          0,
          0,
          0,
          0,
          0,
          0,
          0,
          0.041619483873007956,
          0.06267249737880465,
          0.3862551481673733,
          0.013503786198365397,
          0,
          0,
          0,
          0.1545037994064058,
          0.05630172115302279,
          0.07709645231864126,
          0.12897272620339528,
          0,
          0.32540517121013446,
          0,
          0,
          2.409770997739702e-05,
          0.002827648472605679,
          0.00621580066933769,
          0.0967675300785551,
          1.011446955210726,
          0.009827706365452216,
          0.049467224066936155,
          0.16822230611783695,
          0.9151525642532619,
          5.211041179563267,
          0.33083468804127847,
          4.192811483893024,
          3.669019499072043,
          0,
          0.024049537510434926,
          0.9653020977903095,
          0.2913306859729152,
          0.040134400866642106,
          0.0013818842972597167,
          0.005377093343231859,
          1.474660204440367,
          0.05913756227175493,
          0.12940662206823217,
          0.030676936926155696,
          0.004040831101833731,
          0,
          0,
          -4.83809512610687,
          0.08883234057149747,
          0,
          0,
          0,
          0,
          0,
          0,
          0,
          0.005552832931534218,
          2.288327703906649,
          3.7051954393790716,
          0.0295215909108687,
          0.09189729408138314,
          0.011508015178287978,
          0.00451465032101156,
          0.012487968154237528,
          0,
          -1.8711562214194197,
          0,
          0,
          0,
          0,
          0,
          0,
          0,
          0,
          0,
          0,
          0.0043014441977464735,
          1.6178269360284556,
          0.8521549760891691,
          0.7029259203750513,
          0.49252193875429207,
          0.04735807333950959,
          4.1229082886091035,
          0.9917918395905971,
          0.11296639660726271,
          0.6774310033066495,
          0.03986655946277906,
          0.004993875209321735,
          0,
          0,
          0.04760248291979918,
          0.0471600725961695,
          1.36046794097801,
          0.004309794896719121,
          0.0009064170275398381,
          3.498415005466466,
          0.021170575359655414,
          9.367092594024243,
          0,
          0.007402404396044601,
          0.013185845595039505,
          0.22257510935417812,
          0.529861270193094,
          0.4517569662928109,
          0.004834757900166409,
          0.8607431854101986,
          0.20357658591245498,
          0.029344178258527254,
          0.8048727614654854,
          0.09808582014717526,
          0.20167625013840285,
          0.17105391703068284,
          0.01203954821644282,
          0,
          0.0071364481532989466,
          0.05793779560565537,
          0,
          0,
          0.08297864761885687,
          0.014186491984610639,
          0.03907115078600487,
          0.0497596166579235,
          0.2598629025586323,
          0.15299308203126794,
          0.28277341757842134,
          0.06908074733735559,
          0.20932080117142693,
          0.12123498314729297,
          0.022219712749279363,
          0.10555702419046376,
          0.32617907803278023,
          0.4270726569302783,
          0.3607779606260124,
          0.1607865864640965
         ]
        }
       ],
       "layout": {
        "height": 400,
        "template": {
         "data": {
          "bar": [
           {
            "error_x": {
             "color": "#2a3f5f"
            },
            "error_y": {
             "color": "#2a3f5f"
            },
            "marker": {
             "line": {
              "color": "#E5ECF6",
              "width": 0.5
             },
             "pattern": {
              "fillmode": "overlay",
              "size": 10,
              "solidity": 0.2
             }
            },
            "type": "bar"
           }
          ],
          "barpolar": [
           {
            "marker": {
             "line": {
              "color": "#E5ECF6",
              "width": 0.5
             },
             "pattern": {
              "fillmode": "overlay",
              "size": 10,
              "solidity": 0.2
             }
            },
            "type": "barpolar"
           }
          ],
          "carpet": [
           {
            "aaxis": {
             "endlinecolor": "#2a3f5f",
             "gridcolor": "white",
             "linecolor": "white",
             "minorgridcolor": "white",
             "startlinecolor": "#2a3f5f"
            },
            "baxis": {
             "endlinecolor": "#2a3f5f",
             "gridcolor": "white",
             "linecolor": "white",
             "minorgridcolor": "white",
             "startlinecolor": "#2a3f5f"
            },
            "type": "carpet"
           }
          ],
          "choropleth": [
           {
            "colorbar": {
             "outlinewidth": 0,
             "ticks": ""
            },
            "type": "choropleth"
           }
          ],
          "contour": [
           {
            "colorbar": {
             "outlinewidth": 0,
             "ticks": ""
            },
            "colorscale": [
             [
              0,
              "#0d0887"
             ],
             [
              0.1111111111111111,
              "#46039f"
             ],
             [
              0.2222222222222222,
              "#7201a8"
             ],
             [
              0.3333333333333333,
              "#9c179e"
             ],
             [
              0.4444444444444444,
              "#bd3786"
             ],
             [
              0.5555555555555556,
              "#d8576b"
             ],
             [
              0.6666666666666666,
              "#ed7953"
             ],
             [
              0.7777777777777778,
              "#fb9f3a"
             ],
             [
              0.8888888888888888,
              "#fdca26"
             ],
             [
              1,
              "#f0f921"
             ]
            ],
            "type": "contour"
           }
          ],
          "contourcarpet": [
           {
            "colorbar": {
             "outlinewidth": 0,
             "ticks": ""
            },
            "type": "contourcarpet"
           }
          ],
          "heatmap": [
           {
            "colorbar": {
             "outlinewidth": 0,
             "ticks": ""
            },
            "colorscale": [
             [
              0,
              "#0d0887"
             ],
             [
              0.1111111111111111,
              "#46039f"
             ],
             [
              0.2222222222222222,
              "#7201a8"
             ],
             [
              0.3333333333333333,
              "#9c179e"
             ],
             [
              0.4444444444444444,
              "#bd3786"
             ],
             [
              0.5555555555555556,
              "#d8576b"
             ],
             [
              0.6666666666666666,
              "#ed7953"
             ],
             [
              0.7777777777777778,
              "#fb9f3a"
             ],
             [
              0.8888888888888888,
              "#fdca26"
             ],
             [
              1,
              "#f0f921"
             ]
            ],
            "type": "heatmap"
           }
          ],
          "heatmapgl": [
           {
            "colorbar": {
             "outlinewidth": 0,
             "ticks": ""
            },
            "colorscale": [
             [
              0,
              "#0d0887"
             ],
             [
              0.1111111111111111,
              "#46039f"
             ],
             [
              0.2222222222222222,
              "#7201a8"
             ],
             [
              0.3333333333333333,
              "#9c179e"
             ],
             [
              0.4444444444444444,
              "#bd3786"
             ],
             [
              0.5555555555555556,
              "#d8576b"
             ],
             [
              0.6666666666666666,
              "#ed7953"
             ],
             [
              0.7777777777777778,
              "#fb9f3a"
             ],
             [
              0.8888888888888888,
              "#fdca26"
             ],
             [
              1,
              "#f0f921"
             ]
            ],
            "type": "heatmapgl"
           }
          ],
          "histogram": [
           {
            "marker": {
             "pattern": {
              "fillmode": "overlay",
              "size": 10,
              "solidity": 0.2
             }
            },
            "type": "histogram"
           }
          ],
          "histogram2d": [
           {
            "colorbar": {
             "outlinewidth": 0,
             "ticks": ""
            },
            "colorscale": [
             [
              0,
              "#0d0887"
             ],
             [
              0.1111111111111111,
              "#46039f"
             ],
             [
              0.2222222222222222,
              "#7201a8"
             ],
             [
              0.3333333333333333,
              "#9c179e"
             ],
             [
              0.4444444444444444,
              "#bd3786"
             ],
             [
              0.5555555555555556,
              "#d8576b"
             ],
             [
              0.6666666666666666,
              "#ed7953"
             ],
             [
              0.7777777777777778,
              "#fb9f3a"
             ],
             [
              0.8888888888888888,
              "#fdca26"
             ],
             [
              1,
              "#f0f921"
             ]
            ],
            "type": "histogram2d"
           }
          ],
          "histogram2dcontour": [
           {
            "colorbar": {
             "outlinewidth": 0,
             "ticks": ""
            },
            "colorscale": [
             [
              0,
              "#0d0887"
             ],
             [
              0.1111111111111111,
              "#46039f"
             ],
             [
              0.2222222222222222,
              "#7201a8"
             ],
             [
              0.3333333333333333,
              "#9c179e"
             ],
             [
              0.4444444444444444,
              "#bd3786"
             ],
             [
              0.5555555555555556,
              "#d8576b"
             ],
             [
              0.6666666666666666,
              "#ed7953"
             ],
             [
              0.7777777777777778,
              "#fb9f3a"
             ],
             [
              0.8888888888888888,
              "#fdca26"
             ],
             [
              1,
              "#f0f921"
             ]
            ],
            "type": "histogram2dcontour"
           }
          ],
          "mesh3d": [
           {
            "colorbar": {
             "outlinewidth": 0,
             "ticks": ""
            },
            "type": "mesh3d"
           }
          ],
          "parcoords": [
           {
            "line": {
             "colorbar": {
              "outlinewidth": 0,
              "ticks": ""
             }
            },
            "type": "parcoords"
           }
          ],
          "pie": [
           {
            "automargin": true,
            "type": "pie"
           }
          ],
          "scatter": [
           {
            "fillpattern": {
             "fillmode": "overlay",
             "size": 10,
             "solidity": 0.2
            },
            "type": "scatter"
           }
          ],
          "scatter3d": [
           {
            "line": {
             "colorbar": {
              "outlinewidth": 0,
              "ticks": ""
             }
            },
            "marker": {
             "colorbar": {
              "outlinewidth": 0,
              "ticks": ""
             }
            },
            "type": "scatter3d"
           }
          ],
          "scattercarpet": [
           {
            "marker": {
             "colorbar": {
              "outlinewidth": 0,
              "ticks": ""
             }
            },
            "type": "scattercarpet"
           }
          ],
          "scattergeo": [
           {
            "marker": {
             "colorbar": {
              "outlinewidth": 0,
              "ticks": ""
             }
            },
            "type": "scattergeo"
           }
          ],
          "scattergl": [
           {
            "marker": {
             "colorbar": {
              "outlinewidth": 0,
              "ticks": ""
             }
            },
            "type": "scattergl"
           }
          ],
          "scattermapbox": [
           {
            "marker": {
             "colorbar": {
              "outlinewidth": 0,
              "ticks": ""
             }
            },
            "type": "scattermapbox"
           }
          ],
          "scatterpolar": [
           {
            "marker": {
             "colorbar": {
              "outlinewidth": 0,
              "ticks": ""
             }
            },
            "type": "scatterpolar"
           }
          ],
          "scatterpolargl": [
           {
            "marker": {
             "colorbar": {
              "outlinewidth": 0,
              "ticks": ""
             }
            },
            "type": "scatterpolargl"
           }
          ],
          "scatterternary": [
           {
            "marker": {
             "colorbar": {
              "outlinewidth": 0,
              "ticks": ""
             }
            },
            "type": "scatterternary"
           }
          ],
          "surface": [
           {
            "colorbar": {
             "outlinewidth": 0,
             "ticks": ""
            },
            "colorscale": [
             [
              0,
              "#0d0887"
             ],
             [
              0.1111111111111111,
              "#46039f"
             ],
             [
              0.2222222222222222,
              "#7201a8"
             ],
             [
              0.3333333333333333,
              "#9c179e"
             ],
             [
              0.4444444444444444,
              "#bd3786"
             ],
             [
              0.5555555555555556,
              "#d8576b"
             ],
             [
              0.6666666666666666,
              "#ed7953"
             ],
             [
              0.7777777777777778,
              "#fb9f3a"
             ],
             [
              0.8888888888888888,
              "#fdca26"
             ],
             [
              1,
              "#f0f921"
             ]
            ],
            "type": "surface"
           }
          ],
          "table": [
           {
            "cells": {
             "fill": {
              "color": "#EBF0F8"
             },
             "line": {
              "color": "white"
             }
            },
            "header": {
             "fill": {
              "color": "#C8D4E3"
             },
             "line": {
              "color": "white"
             }
            },
            "type": "table"
           }
          ]
         },
         "layout": {
          "annotationdefaults": {
           "arrowcolor": "#2a3f5f",
           "arrowhead": 0,
           "arrowwidth": 1
          },
          "autotypenumbers": "strict",
          "coloraxis": {
           "colorbar": {
            "outlinewidth": 0,
            "ticks": ""
           }
          },
          "colorscale": {
           "diverging": [
            [
             0,
             "#8e0152"
            ],
            [
             0.1,
             "#c51b7d"
            ],
            [
             0.2,
             "#de77ae"
            ],
            [
             0.3,
             "#f1b6da"
            ],
            [
             0.4,
             "#fde0ef"
            ],
            [
             0.5,
             "#f7f7f7"
            ],
            [
             0.6,
             "#e6f5d0"
            ],
            [
             0.7,
             "#b8e186"
            ],
            [
             0.8,
             "#7fbc41"
            ],
            [
             0.9,
             "#4d9221"
            ],
            [
             1,
             "#276419"
            ]
           ],
           "sequential": [
            [
             0,
             "#0d0887"
            ],
            [
             0.1111111111111111,
             "#46039f"
            ],
            [
             0.2222222222222222,
             "#7201a8"
            ],
            [
             0.3333333333333333,
             "#9c179e"
            ],
            [
             0.4444444444444444,
             "#bd3786"
            ],
            [
             0.5555555555555556,
             "#d8576b"
            ],
            [
             0.6666666666666666,
             "#ed7953"
            ],
            [
             0.7777777777777778,
             "#fb9f3a"
            ],
            [
             0.8888888888888888,
             "#fdca26"
            ],
            [
             1,
             "#f0f921"
            ]
           ],
           "sequentialminus": [
            [
             0,
             "#0d0887"
            ],
            [
             0.1111111111111111,
             "#46039f"
            ],
            [
             0.2222222222222222,
             "#7201a8"
            ],
            [
             0.3333333333333333,
             "#9c179e"
            ],
            [
             0.4444444444444444,
             "#bd3786"
            ],
            [
             0.5555555555555556,
             "#d8576b"
            ],
            [
             0.6666666666666666,
             "#ed7953"
            ],
            [
             0.7777777777777778,
             "#fb9f3a"
            ],
            [
             0.8888888888888888,
             "#fdca26"
            ],
            [
             1,
             "#f0f921"
            ]
           ]
          },
          "colorway": [
           "#636efa",
           "#EF553B",
           "#00cc96",
           "#ab63fa",
           "#FFA15A",
           "#19d3f3",
           "#FF6692",
           "#B6E880",
           "#FF97FF",
           "#FECB52"
          ],
          "font": {
           "color": "#2a3f5f"
          },
          "geo": {
           "bgcolor": "white",
           "lakecolor": "white",
           "landcolor": "#E5ECF6",
           "showlakes": true,
           "showland": true,
           "subunitcolor": "white"
          },
          "hoverlabel": {
           "align": "left"
          },
          "hovermode": "closest",
          "mapbox": {
           "style": "light"
          },
          "paper_bgcolor": "white",
          "plot_bgcolor": "#E5ECF6",
          "polar": {
           "angularaxis": {
            "gridcolor": "white",
            "linecolor": "white",
            "ticks": ""
           },
           "bgcolor": "#E5ECF6",
           "radialaxis": {
            "gridcolor": "white",
            "linecolor": "white",
            "ticks": ""
           }
          },
          "scene": {
           "xaxis": {
            "backgroundcolor": "#E5ECF6",
            "gridcolor": "white",
            "gridwidth": 2,
            "linecolor": "white",
            "showbackground": true,
            "ticks": "",
            "zerolinecolor": "white"
           },
           "yaxis": {
            "backgroundcolor": "#E5ECF6",
            "gridcolor": "white",
            "gridwidth": 2,
            "linecolor": "white",
            "showbackground": true,
            "ticks": "",
            "zerolinecolor": "white"
           },
           "zaxis": {
            "backgroundcolor": "#E5ECF6",
            "gridcolor": "white",
            "gridwidth": 2,
            "linecolor": "white",
            "showbackground": true,
            "ticks": "",
            "zerolinecolor": "white"
           }
          },
          "shapedefaults": {
           "line": {
            "color": "#2a3f5f"
           }
          },
          "ternary": {
           "aaxis": {
            "gridcolor": "white",
            "linecolor": "white",
            "ticks": ""
           },
           "baxis": {
            "gridcolor": "white",
            "linecolor": "white",
            "ticks": ""
           },
           "bgcolor": "#E5ECF6",
           "caxis": {
            "gridcolor": "white",
            "linecolor": "white",
            "ticks": ""
           }
          },
          "title": {
           "x": 0.05
          },
          "xaxis": {
           "automargin": true,
           "gridcolor": "white",
           "linecolor": "white",
           "ticks": "",
           "title": {
            "standoff": 15
           },
           "zerolinecolor": "white",
           "zerolinewidth": 2
          },
          "yaxis": {
           "automargin": true,
           "gridcolor": "white",
           "linecolor": "white",
           "ticks": "",
           "title": {
            "standoff": 15
           },
           "zerolinecolor": "white",
           "zerolinewidth": 2
          }
         }
        },
        "title": {
         "text": "Rain Sum Difference"
        },
        "width": 800,
        "xaxis": {
         "autorange": true,
         "range": [
          0,
          254
         ],
         "title": {
          "text": "Index"
         }
        },
        "yaxis": {
         "autorange": true,
         "range": [
          -7.191903813606649,
          15.86928208419349
         ],
         "title": {
          "text": "Difference"
         },
         "type": "linear"
        }
       }
      },
      "image/png": "[encoded data removed]",
      "text/html": [
       "<div>                            <div id=\"ef023796-19cb-4bc2-9976-275a2a4a9597\" class=\"plotly-graph-div\" style=\"height:400px; width:800px;\"></div>            <script type=\"text/javascript\">                require([\"plotly\"], function(Plotly) {                    window.PLOTLYENV=window.PLOTLYENV || {};                                    if (document.getElementById(\"ef023796-19cb-4bc2-9976-275a2a4a9597\")) {                    Plotly.newPlot(                        \"ef023796-19cb-4bc2-9976-275a2a4a9597\",                        [{\"line\":{\"color\":\"#519EE5\"},\"mode\":\"lines\",\"name\":\"Rain Sum Difference\",\"y\":[0.08459185478405118,0.0,0.0,0.49744065584997,0.1659585386628457,0.0926091835377072,0.0,0.4069173207257184,0.07577058548682025,0.07450212961034697,0.019036584070113993,1.8335131863906664,2.403383080760374,0.11251037295215838,0.0716838528260042,0.0,0.00608442920618138,0.08922334996879222,0.07778557777060291,0.0,0.0,0.0,8.433830011051022,0.0,0.0,0.061896506210861624,0.18038500252005685,0.0,0.09444615071671913,0.005480963380695425,-6.038844518716642,0.0,0.007304939028135421,0.026127045862637643,0.012012340627207421,0.09281678533349935,0.053902398125157736,0.018387078334560686,0.03758422778708198,0.0,0.0,0.010130331487281152,0.05344802200421439,0.006362225692450929,0.012310882104701076,0.0,3.5100848851127764,-5.874922848769728,0.0,0.0,0.0,0.023021896533098385,0.5147776994858262,0.4626332512004918,0.0,0.0,0.0,0.0,0.0,0.0,0.010458360249783416,0.0447219334761364,0.528048295175557,0.06062983953018142,14.716222789303483,0.0,0.016045173308054217,0.7442649920809652,2.237962039466911,3.48481511488313,0.7418571163975187,1.4500530248506358,0.0,0.6158495513423574,0.058340737058383496,1.6413700744473587,0.0,0.0,0.0,0.0,0.1779472203439848,0.09649555296844414,0.03483418203035982,0.004615368749945614,0.005575611991838869,0.00020754582166970792,0.0364539912740757,0.5234640505644528,1.724978786711283,0.0,10.326747648074107,1.5524060557282073,1.084956343286649,0.03347036651828894,0.9978614342506082,0.41394692129107646,0.22701554884033914,0.0,0.04257794931129055,0.877528159497861,0.08445652168816586,0.14302683803790917,2.7192341376669233,0.47579633708255287,0.07679311557406443,1.1959075764647356,0.723484180688537,0.08451654655189844,0.07756800859708657,0.11882779938754173,0.0,0.0,0.1384534465088505,0.19757590746358034,0.05382447412585223,0.01248999507311166,0.4221254214684498,0.12681189165551654,0.0,0.0,0.0,0.0,0.0,0.0,0.0,0.0,0.041619483873007956,0.06267249737880465,0.3862551481673733,0.013503786198365397,0.0,0.0,0.0,0.1545037994064058,0.05630172115302279,0.07709645231864126,0.12897272620339528,0.0,0.32540517121013446,0.0,0.0,2.409770997739702e-05,0.002827648472605679,0.00621580066933769,0.0967675300785551,1.011446955210726,0.009827706365452216,0.049467224066936155,0.16822230611783695,0.9151525642532619,5.211041179563267,0.33083468804127847,4.192811483893024,3.669019499072043,0.0,0.024049537510434926,0.9653020977903095,0.2913306859729152,0.040134400866642106,0.0013818842972597167,0.005377093343231859,1.474660204440367,0.05913756227175493,0.12940662206823217,0.030676936926155696,0.004040831101833731,0.0,0.0,-4.83809512610687,0.08883234057149747,0.0,0.0,0.0,0.0,0.0,0.0,0.0,0.005552832931534218,2.288327703906649,3.7051954393790716,0.0295215909108687,0.09189729408138314,0.011508015178287978,0.00451465032101156,0.012487968154237528,0.0,-1.8711562214194197,0.0,0.0,0.0,0.0,0.0,0.0,0.0,0.0,0.0,0.0,0.0043014441977464735,1.6178269360284556,0.8521549760891691,0.7029259203750513,0.49252193875429207,0.04735807333950959,4.1229082886091035,0.9917918395905971,0.11296639660726271,0.6774310033066495,0.03986655946277906,0.004993875209321735,0.0,0.0,0.04760248291979918,0.0471600725961695,1.36046794097801,0.004309794896719121,0.0009064170275398381,3.498415005466466,0.021170575359655414,9.367092594024243,0.0,0.007402404396044601,0.013185845595039505,0.22257510935417812,0.529861270193094,0.4517569662928109,0.004834757900166409,0.8607431854101986,0.20357658591245498,0.029344178258527254,0.8048727614654854,0.09808582014717526,0.20167625013840285,0.17105391703068284,0.01203954821644282,0.0,0.0071364481532989466,0.05793779560565537,0.0,0.0,0.08297864761885687,0.014186491984610639,0.03907115078600487,0.0497596166579235,0.2598629025586323,0.15299308203126794,0.28277341757842134,0.06908074733735559,0.20932080117142693,0.12123498314729297,0.022219712749279363,0.10555702419046376,0.32617907803278023,0.4270726569302783,0.3607779606260124,0.1607865864640965],\"type\":\"scatter\"}],                        {\"template\":{\"data\":{\"histogram2dcontour\":[{\"type\":\"histogram2dcontour\",\"colorbar\":{\"outlinewidth\":0,\"ticks\":\"\"},\"colorscale\":[[0.0,\"#0d0887\"],[0.1111111111111111,\"#46039f\"],[0.2222222222222222,\"#7201a8\"],[0.3333333333333333,\"#9c179e\"],[0.4444444444444444,\"#bd3786\"],[0.5555555555555556,\"#d8576b\"],[0.6666666666666666,\"#ed7953\"],[0.7777777777777778,\"#fb9f3a\"],[0.8888888888888888,\"#fdca26\"],[1.0,\"#f0f921\"]]}],\"choropleth\":[{\"type\":\"choropleth\",\"colorbar\":{\"outlinewidth\":0,\"ticks\":\"\"}}],\"histogram2d\":[{\"type\":\"histogram2d\",\"colorbar\":{\"outlinewidth\":0,\"ticks\":\"\"},\"colorscale\":[[0.0,\"#0d0887\"],[0.1111111111111111,\"#46039f\"],[0.2222222222222222,\"#7201a8\"],[0.3333333333333333,\"#9c179e\"],[0.4444444444444444,\"#bd3786\"],[0.5555555555555556,\"#d8576b\"],[0.6666666666666666,\"#ed7953\"],[0.7777777777777778,\"#fb9f3a\"],[0.8888888888888888,\"#fdca26\"],[1.0,\"#f0f921\"]]}],\"heatmap\":[{\"type\":\"heatmap\",\"colorbar\":{\"outlinewidth\":0,\"ticks\":\"\"},\"colorscale\":[[0.0,\"#0d0887\"],[0.1111111111111111,\"#46039f\"],[0.2222222222222222,\"#7201a8\"],[0.3333333333333333,\"#9c179e\"],[0.4444444444444444,\"#bd3786\"],[0.5555555555555556,\"#d8576b\"],[0.6666666666666666,\"#ed7953\"],[0.7777777777777778,\"#fb9f3a\"],[0.8888888888888888,\"#fdca26\"],[1.0,\"#f0f921\"]]}],\"heatmapgl\":[{\"type\":\"heatmapgl\",\"colorbar\":{\"outlinewidth\":0,\"ticks\":\"\"},\"colorscale\":[[0.0,\"#0d0887\"],[0.1111111111111111,\"#46039f\"],[0.2222222222222222,\"#7201a8\"],[0.3333333333333333,\"#9c179e\"],[0.4444444444444444,\"#bd3786\"],[0.5555555555555556,\"#d8576b\"],[0.6666666666666666,\"#ed7953\"],[0.7777777777777778,\"#fb9f3a\"],[0.8888888888888888,\"#fdca26\"],[1.0,\"#f0f921\"]]}],\"contourcarpet\":[{\"type\":\"contourcarpet\",\"colorbar\":{\"outlinewidth\":0,\"ticks\":\"\"}}],\"contour\":[{\"type\":\"contour\",\"colorbar\":{\"outlinewidth\":0,\"ticks\":\"\"},\"colorscale\":[[0.0,\"#0d0887\"],[0.1111111111111111,\"#46039f\"],[0.2222222222222222,\"#7201a8\"],[0.3333333333333333,\"#9c179e\"],[0.4444444444444444,\"#bd3786\"],[0.5555555555555556,\"#d8576b\"],[0.6666666666666666,\"#ed7953\"],[0.7777777777777778,\"#fb9f3a\"],[0.8888888888888888,\"#fdca26\"],[1.0,\"#f0f921\"]]}],\"surface\":[{\"type\":\"surface\",\"colorbar\":{\"outlinewidth\":0,\"ticks\":\"\"},\"colorscale\":[[0.0,\"#0d0887\"],[0.1111111111111111,\"#46039f\"],[0.2222222222222222,\"#7201a8\"],[0.3333333333333333,\"#9c179e\"],[0.4444444444444444,\"#bd3786\"],[0.5555555555555556,\"#d8576b\"],[0.6666666666666666,\"#ed7953\"],[0.7777777777777778,\"#fb9f3a\"],[0.8888888888888888,\"#fdca26\"],[1.0,\"#f0f921\"]]}],\"mesh3d\":[{\"type\":\"mesh3d\",\"colorbar\":{\"outlinewidth\":0,\"ticks\":\"\"}}],\"scatter\":[{\"fillpattern\":{\"fillmode\":\"overlay\",\"size\":10,\"solidity\":0.2},\"type\":\"scatter\"}],\"parcoords\":[{\"type\":\"parcoords\",\"line\":{\"colorbar\":{\"outlinewidth\":0,\"ticks\":\"\"}}}],\"scatterpolargl\":[{\"type\":\"scatterpolargl\",\"marker\":{\"colorbar\":{\"outlinewidth\":0,\"ticks\":\"\"}}}],\"bar\":[{\"error_x\":{\"color\":\"#2a3f5f\"},\"error_y\":{\"color\":\"#2a3f5f\"},\"marker\":{\"line\":{\"color\":\"#E5ECF6\",\"width\":0.5},\"pattern\":{\"fillmode\":\"overlay\",\"size\":10,\"solidity\":0.2}},\"type\":\"bar\"}],\"scattergeo\":[{\"type\":\"scattergeo\",\"marker\":{\"colorbar\":{\"outlinewidth\":0,\"ticks\":\"\"}}}],\"scatterpolar\":[{\"type\":\"scatterpolar\",\"marker\":{\"colorbar\":{\"outlinewidth\":0,\"ticks\":\"\"}}}],\"histogram\":[{\"marker\":{\"pattern\":{\"fillmode\":\"overlay\",\"size\":10,\"solidity\":0.2}},\"type\":\"histogram\"}],\"scattergl\":[{\"type\":\"scattergl\",\"marker\":{\"colorbar\":{\"outlinewidth\":0,\"ticks\":\"\"}}}],\"scatter3d\":[{\"type\":\"scatter3d\",\"line\":{\"colorbar\":{\"outlinewidth\":0,\"ticks\":\"\"}},\"marker\":{\"colorbar\":{\"outlinewidth\":0,\"ticks\":\"\"}}}],\"scattermapbox\":[{\"type\":\"scattermapbox\",\"marker\":{\"colorbar\":{\"outlinewidth\":0,\"ticks\":\"\"}}}],\"scatterternary\":[{\"type\":\"scatterternary\",\"marker\":{\"colorbar\":{\"outlinewidth\":0,\"ticks\":\"\"}}}],\"scattercarpet\":[{\"type\":\"scattercarpet\",\"marker\":{\"colorbar\":{\"outlinewidth\":0,\"ticks\":\"\"}}}],\"carpet\":[{\"aaxis\":{\"endlinecolor\":\"#2a3f5f\",\"gridcolor\":\"white\",\"linecolor\":\"white\",\"minorgridcolor\":\"white\",\"startlinecolor\":\"#2a3f5f\"},\"baxis\":{\"endlinecolor\":\"#2a3f5f\",\"gridcolor\":\"white\",\"linecolor\":\"white\",\"minorgridcolor\":\"white\",\"startlinecolor\":\"#2a3f5f\"},\"type\":\"carpet\"}],\"table\":[{\"cells\":{\"fill\":{\"color\":\"#EBF0F8\"},\"line\":{\"color\":\"white\"}},\"header\":{\"fill\":{\"color\":\"#C8D4E3\"},\"line\":{\"color\":\"white\"}},\"type\":\"table\"}],\"barpolar\":[{\"marker\":{\"line\":{\"color\":\"#E5ECF6\",\"width\":0.5},\"pattern\":{\"fillmode\":\"overlay\",\"size\":10,\"solidity\":0.2}},\"type\":\"barpolar\"}],\"pie\":[{\"automargin\":true,\"type\":\"pie\"}]},\"layout\":{\"autotypenumbers\":\"strict\",\"colorway\":[\"#636efa\",\"#EF553B\",\"#00cc96\",\"#ab63fa\",\"#FFA15A\",\"#19d3f3\",\"#FF6692\",\"#B6E880\",\"#FF97FF\",\"#FECB52\"],\"font\":{\"color\":\"#2a3f5f\"},\"hovermode\":\"closest\",\"hoverlabel\":{\"align\":\"left\"},\"paper_bgcolor\":\"white\",\"plot_bgcolor\":\"#E5ECF6\",\"polar\":{\"bgcolor\":\"#E5ECF6\",\"angularaxis\":{\"gridcolor\":\"white\",\"linecolor\":\"white\",\"ticks\":\"\"},\"radialaxis\":{\"gridcolor\":\"white\",\"linecolor\":\"white\",\"ticks\":\"\"}},\"ternary\":{\"bgcolor\":\"#E5ECF6\",\"aaxis\":{\"gridcolor\":\"white\",\"linecolor\":\"white\",\"ticks\":\"\"},\"baxis\":{\"gridcolor\":\"white\",\"linecolor\":\"white\",\"ticks\":\"\"},\"caxis\":{\"gridcolor\":\"white\",\"linecolor\":\"white\",\"ticks\":\"\"}},\"coloraxis\":{\"colorbar\":{\"outlinewidth\":0,\"ticks\":\"\"}},\"colorscale\":{\"sequential\":[[0.0,\"#0d0887\"],[0.1111111111111111,\"#46039f\"],[0.2222222222222222,\"#7201a8\"],[0.3333333333333333,\"#9c179e\"],[0.4444444444444444,\"#bd3786\"],[0.5555555555555556,\"#d8576b\"],[0.6666666666666666,\"#ed7953\"],[0.7777777777777778,\"#fb9f3a\"],[0.8888888888888888,\"#fdca26\"],[1.0,\"#f0f921\"]],\"sequentialminus\":[[0.0,\"#0d0887\"],[0.1111111111111111,\"#46039f\"],[0.2222222222222222,\"#7201a8\"],[0.3333333333333333,\"#9c179e\"],[0.4444444444444444,\"#bd3786\"],[0.5555555555555556,\"#d8576b\"],[0.6666666666666666,\"#ed7953\"],[0.7777777777777778,\"#fb9f3a\"],[0.8888888888888888,\"#fdca26\"],[1.0,\"#f0f921\"]],\"diverging\":[[0,\"#8e0152\"],[0.1,\"#c51b7d\"],[0.2,\"#de77ae\"],[0.3,\"#f1b6da\"],[0.4,\"#fde0ef\"],[0.5,\"#f7f7f7\"],[0.6,\"#e6f5d0\"],[0.7,\"#b8e186\"],[0.8,\"#7fbc41\"],[0.9,\"#4d9221\"],[1,\"#276419\"]]},\"xaxis\":{\"gridcolor\":\"white\",\"linecolor\":\"white\",\"ticks\":\"\",\"title\":{\"standoff\":15},\"zerolinecolor\":\"white\",\"automargin\":true,\"zerolinewidth\":2},\"yaxis\":{\"gridcolor\":\"white\",\"linecolor\":\"white\",\"ticks\":\"\",\"title\":{\"standoff\":15},\"zerolinecolor\":\"white\",\"automargin\":true,\"zerolinewidth\":2},\"scene\":{\"xaxis\":{\"backgroundcolor\":\"#E5ECF6\",\"gridcolor\":\"white\",\"linecolor\":\"white\",\"showbackground\":true,\"ticks\":\"\",\"zerolinecolor\":\"white\",\"gridwidth\":2},\"yaxis\":{\"backgroundcolor\":\"#E5ECF6\",\"gridcolor\":\"white\",\"linecolor\":\"white\",\"showbackground\":true,\"ticks\":\"\",\"zerolinecolor\":\"white\",\"gridwidth\":2},\"zaxis\":{\"backgroundcolor\":\"#E5ECF6\",\"gridcolor\":\"white\",\"linecolor\":\"white\",\"showbackground\":true,\"ticks\":\"\",\"zerolinecolor\":\"white\",\"gridwidth\":2}},\"shapedefaults\":{\"line\":{\"color\":\"#2a3f5f\"}},\"annotationdefaults\":{\"arrowcolor\":\"#2a3f5f\",\"arrowhead\":0,\"arrowwidth\":1},\"geo\":{\"bgcolor\":\"white\",\"landcolor\":\"#E5ECF6\",\"subunitcolor\":\"white\",\"showland\":true,\"showlakes\":true,\"lakecolor\":\"white\"},\"title\":{\"x\":0.05},\"mapbox\":{\"style\":\"light\"}}},\"title\":{\"text\":\"Rain Sum Difference\"},\"xaxis\":{\"title\":{\"text\":\"Index\"}},\"yaxis\":{\"title\":{\"text\":\"Difference\"}},\"width\":800,\"height\":400},                        {\"responsive\": true}                    ).then(function(){\n",
       "                            \n",
       "var gd = document.getElementById('ef023796-19cb-4bc2-9976-275a2a4a9597');\n",
       "var x = new MutationObserver(function (mutations, observer) {{\n",
       "        var display = window.getComputedStyle(gd).display;\n",
       "        if (!display || display === 'none') {{\n",
       "            console.log([gd, 'removed!']);\n",
       "            Plotly.purge(gd);\n",
       "            observer.disconnect();\n",
       "        }}\n",
       "}});\n",
       "\n",
       "// Listen for the removal of the full notebook cells\n",
       "var notebookContainer = gd.closest('#notebook-container');\n",
       "if (notebookContainer) {{\n",
       "    x.observe(notebookContainer, {childList: true});\n",
       "}}\n",
       "\n",
       "// Listen for the clearing of the current output cell\n",
       "var outputEl = gd.closest('.output');\n",
       "if (outputEl) {{\n",
       "    x.observe(outputEl, {childList: true});\n",
       "}}\n",
       "\n",
       "                        })                };                });            </script>        </div>"
      ]
     },
     "metadata": {},
     "output_type": "display_data"
    },
    {
     "data": {
      "application/vnd.plotly.v1+json": {
       "config": {
        "plotlyServerURL": "https://plot.ly"
       },
       "data": [
        {
         "line": {
          "color": "#283952"
         },
         "mode": "lines",
         "name": "Wind Gusts Difference",
         "type": "scatter",
         "y": [
          -0.34986038053549606,
          1.4568153263318422,
          -0.38959357349052226,
          -0.47717366258103766,
          1.0230881497771662,
          -0.40273711163329295,
          0.12424464746249697,
          -1.7850928336558205,
          -2.08544829971979,
          0.015722917933430836,
          0.6126064083870446,
          -0.34999141338757056,
          0.5612527144947634,
          2.3976281301590916,
          -0.635645417866364,
          0.9487187636015051,
          -1.1459827566549166,
          -0.4040280850362521,
          -1.366436332029103,
          0.8439908674839245,
          -2.187284621542851,
          -0.6043947896096036,
          1.4193691201565244,
          -1.4094525399525892,
          0.5595717494316901,
          0.9911377254606997,
          -2.566278501315413,
          -0.4879762344994205,
          0.20313321992916045,
          1.3179312464405228,
          0.001514728260548992,
          0.04665952630601211,
          -0.8259822891028392,
          -0.12117023007279926,
          -0.7436350303688855,
          1.6512942214800006,
          -0.6276545379060678,
          1.1966622492866925,
          0.44238742418809807,
          -2.5888237023409957,
          -1.318701673173308,
          -0.4989283922919512,
          -2.5047404446960755,
          -0.7312669832034828,
          0.7663309547953183,
          -0.7142681209293933,
          -1.4585270934673744,
          -0.8916404612577971,
          -0.6152292641791135,
          -0.4951208844473385,
          0.4765132110573873,
          -0.04035668017870009,
          0.4169067228853294,
          0.7815730846344593,
          -0.5764392080325855,
          0.6382692103058272,
          -0.23514237623611223,
          -1.508217739152613,
          -1.7378420978062898,
          -0.3014040884591118,
          -1.3595754834295164,
          1.1347211226184584,
          -1.1832690723792538,
          -1.342932776654692,
          0.412942353248301,
          0.7698613799863594,
          1.0121507398511191,
          0.94434715610128,
          -2.0037709134530672,
          -1.5232616897475992,
          -0.8374245892022785,
          0.23485538510898607,
          -0.12958012522165063,
          -2.021641124069376,
          0.00555651602329732,
          -2.1537048311594376,
          0.23049869762596842,
          0.49998743396082546,
          -0.5680308569272832,
          0.12272022481453604,
          1.1469645161447843,
          -2.7951821165499027,
          -2.110657956389531,
          -3.1290791760733825,
          1.48229853555803,
          -0.8249008890960532,
          -0.16701327986457315,
          0.07601920141623708,
          0.9530832892205012,
          0.5721836476614897,
          0.8566525917316596,
          -0.026046054018536324,
          -0.06887673074209388,
          -0.40338804548407836,
          1.2087926804406806,
          -0.5814117560113417,
          1.5321377248226042,
          0.7672644336168091,
          1.1961507262415516,
          -1.022811082478686,
          -0.6399548958871861,
          1.6521660931919548,
          0.5279415323490397,
          0.10001433831914852,
          -0.4612811016029923,
          0.3817673966070032,
          -1.174377038010114,
          1.6675437034430587,
          0.10400979930561505,
          -0.07793813722179266,
          1.1899941333365724,
          -2.7427645095771425,
          0.08029569243883827,
          -3.245115109720409,
          -0.8161514675338211,
          0.08750661868567278,
          -2.3561445973218973,
          0.5938446394571208,
          1.6092523228552675,
          -0.5112612296852603,
          0.5745661405578737,
          0.20673091906986585,
          -0.6618171231363341,
          2.8515806966039463,
          0.8118772620711923,
          -0.8076070169864593,
          0.8764970408007287,
          0.37873787726203645,
          -1.2734171081505323,
          0.388317687472032,
          -2.0305592318273185,
          0.009468395053886525,
          -1.0840093992698634,
          -0.4261085670843414,
          0.6097915956149009,
          -1.9401300583067496,
          -1.3337137307606461,
          -1.228161741910121,
          0.0013467408814733517,
          -0.2523512667553547,
          0.0888563165782088,
          -0.8829587794190417,
          0.2807252270412377,
          1.3215237308489662,
          -1.7595068484808678,
          -0.672577162052459,
          -1.4447805985562638,
          2.65591676554601,
          0.2109580591289415,
          0.5805175255476414,
          -0.06752287192501427,
          -0.005900221688158069,
          0.8138219157997,
          -0.10373543062711832,
          0.40730949473643463,
          -0.8128897591150164,
          -1.4472982641505148,
          0.29095350794648667,
          -0.4331503572202422,
          0.3028440295337802,
          0.8695655757357059,
          -0.5586146268116963,
          0.9543823432852179,
          0.45281740123435554,
          -0.46811276398232593,
          1.8709271130763625,
          -0.6704740882486355,
          -1.0902766090820357,
          -1.3530115976569306,
          -1.941065666610104,
          -0.03753328482253693,
          -1.4612750653760571,
          -1.4471077814071762,
          1.1201688346376102,
          0.9288807059660087,
          -0.014256310947960316,
          0.36953412280493936,
          -0.9503066666837583,
          -1.5885489913120026,
          -0.7185200920782755,
          -0.31528139131028254,
          3.113557132760846,
          0.5106958542288851,
          1.2658875692835494,
          -0.40116879016080276,
          0.16265999982270074,
          1.433314583623936,
          -1.0197450408272601,
          -0.0835481011459116,
          0.1948366766468297,
          -0.026082761377590913,
          -1.152653721820787,
          1.0091397385473204,
          -0.10884095049415876,
          0.1952143337152208,
          -0.667300891817117,
          -0.5439773182035914,
          1.0690261786621917,
          0.4512593560866378,
          0.9819931411993039,
          0.5700827423246011,
          -1.7913314182468767,
          0.7338020824367888,
          1.2216935270307303,
          -0.14278581851144878,
          0.5101926974790558,
          -0.4015335387731831,
          1.1814439708093296,
          -0.8650715947931644,
          0.557605856521171,
          0.20558795724470613,
          0.24952342770030356,
          -0.47289410157141987,
          0.5813676653817161,
          2.1290507254703286,
          -0.40779811512662434,
          -0.914785141675317,
          -0.3144234745643466,
          -0.0795921716081871,
          -1.0889055275078263,
          0.805834062020427,
          2.253006708832345,
          0.45292572218380656,
          1.3722013913697708,
          0.2898973552099804,
          -0.41668345745256374,
          -0.9011538503964971,
          -2.01727776642257,
          -2.9641495565100886,
          -1.013586419027476,
          0.4909073532295345,
          1.0487739633636863,
          0.33894889588852806,
          0.8598862690656333,
          -0.6808147163222351,
          1.2381322852895593,
          0.8112610842914414,
          1.032195334666465,
          0.11939191047051878,
          0.2129036221362881,
          1.2887048925096494,
          0.13890951986800815,
          0.9008203164533057,
          -0.4760805592149566,
          2.4971875216866835,
          -2.9791108718745605,
          0.34602261166670445,
          -0.19823829048072383,
          1.5427234604567204,
          0.784712444442242,
          0.01533589179049244,
          1.1923052871194102,
          -2.0419606543793662,
          -0.2179531113703419,
          1.1648735784565503
         ]
        }
       ],
       "layout": {
        "height": 400,
        "template": {
         "data": {
          "bar": [
           {
            "error_x": {
             "color": "#2a3f5f"
            },
            "error_y": {
             "color": "#2a3f5f"
            },
            "marker": {
             "line": {
              "color": "#E5ECF6",
              "width": 0.5
             },
             "pattern": {
              "fillmode": "overlay",
              "size": 10,
              "solidity": 0.2
             }
            },
            "type": "bar"
           }
          ],
          "barpolar": [
           {
            "marker": {
             "line": {
              "color": "#E5ECF6",
              "width": 0.5
             },
             "pattern": {
              "fillmode": "overlay",
              "size": 10,
              "solidity": 0.2
             }
            },
            "type": "barpolar"
           }
          ],
          "carpet": [
           {
            "aaxis": {
             "endlinecolor": "#2a3f5f",
             "gridcolor": "white",
             "linecolor": "white",
             "minorgridcolor": "white",
             "startlinecolor": "#2a3f5f"
            },
            "baxis": {
             "endlinecolor": "#2a3f5f",
             "gridcolor": "white",
             "linecolor": "white",
             "minorgridcolor": "white",
             "startlinecolor": "#2a3f5f"
            },
            "type": "carpet"
           }
          ],
          "choropleth": [
           {
            "colorbar": {
             "outlinewidth": 0,
             "ticks": ""
            },
            "type": "choropleth"
           }
          ],
          "contour": [
           {
            "colorbar": {
             "outlinewidth": 0,
             "ticks": ""
            },
            "colorscale": [
             [
              0,
              "#0d0887"
             ],
             [
              0.1111111111111111,
              "#46039f"
             ],
             [
              0.2222222222222222,
              "#7201a8"
             ],
             [
              0.3333333333333333,
              "#9c179e"
             ],
             [
              0.4444444444444444,
              "#bd3786"
             ],
             [
              0.5555555555555556,
              "#d8576b"
             ],
             [
              0.6666666666666666,
              "#ed7953"
             ],
             [
              0.7777777777777778,
              "#fb9f3a"
             ],
             [
              0.8888888888888888,
              "#fdca26"
             ],
             [
              1,
              "#f0f921"
             ]
            ],
            "type": "contour"
           }
          ],
          "contourcarpet": [
           {
            "colorbar": {
             "outlinewidth": 0,
             "ticks": ""
            },
            "type": "contourcarpet"
           }
          ],
          "heatmap": [
           {
            "colorbar": {
             "outlinewidth": 0,
             "ticks": ""
            },
            "colorscale": [
             [
              0,
              "#0d0887"
             ],
             [
              0.1111111111111111,
              "#46039f"
             ],
             [
              0.2222222222222222,
              "#7201a8"
             ],
             [
              0.3333333333333333,
              "#9c179e"
             ],
             [
              0.4444444444444444,
              "#bd3786"
             ],
             [
              0.5555555555555556,
              "#d8576b"
             ],
             [
              0.6666666666666666,
              "#ed7953"
             ],
             [
              0.7777777777777778,
              "#fb9f3a"
             ],
             [
              0.8888888888888888,
              "#fdca26"
             ],
             [
              1,
              "#f0f921"
             ]
            ],
            "type": "heatmap"
           }
          ],
          "heatmapgl": [
           {
            "colorbar": {
             "outlinewidth": 0,
             "ticks": ""
            },
            "colorscale": [
             [
              0,
              "#0d0887"
             ],
             [
              0.1111111111111111,
              "#46039f"
             ],
             [
              0.2222222222222222,
              "#7201a8"
             ],
             [
              0.3333333333333333,
              "#9c179e"
             ],
             [
              0.4444444444444444,
              "#bd3786"
             ],
             [
              0.5555555555555556,
              "#d8576b"
             ],
             [
              0.6666666666666666,
              "#ed7953"
             ],
             [
              0.7777777777777778,
              "#fb9f3a"
             ],
             [
              0.8888888888888888,
              "#fdca26"
             ],
             [
              1,
              "#f0f921"
             ]
            ],
            "type": "heatmapgl"
           }
          ],
          "histogram": [
           {
            "marker": {
             "pattern": {
              "fillmode": "overlay",
              "size": 10,
              "solidity": 0.2
             }
            },
            "type": "histogram"
           }
          ],
          "histogram2d": [
           {
            "colorbar": {
             "outlinewidth": 0,
             "ticks": ""
            },
            "colorscale": [
             [
              0,
              "#0d0887"
             ],
             [
              0.1111111111111111,
              "#46039f"
             ],
             [
              0.2222222222222222,
              "#7201a8"
             ],
             [
              0.3333333333333333,
              "#9c179e"
             ],
             [
              0.4444444444444444,
              "#bd3786"
             ],
             [
              0.5555555555555556,
              "#d8576b"
             ],
             [
              0.6666666666666666,
              "#ed7953"
             ],
             [
              0.7777777777777778,
              "#fb9f3a"
             ],
             [
              0.8888888888888888,
              "#fdca26"
             ],
             [
              1,
              "#f0f921"
             ]
            ],
            "type": "histogram2d"
           }
          ],
          "histogram2dcontour": [
           {
            "colorbar": {
             "outlinewidth": 0,
             "ticks": ""
            },
            "colorscale": [
             [
              0,
              "#0d0887"
             ],
             [
              0.1111111111111111,
              "#46039f"
             ],
             [
              0.2222222222222222,
              "#7201a8"
             ],
             [
              0.3333333333333333,
              "#9c179e"
             ],
             [
              0.4444444444444444,
              "#bd3786"
             ],
             [
              0.5555555555555556,
              "#d8576b"
             ],
             [
              0.6666666666666666,
              "#ed7953"
             ],
             [
              0.7777777777777778,
              "#fb9f3a"
             ],
             [
              0.8888888888888888,
              "#fdca26"
             ],
             [
              1,
              "#f0f921"
             ]
            ],
            "type": "histogram2dcontour"
           }
          ],
          "mesh3d": [
           {
            "colorbar": {
             "outlinewidth": 0,
             "ticks": ""
            },
            "type": "mesh3d"
           }
          ],
          "parcoords": [
           {
            "line": {
             "colorbar": {
              "outlinewidth": 0,
              "ticks": ""
             }
            },
            "type": "parcoords"
           }
          ],
          "pie": [
           {
            "automargin": true,
            "type": "pie"
           }
          ],
          "scatter": [
           {
            "fillpattern": {
             "fillmode": "overlay",
             "size": 10,
             "solidity": 0.2
            },
            "type": "scatter"
           }
          ],
          "scatter3d": [
           {
            "line": {
             "colorbar": {
              "outlinewidth": 0,
              "ticks": ""
             }
            },
            "marker": {
             "colorbar": {
              "outlinewidth": 0,
              "ticks": ""
             }
            },
            "type": "scatter3d"
           }
          ],
          "scattercarpet": [
           {
            "marker": {
             "colorbar": {
              "outlinewidth": 0,
              "ticks": ""
             }
            },
            "type": "scattercarpet"
           }
          ],
          "scattergeo": [
           {
            "marker": {
             "colorbar": {
              "outlinewidth": 0,
              "ticks": ""
             }
            },
            "type": "scattergeo"
           }
          ],
          "scattergl": [
           {
            "marker": {
             "colorbar": {
              "outlinewidth": 0,
              "ticks": ""
             }
            },
            "type": "scattergl"
           }
          ],
          "scattermapbox": [
           {
            "marker": {
             "colorbar": {
              "outlinewidth": 0,
              "ticks": ""
             }
            },
            "type": "scattermapbox"
           }
          ],
          "scatterpolar": [
           {
            "marker": {
             "colorbar": {
              "outlinewidth": 0,
              "ticks": ""
             }
            },
            "type": "scatterpolar"
           }
          ],
          "scatterpolargl": [
           {
            "marker": {
             "colorbar": {
              "outlinewidth": 0,
              "ticks": ""
             }
            },
            "type": "scatterpolargl"
           }
          ],
          "scatterternary": [
           {
            "marker": {
             "colorbar": {
              "outlinewidth": 0,
              "ticks": ""
             }
            },
            "type": "scatterternary"
           }
          ],
          "surface": [
           {
            "colorbar": {
             "outlinewidth": 0,
             "ticks": ""
            },
            "colorscale": [
             [
              0,
              "#0d0887"
             ],
             [
              0.1111111111111111,
              "#46039f"
             ],
             [
              0.2222222222222222,
              "#7201a8"
             ],
             [
              0.3333333333333333,
              "#9c179e"
             ],
             [
              0.4444444444444444,
              "#bd3786"
             ],
             [
              0.5555555555555556,
              "#d8576b"
             ],
             [
              0.6666666666666666,
              "#ed7953"
             ],
             [
              0.7777777777777778,
              "#fb9f3a"
             ],
             [
              0.8888888888888888,
              "#fdca26"
             ],
             [
              1,
              "#f0f921"
             ]
            ],
            "type": "surface"
           }
          ],
          "table": [
           {
            "cells": {
             "fill": {
              "color": "#EBF0F8"
             },
             "line": {
              "color": "white"
             }
            },
            "header": {
             "fill": {
              "color": "#C8D4E3"
             },
             "line": {
              "color": "white"
             }
            },
            "type": "table"
           }
          ]
         },
         "layout": {
          "annotationdefaults": {
           "arrowcolor": "#2a3f5f",
           "arrowhead": 0,
           "arrowwidth": 1
          },
          "autotypenumbers": "strict",
          "coloraxis": {
           "colorbar": {
            "outlinewidth": 0,
            "ticks": ""
           }
          },
          "colorscale": {
           "diverging": [
            [
             0,
             "#8e0152"
            ],
            [
             0.1,
             "#c51b7d"
            ],
            [
             0.2,
             "#de77ae"
            ],
            [
             0.3,
             "#f1b6da"
            ],
            [
             0.4,
             "#fde0ef"
            ],
            [
             0.5,
             "#f7f7f7"
            ],
            [
             0.6,
             "#e6f5d0"
            ],
            [
             0.7,
             "#b8e186"
            ],
            [
             0.8,
             "#7fbc41"
            ],
            [
             0.9,
             "#4d9221"
            ],
            [
             1,
             "#276419"
            ]
           ],
           "sequential": [
            [
             0,
             "#0d0887"
            ],
            [
             0.1111111111111111,
             "#46039f"
            ],
            [
             0.2222222222222222,
             "#7201a8"
            ],
            [
             0.3333333333333333,
             "#9c179e"
            ],
            [
             0.4444444444444444,
             "#bd3786"
            ],
            [
             0.5555555555555556,
             "#d8576b"
            ],
            [
             0.6666666666666666,
             "#ed7953"
            ],
            [
             0.7777777777777778,
             "#fb9f3a"
            ],
            [
             0.8888888888888888,
             "#fdca26"
            ],
            [
             1,
             "#f0f921"
            ]
           ],
           "sequentialminus": [
            [
             0,
             "#0d0887"
            ],
            [
             0.1111111111111111,
             "#46039f"
            ],
            [
             0.2222222222222222,
             "#7201a8"
            ],
            [
             0.3333333333333333,
             "#9c179e"
            ],
            [
             0.4444444444444444,
             "#bd3786"
            ],
            [
             0.5555555555555556,
             "#d8576b"
            ],
            [
             0.6666666666666666,
             "#ed7953"
            ],
            [
             0.7777777777777778,
             "#fb9f3a"
            ],
            [
             0.8888888888888888,
             "#fdca26"
            ],
            [
             1,
             "#f0f921"
            ]
           ]
          },
          "colorway": [
           "#636efa",
           "#EF553B",
           "#00cc96",
           "#ab63fa",
           "#FFA15A",
           "#19d3f3",
           "#FF6692",
           "#B6E880",
           "#FF97FF",
           "#FECB52"
          ],
          "font": {
           "color": "#2a3f5f"
          },
          "geo": {
           "bgcolor": "white",
           "lakecolor": "white",
           "landcolor": "#E5ECF6",
           "showlakes": true,
           "showland": true,
           "subunitcolor": "white"
          },
          "hoverlabel": {
           "align": "left"
          },
          "hovermode": "closest",
          "mapbox": {
           "style": "light"
          },
          "paper_bgcolor": "white",
          "plot_bgcolor": "#E5ECF6",
          "polar": {
           "angularaxis": {
            "gridcolor": "white",
            "linecolor": "white",
            "ticks": ""
           },
           "bgcolor": "#E5ECF6",
           "radialaxis": {
            "gridcolor": "white",
            "linecolor": "white",
            "ticks": ""
           }
          },
          "scene": {
           "xaxis": {
            "backgroundcolor": "#E5ECF6",
            "gridcolor": "white",
            "gridwidth": 2,
            "linecolor": "white",
            "showbackground": true,
            "ticks": "",
            "zerolinecolor": "white"
           },
           "yaxis": {
            "backgroundcolor": "#E5ECF6",
            "gridcolor": "white",
            "gridwidth": 2,
            "linecolor": "white",
            "showbackground": true,
            "ticks": "",
            "zerolinecolor": "white"
           },
           "zaxis": {
            "backgroundcolor": "#E5ECF6",
            "gridcolor": "white",
            "gridwidth": 2,
            "linecolor": "white",
            "showbackground": true,
            "ticks": "",
            "zerolinecolor": "white"
           }
          },
          "shapedefaults": {
           "line": {
            "color": "#2a3f5f"
           }
          },
          "ternary": {
           "aaxis": {
            "gridcolor": "white",
            "linecolor": "white",
            "ticks": ""
           },
           "baxis": {
            "gridcolor": "white",
            "linecolor": "white",
            "ticks": ""
           },
           "bgcolor": "#E5ECF6",
           "caxis": {
            "gridcolor": "white",
            "linecolor": "white",
            "ticks": ""
           }
          },
          "title": {
           "x": 0.05
          },
          "xaxis": {
           "automargin": true,
           "gridcolor": "white",
           "linecolor": "white",
           "ticks": "",
           "title": {
            "standoff": 15
           },
           "zerolinecolor": "white",
           "zerolinewidth": 2
          },
          "yaxis": {
           "automargin": true,
           "gridcolor": "white",
           "linecolor": "white",
           "ticks": "",
           "title": {
            "standoff": 15
           },
           "zerolinecolor": "white",
           "zerolinewidth": 2
          }
         }
        },
        "title": {
         "text": "Wind Gusts Difference"
        },
        "width": 800,
        "xaxis": {
         "autorange": true,
         "range": [
          0,
          254
         ],
         "title": {
          "text": "Index"
         }
        },
        "yaxis": {
         "autorange": true,
         "range": [
          -3.5983746787471453,
          3.4668167017875824
         ],
         "title": {
          "text": "Difference"
         },
         "type": "linear"
        }
       }
      },
      "image/png": "[encoded data removed]",
      "text/html": [
       "<div>                            <div id=\"037edf57-7c8a-4410-8db4-51a8ae7c482d\" class=\"plotly-graph-div\" style=\"height:400px; width:800px;\"></div>            <script type=\"text/javascript\">                require([\"plotly\"], function(Plotly) {                    window.PLOTLYENV=window.PLOTLYENV || {};                                    if (document.getElementById(\"037edf57-7c8a-4410-8db4-51a8ae7c482d\")) {                    Plotly.newPlot(                        \"037edf57-7c8a-4410-8db4-51a8ae7c482d\",                        [{\"line\":{\"color\":\"#283952\"},\"mode\":\"lines\",\"name\":\"Wind Gusts Difference\",\"y\":[-0.34986038053549606,1.4568153263318422,-0.38959357349052226,-0.47717366258103766,1.0230881497771662,-0.40273711163329295,0.12424464746249697,-1.7850928336558205,-2.08544829971979,0.015722917933430836,0.6126064083870446,-0.34999141338757056,0.5612527144947634,2.3976281301590916,-0.635645417866364,0.9487187636015051,-1.1459827566549166,-0.4040280850362521,-1.366436332029103,0.8439908674839245,-2.187284621542851,-0.6043947896096036,1.4193691201565244,-1.4094525399525892,0.5595717494316901,0.9911377254606997,-2.566278501315413,-0.4879762344994205,0.20313321992916045,1.3179312464405228,0.001514728260548992,0.04665952630601211,-0.8259822891028392,-0.12117023007279926,-0.7436350303688855,1.6512942214800006,-0.6276545379060678,1.1966622492866925,0.44238742418809807,-2.5888237023409957,-1.318701673173308,-0.4989283922919512,-2.5047404446960755,-0.7312669832034828,0.7663309547953183,-0.7142681209293933,-1.4585270934673744,-0.8916404612577971,-0.6152292641791135,-0.4951208844473385,0.4765132110573873,-0.04035668017870009,0.4169067228853294,0.7815730846344593,-0.5764392080325855,0.6382692103058272,-0.23514237623611223,-1.508217739152613,-1.7378420978062898,-0.3014040884591118,-1.3595754834295164,1.1347211226184584,-1.1832690723792538,-1.342932776654692,0.412942353248301,0.7698613799863594,1.0121507398511191,0.94434715610128,-2.0037709134530672,-1.5232616897475992,-0.8374245892022785,0.23485538510898607,-0.12958012522165063,-2.021641124069376,0.00555651602329732,-2.1537048311594376,0.23049869762596842,0.49998743396082546,-0.5680308569272832,0.12272022481453604,1.1469645161447843,-2.7951821165499027,-2.110657956389531,-3.1290791760733825,1.48229853555803,-0.8249008890960532,-0.16701327986457315,0.07601920141623708,0.9530832892205012,0.5721836476614897,0.8566525917316596,-0.026046054018536324,-0.06887673074209388,-0.40338804548407836,1.2087926804406806,-0.5814117560113417,1.5321377248226042,0.7672644336168091,1.1961507262415516,-1.022811082478686,-0.6399548958871861,1.6521660931919548,0.5279415323490397,0.10001433831914852,-0.4612811016029923,0.3817673966070032,-1.174377038010114,1.6675437034430587,0.10400979930561505,-0.07793813722179266,1.1899941333365724,-2.7427645095771425,0.08029569243883827,-3.245115109720409,-0.8161514675338211,0.08750661868567278,-2.3561445973218973,0.5938446394571208,1.6092523228552675,-0.5112612296852603,0.5745661405578737,0.20673091906986585,-0.6618171231363341,2.8515806966039463,0.8118772620711923,-0.8076070169864593,0.8764970408007287,0.37873787726203645,-1.2734171081505323,0.388317687472032,-2.0305592318273185,0.009468395053886525,-1.0840093992698634,-0.4261085670843414,0.6097915956149009,-1.9401300583067496,-1.3337137307606461,-1.228161741910121,0.0013467408814733517,-0.2523512667553547,0.0888563165782088,-0.8829587794190417,0.2807252270412377,1.3215237308489662,-1.7595068484808678,-0.672577162052459,-1.4447805985562638,2.65591676554601,0.2109580591289415,0.5805175255476414,-0.06752287192501427,-0.005900221688158069,0.8138219157997,-0.10373543062711832,0.40730949473643463,-0.8128897591150164,-1.4472982641505148,0.29095350794648667,-0.4331503572202422,0.3028440295337802,0.8695655757357059,-0.5586146268116963,0.9543823432852179,0.45281740123435554,-0.46811276398232593,1.8709271130763625,-0.6704740882486355,-1.0902766090820357,-1.3530115976569306,-1.941065666610104,-0.03753328482253693,-1.4612750653760571,-1.4471077814071762,1.1201688346376102,0.9288807059660087,-0.014256310947960316,0.36953412280493936,-0.9503066666837583,-1.5885489913120026,-0.7185200920782755,-0.31528139131028254,3.113557132760846,0.5106958542288851,1.2658875692835494,-0.40116879016080276,0.16265999982270074,1.433314583623936,-1.0197450408272601,-0.0835481011459116,0.1948366766468297,-0.026082761377590913,-1.152653721820787,1.0091397385473204,-0.10884095049415876,0.1952143337152208,-0.667300891817117,-0.5439773182035914,1.0690261786621917,0.4512593560866378,0.9819931411993039,0.5700827423246011,-1.7913314182468767,0.7338020824367888,1.2216935270307303,-0.14278581851144878,0.5101926974790558,-0.4015335387731831,1.1814439708093296,-0.8650715947931644,0.557605856521171,0.20558795724470613,0.24952342770030356,-0.47289410157141987,0.5813676653817161,2.1290507254703286,-0.40779811512662434,-0.914785141675317,-0.3144234745643466,-0.0795921716081871,-1.0889055275078263,0.805834062020427,2.253006708832345,0.45292572218380656,1.3722013913697708,0.2898973552099804,-0.41668345745256374,-0.9011538503964971,-2.01727776642257,-2.9641495565100886,-1.013586419027476,0.4909073532295345,1.0487739633636863,0.33894889588852806,0.8598862690656333,-0.6808147163222351,1.2381322852895593,0.8112610842914414,1.032195334666465,0.11939191047051878,0.2129036221362881,1.2887048925096494,0.13890951986800815,0.9008203164533057,-0.4760805592149566,2.4971875216866835,-2.9791108718745605,0.34602261166670445,-0.19823829048072383,1.5427234604567204,0.784712444442242,0.01533589179049244,1.1923052871194102,-2.0419606543793662,-0.2179531113703419,1.1648735784565503],\"type\":\"scatter\"}],                        {\"template\":{\"data\":{\"histogram2dcontour\":[{\"type\":\"histogram2dcontour\",\"colorbar\":{\"outlinewidth\":0,\"ticks\":\"\"},\"colorscale\":[[0.0,\"#0d0887\"],[0.1111111111111111,\"#46039f\"],[0.2222222222222222,\"#7201a8\"],[0.3333333333333333,\"#9c179e\"],[0.4444444444444444,\"#bd3786\"],[0.5555555555555556,\"#d8576b\"],[0.6666666666666666,\"#ed7953\"],[0.7777777777777778,\"#fb9f3a\"],[0.8888888888888888,\"#fdca26\"],[1.0,\"#f0f921\"]]}],\"choropleth\":[{\"type\":\"choropleth\",\"colorbar\":{\"outlinewidth\":0,\"ticks\":\"\"}}],\"histogram2d\":[{\"type\":\"histogram2d\",\"colorbar\":{\"outlinewidth\":0,\"ticks\":\"\"},\"colorscale\":[[0.0,\"#0d0887\"],[0.1111111111111111,\"#46039f\"],[0.2222222222222222,\"#7201a8\"],[0.3333333333333333,\"#9c179e\"],[0.4444444444444444,\"#bd3786\"],[0.5555555555555556,\"#d8576b\"],[0.6666666666666666,\"#ed7953\"],[0.7777777777777778,\"#fb9f3a\"],[0.8888888888888888,\"#fdca26\"],[1.0,\"#f0f921\"]]}],\"heatmap\":[{\"type\":\"heatmap\",\"colorbar\":{\"outlinewidth\":0,\"ticks\":\"\"},\"colorscale\":[[0.0,\"#0d0887\"],[0.1111111111111111,\"#46039f\"],[0.2222222222222222,\"#7201a8\"],[0.3333333333333333,\"#9c179e\"],[0.4444444444444444,\"#bd3786\"],[0.5555555555555556,\"#d8576b\"],[0.6666666666666666,\"#ed7953\"],[0.7777777777777778,\"#fb9f3a\"],[0.8888888888888888,\"#fdca26\"],[1.0,\"#f0f921\"]]}],\"heatmapgl\":[{\"type\":\"heatmapgl\",\"colorbar\":{\"outlinewidth\":0,\"ticks\":\"\"},\"colorscale\":[[0.0,\"#0d0887\"],[0.1111111111111111,\"#46039f\"],[0.2222222222222222,\"#7201a8\"],[0.3333333333333333,\"#9c179e\"],[0.4444444444444444,\"#bd3786\"],[0.5555555555555556,\"#d8576b\"],[0.6666666666666666,\"#ed7953\"],[0.7777777777777778,\"#fb9f3a\"],[0.8888888888888888,\"#fdca26\"],[1.0,\"#f0f921\"]]}],\"contourcarpet\":[{\"type\":\"contourcarpet\",\"colorbar\":{\"outlinewidth\":0,\"ticks\":\"\"}}],\"contour\":[{\"type\":\"contour\",\"colorbar\":{\"outlinewidth\":0,\"ticks\":\"\"},\"colorscale\":[[0.0,\"#0d0887\"],[0.1111111111111111,\"#46039f\"],[0.2222222222222222,\"#7201a8\"],[0.3333333333333333,\"#9c179e\"],[0.4444444444444444,\"#bd3786\"],[0.5555555555555556,\"#d8576b\"],[0.6666666666666666,\"#ed7953\"],[0.7777777777777778,\"#fb9f3a\"],[0.8888888888888888,\"#fdca26\"],[1.0,\"#f0f921\"]]}],\"surface\":[{\"type\":\"surface\",\"colorbar\":{\"outlinewidth\":0,\"ticks\":\"\"},\"colorscale\":[[0.0,\"#0d0887\"],[0.1111111111111111,\"#46039f\"],[0.2222222222222222,\"#7201a8\"],[0.3333333333333333,\"#9c179e\"],[0.4444444444444444,\"#bd3786\"],[0.5555555555555556,\"#d8576b\"],[0.6666666666666666,\"#ed7953\"],[0.7777777777777778,\"#fb9f3a\"],[0.8888888888888888,\"#fdca26\"],[1.0,\"#f0f921\"]]}],\"mesh3d\":[{\"type\":\"mesh3d\",\"colorbar\":{\"outlinewidth\":0,\"ticks\":\"\"}}],\"scatter\":[{\"fillpattern\":{\"fillmode\":\"overlay\",\"size\":10,\"solidity\":0.2},\"type\":\"scatter\"}],\"parcoords\":[{\"type\":\"parcoords\",\"line\":{\"colorbar\":{\"outlinewidth\":0,\"ticks\":\"\"}}}],\"scatterpolargl\":[{\"type\":\"scatterpolargl\",\"marker\":{\"colorbar\":{\"outlinewidth\":0,\"ticks\":\"\"}}}],\"bar\":[{\"error_x\":{\"color\":\"#2a3f5f\"},\"error_y\":{\"color\":\"#2a3f5f\"},\"marker\":{\"line\":{\"color\":\"#E5ECF6\",\"width\":0.5},\"pattern\":{\"fillmode\":\"overlay\",\"size\":10,\"solidity\":0.2}},\"type\":\"bar\"}],\"scattergeo\":[{\"type\":\"scattergeo\",\"marker\":{\"colorbar\":{\"outlinewidth\":0,\"ticks\":\"\"}}}],\"scatterpolar\":[{\"type\":\"scatterpolar\",\"marker\":{\"colorbar\":{\"outlinewidth\":0,\"ticks\":\"\"}}}],\"histogram\":[{\"marker\":{\"pattern\":{\"fillmode\":\"overlay\",\"size\":10,\"solidity\":0.2}},\"type\":\"histogram\"}],\"scattergl\":[{\"type\":\"scattergl\",\"marker\":{\"colorbar\":{\"outlinewidth\":0,\"ticks\":\"\"}}}],\"scatter3d\":[{\"type\":\"scatter3d\",\"line\":{\"colorbar\":{\"outlinewidth\":0,\"ticks\":\"\"}},\"marker\":{\"colorbar\":{\"outlinewidth\":0,\"ticks\":\"\"}}}],\"scattermapbox\":[{\"type\":\"scattermapbox\",\"marker\":{\"colorbar\":{\"outlinewidth\":0,\"ticks\":\"\"}}}],\"scatterternary\":[{\"type\":\"scatterternary\",\"marker\":{\"colorbar\":{\"outlinewidth\":0,\"ticks\":\"\"}}}],\"scattercarpet\":[{\"type\":\"scattercarpet\",\"marker\":{\"colorbar\":{\"outlinewidth\":0,\"ticks\":\"\"}}}],\"carpet\":[{\"aaxis\":{\"endlinecolor\":\"#2a3f5f\",\"gridcolor\":\"white\",\"linecolor\":\"white\",\"minorgridcolor\":\"white\",\"startlinecolor\":\"#2a3f5f\"},\"baxis\":{\"endlinecolor\":\"#2a3f5f\",\"gridcolor\":\"white\",\"linecolor\":\"white\",\"minorgridcolor\":\"white\",\"startlinecolor\":\"#2a3f5f\"},\"type\":\"carpet\"}],\"table\":[{\"cells\":{\"fill\":{\"color\":\"#EBF0F8\"},\"line\":{\"color\":\"white\"}},\"header\":{\"fill\":{\"color\":\"#C8D4E3\"},\"line\":{\"color\":\"white\"}},\"type\":\"table\"}],\"barpolar\":[{\"marker\":{\"line\":{\"color\":\"#E5ECF6\",\"width\":0.5},\"pattern\":{\"fillmode\":\"overlay\",\"size\":10,\"solidity\":0.2}},\"type\":\"barpolar\"}],\"pie\":[{\"automargin\":true,\"type\":\"pie\"}]},\"layout\":{\"autotypenumbers\":\"strict\",\"colorway\":[\"#636efa\",\"#EF553B\",\"#00cc96\",\"#ab63fa\",\"#FFA15A\",\"#19d3f3\",\"#FF6692\",\"#B6E880\",\"#FF97FF\",\"#FECB52\"],\"font\":{\"color\":\"#2a3f5f\"},\"hovermode\":\"closest\",\"hoverlabel\":{\"align\":\"left\"},\"paper_bgcolor\":\"white\",\"plot_bgcolor\":\"#E5ECF6\",\"polar\":{\"bgcolor\":\"#E5ECF6\",\"angularaxis\":{\"gridcolor\":\"white\",\"linecolor\":\"white\",\"ticks\":\"\"},\"radialaxis\":{\"gridcolor\":\"white\",\"linecolor\":\"white\",\"ticks\":\"\"}},\"ternary\":{\"bgcolor\":\"#E5ECF6\",\"aaxis\":{\"gridcolor\":\"white\",\"linecolor\":\"white\",\"ticks\":\"\"},\"baxis\":{\"gridcolor\":\"white\",\"linecolor\":\"white\",\"ticks\":\"\"},\"caxis\":{\"gridcolor\":\"white\",\"linecolor\":\"white\",\"ticks\":\"\"}},\"coloraxis\":{\"colorbar\":{\"outlinewidth\":0,\"ticks\":\"\"}},\"colorscale\":{\"sequential\":[[0.0,\"#0d0887\"],[0.1111111111111111,\"#46039f\"],[0.2222222222222222,\"#7201a8\"],[0.3333333333333333,\"#9c179e\"],[0.4444444444444444,\"#bd3786\"],[0.5555555555555556,\"#d8576b\"],[0.6666666666666666,\"#ed7953\"],[0.7777777777777778,\"#fb9f3a\"],[0.8888888888888888,\"#fdca26\"],[1.0,\"#f0f921\"]],\"sequentialminus\":[[0.0,\"#0d0887\"],[0.1111111111111111,\"#46039f\"],[0.2222222222222222,\"#7201a8\"],[0.3333333333333333,\"#9c179e\"],[0.4444444444444444,\"#bd3786\"],[0.5555555555555556,\"#d8576b\"],[0.6666666666666666,\"#ed7953\"],[0.7777777777777778,\"#fb9f3a\"],[0.8888888888888888,\"#fdca26\"],[1.0,\"#f0f921\"]],\"diverging\":[[0,\"#8e0152\"],[0.1,\"#c51b7d\"],[0.2,\"#de77ae\"],[0.3,\"#f1b6da\"],[0.4,\"#fde0ef\"],[0.5,\"#f7f7f7\"],[0.6,\"#e6f5d0\"],[0.7,\"#b8e186\"],[0.8,\"#7fbc41\"],[0.9,\"#4d9221\"],[1,\"#276419\"]]},\"xaxis\":{\"gridcolor\":\"white\",\"linecolor\":\"white\",\"ticks\":\"\",\"title\":{\"standoff\":15},\"zerolinecolor\":\"white\",\"automargin\":true,\"zerolinewidth\":2},\"yaxis\":{\"gridcolor\":\"white\",\"linecolor\":\"white\",\"ticks\":\"\",\"title\":{\"standoff\":15},\"zerolinecolor\":\"white\",\"automargin\":true,\"zerolinewidth\":2},\"scene\":{\"xaxis\":{\"backgroundcolor\":\"#E5ECF6\",\"gridcolor\":\"white\",\"linecolor\":\"white\",\"showbackground\":true,\"ticks\":\"\",\"zerolinecolor\":\"white\",\"gridwidth\":2},\"yaxis\":{\"backgroundcolor\":\"#E5ECF6\",\"gridcolor\":\"white\",\"linecolor\":\"white\",\"showbackground\":true,\"ticks\":\"\",\"zerolinecolor\":\"white\",\"gridwidth\":2},\"zaxis\":{\"backgroundcolor\":\"#E5ECF6\",\"gridcolor\":\"white\",\"linecolor\":\"white\",\"showbackground\":true,\"ticks\":\"\",\"zerolinecolor\":\"white\",\"gridwidth\":2}},\"shapedefaults\":{\"line\":{\"color\":\"#2a3f5f\"}},\"annotationdefaults\":{\"arrowcolor\":\"#2a3f5f\",\"arrowhead\":0,\"arrowwidth\":1},\"geo\":{\"bgcolor\":\"white\",\"landcolor\":\"#E5ECF6\",\"subunitcolor\":\"white\",\"showland\":true,\"showlakes\":true,\"lakecolor\":\"white\"},\"title\":{\"x\":0.05},\"mapbox\":{\"style\":\"light\"}}},\"title\":{\"text\":\"Wind Gusts Difference\"},\"xaxis\":{\"title\":{\"text\":\"Index\"}},\"yaxis\":{\"title\":{\"text\":\"Difference\"}},\"width\":800,\"height\":400},                        {\"responsive\": true}                    ).then(function(){\n",
       "                            \n",
       "var gd = document.getElementById('037edf57-7c8a-4410-8db4-51a8ae7c482d');\n",
       "var x = new MutationObserver(function (mutations, observer) {{\n",
       "        var display = window.getComputedStyle(gd).display;\n",
       "        if (!display || display === 'none') {{\n",
       "            console.log([gd, 'removed!']);\n",
       "            Plotly.purge(gd);\n",
       "            observer.disconnect();\n",
       "        }}\n",
       "}});\n",
       "\n",
       "// Listen for the removal of the full notebook cells\n",
       "var notebookContainer = gd.closest('#notebook-container');\n",
       "if (notebookContainer) {{\n",
       "    x.observe(notebookContainer, {childList: true});\n",
       "}}\n",
       "\n",
       "// Listen for the clearing of the current output cell\n",
       "var outputEl = gd.closest('.output');\n",
       "if (outputEl) {{\n",
       "    x.observe(outputEl, {childList: true});\n",
       "}}\n",
       "\n",
       "                        })                };                });            </script>        </div>"
      ]
     },
     "metadata": {},
     "output_type": "display_data"
    },
    {
     "data": {
      "application/vnd.plotly.v1+json": {
       "config": {
        "plotlyServerURL": "https://plot.ly"
       },
       "data": [
        {
         "line": {
          "color": "#8ED3AE"
         },
         "mode": "lines",
         "name": "Snowfall Sum Difference",
         "type": "scatter",
         "y": [
          0,
          0,
          0,
          0,
          0,
          0,
          0,
          0,
          0,
          0,
          0,
          0,
          0,
          0,
          0,
          0,
          0,
          0,
          0,
          0,
          0,
          0,
          0,
          0,
          0,
          0,
          0,
          0,
          0,
          0,
          0,
          0,
          0,
          0,
          0,
          0,
          0,
          0,
          0,
          0,
          0,
          0,
          0,
          0,
          0,
          0,
          0,
          0,
          0,
          0,
          0,
          0,
          0,
          0,
          0,
          0,
          0,
          0,
          0,
          0,
          0,
          0,
          0,
          0,
          0,
          0,
          0,
          0,
          0,
          0,
          0,
          0,
          0,
          0,
          0,
          0,
          0,
          0,
          0,
          0,
          0,
          0,
          0,
          0,
          0,
          0,
          0,
          0,
          0,
          0,
          0,
          0,
          0,
          0,
          0,
          0,
          0,
          0,
          0,
          0,
          0,
          0,
          0,
          0,
          0,
          0,
          0,
          0,
          0,
          0,
          0,
          0,
          0,
          0,
          0,
          0,
          0,
          0,
          0,
          0,
          0,
          0,
          0,
          0,
          0,
          0,
          0,
          0,
          0,
          0,
          0,
          0,
          0,
          0,
          0,
          0,
          0,
          0,
          0,
          0,
          0,
          0,
          0,
          0,
          0,
          0,
          0,
          0,
          0,
          0,
          0,
          0,
          0,
          0,
          0,
          0,
          0,
          0,
          0,
          0,
          0,
          0,
          0,
          0,
          0,
          0,
          0,
          0,
          0,
          0,
          0,
          0,
          0,
          0,
          0,
          0,
          0,
          0,
          0,
          0,
          0,
          0,
          0,
          0,
          0,
          0,
          0,
          0,
          0,
          0,
          0,
          0,
          0,
          0,
          0,
          0,
          0,
          0,
          0,
          0,
          0,
          0,
          0,
          0,
          0,
          0,
          0,
          0,
          0,
          0,
          0,
          0,
          0,
          0,
          0,
          0,
          0,
          0,
          0,
          0,
          0,
          0,
          0,
          0,
          0,
          0,
          0,
          0.0007059814496188535,
          0,
          0,
          0,
          0,
          0,
          0,
          0,
          0,
          0,
          0,
          0,
          0,
          0,
          0,
          -0.00075268815,
          -0.00075268815,
          -0.00075268815,
          -0.00075268815,
          -0.00075268815,
          -0.00075268815,
          -0.00075268815,
          -0.00075268815,
          0,
          0,
          0,
          0,
          0
         ]
        }
       ],
       "layout": {
        "height": 400,
        "template": {
         "data": {
          "bar": [
           {
            "error_x": {
             "color": "#2a3f5f"
            },
            "error_y": {
             "color": "#2a3f5f"
            },
            "marker": {
             "line": {
              "color": "#E5ECF6",
              "width": 0.5
             },
             "pattern": {
              "fillmode": "overlay",
              "size": 10,
              "solidity": 0.2
             }
            },
            "type": "bar"
           }
          ],
          "barpolar": [
           {
            "marker": {
             "line": {
              "color": "#E5ECF6",
              "width": 0.5
             },
             "pattern": {
              "fillmode": "overlay",
              "size": 10,
              "solidity": 0.2
             }
            },
            "type": "barpolar"
           }
          ],
          "carpet": [
           {
            "aaxis": {
             "endlinecolor": "#2a3f5f",
             "gridcolor": "white",
             "linecolor": "white",
             "minorgridcolor": "white",
             "startlinecolor": "#2a3f5f"
            },
            "baxis": {
             "endlinecolor": "#2a3f5f",
             "gridcolor": "white",
             "linecolor": "white",
             "minorgridcolor": "white",
             "startlinecolor": "#2a3f5f"
            },
            "type": "carpet"
           }
          ],
          "choropleth": [
           {
            "colorbar": {
             "outlinewidth": 0,
             "ticks": ""
            },
            "type": "choropleth"
           }
          ],
          "contour": [
           {
            "colorbar": {
             "outlinewidth": 0,
             "ticks": ""
            },
            "colorscale": [
             [
              0,
              "#0d0887"
             ],
             [
              0.1111111111111111,
              "#46039f"
             ],
             [
              0.2222222222222222,
              "#7201a8"
             ],
             [
              0.3333333333333333,
              "#9c179e"
             ],
             [
              0.4444444444444444,
              "#bd3786"
             ],
             [
              0.5555555555555556,
              "#d8576b"
             ],
             [
              0.6666666666666666,
              "#ed7953"
             ],
             [
              0.7777777777777778,
              "#fb9f3a"
             ],
             [
              0.8888888888888888,
              "#fdca26"
             ],
             [
              1,
              "#f0f921"
             ]
            ],
            "type": "contour"
           }
          ],
          "contourcarpet": [
           {
            "colorbar": {
             "outlinewidth": 0,
             "ticks": ""
            },
            "type": "contourcarpet"
           }
          ],
          "heatmap": [
           {
            "colorbar": {
             "outlinewidth": 0,
             "ticks": ""
            },
            "colorscale": [
             [
              0,
              "#0d0887"
             ],
             [
              0.1111111111111111,
              "#46039f"
             ],
             [
              0.2222222222222222,
              "#7201a8"
             ],
             [
              0.3333333333333333,
              "#9c179e"
             ],
             [
              0.4444444444444444,
              "#bd3786"
             ],
             [
              0.5555555555555556,
              "#d8576b"
             ],
             [
              0.6666666666666666,
              "#ed7953"
             ],
             [
              0.7777777777777778,
              "#fb9f3a"
             ],
             [
              0.8888888888888888,
              "#fdca26"
             ],
             [
              1,
              "#f0f921"
             ]
            ],
            "type": "heatmap"
           }
          ],
          "heatmapgl": [
           {
            "colorbar": {
             "outlinewidth": 0,
             "ticks": ""
            },
            "colorscale": [
             [
              0,
              "#0d0887"
             ],
             [
              0.1111111111111111,
              "#46039f"
             ],
             [
              0.2222222222222222,
              "#7201a8"
             ],
             [
              0.3333333333333333,
              "#9c179e"
             ],
             [
              0.4444444444444444,
              "#bd3786"
             ],
             [
              0.5555555555555556,
              "#d8576b"
             ],
             [
              0.6666666666666666,
              "#ed7953"
             ],
             [
              0.7777777777777778,
              "#fb9f3a"
             ],
             [
              0.8888888888888888,
              "#fdca26"
             ],
             [
              1,
              "#f0f921"
             ]
            ],
            "type": "heatmapgl"
           }
          ],
          "histogram": [
           {
            "marker": {
             "pattern": {
              "fillmode": "overlay",
              "size": 10,
              "solidity": 0.2
             }
            },
            "type": "histogram"
           }
          ],
          "histogram2d": [
           {
            "colorbar": {
             "outlinewidth": 0,
             "ticks": ""
            },
            "colorscale": [
             [
              0,
              "#0d0887"
             ],
             [
              0.1111111111111111,
              "#46039f"
             ],
             [
              0.2222222222222222,
              "#7201a8"
             ],
             [
              0.3333333333333333,
              "#9c179e"
             ],
             [
              0.4444444444444444,
              "#bd3786"
             ],
             [
              0.5555555555555556,
              "#d8576b"
             ],
             [
              0.6666666666666666,
              "#ed7953"
             ],
             [
              0.7777777777777778,
              "#fb9f3a"
             ],
             [
              0.8888888888888888,
              "#fdca26"
             ],
             [
              1,
              "#f0f921"
             ]
            ],
            "type": "histogram2d"
           }
          ],
          "histogram2dcontour": [
           {
            "colorbar": {
             "outlinewidth": 0,
             "ticks": ""
            },
            "colorscale": [
             [
              0,
              "#0d0887"
             ],
             [
              0.1111111111111111,
              "#46039f"
             ],
             [
              0.2222222222222222,
              "#7201a8"
             ],
             [
              0.3333333333333333,
              "#9c179e"
             ],
             [
              0.4444444444444444,
              "#bd3786"
             ],
             [
              0.5555555555555556,
              "#d8576b"
             ],
             [
              0.6666666666666666,
              "#ed7953"
             ],
             [
              0.7777777777777778,
              "#fb9f3a"
             ],
             [
              0.8888888888888888,
              "#fdca26"
             ],
             [
              1,
              "#f0f921"
             ]
            ],
            "type": "histogram2dcontour"
           }
          ],
          "mesh3d": [
           {
            "colorbar": {
             "outlinewidth": 0,
             "ticks": ""
            },
            "type": "mesh3d"
           }
          ],
          "parcoords": [
           {
            "line": {
             "colorbar": {
              "outlinewidth": 0,
              "ticks": ""
             }
            },
            "type": "parcoords"
           }
          ],
          "pie": [
           {
            "automargin": true,
            "type": "pie"
           }
          ],
          "scatter": [
           {
            "fillpattern": {
             "fillmode": "overlay",
             "size": 10,
             "solidity": 0.2
            },
            "type": "scatter"
           }
          ],
          "scatter3d": [
           {
            "line": {
             "colorbar": {
              "outlinewidth": 0,
              "ticks": ""
             }
            },
            "marker": {
             "colorbar": {
              "outlinewidth": 0,
              "ticks": ""
             }
            },
            "type": "scatter3d"
           }
          ],
          "scattercarpet": [
           {
            "marker": {
             "colorbar": {
              "outlinewidth": 0,
              "ticks": ""
             }
            },
            "type": "scattercarpet"
           }
          ],
          "scattergeo": [
           {
            "marker": {
             "colorbar": {
              "outlinewidth": 0,
              "ticks": ""
             }
            },
            "type": "scattergeo"
           }
          ],
          "scattergl": [
           {
            "marker": {
             "colorbar": {
              "outlinewidth": 0,
              "ticks": ""
             }
            },
            "type": "scattergl"
           }
          ],
          "scattermapbox": [
           {
            "marker": {
             "colorbar": {
              "outlinewidth": 0,
              "ticks": ""
             }
            },
            "type": "scattermapbox"
           }
          ],
          "scatterpolar": [
           {
            "marker": {
             "colorbar": {
              "outlinewidth": 0,
              "ticks": ""
             }
            },
            "type": "scatterpolar"
           }
          ],
          "scatterpolargl": [
           {
            "marker": {
             "colorbar": {
              "outlinewidth": 0,
              "ticks": ""
             }
            },
            "type": "scatterpolargl"
           }
          ],
          "scatterternary": [
           {
            "marker": {
             "colorbar": {
              "outlinewidth": 0,
              "ticks": ""
             }
            },
            "type": "scatterternary"
           }
          ],
          "surface": [
           {
            "colorbar": {
             "outlinewidth": 0,
             "ticks": ""
            },
            "colorscale": [
             [
              0,
              "#0d0887"
             ],
             [
              0.1111111111111111,
              "#46039f"
             ],
             [
              0.2222222222222222,
              "#7201a8"
             ],
             [
              0.3333333333333333,
              "#9c179e"
             ],
             [
              0.4444444444444444,
              "#bd3786"
             ],
             [
              0.5555555555555556,
              "#d8576b"
             ],
             [
              0.6666666666666666,
              "#ed7953"
             ],
             [
              0.7777777777777778,
              "#fb9f3a"
             ],
             [
              0.8888888888888888,
              "#fdca26"
             ],
             [
              1,
              "#f0f921"
             ]
            ],
            "type": "surface"
           }
          ],
          "table": [
           {
            "cells": {
             "fill": {
              "color": "#EBF0F8"
             },
             "line": {
              "color": "white"
             }
            },
            "header": {
             "fill": {
              "color": "#C8D4E3"
             },
             "line": {
              "color": "white"
             }
            },
            "type": "table"
           }
          ]
         },
         "layout": {
          "annotationdefaults": {
           "arrowcolor": "#2a3f5f",
           "arrowhead": 0,
           "arrowwidth": 1
          },
          "autotypenumbers": "strict",
          "coloraxis": {
           "colorbar": {
            "outlinewidth": 0,
            "ticks": ""
           }
          },
          "colorscale": {
           "diverging": [
            [
             0,
             "#8e0152"
            ],
            [
             0.1,
             "#c51b7d"
            ],
            [
             0.2,
             "#de77ae"
            ],
            [
             0.3,
             "#f1b6da"
            ],
            [
             0.4,
             "#fde0ef"
            ],
            [
             0.5,
             "#f7f7f7"
            ],
            [
             0.6,
             "#e6f5d0"
            ],
            [
             0.7,
             "#b8e186"
            ],
            [
             0.8,
             "#7fbc41"
            ],
            [
             0.9,
             "#4d9221"
            ],
            [
             1,
             "#276419"
            ]
           ],
           "sequential": [
            [
             0,
             "#0d0887"
            ],
            [
             0.1111111111111111,
             "#46039f"
            ],
            [
             0.2222222222222222,
             "#7201a8"
            ],
            [
             0.3333333333333333,
             "#9c179e"
            ],
            [
             0.4444444444444444,
             "#bd3786"
            ],
            [
             0.5555555555555556,
             "#d8576b"
            ],
            [
             0.6666666666666666,
             "#ed7953"
            ],
            [
             0.7777777777777778,
             "#fb9f3a"
            ],
            [
             0.8888888888888888,
             "#fdca26"
            ],
            [
             1,
             "#f0f921"
            ]
           ],
           "sequentialminus": [
            [
             0,
             "#0d0887"
            ],
            [
             0.1111111111111111,
             "#46039f"
            ],
            [
             0.2222222222222222,
             "#7201a8"
            ],
            [
             0.3333333333333333,
             "#9c179e"
            ],
            [
             0.4444444444444444,
             "#bd3786"
            ],
            [
             0.5555555555555556,
             "#d8576b"
            ],
            [
             0.6666666666666666,
             "#ed7953"
            ],
            [
             0.7777777777777778,
             "#fb9f3a"
            ],
            [
             0.8888888888888888,
             "#fdca26"
            ],
            [
             1,
             "#f0f921"
            ]
           ]
          },
          "colorway": [
           "#636efa",
           "#EF553B",
           "#00cc96",
           "#ab63fa",
           "#FFA15A",
           "#19d3f3",
           "#FF6692",
           "#B6E880",
           "#FF97FF",
           "#FECB52"
          ],
          "font": {
           "color": "#2a3f5f"
          },
          "geo": {
           "bgcolor": "white",
           "lakecolor": "white",
           "landcolor": "#E5ECF6",
           "showlakes": true,
           "showland": true,
           "subunitcolor": "white"
          },
          "hoverlabel": {
           "align": "left"
          },
          "hovermode": "closest",
          "mapbox": {
           "style": "light"
          },
          "paper_bgcolor": "white",
          "plot_bgcolor": "#E5ECF6",
          "polar": {
           "angularaxis": {
            "gridcolor": "white",
            "linecolor": "white",
            "ticks": ""
           },
           "bgcolor": "#E5ECF6",
           "radialaxis": {
            "gridcolor": "white",
            "linecolor": "white",
            "ticks": ""
           }
          },
          "scene": {
           "xaxis": {
            "backgroundcolor": "#E5ECF6",
            "gridcolor": "white",
            "gridwidth": 2,
            "linecolor": "white",
            "showbackground": true,
            "ticks": "",
            "zerolinecolor": "white"
           },
           "yaxis": {
            "backgroundcolor": "#E5ECF6",
            "gridcolor": "white",
            "gridwidth": 2,
            "linecolor": "white",
            "showbackground": true,
            "ticks": "",
            "zerolinecolor": "white"
           },
           "zaxis": {
            "backgroundcolor": "#E5ECF6",
            "gridcolor": "white",
            "gridwidth": 2,
            "linecolor": "white",
            "showbackground": true,
            "ticks": "",
            "zerolinecolor": "white"
           }
          },
          "shapedefaults": {
           "line": {
            "color": "#2a3f5f"
           }
          },
          "ternary": {
           "aaxis": {
            "gridcolor": "white",
            "linecolor": "white",
            "ticks": ""
           },
           "baxis": {
            "gridcolor": "white",
            "linecolor": "white",
            "ticks": ""
           },
           "bgcolor": "#E5ECF6",
           "caxis": {
            "gridcolor": "white",
            "linecolor": "white",
            "ticks": ""
           }
          },
          "title": {
           "x": 0.05
          },
          "xaxis": {
           "automargin": true,
           "gridcolor": "white",
           "linecolor": "white",
           "ticks": "",
           "title": {
            "standoff": 15
           },
           "zerolinecolor": "white",
           "zerolinewidth": 2
          },
          "yaxis": {
           "automargin": true,
           "gridcolor": "white",
           "linecolor": "white",
           "ticks": "",
           "title": {
            "standoff": 15
           },
           "zerolinecolor": "white",
           "zerolinewidth": 2
          }
         }
        },
        "title": {
         "text": "Snowfall Sum Difference"
        },
        "width": 800,
        "xaxis": {
         "autorange": true,
         "range": [
          0,
          254
         ],
         "title": {
          "text": "Index"
         }
        },
        "yaxis": {
         "autorange": true,
         "range": [
          -0.0008337253499788252,
          0.0007870186495976787
         ],
         "title": {
          "text": "Difference"
         },
         "type": "linear"
        }
       }
      },
      "image/png": "[encoded data removed]",
      "text/html": [
       "<div>                            <div id=\"7b15e6e8-dcac-4139-8b43-1dc6a846f541\" class=\"plotly-graph-div\" style=\"height:400px; width:800px;\"></div>            <script type=\"text/javascript\">                require([\"plotly\"], function(Plotly) {                    window.PLOTLYENV=window.PLOTLYENV || {};                                    if (document.getElementById(\"7b15e6e8-dcac-4139-8b43-1dc6a846f541\")) {                    Plotly.newPlot(                        \"7b15e6e8-dcac-4139-8b43-1dc6a846f541\",                        [{\"line\":{\"color\":\"#8ED3AE\"},\"mode\":\"lines\",\"name\":\"Snowfall Sum Difference\",\"y\":[0.0,0.0,0.0,0.0,0.0,0.0,0.0,0.0,0.0,0.0,0.0,0.0,0.0,0.0,0.0,0.0,0.0,0.0,0.0,0.0,0.0,0.0,0.0,0.0,0.0,0.0,0.0,0.0,0.0,0.0,0.0,0.0,0.0,0.0,0.0,0.0,0.0,0.0,0.0,0.0,0.0,0.0,0.0,0.0,0.0,0.0,0.0,0.0,0.0,0.0,0.0,0.0,0.0,0.0,0.0,0.0,0.0,0.0,0.0,0.0,0.0,0.0,0.0,0.0,0.0,0.0,0.0,0.0,0.0,0.0,0.0,0.0,0.0,0.0,0.0,0.0,0.0,0.0,0.0,0.0,0.0,0.0,0.0,0.0,0.0,0.0,0.0,0.0,0.0,0.0,0.0,0.0,0.0,0.0,0.0,0.0,0.0,0.0,0.0,0.0,0.0,0.0,0.0,0.0,0.0,0.0,0.0,0.0,0.0,0.0,0.0,0.0,0.0,0.0,0.0,0.0,0.0,0.0,0.0,0.0,0.0,0.0,0.0,0.0,0.0,0.0,0.0,0.0,0.0,0.0,0.0,0.0,0.0,0.0,0.0,0.0,0.0,0.0,0.0,0.0,0.0,0.0,0.0,0.0,0.0,0.0,0.0,0.0,0.0,0.0,0.0,0.0,0.0,0.0,0.0,0.0,0.0,0.0,0.0,0.0,0.0,0.0,0.0,0.0,0.0,0.0,0.0,0.0,0.0,0.0,0.0,0.0,0.0,0.0,0.0,0.0,0.0,0.0,0.0,0.0,0.0,0.0,0.0,0.0,0.0,0.0,0.0,0.0,0.0,0.0,0.0,0.0,0.0,0.0,0.0,0.0,0.0,0.0,0.0,0.0,0.0,0.0,0.0,0.0,0.0,0.0,0.0,0.0,0.0,0.0,0.0,0.0,0.0,0.0,0.0,0.0,0.0,0.0,0.0,0.0,0.0,0.0,0.0,0.0,0.0,0.0,0.0,0.0007059814496188535,0.0,0.0,0.0,0.0,0.0,0.0,0.0,0.0,0.0,0.0,0.0,0.0,0.0,0.0,-0.00075268815,-0.00075268815,-0.00075268815,-0.00075268815,-0.00075268815,-0.00075268815,-0.00075268815,-0.00075268815,0.0,0.0,0.0,0.0,0.0],\"type\":\"scatter\"}],                        {\"template\":{\"data\":{\"histogram2dcontour\":[{\"type\":\"histogram2dcontour\",\"colorbar\":{\"outlinewidth\":0,\"ticks\":\"\"},\"colorscale\":[[0.0,\"#0d0887\"],[0.1111111111111111,\"#46039f\"],[0.2222222222222222,\"#7201a8\"],[0.3333333333333333,\"#9c179e\"],[0.4444444444444444,\"#bd3786\"],[0.5555555555555556,\"#d8576b\"],[0.6666666666666666,\"#ed7953\"],[0.7777777777777778,\"#fb9f3a\"],[0.8888888888888888,\"#fdca26\"],[1.0,\"#f0f921\"]]}],\"choropleth\":[{\"type\":\"choropleth\",\"colorbar\":{\"outlinewidth\":0,\"ticks\":\"\"}}],\"histogram2d\":[{\"type\":\"histogram2d\",\"colorbar\":{\"outlinewidth\":0,\"ticks\":\"\"},\"colorscale\":[[0.0,\"#0d0887\"],[0.1111111111111111,\"#46039f\"],[0.2222222222222222,\"#7201a8\"],[0.3333333333333333,\"#9c179e\"],[0.4444444444444444,\"#bd3786\"],[0.5555555555555556,\"#d8576b\"],[0.6666666666666666,\"#ed7953\"],[0.7777777777777778,\"#fb9f3a\"],[0.8888888888888888,\"#fdca26\"],[1.0,\"#f0f921\"]]}],\"heatmap\":[{\"type\":\"heatmap\",\"colorbar\":{\"outlinewidth\":0,\"ticks\":\"\"},\"colorscale\":[[0.0,\"#0d0887\"],[0.1111111111111111,\"#46039f\"],[0.2222222222222222,\"#7201a8\"],[0.3333333333333333,\"#9c179e\"],[0.4444444444444444,\"#bd3786\"],[0.5555555555555556,\"#d8576b\"],[0.6666666666666666,\"#ed7953\"],[0.7777777777777778,\"#fb9f3a\"],[0.8888888888888888,\"#fdca26\"],[1.0,\"#f0f921\"]]}],\"heatmapgl\":[{\"type\":\"heatmapgl\",\"colorbar\":{\"outlinewidth\":0,\"ticks\":\"\"},\"colorscale\":[[0.0,\"#0d0887\"],[0.1111111111111111,\"#46039f\"],[0.2222222222222222,\"#7201a8\"],[0.3333333333333333,\"#9c179e\"],[0.4444444444444444,\"#bd3786\"],[0.5555555555555556,\"#d8576b\"],[0.6666666666666666,\"#ed7953\"],[0.7777777777777778,\"#fb9f3a\"],[0.8888888888888888,\"#fdca26\"],[1.0,\"#f0f921\"]]}],\"contourcarpet\":[{\"type\":\"contourcarpet\",\"colorbar\":{\"outlinewidth\":0,\"ticks\":\"\"}}],\"contour\":[{\"type\":\"contour\",\"colorbar\":{\"outlinewidth\":0,\"ticks\":\"\"},\"colorscale\":[[0.0,\"#0d0887\"],[0.1111111111111111,\"#46039f\"],[0.2222222222222222,\"#7201a8\"],[0.3333333333333333,\"#9c179e\"],[0.4444444444444444,\"#bd3786\"],[0.5555555555555556,\"#d8576b\"],[0.6666666666666666,\"#ed7953\"],[0.7777777777777778,\"#fb9f3a\"],[0.8888888888888888,\"#fdca26\"],[1.0,\"#f0f921\"]]}],\"surface\":[{\"type\":\"surface\",\"colorbar\":{\"outlinewidth\":0,\"ticks\":\"\"},\"colorscale\":[[0.0,\"#0d0887\"],[0.1111111111111111,\"#46039f\"],[0.2222222222222222,\"#7201a8\"],[0.3333333333333333,\"#9c179e\"],[0.4444444444444444,\"#bd3786\"],[0.5555555555555556,\"#d8576b\"],[0.6666666666666666,\"#ed7953\"],[0.7777777777777778,\"#fb9f3a\"],[0.8888888888888888,\"#fdca26\"],[1.0,\"#f0f921\"]]}],\"mesh3d\":[{\"type\":\"mesh3d\",\"colorbar\":{\"outlinewidth\":0,\"ticks\":\"\"}}],\"scatter\":[{\"fillpattern\":{\"fillmode\":\"overlay\",\"size\":10,\"solidity\":0.2},\"type\":\"scatter\"}],\"parcoords\":[{\"type\":\"parcoords\",\"line\":{\"colorbar\":{\"outlinewidth\":0,\"ticks\":\"\"}}}],\"scatterpolargl\":[{\"type\":\"scatterpolargl\",\"marker\":{\"colorbar\":{\"outlinewidth\":0,\"ticks\":\"\"}}}],\"bar\":[{\"error_x\":{\"color\":\"#2a3f5f\"},\"error_y\":{\"color\":\"#2a3f5f\"},\"marker\":{\"line\":{\"color\":\"#E5ECF6\",\"width\":0.5},\"pattern\":{\"fillmode\":\"overlay\",\"size\":10,\"solidity\":0.2}},\"type\":\"bar\"}],\"scattergeo\":[{\"type\":\"scattergeo\",\"marker\":{\"colorbar\":{\"outlinewidth\":0,\"ticks\":\"\"}}}],\"scatterpolar\":[{\"type\":\"scatterpolar\",\"marker\":{\"colorbar\":{\"outlinewidth\":0,\"ticks\":\"\"}}}],\"histogram\":[{\"marker\":{\"pattern\":{\"fillmode\":\"overlay\",\"size\":10,\"solidity\":0.2}},\"type\":\"histogram\"}],\"scattergl\":[{\"type\":\"scattergl\",\"marker\":{\"colorbar\":{\"outlinewidth\":0,\"ticks\":\"\"}}}],\"scatter3d\":[{\"type\":\"scatter3d\",\"line\":{\"colorbar\":{\"outlinewidth\":0,\"ticks\":\"\"}},\"marker\":{\"colorbar\":{\"outlinewidth\":0,\"ticks\":\"\"}}}],\"scattermapbox\":[{\"type\":\"scattermapbox\",\"marker\":{\"colorbar\":{\"outlinewidth\":0,\"ticks\":\"\"}}}],\"scatterternary\":[{\"type\":\"scatterternary\",\"marker\":{\"colorbar\":{\"outlinewidth\":0,\"ticks\":\"\"}}}],\"scattercarpet\":[{\"type\":\"scattercarpet\",\"marker\":{\"colorbar\":{\"outlinewidth\":0,\"ticks\":\"\"}}}],\"carpet\":[{\"aaxis\":{\"endlinecolor\":\"#2a3f5f\",\"gridcolor\":\"white\",\"linecolor\":\"white\",\"minorgridcolor\":\"white\",\"startlinecolor\":\"#2a3f5f\"},\"baxis\":{\"endlinecolor\":\"#2a3f5f\",\"gridcolor\":\"white\",\"linecolor\":\"white\",\"minorgridcolor\":\"white\",\"startlinecolor\":\"#2a3f5f\"},\"type\":\"carpet\"}],\"table\":[{\"cells\":{\"fill\":{\"color\":\"#EBF0F8\"},\"line\":{\"color\":\"white\"}},\"header\":{\"fill\":{\"color\":\"#C8D4E3\"},\"line\":{\"color\":\"white\"}},\"type\":\"table\"}],\"barpolar\":[{\"marker\":{\"line\":{\"color\":\"#E5ECF6\",\"width\":0.5},\"pattern\":{\"fillmode\":\"overlay\",\"size\":10,\"solidity\":0.2}},\"type\":\"barpolar\"}],\"pie\":[{\"automargin\":true,\"type\":\"pie\"}]},\"layout\":{\"autotypenumbers\":\"strict\",\"colorway\":[\"#636efa\",\"#EF553B\",\"#00cc96\",\"#ab63fa\",\"#FFA15A\",\"#19d3f3\",\"#FF6692\",\"#B6E880\",\"#FF97FF\",\"#FECB52\"],\"font\":{\"color\":\"#2a3f5f\"},\"hovermode\":\"closest\",\"hoverlabel\":{\"align\":\"left\"},\"paper_bgcolor\":\"white\",\"plot_bgcolor\":\"#E5ECF6\",\"polar\":{\"bgcolor\":\"#E5ECF6\",\"angularaxis\":{\"gridcolor\":\"white\",\"linecolor\":\"white\",\"ticks\":\"\"},\"radialaxis\":{\"gridcolor\":\"white\",\"linecolor\":\"white\",\"ticks\":\"\"}},\"ternary\":{\"bgcolor\":\"#E5ECF6\",\"aaxis\":{\"gridcolor\":\"white\",\"linecolor\":\"white\",\"ticks\":\"\"},\"baxis\":{\"gridcolor\":\"white\",\"linecolor\":\"white\",\"ticks\":\"\"},\"caxis\":{\"gridcolor\":\"white\",\"linecolor\":\"white\",\"ticks\":\"\"}},\"coloraxis\":{\"colorbar\":{\"outlinewidth\":0,\"ticks\":\"\"}},\"colorscale\":{\"sequential\":[[0.0,\"#0d0887\"],[0.1111111111111111,\"#46039f\"],[0.2222222222222222,\"#7201a8\"],[0.3333333333333333,\"#9c179e\"],[0.4444444444444444,\"#bd3786\"],[0.5555555555555556,\"#d8576b\"],[0.6666666666666666,\"#ed7953\"],[0.7777777777777778,\"#fb9f3a\"],[0.8888888888888888,\"#fdca26\"],[1.0,\"#f0f921\"]],\"sequentialminus\":[[0.0,\"#0d0887\"],[0.1111111111111111,\"#46039f\"],[0.2222222222222222,\"#7201a8\"],[0.3333333333333333,\"#9c179e\"],[0.4444444444444444,\"#bd3786\"],[0.5555555555555556,\"#d8576b\"],[0.6666666666666666,\"#ed7953\"],[0.7777777777777778,\"#fb9f3a\"],[0.8888888888888888,\"#fdca26\"],[1.0,\"#f0f921\"]],\"diverging\":[[0,\"#8e0152\"],[0.1,\"#c51b7d\"],[0.2,\"#de77ae\"],[0.3,\"#f1b6da\"],[0.4,\"#fde0ef\"],[0.5,\"#f7f7f7\"],[0.6,\"#e6f5d0\"],[0.7,\"#b8e186\"],[0.8,\"#7fbc41\"],[0.9,\"#4d9221\"],[1,\"#276419\"]]},\"xaxis\":{\"gridcolor\":\"white\",\"linecolor\":\"white\",\"ticks\":\"\",\"title\":{\"standoff\":15},\"zerolinecolor\":\"white\",\"automargin\":true,\"zerolinewidth\":2},\"yaxis\":{\"gridcolor\":\"white\",\"linecolor\":\"white\",\"ticks\":\"\",\"title\":{\"standoff\":15},\"zerolinecolor\":\"white\",\"automargin\":true,\"zerolinewidth\":2},\"scene\":{\"xaxis\":{\"backgroundcolor\":\"#E5ECF6\",\"gridcolor\":\"white\",\"linecolor\":\"white\",\"showbackground\":true,\"ticks\":\"\",\"zerolinecolor\":\"white\",\"gridwidth\":2},\"yaxis\":{\"backgroundcolor\":\"#E5ECF6\",\"gridcolor\":\"white\",\"linecolor\":\"white\",\"showbackground\":true,\"ticks\":\"\",\"zerolinecolor\":\"white\",\"gridwidth\":2},\"zaxis\":{\"backgroundcolor\":\"#E5ECF6\",\"gridcolor\":\"white\",\"linecolor\":\"white\",\"showbackground\":true,\"ticks\":\"\",\"zerolinecolor\":\"white\",\"gridwidth\":2}},\"shapedefaults\":{\"line\":{\"color\":\"#2a3f5f\"}},\"annotationdefaults\":{\"arrowcolor\":\"#2a3f5f\",\"arrowhead\":0,\"arrowwidth\":1},\"geo\":{\"bgcolor\":\"white\",\"landcolor\":\"#E5ECF6\",\"subunitcolor\":\"white\",\"showland\":true,\"showlakes\":true,\"lakecolor\":\"white\"},\"title\":{\"x\":0.05},\"mapbox\":{\"style\":\"light\"}}},\"title\":{\"text\":\"Snowfall Sum Difference\"},\"xaxis\":{\"title\":{\"text\":\"Index\"}},\"yaxis\":{\"title\":{\"text\":\"Difference\"}},\"width\":800,\"height\":400},                        {\"responsive\": true}                    ).then(function(){\n",
       "                            \n",
       "var gd = document.getElementById('7b15e6e8-dcac-4139-8b43-1dc6a846f541');\n",
       "var x = new MutationObserver(function (mutations, observer) {{\n",
       "        var display = window.getComputedStyle(gd).display;\n",
       "        if (!display || display === 'none') {{\n",
       "            console.log([gd, 'removed!']);\n",
       "            Plotly.purge(gd);\n",
       "            observer.disconnect();\n",
       "        }}\n",
       "}});\n",
       "\n",
       "// Listen for the removal of the full notebook cells\n",
       "var notebookContainer = gd.closest('#notebook-container');\n",
       "if (notebookContainer) {{\n",
       "    x.observe(notebookContainer, {childList: true});\n",
       "}}\n",
       "\n",
       "// Listen for the clearing of the current output cell\n",
       "var outputEl = gd.closest('.output');\n",
       "if (outputEl) {{\n",
       "    x.observe(outputEl, {childList: true});\n",
       "}}\n",
       "\n",
       "                        })                };                });            </script>        </div>"
      ]
     },
     "metadata": {},
     "output_type": "display_data"
    }
   ],
   "source": [
    "delta_days = np.genfromtxt('delta_days.csv', delimiter=',')\n",
    "delta_rain = np.genfromtxt('delta_rain.csv', delimiter=',')\n",
    "delta_wind_gusts = np.genfromtxt('delta_wind_gusts.csv', delimiter=',')\n",
    "delta_snowfall = np.genfromtxt('delta_snowfall.csv', delimiter=',')\n",
    "\n",
    "# Create subplots using Plotly\n",
    "fig1 = go.Figure()\n",
    "fig2 = go.Figure()\n",
    "fig3 = go.Figure()\n",
    "fig4 = go.Figure()\n",
    "\n",
    "# Plot the difference for each variable\n",
    "fig1.add_trace(go.Scatter(y=delta_days, mode='lines', name='Days Difference', line=dict(color='#48AF8A')))\n",
    "fig2.add_trace(go.Scatter(y=delta_rain, mode='lines', name='Rain Sum Difference', line=dict(color='#519EE5')))\n",
    "fig3.add_trace(go.Scatter(y=delta_wind_gusts, mode='lines', name='Wind Gusts Difference', line=dict(color='#283952')))\n",
    "fig4.add_trace(go.Scatter(y=delta_snowfall, mode='lines', name='Snowfall Sum Difference', line=dict(color='#8ED3AE')))\n",
    "\n",
    "# Update layout for each figure\n",
    "fig1.update_layout(title='Days Difference', xaxis_title='Index', yaxis_title='Difference', width=800, height=400)\n",
    "fig2.update_layout(title='Rain Sum Difference', xaxis_title='Index', yaxis_title='Difference', width=800, height=400)\n",
    "fig3.update_layout(title='Wind Gusts Difference', xaxis_title='Index', yaxis_title='Difference', width=800, height=400)\n",
    "fig4.update_layout(title='Snowfall Sum Difference', xaxis_title='Index', yaxis_title='Difference', width=800, height=400)\n",
    "\n",
    "# Show plots\n",
    "fig1.show()\n",
    "fig2.show()\n",
    "fig3.show()\n",
    "fig4.show()"
   ]
  },
  {
   "cell_type": "code",
   "execution_count": 90,
   "id": "250304bc-b139-481c-ac5c-46f0faa2c07e",
   "metadata": {},
   "outputs": [
    {
     "data": {
      "image/png": "[encoded data removed]",
      "text/plain": [
       "<Figure size 1200x800 with 4 Axes>"
      ]
     },
     "metadata": {},
     "output_type": "display_data"
    }
   ],
   "source": [
    "import matplotlib.pyplot as plt\n",
    "\n",
    "# Convert DataFrame columns to NumPy arrays\n",
    "days_original = datas['Days'].to_numpy()\n",
    "rain_original = datas['Entry_rain_sum'].to_numpy()\n",
    "wind_gusts_original = datas['Entry_wind_gusts_10m_max'].to_numpy()\n",
    "snowfall_original = datas['Entry_snowfall_sum'].to_numpy()\n",
    "\n",
    "# Calculate the difference between original and augmented data\n",
    "delta_days = augmented_df['Days'][255:].to_numpy() - days_original\n",
    "delta_rain = augmented_df['Entry_rain_sum'][255:].to_numpy() - rain_original\n",
    "delta_wind_gusts = augmented_df['Entry_wind_gusts_10m_max'][255:].to_numpy() - wind_gusts_original\n",
    "delta_snowfall = augmented_df['Entry_snowfall_sum'][255:].to_numpy() - snowfall_original\n",
    "\n",
    "# Create subplots\n",
    "fig, axs = plt.subplots(2, 2, figsize=(12, 8))\n",
    "\n",
    "# Plot the difference for each variable\n",
    "axs[0, 0].plot(delta_days, color='#48AF8A')\n",
    "axs[0, 0].set_title('Difference in Days')\n",
    "axs[0, 1].plot(delta_rain, color='#519EE5')\n",
    "axs[0, 1].set_title('Difference in Rain Sum')\n",
    "axs[1, 0].plot(delta_wind_gusts, color='#283952')\n",
    "axs[1, 0].set_title('Difference in Wind Gusts (10m max)')\n",
    "axs[1, 1].plot(delta_snowfall, color='#8ED3AE')\n",
    "axs[1, 1].set_title('Difference in Snowfall Sum')\n",
    "\n",
    "# Show plot\n",
    "plt.tight_layout()\n",
    "plt.show()\n"
   ]
  },
  {
   "cell_type": "code",
   "execution_count": 78,
   "id": "61934741-5c63-4e2e-8a2f-660fdae410c2",
   "metadata": {},
   "outputs": [
    {
     "data": {
      "application/vnd.plotly.v1+json": {
       "config": {
        "plotlyServerURL": "https://plot.ly"
       },
       "data": [
        {
         "line": {
          "color": "#48AF8A",
          "width": 2
         },
         "mode": "lines",
         "name": "Gaussian Distribution",
         "type": "scatter",
         "x": [
          -5,
          -4.898989898989899,
          -4.797979797979798,
          -4.696969696969697,
          -4.595959595959596,
          -4.494949494949495,
          -4.393939393939394,
          -4.292929292929293,
          -4.191919191919192,
          -4.090909090909091,
          -3.9898989898989896,
          -3.888888888888889,
          -3.787878787878788,
          -3.686868686868687,
          -3.5858585858585856,
          -3.484848484848485,
          -3.383838383838384,
          -3.282828282828283,
          -3.1818181818181817,
          -3.080808080808081,
          -2.9797979797979797,
          -2.878787878787879,
          -2.7777777777777777,
          -2.676767676767677,
          -2.5757575757575757,
          -2.474747474747475,
          -2.3737373737373737,
          -2.272727272727273,
          -2.1717171717171717,
          -2.070707070707071,
          -1.9696969696969697,
          -1.868686868686869,
          -1.7676767676767677,
          -1.6666666666666665,
          -1.5656565656565657,
          -1.4646464646464645,
          -1.3636363636363638,
          -1.2626262626262625,
          -1.1616161616161618,
          -1.0606060606060606,
          -0.9595959595959593,
          -0.858585858585859,
          -0.7575757575757578,
          -0.6565656565656566,
          -0.5555555555555554,
          -0.45454545454545503,
          -0.3535353535353538,
          -0.2525252525252526,
          -0.15151515151515138,
          -0.050505050505050164,
          0.050505050505050164,
          0.15151515151515138,
          0.2525252525252526,
          0.3535353535353538,
          0.45454545454545414,
          0.5555555555555554,
          0.6565656565656566,
          0.7575757575757578,
          0.8585858585858581,
          0.9595959595959593,
          1.0606060606060606,
          1.1616161616161618,
          1.262626262626262,
          1.3636363636363633,
          1.4646464646464645,
          1.5656565656565657,
          1.666666666666667,
          1.7676767676767673,
          1.8686868686868685,
          1.9696969696969697,
          2.070707070707071,
          2.1717171717171713,
          2.2727272727272725,
          2.3737373737373737,
          2.474747474747475,
          2.5757575757575752,
          2.6767676767676765,
          2.7777777777777777,
          2.878787878787879,
          2.9797979797979792,
          3.0808080808080813,
          3.1818181818181817,
          3.282828282828282,
          3.383838383838384,
          3.4848484848484844,
          3.5858585858585865,
          3.686868686868687,
          3.787878787878787,
          3.8888888888888893,
          3.9898989898989896,
          4.09090909090909,
          4.191919191919192,
          4.292929292929292,
          4.3939393939393945,
          4.494949494949495,
          4.595959595959595,
          4.696969696969697,
          4.797979797979798,
          4.8989898989899,
          5
         ],
         "y": [
          1.4867195147342979e-06,
          2.451061042942331e-06,
          3.9998903724166265e-06,
          6.461166392648796e-06,
          1.0331006581321705e-05,
          1.6350958895825316e-05,
          2.561608119513828e-05,
          3.9723822381414824e-05,
          6.09759039529897e-05,
          9.264763532301418e-05,
          0.000139341123134969,
          0.0002074403087679207,
          0.0003056862254780555,
          0.000445889724807599,
          0.0006437954979268651,
          0.0009201047696229659,
          0.0013016538416489132,
          0.0018227310960012768,
          0.0025264957781039343,
          0.0034664379189757624,
          0.00470779076312334,
          0.006328776428582762,
          0.008421534484118354,
          0.011092554839374866,
          0.01446241479763419,
          0.018664609934066448,
          0.023843274502042874,
          0.030149613916800638,
          0.03773692314063993,
          0.046754142406705466,
          0.05733800512481293,
          0.06960395839232576,
          0.0836361772145172,
          0.09947713879274872,
          0.11711735953274449,
          0.13648600918747048,
          0.15744318761884368,
          0.17977466512481263,
          0.20318983550122394,
          0.22732350563136094,
          0.2517419469842393,
          0.27595337147011534,
          0.29942268327109967,
          0.3215900234094101,
          0.34189229416612926,
          0.35978655781262325,
          0.3747739794063901,
          0.3864228530895687,
          0.3943892340049189,
          0.39843380169134646,
          0.39843380169134646,
          0.3943892340049189,
          0.3864228530895687,
          0.3747739794063901,
          0.35978655781262336,
          0.34189229416612926,
          0.3215900234094101,
          0.29942268327109967,
          0.2759533714701155,
          0.2517419469842393,
          0.22732350563136094,
          0.20318983550122394,
          0.17977466512481274,
          0.15744318761884377,
          0.13648600918747048,
          0.11711735953274449,
          0.09947713879274865,
          0.08363617721451726,
          0.06960395839232582,
          0.05733800512481293,
          0.046754142406705466,
          0.037736923140639964,
          0.030149613916800676,
          0.023843274502042874,
          0.018664609934066448,
          0.01446241479763421,
          0.01109255483937488,
          0.008421534484118354,
          0.006328776428582762,
          0.004707790763123343,
          0.0034664379189757563,
          0.0025264957781039343,
          0.0018227310960012818,
          0.0013016538416489132,
          0.0009201047696229674,
          0.0006437954979268627,
          0.000445889724807599,
          0.0003056862254780566,
          0.00020744030876792028,
          0.000139341123134969,
          9.26476353230145e-05,
          6.09759039529897e-05,
          3.972382238141496e-05,
          2.5616081195138144e-05,
          1.6350958895825316e-05,
          1.0331006581321742e-05,
          6.461166392648796e-06,
          3.9998903724166265e-06,
          2.451061042942322e-06,
          1.4867195147342979e-06
         ]
        }
       ],
       "layout": {
        "autosize": true,
        "plot_bgcolor": "white",
        "template": {
         "data": {
          "bar": [
           {
            "error_x": {
             "color": "#2a3f5f"
            },
            "error_y": {
             "color": "#2a3f5f"
            },
            "marker": {
             "line": {
              "color": "#E5ECF6",
              "width": 0.5
             },
             "pattern": {
              "fillmode": "overlay",
              "size": 10,
              "solidity": 0.2
             }
            },
            "type": "bar"
           }
          ],
          "barpolar": [
           {
            "marker": {
             "line": {
              "color": "#E5ECF6",
              "width": 0.5
             },
             "pattern": {
              "fillmode": "overlay",
              "size": 10,
              "solidity": 0.2
             }
            },
            "type": "barpolar"
           }
          ],
          "carpet": [
           {
            "aaxis": {
             "endlinecolor": "#2a3f5f",
             "gridcolor": "white",
             "linecolor": "white",
             "minorgridcolor": "white",
             "startlinecolor": "#2a3f5f"
            },
            "baxis": {
             "endlinecolor": "#2a3f5f",
             "gridcolor": "white",
             "linecolor": "white",
             "minorgridcolor": "white",
             "startlinecolor": "#2a3f5f"
            },
            "type": "carpet"
           }
          ],
          "choropleth": [
           {
            "colorbar": {
             "outlinewidth": 0,
             "ticks": ""
            },
            "type": "choropleth"
           }
          ],
          "contour": [
           {
            "colorbar": {
             "outlinewidth": 0,
             "ticks": ""
            },
            "colorscale": [
             [
              0,
              "#0d0887"
             ],
             [
              0.1111111111111111,
              "#46039f"
             ],
             [
              0.2222222222222222,
              "#7201a8"
             ],
             [
              0.3333333333333333,
              "#9c179e"
             ],
             [
              0.4444444444444444,
              "#bd3786"
             ],
             [
              0.5555555555555556,
              "#d8576b"
             ],
             [
              0.6666666666666666,
              "#ed7953"
             ],
             [
              0.7777777777777778,
              "#fb9f3a"
             ],
             [
              0.8888888888888888,
              "#fdca26"
             ],
             [
              1,
              "#f0f921"
             ]
            ],
            "type": "contour"
           }
          ],
          "contourcarpet": [
           {
            "colorbar": {
             "outlinewidth": 0,
             "ticks": ""
            },
            "type": "contourcarpet"
           }
          ],
          "heatmap": [
           {
            "colorbar": {
             "outlinewidth": 0,
             "ticks": ""
            },
            "colorscale": [
             [
              0,
              "#0d0887"
             ],
             [
              0.1111111111111111,
              "#46039f"
             ],
             [
              0.2222222222222222,
              "#7201a8"
             ],
             [
              0.3333333333333333,
              "#9c179e"
             ],
             [
              0.4444444444444444,
              "#bd3786"
             ],
             [
              0.5555555555555556,
              "#d8576b"
             ],
             [
              0.6666666666666666,
              "#ed7953"
             ],
             [
              0.7777777777777778,
              "#fb9f3a"
             ],
             [
              0.8888888888888888,
              "#fdca26"
             ],
             [
              1,
              "#f0f921"
             ]
            ],
            "type": "heatmap"
           }
          ],
          "heatmapgl": [
           {
            "colorbar": {
             "outlinewidth": 0,
             "ticks": ""
            },
            "colorscale": [
             [
              0,
              "#0d0887"
             ],
             [
              0.1111111111111111,
              "#46039f"
             ],
             [
              0.2222222222222222,
              "#7201a8"
             ],
             [
              0.3333333333333333,
              "#9c179e"
             ],
             [
              0.4444444444444444,
              "#bd3786"
             ],
             [
              0.5555555555555556,
              "#d8576b"
             ],
             [
              0.6666666666666666,
              "#ed7953"
             ],
             [
              0.7777777777777778,
              "#fb9f3a"
             ],
             [
              0.8888888888888888,
              "#fdca26"
             ],
             [
              1,
              "#f0f921"
             ]
            ],
            "type": "heatmapgl"
           }
          ],
          "histogram": [
           {
            "marker": {
             "pattern": {
              "fillmode": "overlay",
              "size": 10,
              "solidity": 0.2
             }
            },
            "type": "histogram"
           }
          ],
          "histogram2d": [
           {
            "colorbar": {
             "outlinewidth": 0,
             "ticks": ""
            },
            "colorscale": [
             [
              0,
              "#0d0887"
             ],
             [
              0.1111111111111111,
              "#46039f"
             ],
             [
              0.2222222222222222,
              "#7201a8"
             ],
             [
              0.3333333333333333,
              "#9c179e"
             ],
             [
              0.4444444444444444,
              "#bd3786"
             ],
             [
              0.5555555555555556,
              "#d8576b"
             ],
             [
              0.6666666666666666,
              "#ed7953"
             ],
             [
              0.7777777777777778,
              "#fb9f3a"
             ],
             [
              0.8888888888888888,
              "#fdca26"
             ],
             [
              1,
              "#f0f921"
             ]
            ],
            "type": "histogram2d"
           }
          ],
          "histogram2dcontour": [
           {
            "colorbar": {
             "outlinewidth": 0,
             "ticks": ""
            },
            "colorscale": [
             [
              0,
              "#0d0887"
             ],
             [
              0.1111111111111111,
              "#46039f"
             ],
             [
              0.2222222222222222,
              "#7201a8"
             ],
             [
              0.3333333333333333,
              "#9c179e"
             ],
             [
              0.4444444444444444,
              "#bd3786"
             ],
             [
              0.5555555555555556,
              "#d8576b"
             ],
             [
              0.6666666666666666,
              "#ed7953"
             ],
             [
              0.7777777777777778,
              "#fb9f3a"
             ],
             [
              0.8888888888888888,
              "#fdca26"
             ],
             [
              1,
              "#f0f921"
             ]
            ],
            "type": "histogram2dcontour"
           }
          ],
          "mesh3d": [
           {
            "colorbar": {
             "outlinewidth": 0,
             "ticks": ""
            },
            "type": "mesh3d"
           }
          ],
          "parcoords": [
           {
            "line": {
             "colorbar": {
              "outlinewidth": 0,
              "ticks": ""
             }
            },
            "type": "parcoords"
           }
          ],
          "pie": [
           {
            "automargin": true,
            "type": "pie"
           }
          ],
          "scatter": [
           {
            "fillpattern": {
             "fillmode": "overlay",
             "size": 10,
             "solidity": 0.2
            },
            "type": "scatter"
           }
          ],
          "scatter3d": [
           {
            "line": {
             "colorbar": {
              "outlinewidth": 0,
              "ticks": ""
             }
            },
            "marker": {
             "colorbar": {
              "outlinewidth": 0,
              "ticks": ""
             }
            },
            "type": "scatter3d"
           }
          ],
          "scattercarpet": [
           {
            "marker": {
             "colorbar": {
              "outlinewidth": 0,
              "ticks": ""
             }
            },
            "type": "scattercarpet"
           }
          ],
          "scattergeo": [
           {
            "marker": {
             "colorbar": {
              "outlinewidth": 0,
              "ticks": ""
             }
            },
            "type": "scattergeo"
           }
          ],
          "scattergl": [
           {
            "marker": {
             "colorbar": {
              "outlinewidth": 0,
              "ticks": ""
             }
            },
            "type": "scattergl"
           }
          ],
          "scattermapbox": [
           {
            "marker": {
             "colorbar": {
              "outlinewidth": 0,
              "ticks": ""
             }
            },
            "type": "scattermapbox"
           }
          ],
          "scatterpolar": [
           {
            "marker": {
             "colorbar": {
              "outlinewidth": 0,
              "ticks": ""
             }
            },
            "type": "scatterpolar"
           }
          ],
          "scatterpolargl": [
           {
            "marker": {
             "colorbar": {
              "outlinewidth": 0,
              "ticks": ""
             }
            },
            "type": "scatterpolargl"
           }
          ],
          "scatterternary": [
           {
            "marker": {
             "colorbar": {
              "outlinewidth": 0,
              "ticks": ""
             }
            },
            "type": "scatterternary"
           }
          ],
          "surface": [
           {
            "colorbar": {
             "outlinewidth": 0,
             "ticks": ""
            },
            "colorscale": [
             [
              0,
              "#0d0887"
             ],
             [
              0.1111111111111111,
              "#46039f"
             ],
             [
              0.2222222222222222,
              "#7201a8"
             ],
             [
              0.3333333333333333,
              "#9c179e"
             ],
             [
              0.4444444444444444,
              "#bd3786"
             ],
             [
              0.5555555555555556,
              "#d8576b"
             ],
             [
              0.6666666666666666,
              "#ed7953"
             ],
             [
              0.7777777777777778,
              "#fb9f3a"
             ],
             [
              0.8888888888888888,
              "#fdca26"
             ],
             [
              1,
              "#f0f921"
             ]
            ],
            "type": "surface"
           }
          ],
          "table": [
           {
            "cells": {
             "fill": {
              "color": "#EBF0F8"
             },
             "line": {
              "color": "white"
             }
            },
            "header": {
             "fill": {
              "color": "#C8D4E3"
             },
             "line": {
              "color": "white"
             }
            },
            "type": "table"
           }
          ]
         },
         "layout": {
          "annotationdefaults": {
           "arrowcolor": "#2a3f5f",
           "arrowhead": 0,
           "arrowwidth": 1
          },
          "autotypenumbers": "strict",
          "coloraxis": {
           "colorbar": {
            "outlinewidth": 0,
            "ticks": ""
           }
          },
          "colorscale": {
           "diverging": [
            [
             0,
             "#8e0152"
            ],
            [
             0.1,
             "#c51b7d"
            ],
            [
             0.2,
             "#de77ae"
            ],
            [
             0.3,
             "#f1b6da"
            ],
            [
             0.4,
             "#fde0ef"
            ],
            [
             0.5,
             "#f7f7f7"
            ],
            [
             0.6,
             "#e6f5d0"
            ],
            [
             0.7,
             "#b8e186"
            ],
            [
             0.8,
             "#7fbc41"
            ],
            [
             0.9,
             "#4d9221"
            ],
            [
             1,
             "#276419"
            ]
           ],
           "sequential": [
            [
             0,
             "#0d0887"
            ],
            [
             0.1111111111111111,
             "#46039f"
            ],
            [
             0.2222222222222222,
             "#7201a8"
            ],
            [
             0.3333333333333333,
             "#9c179e"
            ],
            [
             0.4444444444444444,
             "#bd3786"
            ],
            [
             0.5555555555555556,
             "#d8576b"
            ],
            [
             0.6666666666666666,
             "#ed7953"
            ],
            [
             0.7777777777777778,
             "#fb9f3a"
            ],
            [
             0.8888888888888888,
             "#fdca26"
            ],
            [
             1,
             "#f0f921"
            ]
           ],
           "sequentialminus": [
            [
             0,
             "#0d0887"
            ],
            [
             0.1111111111111111,
             "#46039f"
            ],
            [
             0.2222222222222222,
             "#7201a8"
            ],
            [
             0.3333333333333333,
             "#9c179e"
            ],
            [
             0.4444444444444444,
             "#bd3786"
            ],
            [
             0.5555555555555556,
             "#d8576b"
            ],
            [
             0.6666666666666666,
             "#ed7953"
            ],
            [
             0.7777777777777778,
             "#fb9f3a"
            ],
            [
             0.8888888888888888,
             "#fdca26"
            ],
            [
             1,
             "#f0f921"
            ]
           ]
          },
          "colorway": [
           "#636efa",
           "#EF553B",
           "#00cc96",
           "#ab63fa",
           "#FFA15A",
           "#19d3f3",
           "#FF6692",
           "#B6E880",
           "#FF97FF",
           "#FECB52"
          ],
          "font": {
           "color": "#2a3f5f"
          },
          "geo": {
           "bgcolor": "white",
           "lakecolor": "white",
           "landcolor": "#E5ECF6",
           "showlakes": true,
           "showland": true,
           "subunitcolor": "white"
          },
          "hoverlabel": {
           "align": "left"
          },
          "hovermode": "closest",
          "mapbox": {
           "style": "light"
          },
          "paper_bgcolor": "white",
          "plot_bgcolor": "#E5ECF6",
          "polar": {
           "angularaxis": {
            "gridcolor": "white",
            "linecolor": "white",
            "ticks": ""
           },
           "bgcolor": "#E5ECF6",
           "radialaxis": {
            "gridcolor": "white",
            "linecolor": "white",
            "ticks": ""
           }
          },
          "scene": {
           "xaxis": {
            "backgroundcolor": "#E5ECF6",
            "gridcolor": "white",
            "gridwidth": 2,
            "linecolor": "white",
            "showbackground": true,
            "ticks": "",
            "zerolinecolor": "white"
           },
           "yaxis": {
            "backgroundcolor": "#E5ECF6",
            "gridcolor": "white",
            "gridwidth": 2,
            "linecolor": "white",
            "showbackground": true,
            "ticks": "",
            "zerolinecolor": "white"
           },
           "zaxis": {
            "backgroundcolor": "#E5ECF6",
            "gridcolor": "white",
            "gridwidth": 2,
            "linecolor": "white",
            "showbackground": true,
            "ticks": "",
            "zerolinecolor": "white"
           }
          },
          "shapedefaults": {
           "line": {
            "color": "#2a3f5f"
           }
          },
          "ternary": {
           "aaxis": {
            "gridcolor": "white",
            "linecolor": "white",
            "ticks": ""
           },
           "baxis": {
            "gridcolor": "white",
            "linecolor": "white",
            "ticks": ""
           },
           "bgcolor": "#E5ECF6",
           "caxis": {
            "gridcolor": "white",
            "linecolor": "white",
            "ticks": ""
           }
          },
          "title": {
           "x": 0.05
          },
          "xaxis": {
           "automargin": true,
           "gridcolor": "white",
           "linecolor": "white",
           "ticks": "",
           "title": {
            "standoff": 15
           },
           "zerolinecolor": "white",
           "zerolinewidth": 2
          },
          "yaxis": {
           "automargin": true,
           "gridcolor": "white",
           "linecolor": "white",
           "ticks": "",
           "title": {
            "standoff": 15
           },
           "zerolinecolor": "white",
           "zerolinewidth": 2
          }
         }
        },
        "title": {
         "text": "Gaussian Distribution"
        },
        "xaxis": {
         "autorange": true,
         "range": [
          -5,
          5
         ],
         "title": {
          "text": "X"
         },
         "type": "linear"
        },
        "yaxis": {
         "autorange": true,
         "range": [
          -0.02213364189003147,
          0.42056893030089265
         ],
         "title": {
          "text": "Probability Density"
         },
         "type": "linear"
        }
       }
      },
      "image/png": "[encoded data removed]",
      "text/html": [
       "<div>                            <div id=\"a3c75051-99c4-448c-9a83-a69a90c8651b\" class=\"plotly-graph-div\" style=\"height:525px; width:100%;\"></div>            <script type=\"text/javascript\">                require([\"plotly\"], function(Plotly) {                    window.PLOTLYENV=window.PLOTLYENV || {};                                    if (document.getElementById(\"a3c75051-99c4-448c-9a83-a69a90c8651b\")) {                    Plotly.newPlot(                        \"a3c75051-99c4-448c-9a83-a69a90c8651b\",                        [{\"line\":{\"color\":\"#48AF8A\",\"width\":2},\"mode\":\"lines\",\"name\":\"Gaussian Distribution\",\"x\":[-5.0,-4.898989898989899,-4.797979797979798,-4.696969696969697,-4.595959595959596,-4.494949494949495,-4.393939393939394,-4.292929292929293,-4.191919191919192,-4.090909090909091,-3.9898989898989896,-3.888888888888889,-3.787878787878788,-3.686868686868687,-3.5858585858585856,-3.484848484848485,-3.383838383838384,-3.282828282828283,-3.1818181818181817,-3.080808080808081,-2.9797979797979797,-2.878787878787879,-2.7777777777777777,-2.676767676767677,-2.5757575757575757,-2.474747474747475,-2.3737373737373737,-2.272727272727273,-2.1717171717171717,-2.070707070707071,-1.9696969696969697,-1.868686868686869,-1.7676767676767677,-1.6666666666666665,-1.5656565656565657,-1.4646464646464645,-1.3636363636363638,-1.2626262626262625,-1.1616161616161618,-1.0606060606060606,-0.9595959595959593,-0.858585858585859,-0.7575757575757578,-0.6565656565656566,-0.5555555555555554,-0.45454545454545503,-0.3535353535353538,-0.2525252525252526,-0.15151515151515138,-0.050505050505050164,0.050505050505050164,0.15151515151515138,0.2525252525252526,0.3535353535353538,0.45454545454545414,0.5555555555555554,0.6565656565656566,0.7575757575757578,0.8585858585858581,0.9595959595959593,1.0606060606060606,1.1616161616161618,1.262626262626262,1.3636363636363633,1.4646464646464645,1.5656565656565657,1.666666666666667,1.7676767676767673,1.8686868686868685,1.9696969696969697,2.070707070707071,2.1717171717171713,2.2727272727272725,2.3737373737373737,2.474747474747475,2.5757575757575752,2.6767676767676765,2.7777777777777777,2.878787878787879,2.9797979797979792,3.0808080808080813,3.1818181818181817,3.282828282828282,3.383838383838384,3.4848484848484844,3.5858585858585865,3.686868686868687,3.787878787878787,3.8888888888888893,3.9898989898989896,4.09090909090909,4.191919191919192,4.292929292929292,4.3939393939393945,4.494949494949495,4.595959595959595,4.696969696969697,4.797979797979798,4.8989898989899,5.0],\"y\":[1.4867195147342979e-06,2.451061042942331e-06,3.9998903724166265e-06,6.461166392648796e-06,1.0331006581321705e-05,1.6350958895825316e-05,2.561608119513828e-05,3.9723822381414824e-05,6.09759039529897e-05,9.264763532301418e-05,0.000139341123134969,0.0002074403087679207,0.0003056862254780555,0.000445889724807599,0.0006437954979268651,0.0009201047696229659,0.0013016538416489132,0.0018227310960012768,0.0025264957781039343,0.0034664379189757624,0.00470779076312334,0.006328776428582762,0.008421534484118354,0.011092554839374866,0.01446241479763419,0.018664609934066448,0.023843274502042874,0.030149613916800638,0.03773692314063993,0.046754142406705466,0.05733800512481293,0.06960395839232576,0.0836361772145172,0.09947713879274872,0.11711735953274449,0.13648600918747048,0.15744318761884368,0.17977466512481263,0.20318983550122394,0.22732350563136094,0.2517419469842393,0.27595337147011534,0.29942268327109967,0.3215900234094101,0.34189229416612926,0.35978655781262325,0.3747739794063901,0.3864228530895687,0.3943892340049189,0.39843380169134646,0.39843380169134646,0.3943892340049189,0.3864228530895687,0.3747739794063901,0.35978655781262336,0.34189229416612926,0.3215900234094101,0.29942268327109967,0.2759533714701155,0.2517419469842393,0.22732350563136094,0.20318983550122394,0.17977466512481274,0.15744318761884377,0.13648600918747048,0.11711735953274449,0.09947713879274865,0.08363617721451726,0.06960395839232582,0.05733800512481293,0.046754142406705466,0.037736923140639964,0.030149613916800676,0.023843274502042874,0.018664609934066448,0.01446241479763421,0.01109255483937488,0.008421534484118354,0.006328776428582762,0.004707790763123343,0.0034664379189757563,0.0025264957781039343,0.0018227310960012818,0.0013016538416489132,0.0009201047696229674,0.0006437954979268627,0.000445889724807599,0.0003056862254780566,0.00020744030876792028,0.000139341123134969,9.26476353230145e-05,6.09759039529897e-05,3.972382238141496e-05,2.5616081195138144e-05,1.6350958895825316e-05,1.0331006581321742e-05,6.461166392648796e-06,3.9998903724166265e-06,2.451061042942322e-06,1.4867195147342979e-06],\"type\":\"scatter\"}],                        {\"template\":{\"data\":{\"histogram2dcontour\":[{\"type\":\"histogram2dcontour\",\"colorbar\":{\"outlinewidth\":0,\"ticks\":\"\"},\"colorscale\":[[0.0,\"#0d0887\"],[0.1111111111111111,\"#46039f\"],[0.2222222222222222,\"#7201a8\"],[0.3333333333333333,\"#9c179e\"],[0.4444444444444444,\"#bd3786\"],[0.5555555555555556,\"#d8576b\"],[0.6666666666666666,\"#ed7953\"],[0.7777777777777778,\"#fb9f3a\"],[0.8888888888888888,\"#fdca26\"],[1.0,\"#f0f921\"]]}],\"choropleth\":[{\"type\":\"choropleth\",\"colorbar\":{\"outlinewidth\":0,\"ticks\":\"\"}}],\"histogram2d\":[{\"type\":\"histogram2d\",\"colorbar\":{\"outlinewidth\":0,\"ticks\":\"\"},\"colorscale\":[[0.0,\"#0d0887\"],[0.1111111111111111,\"#46039f\"],[0.2222222222222222,\"#7201a8\"],[0.3333333333333333,\"#9c179e\"],[0.4444444444444444,\"#bd3786\"],[0.5555555555555556,\"#d8576b\"],[0.6666666666666666,\"#ed7953\"],[0.7777777777777778,\"#fb9f3a\"],[0.8888888888888888,\"#fdca26\"],[1.0,\"#f0f921\"]]}],\"heatmap\":[{\"type\":\"heatmap\",\"colorbar\":{\"outlinewidth\":0,\"ticks\":\"\"},\"colorscale\":[[0.0,\"#0d0887\"],[0.1111111111111111,\"#46039f\"],[0.2222222222222222,\"#7201a8\"],[0.3333333333333333,\"#9c179e\"],[0.4444444444444444,\"#bd3786\"],[0.5555555555555556,\"#d8576b\"],[0.6666666666666666,\"#ed7953\"],[0.7777777777777778,\"#fb9f3a\"],[0.8888888888888888,\"#fdca26\"],[1.0,\"#f0f921\"]]}],\"heatmapgl\":[{\"type\":\"heatmapgl\",\"colorbar\":{\"outlinewidth\":0,\"ticks\":\"\"},\"colorscale\":[[0.0,\"#0d0887\"],[0.1111111111111111,\"#46039f\"],[0.2222222222222222,\"#7201a8\"],[0.3333333333333333,\"#9c179e\"],[0.4444444444444444,\"#bd3786\"],[0.5555555555555556,\"#d8576b\"],[0.6666666666666666,\"#ed7953\"],[0.7777777777777778,\"#fb9f3a\"],[0.8888888888888888,\"#fdca26\"],[1.0,\"#f0f921\"]]}],\"contourcarpet\":[{\"type\":\"contourcarpet\",\"colorbar\":{\"outlinewidth\":0,\"ticks\":\"\"}}],\"contour\":[{\"type\":\"contour\",\"colorbar\":{\"outlinewidth\":0,\"ticks\":\"\"},\"colorscale\":[[0.0,\"#0d0887\"],[0.1111111111111111,\"#46039f\"],[0.2222222222222222,\"#7201a8\"],[0.3333333333333333,\"#9c179e\"],[0.4444444444444444,\"#bd3786\"],[0.5555555555555556,\"#d8576b\"],[0.6666666666666666,\"#ed7953\"],[0.7777777777777778,\"#fb9f3a\"],[0.8888888888888888,\"#fdca26\"],[1.0,\"#f0f921\"]]}],\"surface\":[{\"type\":\"surface\",\"colorbar\":{\"outlinewidth\":0,\"ticks\":\"\"},\"colorscale\":[[0.0,\"#0d0887\"],[0.1111111111111111,\"#46039f\"],[0.2222222222222222,\"#7201a8\"],[0.3333333333333333,\"#9c179e\"],[0.4444444444444444,\"#bd3786\"],[0.5555555555555556,\"#d8576b\"],[0.6666666666666666,\"#ed7953\"],[0.7777777777777778,\"#fb9f3a\"],[0.8888888888888888,\"#fdca26\"],[1.0,\"#f0f921\"]]}],\"mesh3d\":[{\"type\":\"mesh3d\",\"colorbar\":{\"outlinewidth\":0,\"ticks\":\"\"}}],\"scatter\":[{\"fillpattern\":{\"fillmode\":\"overlay\",\"size\":10,\"solidity\":0.2},\"type\":\"scatter\"}],\"parcoords\":[{\"type\":\"parcoords\",\"line\":{\"colorbar\":{\"outlinewidth\":0,\"ticks\":\"\"}}}],\"scatterpolargl\":[{\"type\":\"scatterpolargl\",\"marker\":{\"colorbar\":{\"outlinewidth\":0,\"ticks\":\"\"}}}],\"bar\":[{\"error_x\":{\"color\":\"#2a3f5f\"},\"error_y\":{\"color\":\"#2a3f5f\"},\"marker\":{\"line\":{\"color\":\"#E5ECF6\",\"width\":0.5},\"pattern\":{\"fillmode\":\"overlay\",\"size\":10,\"solidity\":0.2}},\"type\":\"bar\"}],\"scattergeo\":[{\"type\":\"scattergeo\",\"marker\":{\"colorbar\":{\"outlinewidth\":0,\"ticks\":\"\"}}}],\"scatterpolar\":[{\"type\":\"scatterpolar\",\"marker\":{\"colorbar\":{\"outlinewidth\":0,\"ticks\":\"\"}}}],\"histogram\":[{\"marker\":{\"pattern\":{\"fillmode\":\"overlay\",\"size\":10,\"solidity\":0.2}},\"type\":\"histogram\"}],\"scattergl\":[{\"type\":\"scattergl\",\"marker\":{\"colorbar\":{\"outlinewidth\":0,\"ticks\":\"\"}}}],\"scatter3d\":[{\"type\":\"scatter3d\",\"line\":{\"colorbar\":{\"outlinewidth\":0,\"ticks\":\"\"}},\"marker\":{\"colorbar\":{\"outlinewidth\":0,\"ticks\":\"\"}}}],\"scattermapbox\":[{\"type\":\"scattermapbox\",\"marker\":{\"colorbar\":{\"outlinewidth\":0,\"ticks\":\"\"}}}],\"scatterternary\":[{\"type\":\"scatterternary\",\"marker\":{\"colorbar\":{\"outlinewidth\":0,\"ticks\":\"\"}}}],\"scattercarpet\":[{\"type\":\"scattercarpet\",\"marker\":{\"colorbar\":{\"outlinewidth\":0,\"ticks\":\"\"}}}],\"carpet\":[{\"aaxis\":{\"endlinecolor\":\"#2a3f5f\",\"gridcolor\":\"white\",\"linecolor\":\"white\",\"minorgridcolor\":\"white\",\"startlinecolor\":\"#2a3f5f\"},\"baxis\":{\"endlinecolor\":\"#2a3f5f\",\"gridcolor\":\"white\",\"linecolor\":\"white\",\"minorgridcolor\":\"white\",\"startlinecolor\":\"#2a3f5f\"},\"type\":\"carpet\"}],\"table\":[{\"cells\":{\"fill\":{\"color\":\"#EBF0F8\"},\"line\":{\"color\":\"white\"}},\"header\":{\"fill\":{\"color\":\"#C8D4E3\"},\"line\":{\"color\":\"white\"}},\"type\":\"table\"}],\"barpolar\":[{\"marker\":{\"line\":{\"color\":\"#E5ECF6\",\"width\":0.5},\"pattern\":{\"fillmode\":\"overlay\",\"size\":10,\"solidity\":0.2}},\"type\":\"barpolar\"}],\"pie\":[{\"automargin\":true,\"type\":\"pie\"}]},\"layout\":{\"autotypenumbers\":\"strict\",\"colorway\":[\"#636efa\",\"#EF553B\",\"#00cc96\",\"#ab63fa\",\"#FFA15A\",\"#19d3f3\",\"#FF6692\",\"#B6E880\",\"#FF97FF\",\"#FECB52\"],\"font\":{\"color\":\"#2a3f5f\"},\"hovermode\":\"closest\",\"hoverlabel\":{\"align\":\"left\"},\"paper_bgcolor\":\"white\",\"plot_bgcolor\":\"#E5ECF6\",\"polar\":{\"bgcolor\":\"#E5ECF6\",\"angularaxis\":{\"gridcolor\":\"white\",\"linecolor\":\"white\",\"ticks\":\"\"},\"radialaxis\":{\"gridcolor\":\"white\",\"linecolor\":\"white\",\"ticks\":\"\"}},\"ternary\":{\"bgcolor\":\"#E5ECF6\",\"aaxis\":{\"gridcolor\":\"white\",\"linecolor\":\"white\",\"ticks\":\"\"},\"baxis\":{\"gridcolor\":\"white\",\"linecolor\":\"white\",\"ticks\":\"\"},\"caxis\":{\"gridcolor\":\"white\",\"linecolor\":\"white\",\"ticks\":\"\"}},\"coloraxis\":{\"colorbar\":{\"outlinewidth\":0,\"ticks\":\"\"}},\"colorscale\":{\"sequential\":[[0.0,\"#0d0887\"],[0.1111111111111111,\"#46039f\"],[0.2222222222222222,\"#7201a8\"],[0.3333333333333333,\"#9c179e\"],[0.4444444444444444,\"#bd3786\"],[0.5555555555555556,\"#d8576b\"],[0.6666666666666666,\"#ed7953\"],[0.7777777777777778,\"#fb9f3a\"],[0.8888888888888888,\"#fdca26\"],[1.0,\"#f0f921\"]],\"sequentialminus\":[[0.0,\"#0d0887\"],[0.1111111111111111,\"#46039f\"],[0.2222222222222222,\"#7201a8\"],[0.3333333333333333,\"#9c179e\"],[0.4444444444444444,\"#bd3786\"],[0.5555555555555556,\"#d8576b\"],[0.6666666666666666,\"#ed7953\"],[0.7777777777777778,\"#fb9f3a\"],[0.8888888888888888,\"#fdca26\"],[1.0,\"#f0f921\"]],\"diverging\":[[0,\"#8e0152\"],[0.1,\"#c51b7d\"],[0.2,\"#de77ae\"],[0.3,\"#f1b6da\"],[0.4,\"#fde0ef\"],[0.5,\"#f7f7f7\"],[0.6,\"#e6f5d0\"],[0.7,\"#b8e186\"],[0.8,\"#7fbc41\"],[0.9,\"#4d9221\"],[1,\"#276419\"]]},\"xaxis\":{\"gridcolor\":\"white\",\"linecolor\":\"white\",\"ticks\":\"\",\"title\":{\"standoff\":15},\"zerolinecolor\":\"white\",\"automargin\":true,\"zerolinewidth\":2},\"yaxis\":{\"gridcolor\":\"white\",\"linecolor\":\"white\",\"ticks\":\"\",\"title\":{\"standoff\":15},\"zerolinecolor\":\"white\",\"automargin\":true,\"zerolinewidth\":2},\"scene\":{\"xaxis\":{\"backgroundcolor\":\"#E5ECF6\",\"gridcolor\":\"white\",\"linecolor\":\"white\",\"showbackground\":true,\"ticks\":\"\",\"zerolinecolor\":\"white\",\"gridwidth\":2},\"yaxis\":{\"backgroundcolor\":\"#E5ECF6\",\"gridcolor\":\"white\",\"linecolor\":\"white\",\"showbackground\":true,\"ticks\":\"\",\"zerolinecolor\":\"white\",\"gridwidth\":2},\"zaxis\":{\"backgroundcolor\":\"#E5ECF6\",\"gridcolor\":\"white\",\"linecolor\":\"white\",\"showbackground\":true,\"ticks\":\"\",\"zerolinecolor\":\"white\",\"gridwidth\":2}},\"shapedefaults\":{\"line\":{\"color\":\"#2a3f5f\"}},\"annotationdefaults\":{\"arrowcolor\":\"#2a3f5f\",\"arrowhead\":0,\"arrowwidth\":1},\"geo\":{\"bgcolor\":\"white\",\"landcolor\":\"#E5ECF6\",\"subunitcolor\":\"white\",\"showland\":true,\"showlakes\":true,\"lakecolor\":\"white\"},\"title\":{\"x\":0.05},\"mapbox\":{\"style\":\"light\"}}},\"title\":{\"text\":\"Gaussian Distribution\"},\"xaxis\":{\"title\":{\"text\":\"X\"}},\"yaxis\":{\"title\":{\"text\":\"Probability Density\"}},\"plot_bgcolor\":\"white\"},                        {\"responsive\": true}                    ).then(function(){\n",
       "                            \n",
       "var gd = document.getElementById('a3c75051-99c4-448c-9a83-a69a90c8651b');\n",
       "var x = new MutationObserver(function (mutations, observer) {{\n",
       "        var display = window.getComputedStyle(gd).display;\n",
       "        if (!display || display === 'none') {{\n",
       "            console.log([gd, 'removed!']);\n",
       "            Plotly.purge(gd);\n",
       "            observer.disconnect();\n",
       "        }}\n",
       "}});\n",
       "\n",
       "// Listen for the removal of the full notebook cells\n",
       "var notebookContainer = gd.closest('#notebook-container');\n",
       "if (notebookContainer) {{\n",
       "    x.observe(notebookContainer, {childList: true});\n",
       "}}\n",
       "\n",
       "// Listen for the clearing of the current output cell\n",
       "var outputEl = gd.closest('.output');\n",
       "if (outputEl) {{\n",
       "    x.observe(outputEl, {childList: true});\n",
       "}}\n",
       "\n",
       "                        })                };                });            </script>        </div>"
      ]
     },
     "metadata": {},
     "output_type": "display_data"
    }
   ],
   "source": [
    "import plotly.graph_objs as go\n",
    "import numpy as np\n",
    "\n",
    "# Generate data for Gaussian distribution\n",
    "x = np.linspace(-5, 5, 100)\n",
    "y = np.exp(-x**2 / 2) / np.sqrt(2 * np.pi)\n",
    "\n",
    "# Create plotly figure\n",
    "fig = go.Figure()\n",
    "\n",
    "# Add Gaussian distribution curve\n",
    "fig.add_trace(go.Scatter(x=x, y=y, mode='lines', line=dict(color='#48AF8A', width=2), name='Gaussian Distribution'))\n",
    "\n",
    "# Update layout\n",
    "fig.update_layout(title='Gaussian Distribution',\n",
    "                  xaxis_title='X',\n",
    "                  yaxis_title='Probability Density',\n",
    "                  plot_bgcolor='white')\n",
    "\n",
    "# Show plot\n",
    "fig.show()\n"
   ]
  },
  {
   "cell_type": "code",
   "execution_count": 79,
   "id": "d5d18a11-bc4a-4bba-a116-8c3828007aea",
   "metadata": {
    "scrolled": true
   },
   "outputs": [
    {
     "data": {
      "application/vnd.plotly.v1+json": {
       "config": {
        "plotlyServerURL": "https://plot.ly"
       },
       "data": [
        {
         "line": {
          "color": "#519EE5",
          "width": 2
         },
         "mode": "lines",
         "name": "Poisson Distribution",
         "type": "scatter",
         "x": [
          0,
          0.015015015015015015,
          0.03003003003003003,
          0.04504504504504504,
          0.06006006006006006,
          0.07507507507507508,
          0.09009009009009009,
          0.10510510510510511,
          0.12012012012012012,
          0.13513513513513514,
          0.15015015015015015,
          0.16516516516516516,
          0.18018018018018017,
          0.19519519519519518,
          0.21021021021021022,
          0.22522522522522523,
          0.24024024024024024,
          0.2552552552552553,
          0.2702702702702703,
          0.2852852852852853,
          0.3003003003003003,
          0.3153153153153153,
          0.3303303303303303,
          0.34534534534534533,
          0.36036036036036034,
          0.37537537537537535,
          0.39039039039039036,
          0.40540540540540543,
          0.42042042042042044,
          0.43543543543543545,
          0.45045045045045046,
          0.46546546546546547,
          0.4804804804804805,
          0.4954954954954955,
          0.5105105105105106,
          0.5255255255255256,
          0.5405405405405406,
          0.5555555555555556,
          0.5705705705705706,
          0.5855855855855856,
          0.6006006006006006,
          0.6156156156156156,
          0.6306306306306306,
          0.6456456456456456,
          0.6606606606606606,
          0.6756756756756757,
          0.6906906906906907,
          0.7057057057057057,
          0.7207207207207207,
          0.7357357357357357,
          0.7507507507507507,
          0.7657657657657657,
          0.7807807807807807,
          0.7957957957957957,
          0.8108108108108109,
          0.8258258258258259,
          0.8408408408408409,
          0.8558558558558559,
          0.8708708708708709,
          0.8858858858858859,
          0.9009009009009009,
          0.9159159159159159,
          0.9309309309309309,
          0.9459459459459459,
          0.960960960960961,
          0.975975975975976,
          0.990990990990991,
          1.006006006006006,
          1.021021021021021,
          1.0360360360360361,
          1.0510510510510511,
          1.0660660660660661,
          1.0810810810810811,
          1.0960960960960962,
          1.1111111111111112,
          1.1261261261261262,
          1.1411411411411412,
          1.1561561561561562,
          1.1711711711711712,
          1.1861861861861862,
          1.2012012012012012,
          1.2162162162162162,
          1.2312312312312312,
          1.2462462462462462,
          1.2612612612612613,
          1.2762762762762763,
          1.2912912912912913,
          1.3063063063063063,
          1.3213213213213213,
          1.3363363363363363,
          1.3513513513513513,
          1.3663663663663663,
          1.3813813813813813,
          1.3963963963963963,
          1.4114114114114114,
          1.4264264264264264,
          1.4414414414414414,
          1.4564564564564564,
          1.4714714714714714,
          1.4864864864864864,
          1.5015015015015014,
          1.5165165165165164,
          1.5315315315315314,
          1.5465465465465464,
          1.5615615615615615,
          1.5765765765765765,
          1.5915915915915915,
          1.6066066066066067,
          1.6216216216216217,
          1.6366366366366367,
          1.6516516516516517,
          1.6666666666666667,
          1.6816816816816818,
          1.6966966966966968,
          1.7117117117117118,
          1.7267267267267268,
          1.7417417417417418,
          1.7567567567567568,
          1.7717717717717718,
          1.7867867867867868,
          1.8018018018018018,
          1.8168168168168168,
          1.8318318318318318,
          1.8468468468468469,
          1.8618618618618619,
          1.8768768768768769,
          1.8918918918918919,
          1.906906906906907,
          1.921921921921922,
          1.936936936936937,
          1.951951951951952,
          1.966966966966967,
          1.981981981981982,
          1.996996996996997,
          2.012012012012012,
          2.027027027027027,
          2.042042042042042,
          2.057057057057057,
          2.0720720720720722,
          2.0870870870870872,
          2.1021021021021022,
          2.1171171171171173,
          2.1321321321321323,
          2.1471471471471473,
          2.1621621621621623,
          2.1771771771771773,
          2.1921921921921923,
          2.2072072072072073,
          2.2222222222222223,
          2.2372372372372373,
          2.2522522522522523,
          2.2672672672672673,
          2.2822822822822824,
          2.2972972972972974,
          2.3123123123123124,
          2.3273273273273274,
          2.3423423423423424,
          2.3573573573573574,
          2.3723723723723724,
          2.3873873873873874,
          2.4024024024024024,
          2.4174174174174174,
          2.4324324324324325,
          2.4474474474474475,
          2.4624624624624625,
          2.4774774774774775,
          2.4924924924924925,
          2.5075075075075075,
          2.5225225225225225,
          2.5375375375375375,
          2.5525525525525525,
          2.5675675675675675,
          2.5825825825825826,
          2.5975975975975976,
          2.6126126126126126,
          2.6276276276276276,
          2.6426426426426426,
          2.6576576576576576,
          2.6726726726726726,
          2.6876876876876876,
          2.7027027027027026,
          2.7177177177177176,
          2.7327327327327327,
          2.7477477477477477,
          2.7627627627627627,
          2.7777777777777777,
          2.7927927927927927,
          2.8078078078078077,
          2.8228228228228227,
          2.8378378378378377,
          2.8528528528528527,
          2.8678678678678677,
          2.8828828828828827,
          2.8978978978978978,
          2.9129129129129128,
          2.9279279279279278,
          2.942942942942943,
          2.957957957957958,
          2.972972972972973,
          2.987987987987988,
          3.003003003003003,
          3.018018018018018,
          3.033033033033033,
          3.048048048048048,
          3.063063063063063,
          3.078078078078078,
          3.093093093093093,
          3.108108108108108,
          3.123123123123123,
          3.138138138138138,
          3.153153153153153,
          3.168168168168168,
          3.183183183183183,
          3.198198198198198,
          3.2132132132132134,
          3.2282282282282284,
          3.2432432432432434,
          3.2582582582582584,
          3.2732732732732734,
          3.2882882882882885,
          3.3033033033033035,
          3.3183183183183185,
          3.3333333333333335,
          3.3483483483483485,
          3.3633633633633635,
          3.3783783783783785,
          3.3933933933933935,
          3.4084084084084085,
          3.4234234234234235,
          3.4384384384384385,
          3.4534534534534536,
          3.4684684684684686,
          3.4834834834834836,
          3.4984984984984986,
          3.5135135135135136,
          3.5285285285285286,
          3.5435435435435436,
          3.5585585585585586,
          3.5735735735735736,
          3.5885885885885886,
          3.6036036036036037,
          3.6186186186186187,
          3.6336336336336337,
          3.6486486486486487,
          3.6636636636636637,
          3.6786786786786787,
          3.6936936936936937,
          3.7087087087087087,
          3.7237237237237237,
          3.7387387387387387,
          3.7537537537537538,
          3.7687687687687688,
          3.7837837837837838,
          3.798798798798799,
          3.813813813813814,
          3.828828828828829,
          3.843843843843844,
          3.858858858858859,
          3.873873873873874,
          3.888888888888889,
          3.903903903903904,
          3.918918918918919,
          3.933933933933934,
          3.948948948948949,
          3.963963963963964,
          3.978978978978979,
          3.993993993993994,
          4.009009009009009,
          4.024024024024024,
          4.039039039039039,
          4.054054054054054,
          4.069069069069069,
          4.084084084084084,
          4.099099099099099,
          4.114114114114114,
          4.129129129129129,
          4.1441441441441444,
          4.1591591591591595,
          4.1741741741741745,
          4.1891891891891895,
          4.2042042042042045,
          4.2192192192192195,
          4.2342342342342345,
          4.2492492492492495,
          4.2642642642642645,
          4.2792792792792795,
          4.2942942942942945,
          4.3093093093093096,
          4.324324324324325,
          4.33933933933934,
          4.354354354354355,
          4.36936936936937,
          4.384384384384385,
          4.3993993993994,
          4.414414414414415,
          4.42942942942943,
          4.444444444444445,
          4.45945945945946,
          4.474474474474475,
          4.48948948948949,
          4.504504504504505,
          4.51951951951952,
          4.534534534534535,
          4.54954954954955,
          4.564564564564565,
          4.57957957957958,
          4.594594594594595,
          4.60960960960961,
          4.624624624624625,
          4.63963963963964,
          4.654654654654655,
          4.66966966966967,
          4.684684684684685,
          4.6996996996997,
          4.714714714714715,
          4.72972972972973,
          4.744744744744745,
          4.75975975975976,
          4.774774774774775,
          4.78978978978979,
          4.804804804804805,
          4.81981981981982,
          4.834834834834835,
          4.84984984984985,
          4.864864864864865,
          4.87987987987988,
          4.894894894894895,
          4.90990990990991,
          4.924924924924925,
          4.93993993993994,
          4.954954954954955,
          4.96996996996997,
          4.984984984984985,
          5,
          5.015015015015015,
          5.03003003003003,
          5.045045045045045,
          5.06006006006006,
          5.075075075075075,
          5.09009009009009,
          5.105105105105105,
          5.12012012012012,
          5.135135135135135,
          5.15015015015015,
          5.165165165165165,
          5.18018018018018,
          5.195195195195195,
          5.21021021021021,
          5.225225225225225,
          5.24024024024024,
          5.255255255255255,
          5.27027027027027,
          5.285285285285285,
          5.3003003003003,
          5.315315315315315,
          5.33033033033033,
          5.345345345345345,
          5.36036036036036,
          5.375375375375375,
          5.39039039039039,
          5.405405405405405,
          5.42042042042042,
          5.435435435435435,
          5.45045045045045,
          5.465465465465465,
          5.48048048048048,
          5.495495495495495,
          5.51051051051051,
          5.525525525525525,
          5.54054054054054,
          5.555555555555555,
          5.57057057057057,
          5.585585585585585,
          5.6006006006006,
          5.615615615615615,
          5.63063063063063,
          5.645645645645645,
          5.66066066066066,
          5.675675675675675,
          5.6906906906906904,
          5.7057057057057055,
          5.7207207207207205,
          5.7357357357357355,
          5.7507507507507505,
          5.7657657657657655,
          5.7807807807807805,
          5.7957957957957955,
          5.8108108108108105,
          5.8258258258258255,
          5.8408408408408405,
          5.8558558558558556,
          5.870870870870871,
          5.885885885885886,
          5.900900900900901,
          5.915915915915916,
          5.930930930930931,
          5.945945945945946,
          5.960960960960961,
          5.975975975975976,
          5.990990990990991,
          6.006006006006006,
          6.021021021021021,
          6.036036036036036,
          6.051051051051051,
          6.066066066066066,
          6.081081081081081,
          6.096096096096096,
          6.111111111111111,
          6.126126126126126,
          6.141141141141141,
          6.156156156156156,
          6.171171171171171,
          6.186186186186186,
          6.201201201201201,
          6.216216216216216,
          6.231231231231231,
          6.246246246246246,
          6.261261261261261,
          6.276276276276276,
          6.291291291291291,
          6.306306306306306,
          6.321321321321321,
          6.336336336336336,
          6.351351351351351,
          6.366366366366366,
          6.381381381381381,
          6.396396396396396,
          6.411411411411412,
          6.426426426426427,
          6.441441441441442,
          6.456456456456457,
          6.471471471471472,
          6.486486486486487,
          6.501501501501502,
          6.516516516516517,
          6.531531531531532,
          6.546546546546547,
          6.561561561561562,
          6.576576576576577,
          6.591591591591592,
          6.606606606606607,
          6.621621621621622,
          6.636636636636637,
          6.651651651651652,
          6.666666666666667,
          6.681681681681682,
          6.696696696696697,
          6.711711711711712,
          6.726726726726727,
          6.741741741741742,
          6.756756756756757,
          6.771771771771772,
          6.786786786786787,
          6.801801801801802,
          6.816816816816817,
          6.831831831831832,
          6.846846846846847,
          6.861861861861862,
          6.876876876876877,
          6.891891891891892,
          6.906906906906907,
          6.921921921921922,
          6.936936936936937,
          6.951951951951952,
          6.966966966966967,
          6.981981981981982,
          6.996996996996997,
          7.012012012012012,
          7.027027027027027,
          7.042042042042042,
          7.057057057057057,
          7.072072072072072,
          7.087087087087087,
          7.102102102102102,
          7.117117117117117,
          7.132132132132132,
          7.147147147147147,
          7.162162162162162,
          7.177177177177177,
          7.192192192192192,
          7.207207207207207,
          7.222222222222222,
          7.237237237237237,
          7.252252252252252,
          7.267267267267267,
          7.282282282282282,
          7.297297297297297,
          7.312312312312312,
          7.327327327327327,
          7.342342342342342,
          7.357357357357357,
          7.372372372372372,
          7.387387387387387,
          7.402402402402402,
          7.4174174174174174,
          7.4324324324324325,
          7.4474474474474475,
          7.4624624624624625,
          7.4774774774774775,
          7.4924924924924925,
          7.5075075075075075,
          7.5225225225225225,
          7.5375375375375375,
          7.5525525525525525,
          7.5675675675675675,
          7.5825825825825826,
          7.597597597597598,
          7.612612612612613,
          7.627627627627628,
          7.642642642642643,
          7.657657657657658,
          7.672672672672673,
          7.687687687687688,
          7.702702702702703,
          7.717717717717718,
          7.732732732732733,
          7.747747747747748,
          7.762762762762763,
          7.777777777777778,
          7.792792792792793,
          7.807807807807808,
          7.822822822822823,
          7.837837837837838,
          7.852852852852853,
          7.867867867867868,
          7.882882882882883,
          7.897897897897898,
          7.912912912912913,
          7.927927927927928,
          7.942942942942943,
          7.957957957957958,
          7.972972972972973,
          7.987987987987988,
          8.003003003003004,
          8.018018018018019,
          8.033033033033034,
          8.048048048048049,
          8.063063063063064,
          8.078078078078079,
          8.093093093093094,
          8.108108108108109,
          8.123123123123124,
          8.138138138138139,
          8.153153153153154,
          8.168168168168169,
          8.183183183183184,
          8.198198198198199,
          8.213213213213214,
          8.228228228228229,
          8.243243243243244,
          8.258258258258259,
          8.273273273273274,
          8.288288288288289,
          8.303303303303304,
          8.318318318318319,
          8.333333333333334,
          8.348348348348349,
          8.363363363363364,
          8.378378378378379,
          8.393393393393394,
          8.408408408408409,
          8.423423423423424,
          8.438438438438439,
          8.453453453453454,
          8.468468468468469,
          8.483483483483484,
          8.498498498498499,
          8.513513513513514,
          8.528528528528529,
          8.543543543543544,
          8.558558558558559,
          8.573573573573574,
          8.588588588588589,
          8.603603603603604,
          8.618618618618619,
          8.633633633633634,
          8.64864864864865,
          8.663663663663664,
          8.67867867867868,
          8.693693693693694,
          8.70870870870871,
          8.723723723723724,
          8.73873873873874,
          8.753753753753754,
          8.76876876876877,
          8.783783783783784,
          8.7987987987988,
          8.813813813813814,
          8.82882882882883,
          8.843843843843844,
          8.85885885885886,
          8.873873873873874,
          8.88888888888889,
          8.903903903903904,
          8.91891891891892,
          8.933933933933934,
          8.94894894894895,
          8.963963963963964,
          8.97897897897898,
          8.993993993993994,
          9.00900900900901,
          9.024024024024024,
          9.03903903903904,
          9.054054054054054,
          9.06906906906907,
          9.084084084084084,
          9.0990990990991,
          9.114114114114114,
          9.12912912912913,
          9.144144144144144,
          9.15915915915916,
          9.174174174174174,
          9.18918918918919,
          9.204204204204204,
          9.21921921921922,
          9.234234234234235,
          9.24924924924925,
          9.264264264264265,
          9.27927927927928,
          9.294294294294295,
          9.30930930930931,
          9.324324324324325,
          9.33933933933934,
          9.354354354354355,
          9.36936936936937,
          9.384384384384385,
          9.3993993993994,
          9.414414414414415,
          9.42942942942943,
          9.444444444444445,
          9.45945945945946,
          9.474474474474475,
          9.48948948948949,
          9.504504504504505,
          9.51951951951952,
          9.534534534534535,
          9.54954954954955,
          9.564564564564565,
          9.57957957957958,
          9.594594594594595,
          9.60960960960961,
          9.624624624624625,
          9.63963963963964,
          9.654654654654655,
          9.66966966966967,
          9.684684684684685,
          9.6996996996997,
          9.714714714714715,
          9.72972972972973,
          9.744744744744745,
          9.75975975975976,
          9.774774774774775,
          9.78978978978979,
          9.804804804804805,
          9.81981981981982,
          9.834834834834835,
          9.84984984984985,
          9.864864864864865,
          9.87987987987988,
          9.894894894894895,
          9.90990990990991,
          9.924924924924925,
          9.93993993993994,
          9.954954954954955,
          9.96996996996997,
          9.984984984984985,
          10,
          10.015015015015015,
          10.03003003003003,
          10.045045045045045,
          10.06006006006006,
          10.075075075075075,
          10.09009009009009,
          10.105105105105105,
          10.12012012012012,
          10.135135135135135,
          10.15015015015015,
          10.165165165165165,
          10.18018018018018,
          10.195195195195195,
          10.21021021021021,
          10.225225225225225,
          10.24024024024024,
          10.255255255255255,
          10.27027027027027,
          10.285285285285285,
          10.3003003003003,
          10.315315315315315,
          10.33033033033033,
          10.345345345345345,
          10.36036036036036,
          10.375375375375375,
          10.39039039039039,
          10.405405405405405,
          10.42042042042042,
          10.435435435435435,
          10.45045045045045,
          10.465465465465465,
          10.48048048048048,
          10.495495495495495,
          10.51051051051051,
          10.525525525525525,
          10.54054054054054,
          10.555555555555555,
          10.57057057057057,
          10.585585585585585,
          10.6006006006006,
          10.615615615615615,
          10.63063063063063,
          10.645645645645645,
          10.66066066066066,
          10.675675675675675,
          10.69069069069069,
          10.705705705705705,
          10.72072072072072,
          10.735735735735735,
          10.75075075075075,
          10.765765765765765,
          10.78078078078078,
          10.795795795795796,
          10.81081081081081,
          10.825825825825826,
          10.84084084084084,
          10.855855855855856,
          10.87087087087087,
          10.885885885885886,
          10.9009009009009,
          10.915915915915916,
          10.93093093093093,
          10.945945945945946,
          10.96096096096096,
          10.975975975975976,
          10.99099099099099,
          11.006006006006006,
          11.02102102102102,
          11.036036036036036,
          11.05105105105105,
          11.066066066066066,
          11.08108108108108,
          11.096096096096096,
          11.11111111111111,
          11.126126126126126,
          11.14114114114114,
          11.156156156156156,
          11.17117117117117,
          11.186186186186186,
          11.2012012012012,
          11.216216216216216,
          11.23123123123123,
          11.246246246246246,
          11.26126126126126,
          11.276276276276276,
          11.29129129129129,
          11.306306306306306,
          11.32132132132132,
          11.336336336336336,
          11.35135135135135,
          11.366366366366366,
          11.381381381381381,
          11.396396396396396,
          11.411411411411411,
          11.426426426426426,
          11.441441441441441,
          11.456456456456456,
          11.471471471471471,
          11.486486486486486,
          11.501501501501501,
          11.516516516516516,
          11.531531531531531,
          11.546546546546546,
          11.561561561561561,
          11.576576576576576,
          11.591591591591591,
          11.606606606606606,
          11.621621621621621,
          11.636636636636636,
          11.651651651651651,
          11.666666666666666,
          11.681681681681681,
          11.696696696696696,
          11.711711711711711,
          11.726726726726726,
          11.741741741741741,
          11.756756756756756,
          11.771771771771771,
          11.786786786786786,
          11.801801801801801,
          11.816816816816816,
          11.831831831831831,
          11.846846846846846,
          11.861861861861861,
          11.876876876876876,
          11.891891891891891,
          11.906906906906906,
          11.921921921921921,
          11.936936936936936,
          11.951951951951951,
          11.966966966966966,
          11.981981981981981,
          11.996996996996996,
          12.012012012012011,
          12.027027027027026,
          12.042042042042041,
          12.057057057057056,
          12.072072072072071,
          12.087087087087086,
          12.102102102102101,
          12.117117117117116,
          12.132132132132131,
          12.147147147147146,
          12.162162162162161,
          12.177177177177176,
          12.192192192192191,
          12.207207207207206,
          12.222222222222221,
          12.237237237237236,
          12.252252252252251,
          12.267267267267266,
          12.282282282282281,
          12.297297297297296,
          12.312312312312311,
          12.327327327327327,
          12.342342342342342,
          12.357357357357357,
          12.372372372372372,
          12.387387387387387,
          12.402402402402402,
          12.417417417417417,
          12.432432432432432,
          12.447447447447447,
          12.462462462462462,
          12.477477477477477,
          12.492492492492492,
          12.507507507507507,
          12.522522522522522,
          12.537537537537537,
          12.552552552552552,
          12.567567567567567,
          12.582582582582582,
          12.597597597597597,
          12.612612612612612,
          12.627627627627627,
          12.642642642642642,
          12.657657657657657,
          12.672672672672672,
          12.687687687687687,
          12.702702702702702,
          12.717717717717717,
          12.732732732732732,
          12.747747747747747,
          12.762762762762762,
          12.777777777777777,
          12.792792792792792,
          12.807807807807807,
          12.822822822822824,
          12.837837837837839,
          12.852852852852854,
          12.867867867867869,
          12.882882882882884,
          12.897897897897899,
          12.912912912912914,
          12.927927927927929,
          12.942942942942944,
          12.957957957957959,
          12.972972972972974,
          12.987987987987989,
          13.003003003003004,
          13.018018018018019,
          13.033033033033034,
          13.048048048048049,
          13.063063063063064,
          13.078078078078079,
          13.093093093093094,
          13.108108108108109,
          13.123123123123124,
          13.138138138138139,
          13.153153153153154,
          13.168168168168169,
          13.183183183183184,
          13.198198198198199,
          13.213213213213214,
          13.228228228228229,
          13.243243243243244,
          13.258258258258259,
          13.273273273273274,
          13.288288288288289,
          13.303303303303304,
          13.318318318318319,
          13.333333333333334,
          13.348348348348349,
          13.363363363363364,
          13.378378378378379,
          13.393393393393394,
          13.408408408408409,
          13.423423423423424,
          13.438438438438439,
          13.453453453453454,
          13.468468468468469,
          13.483483483483484,
          13.498498498498499,
          13.513513513513514,
          13.528528528528529,
          13.543543543543544,
          13.558558558558559,
          13.573573573573574,
          13.588588588588589,
          13.603603603603604,
          13.618618618618619,
          13.633633633633634,
          13.64864864864865,
          13.663663663663664,
          13.67867867867868,
          13.693693693693694,
          13.70870870870871,
          13.723723723723724,
          13.73873873873874,
          13.753753753753754,
          13.76876876876877,
          13.783783783783784,
          13.7987987987988,
          13.813813813813814,
          13.82882882882883,
          13.843843843843844,
          13.85885885885886,
          13.873873873873874,
          13.88888888888889,
          13.903903903903904,
          13.91891891891892,
          13.933933933933934,
          13.94894894894895,
          13.963963963963964,
          13.97897897897898,
          13.993993993993994,
          14.00900900900901,
          14.024024024024024,
          14.03903903903904,
          14.054054054054054,
          14.06906906906907,
          14.084084084084084,
          14.0990990990991,
          14.114114114114114,
          14.12912912912913,
          14.144144144144144,
          14.15915915915916,
          14.174174174174174,
          14.18918918918919,
          14.204204204204204,
          14.21921921921922,
          14.234234234234235,
          14.24924924924925,
          14.264264264264265,
          14.27927927927928,
          14.294294294294295,
          14.30930930930931,
          14.324324324324325,
          14.33933933933934,
          14.354354354354355,
          14.36936936936937,
          14.384384384384385,
          14.3993993993994,
          14.414414414414415,
          14.42942942942943,
          14.444444444444445,
          14.45945945945946,
          14.474474474474475,
          14.48948948948949,
          14.504504504504505,
          14.51951951951952,
          14.534534534534535,
          14.54954954954955,
          14.564564564564565,
          14.57957957957958,
          14.594594594594595,
          14.60960960960961,
          14.624624624624625,
          14.63963963963964,
          14.654654654654655,
          14.66966966966967,
          14.684684684684685,
          14.6996996996997,
          14.714714714714715,
          14.72972972972973,
          14.744744744744745,
          14.75975975975976,
          14.774774774774775,
          14.78978978978979,
          14.804804804804805,
          14.81981981981982,
          14.834834834834835,
          14.84984984984985,
          14.864864864864865,
          14.87987987987988,
          14.894894894894895,
          14.90990990990991,
          14.924924924924925,
          14.93993993993994,
          14.954954954954955,
          14.96996996996997,
          14.984984984984985,
          15
         ],
         "y": [
          0.014644982561926494,
          0.014866201185982975,
          0.015090080981310821,
          0.015316641683113941,
          0.015545902957989084,
          0.015777884399322338,
          0.016012605522633155,
          0.016250085760866492,
          0.016490344459633616,
          0.016733400872401993,
          0.016979274155634903,
          0.01722798336388135,
          0.017479547444816806,
          0.017733985234235562,
          0.017991315450995124,
          0.018251556691913615,
          0.018514727426620563,
          0.018780845992362107,
          0.01904993058876119,
          0.019321999272533506,
          0.019597069952160217,
          0.019875160382517985,
          0.02015628815946735,
          0.020440470714400343,
          0.020727725308748123,
          0.02101806902844969,
          0.021311518778382537,
          0.02160809127675637,
          0.02190780304947062,
          0.02221067042443716,
          0.02251670952586896,
          0.022825936268535928,
          0.023138366351989105,
          0.023454015254754036,
          0.02377289822849502,
          0.02409503029215078,
          0.024420426226043353,
          0.024749100565961014,
          0.02508106759721677,
          0.02541634134868348,
          0.02575493558680716,
          0.0260968638095996,
          0.026442139240611715,
          0.026790774822889156,
          0.027142783212911314,
          0.02749817677451541,
          0.027856967572806996,
          0.028219167368058337,
          0.028584787609596304,
          0.02895383942968104,
          0.029326333637377345,
          0.029702280712419964,
          0.0300816907990746,
          0.030464573699996174,
          0.030850938870086,
          0.03124079541034962,
          0.03163415206175671,
          0.03203101719910513,
          0.03243139882489052,
          0.03283530456318334,
          0.03324274165351511,
          0.03365371694477554,
          0.03406823688912253,
          0.03448630753590654,
          0.03490793452561156,
          0.03533312308381418,
          0.03576187801516287,
          0.03619420369737921,
          0.03663010407528303,
          0.03706958265484341,
          0.03751264249725737,
          0.037959286213058295,
          0.038409515956256024,
          0.03886333341851049,
          0.0393207398233411,
          0.03978173592037361,
          0.0402463219796267,
          0.040714497785840145,
          0.04118626263284673,
          0.04166161531798974,
          0.042140554136588404,
          0.042623076876453,
          0.043109180812452,
          0.04359886270113302,
          0.04409211877539998,
          0.044588944739248314,
          0.04508933576256041,
          0.045593286475963404,
          0.04610079096575141,
          0.046611842768874284,
          0.04712643486799493,
          0.04764455968661753,
          0.04816620908428851,
          0.04869137435187244,
          0.04922004620690523,
          0.04975221478902619,
          0.05028786965549164,
          0.05082699977677178,
          0.05136959353223314,
          0.05191563870590854,
          0.052465122482356734,
          0.05301803144261391,
          0.05357435156023893,
          0.05413406819745443,
          0.05469716610138607,
          0.055263629400401644,
          0.05583344160055227,
          0.056406585582117724,
          0.0569830435962578,
          0.057562797261771874,
          0.05814582756196846,
          0.05873211484164698,
          0.05932163880419336,
          0.05991437850879186,
          0.060510312367754567,
          0.061109418143970924,
          0.06171167294847882,
          0.0623170532381593,
          0.06292553481355673,
          0.0635370928168262,
          0.06415170172980997,
          0.06476933537224487,
          0.06538996690010208,
          0.06601356880406155,
          0.06664011290812219,
          0.06726957036835002,
          0.0679019116717655,
          0.06853710663537206,
          0.0691751244053271,
          0.06981593345625715,
          0.07045950159071891,
          0.07110579593880732,
          0.07175478295791232,
          0.07240642843262586,
          0.07306069747480028,
          0.07371755452375968,
          0.07437696334666544,
          0.07503888703903724,
          0.075703288025431,
          0.07637012806027449,
          0.0770393682288625,
          0.07771096894851193,
          0.07838488996987861,
          0.07906109037843628,
          0.07973952859611938,
          0.08042016238312985,
          0.08110294883990972,
          0.08178784440927972,
          0.082474804878745,
          0.08316378538296884,
          0.08385474040641482,
          0.08454762378615846,
          0.08524238871486885,
          0.08593898774396068,
          0.08663737278691767,
          0.08733749512278736,
          0.08803930539984824,
          0.0887427536394491,
          0.08944778924002159,
          0.09015436098126557,
          0.090862417028508,
          0.0915719049372355,
          0.0922827716578004,
          0.09299496354030087,
          0.09370842633963473,
          0.09442310522072708,
          0.09513894476393167,
          0.09585588897060603,
          0.09657388126885973,
          0.09729286451947611,
          0.09801278102200668,
          0.09873357252103813,
          0.0994551802126313,
          0.10017754475093192,
          0.10090060625495237,
          0.1016243043155239,
          0.1023485780024187,
          0.10307336587164113,
          0.10379860597288737,
          0.10452423585717242,
          0.10525019258462401,
          0.10597641273244197,
          0.1067028324030226,
          0.10742938723224638,
          0.10815601239792846,
          0.10888264262843035,
          0.10960921221143179,
          0.1103356550028614,
          0.11106190443598483,
          0.11178789353064891,
          0.11251355490268032,
          0.11323882077343743,
          0.11396362297951343,
          0.11468789298258936,
          0.11541156187943508,
          0.1161345604120568,
          0.11685681897798883,
          0.117578267640728,
          0.11829883614030898,
          0.11901845390401791,
          0.119737050057243,
          0.12045455343445936,
          0.12117089259034639,
          0.12188599581103517,
          0.12259979112548382,
          0.12331220631697834,
          0.12402316893475657,
          0.124732606305753,
          0.12544044554646172,
          0.12614661357491505,
          0.12685103712277535,
          0.12755364274753742,
          0.12825435684483838,
          0.1289531056608729,
          0.12964981530491057,
          0.1303444117619126,
          0.13103682090524543,
          0.13172696850948742,
          0.13241478026332673,
          0.13310018178254648,
          0.13378309862309462,
          0.13446345629423528,
          0.13514118027177832,
          0.13581619601138428,
          0.1364884289619409,
          0.13715780457900867,
          0.13782424833833126,
          0.13848768574940845,
          0.13914804236912737,
          0.139805243815449,
          0.1404592157811465,
          0.14110988404759187,
          0.1417571744985871,
          0.1424010131342372,
          0.14304132608486006,
          0.14367803962493106,
          0.14431108018705774,
          0.1449403743759815,
          0.14556584898260222,
          0.14618743099802242,
          0.14680504762760707,
          0.14741862630505526,
          0.1480280947064803,
          0.14863338076449392,
          0.1492344126822913,
          0.14983111894773268,
          0.15042342834741826,
          0.1510112699807517,
          0.1515945732739894,
          0.15217326799427083,
          0.15274728426362646,
          0.15331655257295948,
          0.15388100379599687,
          0.15444056920320678,
          0.15499518047567756,
          0.15554476971895484,
          0.1560892694768329,
          0.15662861274509618,
          0.15716273298520708,
          0.1576915641379363,
          0.15821504063693173,
          0.15873309742222189,
          0.1592456699536502,
          0.15975269422423624,
          0.16025410677345997,
          0.16074984470046524,
          0.1612398456771785,
          0.16172404796133927,
          0.16220239040943812,
          0.16267481248955895,
          0.1631412542941211,
          0.16360165655251804,
          0.16405596064364894,
          0.16450410860833892,
          0.16494604316164496,
          0.16538170770504323,
          0.1658110463384948,
          0.16623400387238535,
          0.16665052583933632,
          0.16706055850588286,
          0.16746404888401625,
          0.16786094474258614,
          0.16825119461856006,
          0.16863474782813653,
          0.16901155447770821,
          0.16938156547467204,
          0.16974473253808295,
          0.17010100820914806,
          0.1704503458615579,
          0.17079269971165187,
          0.17112802482841433,
          0.17145627714329897,
          0.17177741345987785,
          0.17209139146331226,
          0.17239816972964278,
          0.17269770773489554,
          0.17298996586400153,
          0.173274905419527,
          0.17355248863021133,
          0.17382267865931034,
          0.17408543961274256,
          0.17434073654703522,
          0.17458853547706835,
          0.17482880338361392,
          0.17506150822066832,
          0.17528661892257494,
          0.17550410541093592,
          0.17571393860130974,
          0.17591609040969328,
          0.17611053375878596,
          0.17629724258403423,
          0.1764761918394545,
          0.17664735750323246,
          0.17681071658309724,
          0.17696624712146888,
          0.177113928200377,
          0.1772537399461496,
          0.17738566353387042,
          0.17750968119160318,
          0.1776257762043819,
          0.1777339329179653,
          0.17783413674235482,
          0.17792637415507498,
          0.17801063270421447,
          0.17808690101122798,
          0.1781551687734971,
          0.17821542676664967,
          0.1782676668466373,
          0.1783118819515697,
          0.17834806610330567,
          0.1783762144088004,
          0.17839632306120798,
          0.17840838934073974,
          0.17841241161527713,
          0.17840838934073974,
          0.17839632306120798,
          0.1783762144088004,
          0.17834806610330567,
          0.1783118819515697,
          0.1782676668466373,
          0.17821542676664967,
          0.1781551687734971,
          0.17808690101122798,
          0.17801063270421447,
          0.17792637415507498,
          0.17783413674235482,
          0.1777339329179653,
          0.1776257762043819,
          0.17750968119160318,
          0.17738566353387042,
          0.1772537399461496,
          0.177113928200377,
          0.17696624712146888,
          0.17681071658309724,
          0.17664735750323246,
          0.1764761918394545,
          0.17629724258403423,
          0.17611053375878596,
          0.17591609040969328,
          0.17571393860130974,
          0.17550410541093592,
          0.17528661892257494,
          0.17506150822066832,
          0.17482880338361392,
          0.17458853547706835,
          0.17434073654703522,
          0.17408543961274256,
          0.17382267865931034,
          0.17355248863021133,
          0.173274905419527,
          0.17298996586400153,
          0.17269770773489554,
          0.17239816972964278,
          0.17209139146331226,
          0.17177741345987785,
          0.17145627714329897,
          0.17112802482841433,
          0.17079269971165187,
          0.1704503458615579,
          0.17010100820914806,
          0.16974473253808295,
          0.16938156547467204,
          0.16901155447770821,
          0.16863474782813653,
          0.16825119461856006,
          0.16786094474258614,
          0.16746404888401625,
          0.16706055850588286,
          0.16665052583933632,
          0.16623400387238535,
          0.1658110463384948,
          0.16538170770504323,
          0.16494604316164496,
          0.16450410860833892,
          0.16405596064364894,
          0.16360165655251804,
          0.1631412542941211,
          0.16267481248955895,
          0.16220239040943812,
          0.16172404796133927,
          0.16123984567717853,
          0.16074984470046527,
          0.16025410677346,
          0.15975269422423624,
          0.1592456699536502,
          0.15873309742222189,
          0.15821504063693173,
          0.15769156413793634,
          0.15716273298520708,
          0.15662861274509618,
          0.1560892694768329,
          0.15554476971895487,
          0.1549951804756776,
          0.15444056920320678,
          0.15388100379599687,
          0.15331655257295948,
          0.1527472842636265,
          0.15217326799427083,
          0.15159457327398942,
          0.1510112699807517,
          0.15042342834741826,
          0.1498311189477327,
          0.1492344126822913,
          0.14863338076449395,
          0.14802809470648032,
          0.14741862630505528,
          0.14680504762760707,
          0.1461874309980224,
          0.1455658489826022,
          0.14494037437598148,
          0.1443110801870577,
          0.14367803962493103,
          0.14304132608486003,
          0.1424010131342372,
          0.1417571744985871,
          0.14110988404759184,
          0.1404592157811465,
          0.13980524381544898,
          0.13914804236912734,
          0.13848768574940842,
          0.13782424833833123,
          0.13715780457900864,
          0.13648842896194088,
          0.13581619601138425,
          0.13514118027177832,
          0.13446345629423526,
          0.13378309862309462,
          0.13310018178254648,
          0.1324147802633267,
          0.1317269685094874,
          0.1310368209052454,
          0.13034441176191258,
          0.12964981530491057,
          0.1289531056608729,
          0.12825435684483838,
          0.12755364274753742,
          0.12685103712277535,
          0.12614661357491505,
          0.12544044554646172,
          0.124732606305753,
          0.12402316893475657,
          0.12331220631697834,
          0.12259979112548382,
          0.12188599581103517,
          0.12117089259034639,
          0.12045455343445936,
          0.119737050057243,
          0.11901845390401791,
          0.11829883614030898,
          0.117578267640728,
          0.11685681897798883,
          0.1161345604120568,
          0.11541156187943508,
          0.11468789298258936,
          0.11396362297951343,
          0.11323882077343743,
          0.11251355490268032,
          0.11178789353064891,
          0.11106190443598483,
          0.1103356550028614,
          0.10960921221143179,
          0.10888264262843035,
          0.10815601239792846,
          0.10742938723224638,
          0.1067028324030226,
          0.10597641273244197,
          0.10525019258462401,
          0.10452423585717242,
          0.10379860597288737,
          0.10307336587164113,
          0.1023485780024187,
          0.1016243043155239,
          0.10090060625495237,
          0.10017754475093192,
          0.0994551802126313,
          0.09873357252103813,
          0.09801278102200668,
          0.09729286451947611,
          0.09657388126885973,
          0.09585588897060603,
          0.09513894476393167,
          0.09442310522072708,
          0.09370842633963473,
          0.09299496354030087,
          0.0922827716578004,
          0.0915719049372355,
          0.090862417028508,
          0.09015436098126557,
          0.08944778924002159,
          0.0887427536394491,
          0.08803930539984824,
          0.08733749512278736,
          0.08663737278691767,
          0.08593898774396068,
          0.08524238871486885,
          0.08454762378615846,
          0.08385474040641482,
          0.08316378538296884,
          0.082474804878745,
          0.08178784440927972,
          0.08110294883990972,
          0.08042016238312985,
          0.07973952859611938,
          0.07906109037843628,
          0.07838488996987861,
          0.07771096894851193,
          0.0770393682288625,
          0.07637012806027449,
          0.075703288025431,
          0.07503888703903724,
          0.07437696334666544,
          0.07371755452375968,
          0.07306069747480028,
          0.07240642843262582,
          0.07175478295791228,
          0.0711057959388073,
          0.07045950159071887,
          0.06981593345625711,
          0.06917512440532705,
          0.06853710663537202,
          0.06790191167176547,
          0.06726957036834998,
          0.06664011290812215,
          0.06601356880406149,
          0.06538996690010203,
          0.06476933537224483,
          0.06415170172980994,
          0.06353709281682617,
          0.06292553481355669,
          0.06231705323815927,
          0.06171167294847878,
          0.06110941814397088,
          0.06051031236775454,
          0.05991437850879182,
          0.059321638804193326,
          0.058732114841646955,
          0.05814582756196842,
          0.05756279726177183,
          0.05698304359625776,
          0.056406585582117696,
          0.055833441600552265,
          0.05526362940040162,
          0.054697166101386065,
          0.054134068197454414,
          0.05357435156023891,
          0.053018031442613904,
          0.05246512248235673,
          0.05191563870590852,
          0.05136959353223313,
          0.05082699977677177,
          0.05028786965549162,
          0.04975221478902618,
          0.04922004620690522,
          0.04869137435187242,
          0.04816620908428848,
          0.04764455968661751,
          0.04712643486799492,
          0.046611842768874284,
          0.046100790965751405,
          0.0455932864759634,
          0.04508933576256039,
          0.04458894473924831,
          0.04409211877539997,
          0.043598862701133,
          0.043109180812451985,
          0.042623076876452996,
          0.04214055413658838,
          0.04166161531798973,
          0.041186262632846714,
          0.040714497785840145,
          0.04024632197962668,
          0.039781735920373595,
          0.03932073982334108,
          0.03886333341851048,
          0.038409515956256024,
          0.03795928621305829,
          0.037512642497257366,
          0.0370695826548434,
          0.03663010407528302,
          0.0361942036973792,
          0.03576187801516287,
          0.03533312308381418,
          0.03490793452561156,
          0.03448630753590654,
          0.03406823688912253,
          0.03365371694477554,
          0.03324274165351511,
          0.03283530456318334,
          0.03243139882489052,
          0.03203101719910513,
          0.03163415206175671,
          0.03124079541034962,
          0.030850938870086,
          0.030464573699996174,
          0.0300816907990746,
          0.029702280712419964,
          0.029326333637377345,
          0.02895383942968104,
          0.028584787609596304,
          0.028219167368058337,
          0.027856967572806996,
          0.02749817677451541,
          0.027142783212911314,
          0.026790774822889156,
          0.026442139240611715,
          0.0260968638095996,
          0.02575493558680716,
          0.02541634134868348,
          0.02508106759721677,
          0.024749100565961014,
          0.024420426226043353,
          0.02409503029215078,
          0.02377289822849502,
          0.023454015254754036,
          0.023138366351989105,
          0.022825936268535928,
          0.02251670952586896,
          0.02221067042443716,
          0.02190780304947062,
          0.02160809127675637,
          0.021311518778382537,
          0.02101806902844969,
          0.020727725308748123,
          0.020440470714400343,
          0.02015628815946735,
          0.019875160382517985,
          0.019597069952160217,
          0.019321999272533506,
          0.01904993058876119,
          0.018780845992362107,
          0.018514727426620563,
          0.018251556691913615,
          0.017991315450995124,
          0.017733985234235562,
          0.017479547444816806,
          0.01722798336388135,
          0.016979274155634903,
          0.016733400872401993,
          0.016490344459633616,
          0.016250085760866492,
          0.016012605522633155,
          0.015777884399322338,
          0.015545902957989084,
          0.015316641683113941,
          0.015090080981310821,
          0.014866201185982975,
          0.014644982561926494,
          0.01442640530988108,
          0.014210449571027454,
          0.01399709543143112,
          0.013786322926431964,
          0.013578112044979522,
          0.013372442733913324,
          0.01316929490218815,
          0.012968648425043895,
          0.012770483148119667,
          0.012574778891511955,
          0.012381515453776583,
          0.01219067261587422,
          0.012002230145059337,
          0.011816167798712286,
          0.011632465328114542,
          0.011451102482166764,
          0.011272059011049745,
          0.011095314669828063,
          0.010920849221996331,
          0.010748642442968116,
          0.010578674123507327,
          0.010410924073102214,
          0.010245372123281832,
          0.010081998130875108,
          0.009920781981212505,
          0.009761703591270257,
          0.009604742912757418,
          0.009449879935145651,
          0.009297094688641929,
          0.00914636724710427,
          0.008997677730900667,
          0.008851006309711265,
          0.00870633320527408,
          0.00856363869407435,
          0.008422903109977767,
          0.008284106846807743,
          0.008147230360867038,
          0.008012254173403857,
          0.007879158873022768,
          0.007747925118040672,
          0.007618533638788098,
          0.007490965239856129,
          0.007365200802289241,
          0.007241221285724381,
          0.007119007730476643,
          0.006998541259571795,
          0.006879803080726102,
          0.006762774488273757,
          0.006647436865042247,
          0.006533771684176148,
          0.0064217605109096266,
          0.006311385004288088,
          0.006202626918839403,
          0.006095468106195097,
          0.005989890516661935,
          0.005885876200744335,
          0.005783407310618053,
          0.005682466101555613,
          0.005583034933303874,
          0.005485096271414273,
          0.005388632688526141,
          0.0052936268656036565,
          0.0052000615931268165,
          0.005107919772236993,
          0.005017184415837541,
          0.004927838649649933,
          0.00483986571322599,
          0.004753248960916634,
          0.004667971862797742,
          0.004584018005553597,
          0.004501371093318443,
          0.004420014948476696,
          0.004339933512422332,
          0.004261110846277956,
          0.004183531131574144,
          0.004107178670889531,
          0.004032037888452263,
          0.0039580933307032575,
          0.003885329666821925,
          0.0038137316892147997,
          0.0037432843139677116,
          0.0036739725812619762,
          0.003605781655755225,
          0.0035386968269273556,
          0.0034727035093922234,
          0.0034077872431755593,
          0.003343933693959734,
          0.0032811286532958635,
          0.0032193580387838605,
          0.0031586078942209364,
          0.0030988643897191404,
          0.003040113821792469,
          0.0029823426134141192,
          0.002925537314044403,
          0.0028696845996298848,
          0.0028147712725743175,
          0.002760784261681871,
          0.002707710622073228,
          0.002655537535075095,
          0.002604252308083646,
          0.0025538423744024606,
          0.0025042952930554546,
          0.002455598748575384,
          0.0024077405507684155,
          0.002360708634455305,
          0.0023144910591897066,
          0.0022690760089541374,
          0.002224451791834095,
          0.002180606839670888,
          0.002137529707693637,
          0.0020952090741309807,
          0.0020536337398030097,
          0.0020127926276938784,
          0.001972674782505649,
          0.0019332693701938066,
          0.0018945656774849776,
          0.0018565531113773064,
          0.0018192211986239918,
          0.0017825595852004302,
          0.0017465580357554726,
          0.0017112064330472355,
          0.0016764947773639364,
          0.0016424131859302158,
          0.001608951892299386,
          0.001576101245732076,
          0.0015438517105616915,
          0.001512193865547144,
          0.0014811184032132753,
          0.0014506161291794122,
          0.0014206779614764713,
          0.0013912949298530233,
          0.0013624581750707476,
          0.00133415894818967,
          0.001306388609843592,
          0.0012791386295061137,
          0.0012524005847476213,
          0.0012261661604836668,
          0.0012004271482150704,
          0.0011751754452601637,
          0.0011504030539795167,
          0.0011261020809935384,
          0.0011022647363932766,
          0.0010788833329448124,
          0.0010559502852875622,
          0.001033458109126848,
          0.0010113994204210748,
          0.0009897669345638428,
          0.0009685534655613163,
          0.0009477519252051802,
          0.0009273553222415005,
          0.0009073567615357798,
          0.000887749443234545,
          0.0008685266619237361,
          0.0008496818057842076,
          0.000831208355744626,
          0.0008130998846320443,
          0.0007953500563204378,
          0.0007779526248774621,
          0.0007609014337097142,
          0.0007441904147067483,
          0.0007278135873841043,
          0.0007117650580256003,
          0.0006960390188251397,
          0.0006806297470282633,
          0.000665531604073694,
          0.0006507390347350887,
          0.0006362465662632388,
          0.0006220488075289246,
          0.000608140448166651,
          0.0005945162577194637,
          0.0005811710847850516,
          0.0005680998561633459,
          0.0005552975760057956,
          0.000542759324966518,
          0.0005304802593555097,
          0.0005184556102940908,
          0.0005066806828727684,
          0.0004951508553116788,
          0.000483861578123782,
          0.000472808373280971,
          0.00046198683338324116,
          0.0004513926208310882,
          0.0004410214670012695,
          0.00043086917142607875,
          0.00042093160097627025,
          0.00041120468904776885,
          0.0004016844347522952,
          0.0003923669021120301,
          0.00038324821925845106,
          0.00037432457763543454,
          0.0003655922312067693,
          0.000357047495668165,
          0.0003486867476638751,
          0.00034050642400802874,
          0.0003325030209107797,
          0.00032467309320935266,
          0.0003170132536040894,
          0.00030952017189957674,
          0.0003021905742509373,
          0.00029502124241536807,
          0.00028800901300899735,
          0.0002811507767691395,
          0.00027444347782200644,
          0.0002678841129559543,
          0.0002614697309003175,
          0.0002551974316098943,
          0.00024906436555514135,
          0.00024306773301812523,
          0.00023720478339428635,
          0.00023147281450005975,
          0.00022586917188639505,
          0.00022039124815822095,
          0.00021503648229988877,
          0.00020980235900663224,
          0.0002046864080220773,
          0.00019968620348182742,
          0.0001947993632631592,
          0.00019002354834084728,
          0.00018535646214914024,
          0.000180795849949916,
          0.00017633949820702115,
          0.0001719852339668215,
          0.00016773092424496888,
          0.00016357447541939755,
          0.0001595138326295589,
          0.0001555469791819006,
          0.00015167193596159133,
          0.00014788676085049943,
          0.00014418954815141784,
          0.00014057842801854043,
          0.00013705156589418051,
          0.00013360716195172977,
          0.00013024345054484754,
          0.00012695869966287325,
          0.00012375121039244952,
          0.00012061931638534363,
          0.00011756138333245493,
          0.00011457580844398913,
          0.00011166101993578628,
          0.00010881547652177943,
          0.00010603766691256704,
          0.00010332610932007597,
          0.00010067935096829349,
          9.809596761004118e-05,
          9.55745630497693e-05,
          9.311376867234083e-05,
          9.071224297778056e-05,
          8.836867112195879e-05,
          8.608176446317837e-05,
          8.385026011463628e-05,
          8.167292050272548e-05,
          7.95485329311453e-05,
          7.747590915078456e-05,
          7.545388493534459e-05,
          7.348131966266337e-05,
          7.155709590170671e-05,
          6.968011900518674e-05,
          6.78493167077716e-05,
          6.60636387298441e-05,
          6.432205638677295e-05,
          6.26235622036532e-05,
          6.0967169535476967e-05,
          5.9351912192690905e-05,
          5.7776844072099986e-05,
          5.624103879307267e-05,
          5.474358933900562e-05,
          5.3283607704003816e-05,
          5.186022454473145e-05,
          5.047258883738823e-05,
          4.911986753976787e-05,
          4.780124525835126e-05,
          4.651592392038947e-05,
          4.526312245092962e-05,
          4.4042076454738444e-05,
          4.285203790307543e-05,
          4.169227482526879e-05,
          4.0562071005047825e-05,
          3.946072568158303e-05,
          3.838755325518709e-05,
          3.734188299762888e-05,
          3.632305876701226e-05,
          3.5330438727171545e-05,
          3.43633950715359e-05,
          3.342131375141397e-05,
          3.2503594208651146e-05,
          3.16096491126099e-05,
          3.0738904101426e-05,
          2.989079752749194e-05,
          2.906478020711863e-05,
          2.8260315174327992e-05,
          2.7476877438727293e-05,
          2.671395374741749e-05,
          2.597104235088779e-05,
          2.5247652772847058e-05,
          2.4543305583945967e-05,
          2.385753217934045e-05,
          2.318987456004995e-05,
          2.2539885118062034e-05,
          2.1907126425136922e-05,
          2.129117102526362e-05,
          2.069160123072169e-05,
          2.0108008921701514e-05,
          1.953999534943591e-05,
          1.898717094279743e-05,
          1.8449155118314988e-05,
          1.7925576093563562e-05,
          1.7416070703881708e-05,
          1.6920284222371344e-05,
          1.643787018313459e-05,
          1.596849020770276e-05,
          1.5511813834613078e-05,
          1.5067518352088808e-05,
          1.4635288633778495e-05,
          1.421481697751124e-05,
          1.3805802947023755e-05,
          1.3407953216617095e-05,
          1.302098141869955e-05,
          1.2644607994173812e-05,
          1.2278560045625964e-05,
          1.1922571193274927e-05,
          1.1576381433640621e-05,
          1.1239737000890162e-05,
          1.0912390230821078e-05,
          1.0594099427441592e-05,
          1.028462873210758e-05,
          9.9837479951772e-06,
          9.691232650143363e-06,
          9.406863590205599e-06,
          9.130427047242907e-06,
          8.861714473149039e-06,
          8.600522423493164e-06,
          8.346652443468038e-06,
          8.099910956089133e-06
         ]
        }
       ],
       "layout": {
        "autosize": true,
        "plot_bgcolor": "white",
        "template": {
         "data": {
          "bar": [
           {
            "error_x": {
             "color": "#2a3f5f"
            },
            "error_y": {
             "color": "#2a3f5f"
            },
            "marker": {
             "line": {
              "color": "#E5ECF6",
              "width": 0.5
             },
             "pattern": {
              "fillmode": "overlay",
              "size": 10,
              "solidity": 0.2
             }
            },
            "type": "bar"
           }
          ],
          "barpolar": [
           {
            "marker": {
             "line": {
              "color": "#E5ECF6",
              "width": 0.5
             },
             "pattern": {
              "fillmode": "overlay",
              "size": 10,
              "solidity": 0.2
             }
            },
            "type": "barpolar"
           }
          ],
          "carpet": [
           {
            "aaxis": {
             "endlinecolor": "#2a3f5f",
             "gridcolor": "white",
             "linecolor": "white",
             "minorgridcolor": "white",
             "startlinecolor": "#2a3f5f"
            },
            "baxis": {
             "endlinecolor": "#2a3f5f",
             "gridcolor": "white",
             "linecolor": "white",
             "minorgridcolor": "white",
             "startlinecolor": "#2a3f5f"
            },
            "type": "carpet"
           }
          ],
          "choropleth": [
           {
            "colorbar": {
             "outlinewidth": 0,
             "ticks": ""
            },
            "type": "choropleth"
           }
          ],
          "contour": [
           {
            "colorbar": {
             "outlinewidth": 0,
             "ticks": ""
            },
            "colorscale": [
             [
              0,
              "#0d0887"
             ],
             [
              0.1111111111111111,
              "#46039f"
             ],
             [
              0.2222222222222222,
              "#7201a8"
             ],
             [
              0.3333333333333333,
              "#9c179e"
             ],
             [
              0.4444444444444444,
              "#bd3786"
             ],
             [
              0.5555555555555556,
              "#d8576b"
             ],
             [
              0.6666666666666666,
              "#ed7953"
             ],
             [
              0.7777777777777778,
              "#fb9f3a"
             ],
             [
              0.8888888888888888,
              "#fdca26"
             ],
             [
              1,
              "#f0f921"
             ]
            ],
            "type": "contour"
           }
          ],
          "contourcarpet": [
           {
            "colorbar": {
             "outlinewidth": 0,
             "ticks": ""
            },
            "type": "contourcarpet"
           }
          ],
          "heatmap": [
           {
            "colorbar": {
             "outlinewidth": 0,
             "ticks": ""
            },
            "colorscale": [
             [
              0,
              "#0d0887"
             ],
             [
              0.1111111111111111,
              "#46039f"
             ],
             [
              0.2222222222222222,
              "#7201a8"
             ],
             [
              0.3333333333333333,
              "#9c179e"
             ],
             [
              0.4444444444444444,
              "#bd3786"
             ],
             [
              0.5555555555555556,
              "#d8576b"
             ],
             [
              0.6666666666666666,
              "#ed7953"
             ],
             [
              0.7777777777777778,
              "#fb9f3a"
             ],
             [
              0.8888888888888888,
              "#fdca26"
             ],
             [
              1,
              "#f0f921"
             ]
            ],
            "type": "heatmap"
           }
          ],
          "heatmapgl": [
           {
            "colorbar": {
             "outlinewidth": 0,
             "ticks": ""
            },
            "colorscale": [
             [
              0,
              "#0d0887"
             ],
             [
              0.1111111111111111,
              "#46039f"
             ],
             [
              0.2222222222222222,
              "#7201a8"
             ],
             [
              0.3333333333333333,
              "#9c179e"
             ],
             [
              0.4444444444444444,
              "#bd3786"
             ],
             [
              0.5555555555555556,
              "#d8576b"
             ],
             [
              0.6666666666666666,
              "#ed7953"
             ],
             [
              0.7777777777777778,
              "#fb9f3a"
             ],
             [
              0.8888888888888888,
              "#fdca26"
             ],
             [
              1,
              "#f0f921"
             ]
            ],
            "type": "heatmapgl"
           }
          ],
          "histogram": [
           {
            "marker": {
             "pattern": {
              "fillmode": "overlay",
              "size": 10,
              "solidity": 0.2
             }
            },
            "type": "histogram"
           }
          ],
          "histogram2d": [
           {
            "colorbar": {
             "outlinewidth": 0,
             "ticks": ""
            },
            "colorscale": [
             [
              0,
              "#0d0887"
             ],
             [
              0.1111111111111111,
              "#46039f"
             ],
             [
              0.2222222222222222,
              "#7201a8"
             ],
             [
              0.3333333333333333,
              "#9c179e"
             ],
             [
              0.4444444444444444,
              "#bd3786"
             ],
             [
              0.5555555555555556,
              "#d8576b"
             ],
             [
              0.6666666666666666,
              "#ed7953"
             ],
             [
              0.7777777777777778,
              "#fb9f3a"
             ],
             [
              0.8888888888888888,
              "#fdca26"
             ],
             [
              1,
              "#f0f921"
             ]
            ],
            "type": "histogram2d"
           }
          ],
          "histogram2dcontour": [
           {
            "colorbar": {
             "outlinewidth": 0,
             "ticks": ""
            },
            "colorscale": [
             [
              0,
              "#0d0887"
             ],
             [
              0.1111111111111111,
              "#46039f"
             ],
             [
              0.2222222222222222,
              "#7201a8"
             ],
             [
              0.3333333333333333,
              "#9c179e"
             ],
             [
              0.4444444444444444,
              "#bd3786"
             ],
             [
              0.5555555555555556,
              "#d8576b"
             ],
             [
              0.6666666666666666,
              "#ed7953"
             ],
             [
              0.7777777777777778,
              "#fb9f3a"
             ],
             [
              0.8888888888888888,
              "#fdca26"
             ],
             [
              1,
              "#f0f921"
             ]
            ],
            "type": "histogram2dcontour"
           }
          ],
          "mesh3d": [
           {
            "colorbar": {
             "outlinewidth": 0,
             "ticks": ""
            },
            "type": "mesh3d"
           }
          ],
          "parcoords": [
           {
            "line": {
             "colorbar": {
              "outlinewidth": 0,
              "ticks": ""
             }
            },
            "type": "parcoords"
           }
          ],
          "pie": [
           {
            "automargin": true,
            "type": "pie"
           }
          ],
          "scatter": [
           {
            "fillpattern": {
             "fillmode": "overlay",
             "size": 10,
             "solidity": 0.2
            },
            "type": "scatter"
           }
          ],
          "scatter3d": [
           {
            "line": {
             "colorbar": {
              "outlinewidth": 0,
              "ticks": ""
             }
            },
            "marker": {
             "colorbar": {
              "outlinewidth": 0,
              "ticks": ""
             }
            },
            "type": "scatter3d"
           }
          ],
          "scattercarpet": [
           {
            "marker": {
             "colorbar": {
              "outlinewidth": 0,
              "ticks": ""
             }
            },
            "type": "scattercarpet"
           }
          ],
          "scattergeo": [
           {
            "marker": {
             "colorbar": {
              "outlinewidth": 0,
              "ticks": ""
             }
            },
            "type": "scattergeo"
           }
          ],
          "scattergl": [
           {
            "marker": {
             "colorbar": {
              "outlinewidth": 0,
              "ticks": ""
             }
            },
            "type": "scattergl"
           }
          ],
          "scattermapbox": [
           {
            "marker": {
             "colorbar": {
              "outlinewidth": 0,
              "ticks": ""
             }
            },
            "type": "scattermapbox"
           }
          ],
          "scatterpolar": [
           {
            "marker": {
             "colorbar": {
              "outlinewidth": 0,
              "ticks": ""
             }
            },
            "type": "scatterpolar"
           }
          ],
          "scatterpolargl": [
           {
            "marker": {
             "colorbar": {
              "outlinewidth": 0,
              "ticks": ""
             }
            },
            "type": "scatterpolargl"
           }
          ],
          "scatterternary": [
           {
            "marker": {
             "colorbar": {
              "outlinewidth": 0,
              "ticks": ""
             }
            },
            "type": "scatterternary"
           }
          ],
          "surface": [
           {
            "colorbar": {
             "outlinewidth": 0,
             "ticks": ""
            },
            "colorscale": [
             [
              0,
              "#0d0887"
             ],
             [
              0.1111111111111111,
              "#46039f"
             ],
             [
              0.2222222222222222,
              "#7201a8"
             ],
             [
              0.3333333333333333,
              "#9c179e"
             ],
             [
              0.4444444444444444,
              "#bd3786"
             ],
             [
              0.5555555555555556,
              "#d8576b"
             ],
             [
              0.6666666666666666,
              "#ed7953"
             ],
             [
              0.7777777777777778,
              "#fb9f3a"
             ],
             [
              0.8888888888888888,
              "#fdca26"
             ],
             [
              1,
              "#f0f921"
             ]
            ],
            "type": "surface"
           }
          ],
          "table": [
           {
            "cells": {
             "fill": {
              "color": "#EBF0F8"
             },
             "line": {
              "color": "white"
             }
            },
            "header": {
             "fill": {
              "color": "#C8D4E3"
             },
             "line": {
              "color": "white"
             }
            },
            "type": "table"
           }
          ]
         },
         "layout": {
          "annotationdefaults": {
           "arrowcolor": "#2a3f5f",
           "arrowhead": 0,
           "arrowwidth": 1
          },
          "autotypenumbers": "strict",
          "coloraxis": {
           "colorbar": {
            "outlinewidth": 0,
            "ticks": ""
           }
          },
          "colorscale": {
           "diverging": [
            [
             0,
             "#8e0152"
            ],
            [
             0.1,
             "#c51b7d"
            ],
            [
             0.2,
             "#de77ae"
            ],
            [
             0.3,
             "#f1b6da"
            ],
            [
             0.4,
             "#fde0ef"
            ],
            [
             0.5,
             "#f7f7f7"
            ],
            [
             0.6,
             "#e6f5d0"
            ],
            [
             0.7,
             "#b8e186"
            ],
            [
             0.8,
             "#7fbc41"
            ],
            [
             0.9,
             "#4d9221"
            ],
            [
             1,
             "#276419"
            ]
           ],
           "sequential": [
            [
             0,
             "#0d0887"
            ],
            [
             0.1111111111111111,
             "#46039f"
            ],
            [
             0.2222222222222222,
             "#7201a8"
            ],
            [
             0.3333333333333333,
             "#9c179e"
            ],
            [
             0.4444444444444444,
             "#bd3786"
            ],
            [
             0.5555555555555556,
             "#d8576b"
            ],
            [
             0.6666666666666666,
             "#ed7953"
            ],
            [
             0.7777777777777778,
             "#fb9f3a"
            ],
            [
             0.8888888888888888,
             "#fdca26"
            ],
            [
             1,
             "#f0f921"
            ]
           ],
           "sequentialminus": [
            [
             0,
             "#0d0887"
            ],
            [
             0.1111111111111111,
             "#46039f"
            ],
            [
             0.2222222222222222,
             "#7201a8"
            ],
            [
             0.3333333333333333,
             "#9c179e"
            ],
            [
             0.4444444444444444,
             "#bd3786"
            ],
            [
             0.5555555555555556,
             "#d8576b"
            ],
            [
             0.6666666666666666,
             "#ed7953"
            ],
            [
             0.7777777777777778,
             "#fb9f3a"
            ],
            [
             0.8888888888888888,
             "#fdca26"
            ],
            [
             1,
             "#f0f921"
            ]
           ]
          },
          "colorway": [
           "#636efa",
           "#EF553B",
           "#00cc96",
           "#ab63fa",
           "#FFA15A",
           "#19d3f3",
           "#FF6692",
           "#B6E880",
           "#FF97FF",
           "#FECB52"
          ],
          "font": {
           "color": "#2a3f5f"
          },
          "geo": {
           "bgcolor": "white",
           "lakecolor": "white",
           "landcolor": "#E5ECF6",
           "showlakes": true,
           "showland": true,
           "subunitcolor": "white"
          },
          "hoverlabel": {
           "align": "left"
          },
          "hovermode": "closest",
          "mapbox": {
           "style": "light"
          },
          "paper_bgcolor": "white",
          "plot_bgcolor": "#E5ECF6",
          "polar": {
           "angularaxis": {
            "gridcolor": "white",
            "linecolor": "white",
            "ticks": ""
           },
           "bgcolor": "#E5ECF6",
           "radialaxis": {
            "gridcolor": "white",
            "linecolor": "white",
            "ticks": ""
           }
          },
          "scene": {
           "xaxis": {
            "backgroundcolor": "#E5ECF6",
            "gridcolor": "white",
            "gridwidth": 2,
            "linecolor": "white",
            "showbackground": true,
            "ticks": "",
            "zerolinecolor": "white"
           },
           "yaxis": {
            "backgroundcolor": "#E5ECF6",
            "gridcolor": "white",
            "gridwidth": 2,
            "linecolor": "white",
            "showbackground": true,
            "ticks": "",
            "zerolinecolor": "white"
           },
           "zaxis": {
            "backgroundcolor": "#E5ECF6",
            "gridcolor": "white",
            "gridwidth": 2,
            "linecolor": "white",
            "showbackground": true,
            "ticks": "",
            "zerolinecolor": "white"
           }
          },
          "shapedefaults": {
           "line": {
            "color": "#2a3f5f"
           }
          },
          "ternary": {
           "aaxis": {
            "gridcolor": "white",
            "linecolor": "white",
            "ticks": ""
           },
           "baxis": {
            "gridcolor": "white",
            "linecolor": "white",
            "ticks": ""
           },
           "bgcolor": "#E5ECF6",
           "caxis": {
            "gridcolor": "white",
            "linecolor": "white",
            "ticks": ""
           }
          },
          "title": {
           "x": 0.05
          },
          "xaxis": {
           "automargin": true,
           "gridcolor": "white",
           "linecolor": "white",
           "ticks": "",
           "title": {
            "standoff": 15
           },
           "zerolinecolor": "white",
           "zerolinewidth": 2
          },
          "yaxis": {
           "automargin": true,
           "gridcolor": "white",
           "linecolor": "white",
           "ticks": "",
           "title": {
            "standoff": 15
           },
           "zerolinecolor": "white",
           "zerolinewidth": 2
          }
         }
        },
        "title": {
         "text": "Poisson Distribution"
        },
        "xaxis": {
         "autorange": true,
         "range": [
          0,
          15
         ],
         "title": {
          "text": "X"
         },
         "type": "linear"
        },
        "yaxis": {
         "autorange": true,
         "range": [
          -0.009903250739283968,
          0.1883237622655172
         ],
         "title": {
          "text": "Probability Density"
         },
         "type": "linear"
        }
       }
      },
      "image/png": "[encoded data removed]",
      "text/html": [
       "<div>                            <div id=\"b1b0620f-bee8-4b35-831f-044663f78983\" class=\"plotly-graph-div\" style=\"height:525px; width:100%;\"></div>            <script type=\"text/javascript\">                require([\"plotly\"], function(Plotly) {                    window.PLOTLYENV=window.PLOTLYENV || {};                                    if (document.getElementById(\"b1b0620f-bee8-4b35-831f-044663f78983\")) {                    Plotly.newPlot(                        \"b1b0620f-bee8-4b35-831f-044663f78983\",                        [{\"line\":{\"color\":\"#519EE5\",\"width\":2},\"mode\":\"lines\",\"name\":\"Poisson Distribution\",\"x\":[0.0,0.015015015015015015,0.03003003003003003,0.04504504504504504,0.06006006006006006,0.07507507507507508,0.09009009009009009,0.10510510510510511,0.12012012012012012,0.13513513513513514,0.15015015015015015,0.16516516516516516,0.18018018018018017,0.19519519519519518,0.21021021021021022,0.22522522522522523,0.24024024024024024,0.2552552552552553,0.2702702702702703,0.2852852852852853,0.3003003003003003,0.3153153153153153,0.3303303303303303,0.34534534534534533,0.36036036036036034,0.37537537537537535,0.39039039039039036,0.40540540540540543,0.42042042042042044,0.43543543543543545,0.45045045045045046,0.46546546546546547,0.4804804804804805,0.4954954954954955,0.5105105105105106,0.5255255255255256,0.5405405405405406,0.5555555555555556,0.5705705705705706,0.5855855855855856,0.6006006006006006,0.6156156156156156,0.6306306306306306,0.6456456456456456,0.6606606606606606,0.6756756756756757,0.6906906906906907,0.7057057057057057,0.7207207207207207,0.7357357357357357,0.7507507507507507,0.7657657657657657,0.7807807807807807,0.7957957957957957,0.8108108108108109,0.8258258258258259,0.8408408408408409,0.8558558558558559,0.8708708708708709,0.8858858858858859,0.9009009009009009,0.9159159159159159,0.9309309309309309,0.9459459459459459,0.960960960960961,0.975975975975976,0.990990990990991,1.006006006006006,1.021021021021021,1.0360360360360361,1.0510510510510511,1.0660660660660661,1.0810810810810811,1.0960960960960962,1.1111111111111112,1.1261261261261262,1.1411411411411412,1.1561561561561562,1.1711711711711712,1.1861861861861862,1.2012012012012012,1.2162162162162162,1.2312312312312312,1.2462462462462462,1.2612612612612613,1.2762762762762763,1.2912912912912913,1.3063063063063063,1.3213213213213213,1.3363363363363363,1.3513513513513513,1.3663663663663663,1.3813813813813813,1.3963963963963963,1.4114114114114114,1.4264264264264264,1.4414414414414414,1.4564564564564564,1.4714714714714714,1.4864864864864864,1.5015015015015014,1.5165165165165164,1.5315315315315314,1.5465465465465464,1.5615615615615615,1.5765765765765765,1.5915915915915915,1.6066066066066067,1.6216216216216217,1.6366366366366367,1.6516516516516517,1.6666666666666667,1.6816816816816818,1.6966966966966968,1.7117117117117118,1.7267267267267268,1.7417417417417418,1.7567567567567568,1.7717717717717718,1.7867867867867868,1.8018018018018018,1.8168168168168168,1.8318318318318318,1.8468468468468469,1.8618618618618619,1.8768768768768769,1.8918918918918919,1.906906906906907,1.921921921921922,1.936936936936937,1.951951951951952,1.966966966966967,1.981981981981982,1.996996996996997,2.012012012012012,2.027027027027027,2.042042042042042,2.057057057057057,2.0720720720720722,2.0870870870870872,2.1021021021021022,2.1171171171171173,2.1321321321321323,2.1471471471471473,2.1621621621621623,2.1771771771771773,2.1921921921921923,2.2072072072072073,2.2222222222222223,2.2372372372372373,2.2522522522522523,2.2672672672672673,2.2822822822822824,2.2972972972972974,2.3123123123123124,2.3273273273273274,2.3423423423423424,2.3573573573573574,2.3723723723723724,2.3873873873873874,2.4024024024024024,2.4174174174174174,2.4324324324324325,2.4474474474474475,2.4624624624624625,2.4774774774774775,2.4924924924924925,2.5075075075075075,2.5225225225225225,2.5375375375375375,2.5525525525525525,2.5675675675675675,2.5825825825825826,2.5975975975975976,2.6126126126126126,2.6276276276276276,2.6426426426426426,2.6576576576576576,2.6726726726726726,2.6876876876876876,2.7027027027027026,2.7177177177177176,2.7327327327327327,2.7477477477477477,2.7627627627627627,2.7777777777777777,2.7927927927927927,2.8078078078078077,2.8228228228228227,2.8378378378378377,2.8528528528528527,2.8678678678678677,2.8828828828828827,2.8978978978978978,2.9129129129129128,2.9279279279279278,2.942942942942943,2.957957957957958,2.972972972972973,2.987987987987988,3.003003003003003,3.018018018018018,3.033033033033033,3.048048048048048,3.063063063063063,3.078078078078078,3.093093093093093,3.108108108108108,3.123123123123123,3.138138138138138,3.153153153153153,3.168168168168168,3.183183183183183,3.198198198198198,3.2132132132132134,3.2282282282282284,3.2432432432432434,3.2582582582582584,3.2732732732732734,3.2882882882882885,3.3033033033033035,3.3183183183183185,3.3333333333333335,3.3483483483483485,3.3633633633633635,3.3783783783783785,3.3933933933933935,3.4084084084084085,3.4234234234234235,3.4384384384384385,3.4534534534534536,3.4684684684684686,3.4834834834834836,3.4984984984984986,3.5135135135135136,3.5285285285285286,3.5435435435435436,3.5585585585585586,3.5735735735735736,3.5885885885885886,3.6036036036036037,3.6186186186186187,3.6336336336336337,3.6486486486486487,3.6636636636636637,3.6786786786786787,3.6936936936936937,3.7087087087087087,3.7237237237237237,3.7387387387387387,3.7537537537537538,3.7687687687687688,3.7837837837837838,3.798798798798799,3.813813813813814,3.828828828828829,3.843843843843844,3.858858858858859,3.873873873873874,3.888888888888889,3.903903903903904,3.918918918918919,3.933933933933934,3.948948948948949,3.963963963963964,3.978978978978979,3.993993993993994,4.009009009009009,4.024024024024024,4.039039039039039,4.054054054054054,4.069069069069069,4.084084084084084,4.099099099099099,4.114114114114114,4.129129129129129,4.1441441441441444,4.1591591591591595,4.1741741741741745,4.1891891891891895,4.2042042042042045,4.2192192192192195,4.2342342342342345,4.2492492492492495,4.2642642642642645,4.2792792792792795,4.2942942942942945,4.3093093093093096,4.324324324324325,4.33933933933934,4.354354354354355,4.36936936936937,4.384384384384385,4.3993993993994,4.414414414414415,4.42942942942943,4.444444444444445,4.45945945945946,4.474474474474475,4.48948948948949,4.504504504504505,4.51951951951952,4.534534534534535,4.54954954954955,4.564564564564565,4.57957957957958,4.594594594594595,4.60960960960961,4.624624624624625,4.63963963963964,4.654654654654655,4.66966966966967,4.684684684684685,4.6996996996997,4.714714714714715,4.72972972972973,4.744744744744745,4.75975975975976,4.774774774774775,4.78978978978979,4.804804804804805,4.81981981981982,4.834834834834835,4.84984984984985,4.864864864864865,4.87987987987988,4.894894894894895,4.90990990990991,4.924924924924925,4.93993993993994,4.954954954954955,4.96996996996997,4.984984984984985,5.0,5.015015015015015,5.03003003003003,5.045045045045045,5.06006006006006,5.075075075075075,5.09009009009009,5.105105105105105,5.12012012012012,5.135135135135135,5.15015015015015,5.165165165165165,5.18018018018018,5.195195195195195,5.21021021021021,5.225225225225225,5.24024024024024,5.255255255255255,5.27027027027027,5.285285285285285,5.3003003003003,5.315315315315315,5.33033033033033,5.345345345345345,5.36036036036036,5.375375375375375,5.39039039039039,5.405405405405405,5.42042042042042,5.435435435435435,5.45045045045045,5.465465465465465,5.48048048048048,5.495495495495495,5.51051051051051,5.525525525525525,5.54054054054054,5.555555555555555,5.57057057057057,5.585585585585585,5.6006006006006,5.615615615615615,5.63063063063063,5.645645645645645,5.66066066066066,5.675675675675675,5.6906906906906904,5.7057057057057055,5.7207207207207205,5.7357357357357355,5.7507507507507505,5.7657657657657655,5.7807807807807805,5.7957957957957955,5.8108108108108105,5.8258258258258255,5.8408408408408405,5.8558558558558556,5.870870870870871,5.885885885885886,5.900900900900901,5.915915915915916,5.930930930930931,5.945945945945946,5.960960960960961,5.975975975975976,5.990990990990991,6.006006006006006,6.021021021021021,6.036036036036036,6.051051051051051,6.066066066066066,6.081081081081081,6.096096096096096,6.111111111111111,6.126126126126126,6.141141141141141,6.156156156156156,6.171171171171171,6.186186186186186,6.201201201201201,6.216216216216216,6.231231231231231,6.246246246246246,6.261261261261261,6.276276276276276,6.291291291291291,6.306306306306306,6.321321321321321,6.336336336336336,6.351351351351351,6.366366366366366,6.381381381381381,6.396396396396396,6.411411411411412,6.426426426426427,6.441441441441442,6.456456456456457,6.471471471471472,6.486486486486487,6.501501501501502,6.516516516516517,6.531531531531532,6.546546546546547,6.561561561561562,6.576576576576577,6.591591591591592,6.606606606606607,6.621621621621622,6.636636636636637,6.651651651651652,6.666666666666667,6.681681681681682,6.696696696696697,6.711711711711712,6.726726726726727,6.741741741741742,6.756756756756757,6.771771771771772,6.786786786786787,6.801801801801802,6.816816816816817,6.831831831831832,6.846846846846847,6.861861861861862,6.876876876876877,6.891891891891892,6.906906906906907,6.921921921921922,6.936936936936937,6.951951951951952,6.966966966966967,6.981981981981982,6.996996996996997,7.012012012012012,7.027027027027027,7.042042042042042,7.057057057057057,7.072072072072072,7.087087087087087,7.102102102102102,7.117117117117117,7.132132132132132,7.147147147147147,7.162162162162162,7.177177177177177,7.192192192192192,7.207207207207207,7.222222222222222,7.237237237237237,7.252252252252252,7.267267267267267,7.282282282282282,7.297297297297297,7.312312312312312,7.327327327327327,7.342342342342342,7.357357357357357,7.372372372372372,7.387387387387387,7.402402402402402,7.4174174174174174,7.4324324324324325,7.4474474474474475,7.4624624624624625,7.4774774774774775,7.4924924924924925,7.5075075075075075,7.5225225225225225,7.5375375375375375,7.5525525525525525,7.5675675675675675,7.5825825825825826,7.597597597597598,7.612612612612613,7.627627627627628,7.642642642642643,7.657657657657658,7.672672672672673,7.687687687687688,7.702702702702703,7.717717717717718,7.732732732732733,7.747747747747748,7.762762762762763,7.777777777777778,7.792792792792793,7.807807807807808,7.822822822822823,7.837837837837838,7.852852852852853,7.867867867867868,7.882882882882883,7.897897897897898,7.912912912912913,7.927927927927928,7.942942942942943,7.957957957957958,7.972972972972973,7.987987987987988,8.003003003003004,8.018018018018019,8.033033033033034,8.048048048048049,8.063063063063064,8.078078078078079,8.093093093093094,8.108108108108109,8.123123123123124,8.138138138138139,8.153153153153154,8.168168168168169,8.183183183183184,8.198198198198199,8.213213213213214,8.228228228228229,8.243243243243244,8.258258258258259,8.273273273273274,8.288288288288289,8.303303303303304,8.318318318318319,8.333333333333334,8.348348348348349,8.363363363363364,8.378378378378379,8.393393393393394,8.408408408408409,8.423423423423424,8.438438438438439,8.453453453453454,8.468468468468469,8.483483483483484,8.498498498498499,8.513513513513514,8.528528528528529,8.543543543543544,8.558558558558559,8.573573573573574,8.588588588588589,8.603603603603604,8.618618618618619,8.633633633633634,8.64864864864865,8.663663663663664,8.67867867867868,8.693693693693694,8.70870870870871,8.723723723723724,8.73873873873874,8.753753753753754,8.76876876876877,8.783783783783784,8.7987987987988,8.813813813813814,8.82882882882883,8.843843843843844,8.85885885885886,8.873873873873874,8.88888888888889,8.903903903903904,8.91891891891892,8.933933933933934,8.94894894894895,8.963963963963964,8.97897897897898,8.993993993993994,9.00900900900901,9.024024024024024,9.03903903903904,9.054054054054054,9.06906906906907,9.084084084084084,9.0990990990991,9.114114114114114,9.12912912912913,9.144144144144144,9.15915915915916,9.174174174174174,9.18918918918919,9.204204204204204,9.21921921921922,9.234234234234235,9.24924924924925,9.264264264264265,9.27927927927928,9.294294294294295,9.30930930930931,9.324324324324325,9.33933933933934,9.354354354354355,9.36936936936937,9.384384384384385,9.3993993993994,9.414414414414415,9.42942942942943,9.444444444444445,9.45945945945946,9.474474474474475,9.48948948948949,9.504504504504505,9.51951951951952,9.534534534534535,9.54954954954955,9.564564564564565,9.57957957957958,9.594594594594595,9.60960960960961,9.624624624624625,9.63963963963964,9.654654654654655,9.66966966966967,9.684684684684685,9.6996996996997,9.714714714714715,9.72972972972973,9.744744744744745,9.75975975975976,9.774774774774775,9.78978978978979,9.804804804804805,9.81981981981982,9.834834834834835,9.84984984984985,9.864864864864865,9.87987987987988,9.894894894894895,9.90990990990991,9.924924924924925,9.93993993993994,9.954954954954955,9.96996996996997,9.984984984984985,10.0,10.015015015015015,10.03003003003003,10.045045045045045,10.06006006006006,10.075075075075075,10.09009009009009,10.105105105105105,10.12012012012012,10.135135135135135,10.15015015015015,10.165165165165165,10.18018018018018,10.195195195195195,10.21021021021021,10.225225225225225,10.24024024024024,10.255255255255255,10.27027027027027,10.285285285285285,10.3003003003003,10.315315315315315,10.33033033033033,10.345345345345345,10.36036036036036,10.375375375375375,10.39039039039039,10.405405405405405,10.42042042042042,10.435435435435435,10.45045045045045,10.465465465465465,10.48048048048048,10.495495495495495,10.51051051051051,10.525525525525525,10.54054054054054,10.555555555555555,10.57057057057057,10.585585585585585,10.6006006006006,10.615615615615615,10.63063063063063,10.645645645645645,10.66066066066066,10.675675675675675,10.69069069069069,10.705705705705705,10.72072072072072,10.735735735735735,10.75075075075075,10.765765765765765,10.78078078078078,10.795795795795796,10.81081081081081,10.825825825825826,10.84084084084084,10.855855855855856,10.87087087087087,10.885885885885886,10.9009009009009,10.915915915915916,10.93093093093093,10.945945945945946,10.96096096096096,10.975975975975976,10.99099099099099,11.006006006006006,11.02102102102102,11.036036036036036,11.05105105105105,11.066066066066066,11.08108108108108,11.096096096096096,11.11111111111111,11.126126126126126,11.14114114114114,11.156156156156156,11.17117117117117,11.186186186186186,11.2012012012012,11.216216216216216,11.23123123123123,11.246246246246246,11.26126126126126,11.276276276276276,11.29129129129129,11.306306306306306,11.32132132132132,11.336336336336336,11.35135135135135,11.366366366366366,11.381381381381381,11.396396396396396,11.411411411411411,11.426426426426426,11.441441441441441,11.456456456456456,11.471471471471471,11.486486486486486,11.501501501501501,11.516516516516516,11.531531531531531,11.546546546546546,11.561561561561561,11.576576576576576,11.591591591591591,11.606606606606606,11.621621621621621,11.636636636636636,11.651651651651651,11.666666666666666,11.681681681681681,11.696696696696696,11.711711711711711,11.726726726726726,11.741741741741741,11.756756756756756,11.771771771771771,11.786786786786786,11.801801801801801,11.816816816816816,11.831831831831831,11.846846846846846,11.861861861861861,11.876876876876876,11.891891891891891,11.906906906906906,11.921921921921921,11.936936936936936,11.951951951951951,11.966966966966966,11.981981981981981,11.996996996996996,12.012012012012011,12.027027027027026,12.042042042042041,12.057057057057056,12.072072072072071,12.087087087087086,12.102102102102101,12.117117117117116,12.132132132132131,12.147147147147146,12.162162162162161,12.177177177177176,12.192192192192191,12.207207207207206,12.222222222222221,12.237237237237236,12.252252252252251,12.267267267267266,12.282282282282281,12.297297297297296,12.312312312312311,12.327327327327327,12.342342342342342,12.357357357357357,12.372372372372372,12.387387387387387,12.402402402402402,12.417417417417417,12.432432432432432,12.447447447447447,12.462462462462462,12.477477477477477,12.492492492492492,12.507507507507507,12.522522522522522,12.537537537537537,12.552552552552552,12.567567567567567,12.582582582582582,12.597597597597597,12.612612612612612,12.627627627627627,12.642642642642642,12.657657657657657,12.672672672672672,12.687687687687687,12.702702702702702,12.717717717717717,12.732732732732732,12.747747747747747,12.762762762762762,12.777777777777777,12.792792792792792,12.807807807807807,12.822822822822824,12.837837837837839,12.852852852852854,12.867867867867869,12.882882882882884,12.897897897897899,12.912912912912914,12.927927927927929,12.942942942942944,12.957957957957959,12.972972972972974,12.987987987987989,13.003003003003004,13.018018018018019,13.033033033033034,13.048048048048049,13.063063063063064,13.078078078078079,13.093093093093094,13.108108108108109,13.123123123123124,13.138138138138139,13.153153153153154,13.168168168168169,13.183183183183184,13.198198198198199,13.213213213213214,13.228228228228229,13.243243243243244,13.258258258258259,13.273273273273274,13.288288288288289,13.303303303303304,13.318318318318319,13.333333333333334,13.348348348348349,13.363363363363364,13.378378378378379,13.393393393393394,13.408408408408409,13.423423423423424,13.438438438438439,13.453453453453454,13.468468468468469,13.483483483483484,13.498498498498499,13.513513513513514,13.528528528528529,13.543543543543544,13.558558558558559,13.573573573573574,13.588588588588589,13.603603603603604,13.618618618618619,13.633633633633634,13.64864864864865,13.663663663663664,13.67867867867868,13.693693693693694,13.70870870870871,13.723723723723724,13.73873873873874,13.753753753753754,13.76876876876877,13.783783783783784,13.7987987987988,13.813813813813814,13.82882882882883,13.843843843843844,13.85885885885886,13.873873873873874,13.88888888888889,13.903903903903904,13.91891891891892,13.933933933933934,13.94894894894895,13.963963963963964,13.97897897897898,13.993993993993994,14.00900900900901,14.024024024024024,14.03903903903904,14.054054054054054,14.06906906906907,14.084084084084084,14.0990990990991,14.114114114114114,14.12912912912913,14.144144144144144,14.15915915915916,14.174174174174174,14.18918918918919,14.204204204204204,14.21921921921922,14.234234234234235,14.24924924924925,14.264264264264265,14.27927927927928,14.294294294294295,14.30930930930931,14.324324324324325,14.33933933933934,14.354354354354355,14.36936936936937,14.384384384384385,14.3993993993994,14.414414414414415,14.42942942942943,14.444444444444445,14.45945945945946,14.474474474474475,14.48948948948949,14.504504504504505,14.51951951951952,14.534534534534535,14.54954954954955,14.564564564564565,14.57957957957958,14.594594594594595,14.60960960960961,14.624624624624625,14.63963963963964,14.654654654654655,14.66966966966967,14.684684684684685,14.6996996996997,14.714714714714715,14.72972972972973,14.744744744744745,14.75975975975976,14.774774774774775,14.78978978978979,14.804804804804805,14.81981981981982,14.834834834834835,14.84984984984985,14.864864864864865,14.87987987987988,14.894894894894895,14.90990990990991,14.924924924924925,14.93993993993994,14.954954954954955,14.96996996996997,14.984984984984985,15.0],\"y\":[0.014644982561926494,0.014866201185982975,0.015090080981310821,0.015316641683113941,0.015545902957989084,0.015777884399322338,0.016012605522633155,0.016250085760866492,0.016490344459633616,0.016733400872401993,0.016979274155634903,0.01722798336388135,0.017479547444816806,0.017733985234235562,0.017991315450995124,0.018251556691913615,0.018514727426620563,0.018780845992362107,0.01904993058876119,0.019321999272533506,0.019597069952160217,0.019875160382517985,0.02015628815946735,0.020440470714400343,0.020727725308748123,0.02101806902844969,0.021311518778382537,0.02160809127675637,0.02190780304947062,0.02221067042443716,0.02251670952586896,0.022825936268535928,0.023138366351989105,0.023454015254754036,0.02377289822849502,0.02409503029215078,0.024420426226043353,0.024749100565961014,0.02508106759721677,0.02541634134868348,0.02575493558680716,0.0260968638095996,0.026442139240611715,0.026790774822889156,0.027142783212911314,0.02749817677451541,0.027856967572806996,0.028219167368058337,0.028584787609596304,0.02895383942968104,0.029326333637377345,0.029702280712419964,0.0300816907990746,0.030464573699996174,0.030850938870086,0.03124079541034962,0.03163415206175671,0.03203101719910513,0.03243139882489052,0.03283530456318334,0.03324274165351511,0.03365371694477554,0.03406823688912253,0.03448630753590654,0.03490793452561156,0.03533312308381418,0.03576187801516287,0.03619420369737921,0.03663010407528303,0.03706958265484341,0.03751264249725737,0.037959286213058295,0.038409515956256024,0.03886333341851049,0.0393207398233411,0.03978173592037361,0.0402463219796267,0.040714497785840145,0.04118626263284673,0.04166161531798974,0.042140554136588404,0.042623076876453,0.043109180812452,0.04359886270113302,0.04409211877539998,0.044588944739248314,0.04508933576256041,0.045593286475963404,0.04610079096575141,0.046611842768874284,0.04712643486799493,0.04764455968661753,0.04816620908428851,0.04869137435187244,0.04922004620690523,0.04975221478902619,0.05028786965549164,0.05082699977677178,0.05136959353223314,0.05191563870590854,0.052465122482356734,0.05301803144261391,0.05357435156023893,0.05413406819745443,0.05469716610138607,0.055263629400401644,0.05583344160055227,0.056406585582117724,0.0569830435962578,0.057562797261771874,0.05814582756196846,0.05873211484164698,0.05932163880419336,0.05991437850879186,0.060510312367754567,0.061109418143970924,0.06171167294847882,0.0623170532381593,0.06292553481355673,0.0635370928168262,0.06415170172980997,0.06476933537224487,0.06538996690010208,0.06601356880406155,0.06664011290812219,0.06726957036835002,0.0679019116717655,0.06853710663537206,0.0691751244053271,0.06981593345625715,0.07045950159071891,0.07110579593880732,0.07175478295791232,0.07240642843262586,0.07306069747480028,0.07371755452375968,0.07437696334666544,0.07503888703903724,0.075703288025431,0.07637012806027449,0.0770393682288625,0.07771096894851193,0.07838488996987861,0.07906109037843628,0.07973952859611938,0.08042016238312985,0.08110294883990972,0.08178784440927972,0.082474804878745,0.08316378538296884,0.08385474040641482,0.08454762378615846,0.08524238871486885,0.08593898774396068,0.08663737278691767,0.08733749512278736,0.08803930539984824,0.0887427536394491,0.08944778924002159,0.09015436098126557,0.090862417028508,0.0915719049372355,0.0922827716578004,0.09299496354030087,0.09370842633963473,0.09442310522072708,0.09513894476393167,0.09585588897060603,0.09657388126885973,0.09729286451947611,0.09801278102200668,0.09873357252103813,0.0994551802126313,0.10017754475093192,0.10090060625495237,0.1016243043155239,0.1023485780024187,0.10307336587164113,0.10379860597288737,0.10452423585717242,0.10525019258462401,0.10597641273244197,0.1067028324030226,0.10742938723224638,0.10815601239792846,0.10888264262843035,0.10960921221143179,0.1103356550028614,0.11106190443598483,0.11178789353064891,0.11251355490268032,0.11323882077343743,0.11396362297951343,0.11468789298258936,0.11541156187943508,0.1161345604120568,0.11685681897798883,0.117578267640728,0.11829883614030898,0.11901845390401791,0.119737050057243,0.12045455343445936,0.12117089259034639,0.12188599581103517,0.12259979112548382,0.12331220631697834,0.12402316893475657,0.124732606305753,0.12544044554646172,0.12614661357491505,0.12685103712277535,0.12755364274753742,0.12825435684483838,0.1289531056608729,0.12964981530491057,0.1303444117619126,0.13103682090524543,0.13172696850948742,0.13241478026332673,0.13310018178254648,0.13378309862309462,0.13446345629423528,0.13514118027177832,0.13581619601138428,0.1364884289619409,0.13715780457900867,0.13782424833833126,0.13848768574940845,0.13914804236912737,0.139805243815449,0.1404592157811465,0.14110988404759187,0.1417571744985871,0.1424010131342372,0.14304132608486006,0.14367803962493106,0.14431108018705774,0.1449403743759815,0.14556584898260222,0.14618743099802242,0.14680504762760707,0.14741862630505526,0.1480280947064803,0.14863338076449392,0.1492344126822913,0.14983111894773268,0.15042342834741826,0.1510112699807517,0.1515945732739894,0.15217326799427083,0.15274728426362646,0.15331655257295948,0.15388100379599687,0.15444056920320678,0.15499518047567756,0.15554476971895484,0.1560892694768329,0.15662861274509618,0.15716273298520708,0.1576915641379363,0.15821504063693173,0.15873309742222189,0.1592456699536502,0.15975269422423624,0.16025410677345997,0.16074984470046524,0.1612398456771785,0.16172404796133927,0.16220239040943812,0.16267481248955895,0.1631412542941211,0.16360165655251804,0.16405596064364894,0.16450410860833892,0.16494604316164496,0.16538170770504323,0.1658110463384948,0.16623400387238535,0.16665052583933632,0.16706055850588286,0.16746404888401625,0.16786094474258614,0.16825119461856006,0.16863474782813653,0.16901155447770821,0.16938156547467204,0.16974473253808295,0.17010100820914806,0.1704503458615579,0.17079269971165187,0.17112802482841433,0.17145627714329897,0.17177741345987785,0.17209139146331226,0.17239816972964278,0.17269770773489554,0.17298996586400153,0.173274905419527,0.17355248863021133,0.17382267865931034,0.17408543961274256,0.17434073654703522,0.17458853547706835,0.17482880338361392,0.17506150822066832,0.17528661892257494,0.17550410541093592,0.17571393860130974,0.17591609040969328,0.17611053375878596,0.17629724258403423,0.1764761918394545,0.17664735750323246,0.17681071658309724,0.17696624712146888,0.177113928200377,0.1772537399461496,0.17738566353387042,0.17750968119160318,0.1776257762043819,0.1777339329179653,0.17783413674235482,0.17792637415507498,0.17801063270421447,0.17808690101122798,0.1781551687734971,0.17821542676664967,0.1782676668466373,0.1783118819515697,0.17834806610330567,0.1783762144088004,0.17839632306120798,0.17840838934073974,0.17841241161527713,0.17840838934073974,0.17839632306120798,0.1783762144088004,0.17834806610330567,0.1783118819515697,0.1782676668466373,0.17821542676664967,0.1781551687734971,0.17808690101122798,0.17801063270421447,0.17792637415507498,0.17783413674235482,0.1777339329179653,0.1776257762043819,0.17750968119160318,0.17738566353387042,0.1772537399461496,0.177113928200377,0.17696624712146888,0.17681071658309724,0.17664735750323246,0.1764761918394545,0.17629724258403423,0.17611053375878596,0.17591609040969328,0.17571393860130974,0.17550410541093592,0.17528661892257494,0.17506150822066832,0.17482880338361392,0.17458853547706835,0.17434073654703522,0.17408543961274256,0.17382267865931034,0.17355248863021133,0.173274905419527,0.17298996586400153,0.17269770773489554,0.17239816972964278,0.17209139146331226,0.17177741345987785,0.17145627714329897,0.17112802482841433,0.17079269971165187,0.1704503458615579,0.17010100820914806,0.16974473253808295,0.16938156547467204,0.16901155447770821,0.16863474782813653,0.16825119461856006,0.16786094474258614,0.16746404888401625,0.16706055850588286,0.16665052583933632,0.16623400387238535,0.1658110463384948,0.16538170770504323,0.16494604316164496,0.16450410860833892,0.16405596064364894,0.16360165655251804,0.1631412542941211,0.16267481248955895,0.16220239040943812,0.16172404796133927,0.16123984567717853,0.16074984470046527,0.16025410677346,0.15975269422423624,0.1592456699536502,0.15873309742222189,0.15821504063693173,0.15769156413793634,0.15716273298520708,0.15662861274509618,0.1560892694768329,0.15554476971895487,0.1549951804756776,0.15444056920320678,0.15388100379599687,0.15331655257295948,0.1527472842636265,0.15217326799427083,0.15159457327398942,0.1510112699807517,0.15042342834741826,0.1498311189477327,0.1492344126822913,0.14863338076449395,0.14802809470648032,0.14741862630505528,0.14680504762760707,0.1461874309980224,0.1455658489826022,0.14494037437598148,0.1443110801870577,0.14367803962493103,0.14304132608486003,0.1424010131342372,0.1417571744985871,0.14110988404759184,0.1404592157811465,0.13980524381544898,0.13914804236912734,0.13848768574940842,0.13782424833833123,0.13715780457900864,0.13648842896194088,0.13581619601138425,0.13514118027177832,0.13446345629423526,0.13378309862309462,0.13310018178254648,0.1324147802633267,0.1317269685094874,0.1310368209052454,0.13034441176191258,0.12964981530491057,0.1289531056608729,0.12825435684483838,0.12755364274753742,0.12685103712277535,0.12614661357491505,0.12544044554646172,0.124732606305753,0.12402316893475657,0.12331220631697834,0.12259979112548382,0.12188599581103517,0.12117089259034639,0.12045455343445936,0.119737050057243,0.11901845390401791,0.11829883614030898,0.117578267640728,0.11685681897798883,0.1161345604120568,0.11541156187943508,0.11468789298258936,0.11396362297951343,0.11323882077343743,0.11251355490268032,0.11178789353064891,0.11106190443598483,0.1103356550028614,0.10960921221143179,0.10888264262843035,0.10815601239792846,0.10742938723224638,0.1067028324030226,0.10597641273244197,0.10525019258462401,0.10452423585717242,0.10379860597288737,0.10307336587164113,0.1023485780024187,0.1016243043155239,0.10090060625495237,0.10017754475093192,0.0994551802126313,0.09873357252103813,0.09801278102200668,0.09729286451947611,0.09657388126885973,0.09585588897060603,0.09513894476393167,0.09442310522072708,0.09370842633963473,0.09299496354030087,0.0922827716578004,0.0915719049372355,0.090862417028508,0.09015436098126557,0.08944778924002159,0.0887427536394491,0.08803930539984824,0.08733749512278736,0.08663737278691767,0.08593898774396068,0.08524238871486885,0.08454762378615846,0.08385474040641482,0.08316378538296884,0.082474804878745,0.08178784440927972,0.08110294883990972,0.08042016238312985,0.07973952859611938,0.07906109037843628,0.07838488996987861,0.07771096894851193,0.0770393682288625,0.07637012806027449,0.075703288025431,0.07503888703903724,0.07437696334666544,0.07371755452375968,0.07306069747480028,0.07240642843262582,0.07175478295791228,0.0711057959388073,0.07045950159071887,0.06981593345625711,0.06917512440532705,0.06853710663537202,0.06790191167176547,0.06726957036834998,0.06664011290812215,0.06601356880406149,0.06538996690010203,0.06476933537224483,0.06415170172980994,0.06353709281682617,0.06292553481355669,0.06231705323815927,0.06171167294847878,0.06110941814397088,0.06051031236775454,0.05991437850879182,0.059321638804193326,0.058732114841646955,0.05814582756196842,0.05756279726177183,0.05698304359625776,0.056406585582117696,0.055833441600552265,0.05526362940040162,0.054697166101386065,0.054134068197454414,0.05357435156023891,0.053018031442613904,0.05246512248235673,0.05191563870590852,0.05136959353223313,0.05082699977677177,0.05028786965549162,0.04975221478902618,0.04922004620690522,0.04869137435187242,0.04816620908428848,0.04764455968661751,0.04712643486799492,0.046611842768874284,0.046100790965751405,0.0455932864759634,0.04508933576256039,0.04458894473924831,0.04409211877539997,0.043598862701133,0.043109180812451985,0.042623076876452996,0.04214055413658838,0.04166161531798973,0.041186262632846714,0.040714497785840145,0.04024632197962668,0.039781735920373595,0.03932073982334108,0.03886333341851048,0.038409515956256024,0.03795928621305829,0.037512642497257366,0.0370695826548434,0.03663010407528302,0.0361942036973792,0.03576187801516287,0.03533312308381418,0.03490793452561156,0.03448630753590654,0.03406823688912253,0.03365371694477554,0.03324274165351511,0.03283530456318334,0.03243139882489052,0.03203101719910513,0.03163415206175671,0.03124079541034962,0.030850938870086,0.030464573699996174,0.0300816907990746,0.029702280712419964,0.029326333637377345,0.02895383942968104,0.028584787609596304,0.028219167368058337,0.027856967572806996,0.02749817677451541,0.027142783212911314,0.026790774822889156,0.026442139240611715,0.0260968638095996,0.02575493558680716,0.02541634134868348,0.02508106759721677,0.024749100565961014,0.024420426226043353,0.02409503029215078,0.02377289822849502,0.023454015254754036,0.023138366351989105,0.022825936268535928,0.02251670952586896,0.02221067042443716,0.02190780304947062,0.02160809127675637,0.021311518778382537,0.02101806902844969,0.020727725308748123,0.020440470714400343,0.02015628815946735,0.019875160382517985,0.019597069952160217,0.019321999272533506,0.01904993058876119,0.018780845992362107,0.018514727426620563,0.018251556691913615,0.017991315450995124,0.017733985234235562,0.017479547444816806,0.01722798336388135,0.016979274155634903,0.016733400872401993,0.016490344459633616,0.016250085760866492,0.016012605522633155,0.015777884399322338,0.015545902957989084,0.015316641683113941,0.015090080981310821,0.014866201185982975,0.014644982561926494,0.01442640530988108,0.014210449571027454,0.01399709543143112,0.013786322926431964,0.013578112044979522,0.013372442733913324,0.01316929490218815,0.012968648425043895,0.012770483148119667,0.012574778891511955,0.012381515453776583,0.01219067261587422,0.012002230145059337,0.011816167798712286,0.011632465328114542,0.011451102482166764,0.011272059011049745,0.011095314669828063,0.010920849221996331,0.010748642442968116,0.010578674123507327,0.010410924073102214,0.010245372123281832,0.010081998130875108,0.009920781981212505,0.009761703591270257,0.009604742912757418,0.009449879935145651,0.009297094688641929,0.00914636724710427,0.008997677730900667,0.008851006309711265,0.00870633320527408,0.00856363869407435,0.008422903109977767,0.008284106846807743,0.008147230360867038,0.008012254173403857,0.007879158873022768,0.007747925118040672,0.007618533638788098,0.007490965239856129,0.007365200802289241,0.007241221285724381,0.007119007730476643,0.006998541259571795,0.006879803080726102,0.006762774488273757,0.006647436865042247,0.006533771684176148,0.0064217605109096266,0.006311385004288088,0.006202626918839403,0.006095468106195097,0.005989890516661935,0.005885876200744335,0.005783407310618053,0.005682466101555613,0.005583034933303874,0.005485096271414273,0.005388632688526141,0.0052936268656036565,0.0052000615931268165,0.005107919772236993,0.005017184415837541,0.004927838649649933,0.00483986571322599,0.004753248960916634,0.004667971862797742,0.004584018005553597,0.004501371093318443,0.004420014948476696,0.004339933512422332,0.004261110846277956,0.004183531131574144,0.004107178670889531,0.004032037888452263,0.0039580933307032575,0.003885329666821925,0.0038137316892147997,0.0037432843139677116,0.0036739725812619762,0.003605781655755225,0.0035386968269273556,0.0034727035093922234,0.0034077872431755593,0.003343933693959734,0.0032811286532958635,0.0032193580387838605,0.0031586078942209364,0.0030988643897191404,0.003040113821792469,0.0029823426134141192,0.002925537314044403,0.0028696845996298848,0.0028147712725743175,0.002760784261681871,0.002707710622073228,0.002655537535075095,0.002604252308083646,0.0025538423744024606,0.0025042952930554546,0.002455598748575384,0.0024077405507684155,0.002360708634455305,0.0023144910591897066,0.0022690760089541374,0.002224451791834095,0.002180606839670888,0.002137529707693637,0.0020952090741309807,0.0020536337398030097,0.0020127926276938784,0.001972674782505649,0.0019332693701938066,0.0018945656774849776,0.0018565531113773064,0.0018192211986239918,0.0017825595852004302,0.0017465580357554726,0.0017112064330472355,0.0016764947773639364,0.0016424131859302158,0.001608951892299386,0.001576101245732076,0.0015438517105616915,0.001512193865547144,0.0014811184032132753,0.0014506161291794122,0.0014206779614764713,0.0013912949298530233,0.0013624581750707476,0.00133415894818967,0.001306388609843592,0.0012791386295061137,0.0012524005847476213,0.0012261661604836668,0.0012004271482150704,0.0011751754452601637,0.0011504030539795167,0.0011261020809935384,0.0011022647363932766,0.0010788833329448124,0.0010559502852875622,0.001033458109126848,0.0010113994204210748,0.0009897669345638428,0.0009685534655613163,0.0009477519252051802,0.0009273553222415005,0.0009073567615357798,0.000887749443234545,0.0008685266619237361,0.0008496818057842076,0.000831208355744626,0.0008130998846320443,0.0007953500563204378,0.0007779526248774621,0.0007609014337097142,0.0007441904147067483,0.0007278135873841043,0.0007117650580256003,0.0006960390188251397,0.0006806297470282633,0.000665531604073694,0.0006507390347350887,0.0006362465662632388,0.0006220488075289246,0.000608140448166651,0.0005945162577194637,0.0005811710847850516,0.0005680998561633459,0.0005552975760057956,0.000542759324966518,0.0005304802593555097,0.0005184556102940908,0.0005066806828727684,0.0004951508553116788,0.000483861578123782,0.000472808373280971,0.00046198683338324116,0.0004513926208310882,0.0004410214670012695,0.00043086917142607875,0.00042093160097627025,0.00041120468904776885,0.0004016844347522952,0.0003923669021120301,0.00038324821925845106,0.00037432457763543454,0.0003655922312067693,0.000357047495668165,0.0003486867476638751,0.00034050642400802874,0.0003325030209107797,0.00032467309320935266,0.0003170132536040894,0.00030952017189957674,0.0003021905742509373,0.00029502124241536807,0.00028800901300899735,0.0002811507767691395,0.00027444347782200644,0.0002678841129559543,0.0002614697309003175,0.0002551974316098943,0.00024906436555514135,0.00024306773301812523,0.00023720478339428635,0.00023147281450005975,0.00022586917188639505,0.00022039124815822095,0.00021503648229988877,0.00020980235900663224,0.0002046864080220773,0.00019968620348182742,0.0001947993632631592,0.00019002354834084728,0.00018535646214914024,0.000180795849949916,0.00017633949820702115,0.0001719852339668215,0.00016773092424496888,0.00016357447541939755,0.0001595138326295589,0.0001555469791819006,0.00015167193596159133,0.00014788676085049943,0.00014418954815141784,0.00014057842801854043,0.00013705156589418051,0.00013360716195172977,0.00013024345054484754,0.00012695869966287325,0.00012375121039244952,0.00012061931638534363,0.00011756138333245493,0.00011457580844398913,0.00011166101993578628,0.00010881547652177943,0.00010603766691256704,0.00010332610932007597,0.00010067935096829349,9.809596761004118e-05,9.55745630497693e-05,9.311376867234083e-05,9.071224297778056e-05,8.836867112195879e-05,8.608176446317837e-05,8.385026011463628e-05,8.167292050272548e-05,7.95485329311453e-05,7.747590915078456e-05,7.545388493534459e-05,7.348131966266337e-05,7.155709590170671e-05,6.968011900518674e-05,6.78493167077716e-05,6.60636387298441e-05,6.432205638677295e-05,6.26235622036532e-05,6.0967169535476967e-05,5.9351912192690905e-05,5.7776844072099986e-05,5.624103879307267e-05,5.474358933900562e-05,5.3283607704003816e-05,5.186022454473145e-05,5.047258883738823e-05,4.911986753976787e-05,4.780124525835126e-05,4.651592392038947e-05,4.526312245092962e-05,4.4042076454738444e-05,4.285203790307543e-05,4.169227482526879e-05,4.0562071005047825e-05,3.946072568158303e-05,3.838755325518709e-05,3.734188299762888e-05,3.632305876701226e-05,3.5330438727171545e-05,3.43633950715359e-05,3.342131375141397e-05,3.2503594208651146e-05,3.16096491126099e-05,3.0738904101426e-05,2.989079752749194e-05,2.906478020711863e-05,2.8260315174327992e-05,2.7476877438727293e-05,2.671395374741749e-05,2.597104235088779e-05,2.5247652772847058e-05,2.4543305583945967e-05,2.385753217934045e-05,2.318987456004995e-05,2.2539885118062034e-05,2.1907126425136922e-05,2.129117102526362e-05,2.069160123072169e-05,2.0108008921701514e-05,1.953999534943591e-05,1.898717094279743e-05,1.8449155118314988e-05,1.7925576093563562e-05,1.7416070703881708e-05,1.6920284222371344e-05,1.643787018313459e-05,1.596849020770276e-05,1.5511813834613078e-05,1.5067518352088808e-05,1.4635288633778495e-05,1.421481697751124e-05,1.3805802947023755e-05,1.3407953216617095e-05,1.302098141869955e-05,1.2644607994173812e-05,1.2278560045625964e-05,1.1922571193274927e-05,1.1576381433640621e-05,1.1239737000890162e-05,1.0912390230821078e-05,1.0594099427441592e-05,1.028462873210758e-05,9.9837479951772e-06,9.691232650143363e-06,9.406863590205599e-06,9.130427047242907e-06,8.861714473149039e-06,8.600522423493164e-06,8.346652443468038e-06,8.099910956089133e-06],\"type\":\"scatter\"}],                        {\"template\":{\"data\":{\"histogram2dcontour\":[{\"type\":\"histogram2dcontour\",\"colorbar\":{\"outlinewidth\":0,\"ticks\":\"\"},\"colorscale\":[[0.0,\"#0d0887\"],[0.1111111111111111,\"#46039f\"],[0.2222222222222222,\"#7201a8\"],[0.3333333333333333,\"#9c179e\"],[0.4444444444444444,\"#bd3786\"],[0.5555555555555556,\"#d8576b\"],[0.6666666666666666,\"#ed7953\"],[0.7777777777777778,\"#fb9f3a\"],[0.8888888888888888,\"#fdca26\"],[1.0,\"#f0f921\"]]}],\"choropleth\":[{\"type\":\"choropleth\",\"colorbar\":{\"outlinewidth\":0,\"ticks\":\"\"}}],\"histogram2d\":[{\"type\":\"histogram2d\",\"colorbar\":{\"outlinewidth\":0,\"ticks\":\"\"},\"colorscale\":[[0.0,\"#0d0887\"],[0.1111111111111111,\"#46039f\"],[0.2222222222222222,\"#7201a8\"],[0.3333333333333333,\"#9c179e\"],[0.4444444444444444,\"#bd3786\"],[0.5555555555555556,\"#d8576b\"],[0.6666666666666666,\"#ed7953\"],[0.7777777777777778,\"#fb9f3a\"],[0.8888888888888888,\"#fdca26\"],[1.0,\"#f0f921\"]]}],\"heatmap\":[{\"type\":\"heatmap\",\"colorbar\":{\"outlinewidth\":0,\"ticks\":\"\"},\"colorscale\":[[0.0,\"#0d0887\"],[0.1111111111111111,\"#46039f\"],[0.2222222222222222,\"#7201a8\"],[0.3333333333333333,\"#9c179e\"],[0.4444444444444444,\"#bd3786\"],[0.5555555555555556,\"#d8576b\"],[0.6666666666666666,\"#ed7953\"],[0.7777777777777778,\"#fb9f3a\"],[0.8888888888888888,\"#fdca26\"],[1.0,\"#f0f921\"]]}],\"heatmapgl\":[{\"type\":\"heatmapgl\",\"colorbar\":{\"outlinewidth\":0,\"ticks\":\"\"},\"colorscale\":[[0.0,\"#0d0887\"],[0.1111111111111111,\"#46039f\"],[0.2222222222222222,\"#7201a8\"],[0.3333333333333333,\"#9c179e\"],[0.4444444444444444,\"#bd3786\"],[0.5555555555555556,\"#d8576b\"],[0.6666666666666666,\"#ed7953\"],[0.7777777777777778,\"#fb9f3a\"],[0.8888888888888888,\"#fdca26\"],[1.0,\"#f0f921\"]]}],\"contourcarpet\":[{\"type\":\"contourcarpet\",\"colorbar\":{\"outlinewidth\":0,\"ticks\":\"\"}}],\"contour\":[{\"type\":\"contour\",\"colorbar\":{\"outlinewidth\":0,\"ticks\":\"\"},\"colorscale\":[[0.0,\"#0d0887\"],[0.1111111111111111,\"#46039f\"],[0.2222222222222222,\"#7201a8\"],[0.3333333333333333,\"#9c179e\"],[0.4444444444444444,\"#bd3786\"],[0.5555555555555556,\"#d8576b\"],[0.6666666666666666,\"#ed7953\"],[0.7777777777777778,\"#fb9f3a\"],[0.8888888888888888,\"#fdca26\"],[1.0,\"#f0f921\"]]}],\"surface\":[{\"type\":\"surface\",\"colorbar\":{\"outlinewidth\":0,\"ticks\":\"\"},\"colorscale\":[[0.0,\"#0d0887\"],[0.1111111111111111,\"#46039f\"],[0.2222222222222222,\"#7201a8\"],[0.3333333333333333,\"#9c179e\"],[0.4444444444444444,\"#bd3786\"],[0.5555555555555556,\"#d8576b\"],[0.6666666666666666,\"#ed7953\"],[0.7777777777777778,\"#fb9f3a\"],[0.8888888888888888,\"#fdca26\"],[1.0,\"#f0f921\"]]}],\"mesh3d\":[{\"type\":\"mesh3d\",\"colorbar\":{\"outlinewidth\":0,\"ticks\":\"\"}}],\"scatter\":[{\"fillpattern\":{\"fillmode\":\"overlay\",\"size\":10,\"solidity\":0.2},\"type\":\"scatter\"}],\"parcoords\":[{\"type\":\"parcoords\",\"line\":{\"colorbar\":{\"outlinewidth\":0,\"ticks\":\"\"}}}],\"scatterpolargl\":[{\"type\":\"scatterpolargl\",\"marker\":{\"colorbar\":{\"outlinewidth\":0,\"ticks\":\"\"}}}],\"bar\":[{\"error_x\":{\"color\":\"#2a3f5f\"},\"error_y\":{\"color\":\"#2a3f5f\"},\"marker\":{\"line\":{\"color\":\"#E5ECF6\",\"width\":0.5},\"pattern\":{\"fillmode\":\"overlay\",\"size\":10,\"solidity\":0.2}},\"type\":\"bar\"}],\"scattergeo\":[{\"type\":\"scattergeo\",\"marker\":{\"colorbar\":{\"outlinewidth\":0,\"ticks\":\"\"}}}],\"scatterpolar\":[{\"type\":\"scatterpolar\",\"marker\":{\"colorbar\":{\"outlinewidth\":0,\"ticks\":\"\"}}}],\"histogram\":[{\"marker\":{\"pattern\":{\"fillmode\":\"overlay\",\"size\":10,\"solidity\":0.2}},\"type\":\"histogram\"}],\"scattergl\":[{\"type\":\"scattergl\",\"marker\":{\"colorbar\":{\"outlinewidth\":0,\"ticks\":\"\"}}}],\"scatter3d\":[{\"type\":\"scatter3d\",\"line\":{\"colorbar\":{\"outlinewidth\":0,\"ticks\":\"\"}},\"marker\":{\"colorbar\":{\"outlinewidth\":0,\"ticks\":\"\"}}}],\"scattermapbox\":[{\"type\":\"scattermapbox\",\"marker\":{\"colorbar\":{\"outlinewidth\":0,\"ticks\":\"\"}}}],\"scatterternary\":[{\"type\":\"scatterternary\",\"marker\":{\"colorbar\":{\"outlinewidth\":0,\"ticks\":\"\"}}}],\"scattercarpet\":[{\"type\":\"scattercarpet\",\"marker\":{\"colorbar\":{\"outlinewidth\":0,\"ticks\":\"\"}}}],\"carpet\":[{\"aaxis\":{\"endlinecolor\":\"#2a3f5f\",\"gridcolor\":\"white\",\"linecolor\":\"white\",\"minorgridcolor\":\"white\",\"startlinecolor\":\"#2a3f5f\"},\"baxis\":{\"endlinecolor\":\"#2a3f5f\",\"gridcolor\":\"white\",\"linecolor\":\"white\",\"minorgridcolor\":\"white\",\"startlinecolor\":\"#2a3f5f\"},\"type\":\"carpet\"}],\"table\":[{\"cells\":{\"fill\":{\"color\":\"#EBF0F8\"},\"line\":{\"color\":\"white\"}},\"header\":{\"fill\":{\"color\":\"#C8D4E3\"},\"line\":{\"color\":\"white\"}},\"type\":\"table\"}],\"barpolar\":[{\"marker\":{\"line\":{\"color\":\"#E5ECF6\",\"width\":0.5},\"pattern\":{\"fillmode\":\"overlay\",\"size\":10,\"solidity\":0.2}},\"type\":\"barpolar\"}],\"pie\":[{\"automargin\":true,\"type\":\"pie\"}]},\"layout\":{\"autotypenumbers\":\"strict\",\"colorway\":[\"#636efa\",\"#EF553B\",\"#00cc96\",\"#ab63fa\",\"#FFA15A\",\"#19d3f3\",\"#FF6692\",\"#B6E880\",\"#FF97FF\",\"#FECB52\"],\"font\":{\"color\":\"#2a3f5f\"},\"hovermode\":\"closest\",\"hoverlabel\":{\"align\":\"left\"},\"paper_bgcolor\":\"white\",\"plot_bgcolor\":\"#E5ECF6\",\"polar\":{\"bgcolor\":\"#E5ECF6\",\"angularaxis\":{\"gridcolor\":\"white\",\"linecolor\":\"white\",\"ticks\":\"\"},\"radialaxis\":{\"gridcolor\":\"white\",\"linecolor\":\"white\",\"ticks\":\"\"}},\"ternary\":{\"bgcolor\":\"#E5ECF6\",\"aaxis\":{\"gridcolor\":\"white\",\"linecolor\":\"white\",\"ticks\":\"\"},\"baxis\":{\"gridcolor\":\"white\",\"linecolor\":\"white\",\"ticks\":\"\"},\"caxis\":{\"gridcolor\":\"white\",\"linecolor\":\"white\",\"ticks\":\"\"}},\"coloraxis\":{\"colorbar\":{\"outlinewidth\":0,\"ticks\":\"\"}},\"colorscale\":{\"sequential\":[[0.0,\"#0d0887\"],[0.1111111111111111,\"#46039f\"],[0.2222222222222222,\"#7201a8\"],[0.3333333333333333,\"#9c179e\"],[0.4444444444444444,\"#bd3786\"],[0.5555555555555556,\"#d8576b\"],[0.6666666666666666,\"#ed7953\"],[0.7777777777777778,\"#fb9f3a\"],[0.8888888888888888,\"#fdca26\"],[1.0,\"#f0f921\"]],\"sequentialminus\":[[0.0,\"#0d0887\"],[0.1111111111111111,\"#46039f\"],[0.2222222222222222,\"#7201a8\"],[0.3333333333333333,\"#9c179e\"],[0.4444444444444444,\"#bd3786\"],[0.5555555555555556,\"#d8576b\"],[0.6666666666666666,\"#ed7953\"],[0.7777777777777778,\"#fb9f3a\"],[0.8888888888888888,\"#fdca26\"],[1.0,\"#f0f921\"]],\"diverging\":[[0,\"#8e0152\"],[0.1,\"#c51b7d\"],[0.2,\"#de77ae\"],[0.3,\"#f1b6da\"],[0.4,\"#fde0ef\"],[0.5,\"#f7f7f7\"],[0.6,\"#e6f5d0\"],[0.7,\"#b8e186\"],[0.8,\"#7fbc41\"],[0.9,\"#4d9221\"],[1,\"#276419\"]]},\"xaxis\":{\"gridcolor\":\"white\",\"linecolor\":\"white\",\"ticks\":\"\",\"title\":{\"standoff\":15},\"zerolinecolor\":\"white\",\"automargin\":true,\"zerolinewidth\":2},\"yaxis\":{\"gridcolor\":\"white\",\"linecolor\":\"white\",\"ticks\":\"\",\"title\":{\"standoff\":15},\"zerolinecolor\":\"white\",\"automargin\":true,\"zerolinewidth\":2},\"scene\":{\"xaxis\":{\"backgroundcolor\":\"#E5ECF6\",\"gridcolor\":\"white\",\"linecolor\":\"white\",\"showbackground\":true,\"ticks\":\"\",\"zerolinecolor\":\"white\",\"gridwidth\":2},\"yaxis\":{\"backgroundcolor\":\"#E5ECF6\",\"gridcolor\":\"white\",\"linecolor\":\"white\",\"showbackground\":true,\"ticks\":\"\",\"zerolinecolor\":\"white\",\"gridwidth\":2},\"zaxis\":{\"backgroundcolor\":\"#E5ECF6\",\"gridcolor\":\"white\",\"linecolor\":\"white\",\"showbackground\":true,\"ticks\":\"\",\"zerolinecolor\":\"white\",\"gridwidth\":2}},\"shapedefaults\":{\"line\":{\"color\":\"#2a3f5f\"}},\"annotationdefaults\":{\"arrowcolor\":\"#2a3f5f\",\"arrowhead\":0,\"arrowwidth\":1},\"geo\":{\"bgcolor\":\"white\",\"landcolor\":\"#E5ECF6\",\"subunitcolor\":\"white\",\"showland\":true,\"showlakes\":true,\"lakecolor\":\"white\"},\"title\":{\"x\":0.05},\"mapbox\":{\"style\":\"light\"}}},\"title\":{\"text\":\"Poisson Distribution\"},\"xaxis\":{\"title\":{\"text\":\"X\"}},\"yaxis\":{\"title\":{\"text\":\"Probability Density\"}},\"plot_bgcolor\":\"white\"},                        {\"responsive\": true}                    ).then(function(){\n",
       "                            \n",
       "var gd = document.getElementById('b1b0620f-bee8-4b35-831f-044663f78983');\n",
       "var x = new MutationObserver(function (mutations, observer) {{\n",
       "        var display = window.getComputedStyle(gd).display;\n",
       "        if (!display || display === 'none') {{\n",
       "            console.log([gd, 'removed!']);\n",
       "            Plotly.purge(gd);\n",
       "            observer.disconnect();\n",
       "        }}\n",
       "}});\n",
       "\n",
       "// Listen for the removal of the full notebook cells\n",
       "var notebookContainer = gd.closest('#notebook-container');\n",
       "if (notebookContainer) {{\n",
       "    x.observe(notebookContainer, {childList: true});\n",
       "}}\n",
       "\n",
       "// Listen for the clearing of the current output cell\n",
       "var outputEl = gd.closest('.output');\n",
       "if (outputEl) {{\n",
       "    x.observe(outputEl, {childList: true});\n",
       "}}\n",
       "\n",
       "                        })                };                });            </script>        </div>"
      ]
     },
     "metadata": {},
     "output_type": "display_data"
    }
   ],
   "source": [
    "import plotly.graph_objects as go\n",
    "import numpy as np\n",
    "import math\n",
    "\n",
    "# Define the parameter for the Poisson distribution\n",
    "lam = 5  # lambda parameter for Poisson distribution\n",
    "\n",
    "# Generate x values for plotting\n",
    "x = np.linspace(0, 15, 1000)\n",
    "\n",
    "# Calculate the PDF of the normal distribution using the mean and variance of the Poisson distribution\n",
    "mu = lam\n",
    "sigma = math.sqrt(lam)\n",
    "pdf = 1/(sigma * np.sqrt(2 * np.pi)) * np.exp(-(x - mu)**2 / (2 * sigma**2))\n",
    "\n",
    "# Create figure\n",
    "fig = go.Figure()\n",
    "\n",
    "# Add trace for the continuous approximation of the Poisson distribution using the normal distribution\n",
    "fig.add_trace(go.Scatter(x=x, y=pdf, mode='lines', line=dict(color='#519EE5', width=2), name='Poisson Distribution'))\n",
    "\n",
    "# Update layout\n",
    "fig.update_layout(\n",
    "    title='Poisson Distribution',\n",
    "    xaxis_title='X',\n",
    "    yaxis_title='Probability Density',\n",
    "    plot_bgcolor='white'\n",
    ")\n",
    "\n",
    "# Show plot\n",
    "fig.show()\n"
   ]
  },
  {
   "cell_type": "code",
   "execution_count": 80,
   "id": "e1c2dd33-e3c0-429c-8bb9-4f3f20fb13aa",
   "metadata": {},
   "outputs": [
    {
     "data": {
      "image/png": "[encoded data removed]",
      "text/plain": [
       "<Figure size 800x600 with 1 Axes>"
      ]
     },
     "metadata": {},
     "output_type": "display_data"
    }
   ],
   "source": [
    "import matplotlib.pyplot as plt\n",
    "import numpy as np\n",
    "\n",
    "# Generate data for Gaussian distribution\n",
    "x = np.linspace(-3, 3, 100)\n",
    "y = np.exp(-x**2 / 2) / np.sqrt(2 * np.pi)\n",
    "\n",
    "# Define color palette\n",
    "colors = ['#BFEEDB', '#8ED3AE', '#48AF8A', '#247B6C', '#CCE3F8', '#85C6EB', '#519EE5', '#283952', '#0F141C']\n",
    "\n",
    "# Create plot\n",
    "plt.figure(figsize=(8, 6))\n",
    "\n",
    "# Plot Gaussian distribution curve\n",
    "plt.plot(x, y, color=colors[2], linewidth=2)\n",
    "\n",
    "# Add title and labels\n",
    "plt.title('Gaussian Distribution')\n",
    "plt.xlabel('X')\n",
    "plt.ylabel('Probability Density')\n",
    "\n",
    "# Set background color\n",
    "plt.gca().set_facecolor('white')\n",
    "\n",
    "# Show plot\n",
    "plt.grid(False)\n",
    "plt.show()\n"
   ]
  },
  {
   "cell_type": "code",
   "execution_count": 81,
   "id": "24327f07-f2cb-4e7a-9735-57cd50ffc8c8",
   "metadata": {},
   "outputs": [
    {
     "data": {
      "image/png": "[encoded data removed]",
      "text/plain": [
       "<Figure size 800x600 with 1 Axes>"
      ]
     },
     "metadata": {},
     "output_type": "display_data"
    }
   ],
   "source": [
    "import matplotlib.pyplot as plt\n",
    "import numpy as np\n",
    "import math\n",
    "\n",
    "# Define the parameter for the Poisson distribution\n",
    "lam = 5  # lambda parameter for Poisson distribution\n",
    "\n",
    "# Generate x values for plotting\n",
    "x = np.linspace(-15, 15, 1000)\n",
    "\n",
    "# Calculate the PDF of the normal distribution using the mean and variance of the Poisson distribution\n",
    "mu = lam\n",
    "sigma = math.sqrt(lam)\n",
    "pdf = 1/(sigma * np.sqrt(2 * np.pi)) * np.exp(-(x - mu)**2 / (2 * sigma**2))\n",
    "\n",
    "# Define color palette\n",
    "colors = ['#BFEEDB', '#8ED3AE', '#48AF8A', '#247B6C', '#CCE3F8', '#85C6EB', '#519EE5', '#283952', '#0F141C']\n",
    "\n",
    "# Create plot\n",
    "plt.figure(figsize=(8, 6))\n",
    "\n",
    "# Plot the continuous approximation of the Poisson distribution using the normal distribution\n",
    "plt.plot(x, pdf, color=colors[2], lw=2)\n",
    "\n",
    "# Add title and labels\n",
    "plt.title('Poisson Distribution')\n",
    "plt.xlabel('X')\n",
    "plt.ylabel('Probability Density')\n",
    "\n",
    "# Set background color\n",
    "plt.gca().set_facecolor('white')\n",
    "\n",
    "# Show plot\n",
    "plt.grid(False)\n",
    "plt.show()\n"
   ]
  },
  {
   "cell_type": "code",
   "execution_count": null,
   "id": "1bb1bc67-d094-4e0d-8006-b0686aad811e",
   "metadata": {},
   "outputs": [],
   "source": []
  }
 ],
 "metadata": {
  "kernelspec": {
   "display_name": "Python 3 (ipykernel)",
   "language": "python",
   "name": "python3"
  },
  "language_info": {
   "codemirror_mode": {
    "name": "ipython",
    "version": 3
   },
   "file_extension": ".py",
   "mimetype": "text/x-python",
   "name": "python",
   "nbconvert_exporter": "python",
   "pygments_lexer": "ipython3",
   "version": "3.9.18"
  }
 },
 "nbformat": 4,
 "nbformat_minor": 5
}
