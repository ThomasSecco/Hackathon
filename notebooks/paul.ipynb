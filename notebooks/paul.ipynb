{
 "cells": [
  {
   "cell_type": "code",
   "execution_count": 120,
   "metadata": {},
   "outputs": [],
   "source": [
    "import pandas as pd\n",
    "from datetime import datetime\n",
    "import matplotlib.pyplot as plt\n",
    "import numpy as np\n",
    "import xgboost as xgb\n",
    "from sklearn.model_selection import train_test_split\n",
    "from sklearn.metrics import accuracy_score, mean_squared_error\n",
    "import tensorflow as tf\n",
    "import matplotlib.pyplot as plt\n",
    "from sklearn.model_selection import KFold\n",
    "import plotly.graph_objects as go"
   ]
  },
  {
   "cell_type": "code",
   "execution_count": 100,
   "metadata": {},
   "outputs": [],
   "source": [
    "demand = pd.read_excel('../dataset/a6_booster_delivery_planning.xlsx')\n",
    "#events = pd.read_excel('../dataset/ariane_tracks_booster_container_1.0.xlsx')\n",
    "events = pd.read_excel('../dataset/ariane_tracks_booster_container_2.0.xlsx')\n",
    "events.drop(columns=['FM'],inplace=True)\n",
    "dataset = pd.read_csv('../dataset/true_datas.csv')\n",
    "\n",
    "states = ['A','B','C','D','E']\n",
    "containers = ['SN'+str(i) for i in range(1,9)]\n",
    "events['Entry'] = events['Entry'].apply(lambda x: datetime.strptime(x, '%d.%m.%Y'))\n",
    "events['Exit'] = events['Exit'].apply(lambda x: datetime.strptime(x, '%d.%m.%Y'))\n",
    "\n",
    "\n",
    "def days_spent_for_container(container):\n",
    "    return({state:[(row[3] - row[2]).days for row in events.loc[(events['Container'] == container) & (events['Zone'] == state)].values] for state in states})"
   ]
  },
  {
   "cell_type": "markdown",
   "metadata": {},
   "source": [
    "## I.   Data viz"
   ]
  },
  {
   "cell_type": "code",
   "execution_count": 101,
   "metadata": {},
   "outputs": [
    {
     "name": "stdout",
     "output_type": "stream",
     "text": [
      "demand shape : (39, 2)\n"
     ]
    },
    {
     "data": {
      "text/html": [
       "<div>\n",
       "<style scoped>\n",
       "    .dataframe tbody tr th:only-of-type {\n",
       "        vertical-align: middle;\n",
       "    }\n",
       "\n",
       "    .dataframe tbody tr th {\n",
       "        vertical-align: top;\n",
       "    }\n",
       "\n",
       "    .dataframe thead th {\n",
       "        text-align: right;\n",
       "    }\n",
       "</style>\n",
       "<table border=\"1\" class=\"dataframe\">\n",
       "  <thead>\n",
       "    <tr style=\"text-align: right;\">\n",
       "      <th></th>\n",
       "      <th>Date</th>\n",
       "      <th>Config</th>\n",
       "    </tr>\n",
       "  </thead>\n",
       "  <tbody>\n",
       "    <tr>\n",
       "      <th>0</th>\n",
       "      <td>2021-01-12</td>\n",
       "      <td>2</td>\n",
       "    </tr>\n",
       "    <tr>\n",
       "      <th>1</th>\n",
       "      <td>2021-08-24</td>\n",
       "      <td>4</td>\n",
       "    </tr>\n",
       "    <tr>\n",
       "      <th>2</th>\n",
       "      <td>2021-10-19</td>\n",
       "      <td>2</td>\n",
       "    </tr>\n",
       "    <tr>\n",
       "      <th>3</th>\n",
       "      <td>2022-01-28</td>\n",
       "      <td>2</td>\n",
       "    </tr>\n",
       "    <tr>\n",
       "      <th>4</th>\n",
       "      <td>2022-06-21</td>\n",
       "      <td>4</td>\n",
       "    </tr>\n",
       "  </tbody>\n",
       "</table>\n",
       "</div>"
      ],
      "text/plain": [
       "        Date  Config\n",
       "0 2021-01-12       2\n",
       "1 2021-08-24       4\n",
       "2 2021-10-19       2\n",
       "3 2022-01-28       2\n",
       "4 2022-06-21       4"
      ]
     },
     "execution_count": 101,
     "metadata": {},
     "output_type": "execute_result"
    }
   ],
   "source": [
    "print(\"demand shape :\", demand.shape)\n",
    "demand.head()"
   ]
  },
  {
   "cell_type": "code",
   "execution_count": 102,
   "metadata": {},
   "outputs": [
    {
     "name": "stdout",
     "output_type": "stream",
     "text": [
      "events shape : (353, 4)\n"
     ]
    },
    {
     "data": {
      "text/html": [
       "<div>\n",
       "<style scoped>\n",
       "    .dataframe tbody tr th:only-of-type {\n",
       "        vertical-align: middle;\n",
       "    }\n",
       "\n",
       "    .dataframe tbody tr th {\n",
       "        vertical-align: top;\n",
       "    }\n",
       "\n",
       "    .dataframe thead th {\n",
       "        text-align: right;\n",
       "    }\n",
       "</style>\n",
       "<table border=\"1\" class=\"dataframe\">\n",
       "  <thead>\n",
       "    <tr style=\"text-align: right;\">\n",
       "      <th></th>\n",
       "      <th>Container</th>\n",
       "      <th>Zone</th>\n",
       "      <th>Entry</th>\n",
       "      <th>Exit</th>\n",
       "    </tr>\n",
       "  </thead>\n",
       "  <tbody>\n",
       "    <tr>\n",
       "      <th>0</th>\n",
       "      <td>SN6</td>\n",
       "      <td>A</td>\n",
       "      <td>2020-12-09</td>\n",
       "      <td>2020-12-24</td>\n",
       "    </tr>\n",
       "    <tr>\n",
       "      <th>1</th>\n",
       "      <td>SN6</td>\n",
       "      <td>B</td>\n",
       "      <td>2020-12-24</td>\n",
       "      <td>2020-12-29</td>\n",
       "    </tr>\n",
       "    <tr>\n",
       "      <th>2</th>\n",
       "      <td>SN6</td>\n",
       "      <td>C</td>\n",
       "      <td>2020-12-29</td>\n",
       "      <td>2020-12-30</td>\n",
       "    </tr>\n",
       "    <tr>\n",
       "      <th>3</th>\n",
       "      <td>SN6</td>\n",
       "      <td>D</td>\n",
       "      <td>2021-01-10</td>\n",
       "      <td>2021-01-12</td>\n",
       "    </tr>\n",
       "    <tr>\n",
       "      <th>4</th>\n",
       "      <td>SN6</td>\n",
       "      <td>E</td>\n",
       "      <td>2021-01-12</td>\n",
       "      <td>2021-01-27</td>\n",
       "    </tr>\n",
       "    <tr>\n",
       "      <th>5</th>\n",
       "      <td>SN6</td>\n",
       "      <td>D</td>\n",
       "      <td>2021-01-27</td>\n",
       "      <td>2021-01-29</td>\n",
       "    </tr>\n",
       "    <tr>\n",
       "      <th>6</th>\n",
       "      <td>SN6</td>\n",
       "      <td>C</td>\n",
       "      <td>2021-02-12</td>\n",
       "      <td>2021-02-13</td>\n",
       "    </tr>\n",
       "    <tr>\n",
       "      <th>7</th>\n",
       "      <td>SN6</td>\n",
       "      <td>B</td>\n",
       "      <td>2021-02-13</td>\n",
       "      <td>2021-02-18</td>\n",
       "    </tr>\n",
       "    <tr>\n",
       "      <th>8</th>\n",
       "      <td>SN5</td>\n",
       "      <td>A</td>\n",
       "      <td>2020-12-09</td>\n",
       "      <td>2020-12-24</td>\n",
       "    </tr>\n",
       "    <tr>\n",
       "      <th>9</th>\n",
       "      <td>SN5</td>\n",
       "      <td>B</td>\n",
       "      <td>2020-12-24</td>\n",
       "      <td>2020-12-29</td>\n",
       "    </tr>\n",
       "    <tr>\n",
       "      <th>10</th>\n",
       "      <td>SN5</td>\n",
       "      <td>C</td>\n",
       "      <td>2020-12-29</td>\n",
       "      <td>2020-12-30</td>\n",
       "    </tr>\n",
       "    <tr>\n",
       "      <th>11</th>\n",
       "      <td>SN5</td>\n",
       "      <td>D</td>\n",
       "      <td>2021-01-10</td>\n",
       "      <td>2021-01-12</td>\n",
       "    </tr>\n",
       "    <tr>\n",
       "      <th>12</th>\n",
       "      <td>SN5</td>\n",
       "      <td>E</td>\n",
       "      <td>2021-01-12</td>\n",
       "      <td>2021-01-27</td>\n",
       "    </tr>\n",
       "    <tr>\n",
       "      <th>13</th>\n",
       "      <td>SN5</td>\n",
       "      <td>D</td>\n",
       "      <td>2021-01-27</td>\n",
       "      <td>2021-01-29</td>\n",
       "    </tr>\n",
       "    <tr>\n",
       "      <th>14</th>\n",
       "      <td>SN5</td>\n",
       "      <td>C</td>\n",
       "      <td>2021-02-12</td>\n",
       "      <td>2021-02-13</td>\n",
       "    </tr>\n",
       "    <tr>\n",
       "      <th>15</th>\n",
       "      <td>SN3</td>\n",
       "      <td>A</td>\n",
       "      <td>2021-07-20</td>\n",
       "      <td>2021-08-04</td>\n",
       "    </tr>\n",
       "    <tr>\n",
       "      <th>16</th>\n",
       "      <td>SN3</td>\n",
       "      <td>B</td>\n",
       "      <td>2021-08-04</td>\n",
       "      <td>2021-08-09</td>\n",
       "    </tr>\n",
       "    <tr>\n",
       "      <th>17</th>\n",
       "      <td>SN3</td>\n",
       "      <td>C</td>\n",
       "      <td>2021-08-09</td>\n",
       "      <td>2021-08-10</td>\n",
       "    </tr>\n",
       "    <tr>\n",
       "      <th>18</th>\n",
       "      <td>SN3</td>\n",
       "      <td>D</td>\n",
       "      <td>2021-08-22</td>\n",
       "      <td>2021-08-24</td>\n",
       "    </tr>\n",
       "    <tr>\n",
       "      <th>19</th>\n",
       "      <td>SN3</td>\n",
       "      <td>E</td>\n",
       "      <td>2021-08-24</td>\n",
       "      <td>2021-09-08</td>\n",
       "    </tr>\n",
       "    <tr>\n",
       "      <th>20</th>\n",
       "      <td>SN3</td>\n",
       "      <td>D</td>\n",
       "      <td>2021-09-08</td>\n",
       "      <td>2021-09-10</td>\n",
       "    </tr>\n",
       "    <tr>\n",
       "      <th>21</th>\n",
       "      <td>SN3</td>\n",
       "      <td>C</td>\n",
       "      <td>2021-09-22</td>\n",
       "      <td>2021-09-23</td>\n",
       "    </tr>\n",
       "    <tr>\n",
       "      <th>22</th>\n",
       "      <td>SN3</td>\n",
       "      <td>B</td>\n",
       "      <td>2021-09-23</td>\n",
       "      <td>2021-09-28</td>\n",
       "    </tr>\n",
       "    <tr>\n",
       "      <th>23</th>\n",
       "      <td>SN8</td>\n",
       "      <td>A</td>\n",
       "      <td>2021-07-20</td>\n",
       "      <td>2021-08-04</td>\n",
       "    </tr>\n",
       "    <tr>\n",
       "      <th>24</th>\n",
       "      <td>SN8</td>\n",
       "      <td>B</td>\n",
       "      <td>2021-08-04</td>\n",
       "      <td>2021-08-09</td>\n",
       "    </tr>\n",
       "    <tr>\n",
       "      <th>25</th>\n",
       "      <td>SN8</td>\n",
       "      <td>C</td>\n",
       "      <td>2021-08-09</td>\n",
       "      <td>2021-08-10</td>\n",
       "    </tr>\n",
       "    <tr>\n",
       "      <th>26</th>\n",
       "      <td>SN8</td>\n",
       "      <td>D</td>\n",
       "      <td>2021-08-22</td>\n",
       "      <td>2021-08-24</td>\n",
       "    </tr>\n",
       "    <tr>\n",
       "      <th>27</th>\n",
       "      <td>SN8</td>\n",
       "      <td>E</td>\n",
       "      <td>2021-08-24</td>\n",
       "      <td>2021-09-08</td>\n",
       "    </tr>\n",
       "    <tr>\n",
       "      <th>28</th>\n",
       "      <td>SN8</td>\n",
       "      <td>D</td>\n",
       "      <td>2021-09-08</td>\n",
       "      <td>2021-09-10</td>\n",
       "    </tr>\n",
       "    <tr>\n",
       "      <th>29</th>\n",
       "      <td>SN8</td>\n",
       "      <td>C</td>\n",
       "      <td>2021-09-22</td>\n",
       "      <td>2021-09-23</td>\n",
       "    </tr>\n",
       "    <tr>\n",
       "      <th>30</th>\n",
       "      <td>SN8</td>\n",
       "      <td>B</td>\n",
       "      <td>2021-09-23</td>\n",
       "      <td>2021-09-28</td>\n",
       "    </tr>\n",
       "    <tr>\n",
       "      <th>31</th>\n",
       "      <td>SN1</td>\n",
       "      <td>A</td>\n",
       "      <td>2021-07-20</td>\n",
       "      <td>2021-08-04</td>\n",
       "    </tr>\n",
       "    <tr>\n",
       "      <th>32</th>\n",
       "      <td>SN1</td>\n",
       "      <td>B</td>\n",
       "      <td>2021-08-04</td>\n",
       "      <td>2021-08-09</td>\n",
       "    </tr>\n",
       "    <tr>\n",
       "      <th>33</th>\n",
       "      <td>SN1</td>\n",
       "      <td>C</td>\n",
       "      <td>2021-08-09</td>\n",
       "      <td>2021-08-10</td>\n",
       "    </tr>\n",
       "    <tr>\n",
       "      <th>34</th>\n",
       "      <td>SN1</td>\n",
       "      <td>D</td>\n",
       "      <td>2021-08-22</td>\n",
       "      <td>2021-08-24</td>\n",
       "    </tr>\n",
       "    <tr>\n",
       "      <th>35</th>\n",
       "      <td>SN1</td>\n",
       "      <td>E</td>\n",
       "      <td>2021-08-24</td>\n",
       "      <td>2021-09-08</td>\n",
       "    </tr>\n",
       "    <tr>\n",
       "      <th>36</th>\n",
       "      <td>SN1</td>\n",
       "      <td>D</td>\n",
       "      <td>2021-09-08</td>\n",
       "      <td>2021-09-10</td>\n",
       "    </tr>\n",
       "    <tr>\n",
       "      <th>37</th>\n",
       "      <td>SN1</td>\n",
       "      <td>C</td>\n",
       "      <td>2021-09-22</td>\n",
       "      <td>2021-09-23</td>\n",
       "    </tr>\n",
       "    <tr>\n",
       "      <th>38</th>\n",
       "      <td>SN1</td>\n",
       "      <td>B</td>\n",
       "      <td>2021-09-23</td>\n",
       "      <td>2021-09-28</td>\n",
       "    </tr>\n",
       "    <tr>\n",
       "      <th>39</th>\n",
       "      <td>SN2</td>\n",
       "      <td>A</td>\n",
       "      <td>2021-07-20</td>\n",
       "      <td>2021-08-04</td>\n",
       "    </tr>\n",
       "    <tr>\n",
       "      <th>40</th>\n",
       "      <td>SN2</td>\n",
       "      <td>B</td>\n",
       "      <td>2021-08-04</td>\n",
       "      <td>2021-08-09</td>\n",
       "    </tr>\n",
       "    <tr>\n",
       "      <th>41</th>\n",
       "      <td>SN2</td>\n",
       "      <td>C</td>\n",
       "      <td>2021-08-09</td>\n",
       "      <td>2021-08-10</td>\n",
       "    </tr>\n",
       "    <tr>\n",
       "      <th>42</th>\n",
       "      <td>SN2</td>\n",
       "      <td>D</td>\n",
       "      <td>2021-08-22</td>\n",
       "      <td>2021-08-24</td>\n",
       "    </tr>\n",
       "    <tr>\n",
       "      <th>43</th>\n",
       "      <td>SN2</td>\n",
       "      <td>E</td>\n",
       "      <td>2021-08-24</td>\n",
       "      <td>2021-09-08</td>\n",
       "    </tr>\n",
       "    <tr>\n",
       "      <th>44</th>\n",
       "      <td>SN2</td>\n",
       "      <td>D</td>\n",
       "      <td>2021-09-08</td>\n",
       "      <td>2021-09-10</td>\n",
       "    </tr>\n",
       "    <tr>\n",
       "      <th>45</th>\n",
       "      <td>SN2</td>\n",
       "      <td>C</td>\n",
       "      <td>2021-09-22</td>\n",
       "      <td>2021-09-23</td>\n",
       "    </tr>\n",
       "    <tr>\n",
       "      <th>46</th>\n",
       "      <td>SN2</td>\n",
       "      <td>B</td>\n",
       "      <td>2021-09-23</td>\n",
       "      <td>2021-09-28</td>\n",
       "    </tr>\n",
       "    <tr>\n",
       "      <th>47</th>\n",
       "      <td>SN7</td>\n",
       "      <td>A</td>\n",
       "      <td>2021-09-15</td>\n",
       "      <td>2021-09-30</td>\n",
       "    </tr>\n",
       "    <tr>\n",
       "      <th>48</th>\n",
       "      <td>SN7</td>\n",
       "      <td>B</td>\n",
       "      <td>2021-09-30</td>\n",
       "      <td>2021-10-05</td>\n",
       "    </tr>\n",
       "    <tr>\n",
       "      <th>49</th>\n",
       "      <td>SN7</td>\n",
       "      <td>C</td>\n",
       "      <td>2021-10-05</td>\n",
       "      <td>2021-10-06</td>\n",
       "    </tr>\n",
       "  </tbody>\n",
       "</table>\n",
       "</div>"
      ],
      "text/plain": [
       "   Container Zone      Entry       Exit\n",
       "0        SN6    A 2020-12-09 2020-12-24\n",
       "1        SN6    B 2020-12-24 2020-12-29\n",
       "2        SN6    C 2020-12-29 2020-12-30\n",
       "3        SN6    D 2021-01-10 2021-01-12\n",
       "4        SN6    E 2021-01-12 2021-01-27\n",
       "5        SN6    D 2021-01-27 2021-01-29\n",
       "6        SN6    C 2021-02-12 2021-02-13\n",
       "7        SN6    B 2021-02-13 2021-02-18\n",
       "8        SN5    A 2020-12-09 2020-12-24\n",
       "9        SN5    B 2020-12-24 2020-12-29\n",
       "10       SN5    C 2020-12-29 2020-12-30\n",
       "11       SN5    D 2021-01-10 2021-01-12\n",
       "12       SN5    E 2021-01-12 2021-01-27\n",
       "13       SN5    D 2021-01-27 2021-01-29\n",
       "14       SN5    C 2021-02-12 2021-02-13\n",
       "15       SN3    A 2021-07-20 2021-08-04\n",
       "16       SN3    B 2021-08-04 2021-08-09\n",
       "17       SN3    C 2021-08-09 2021-08-10\n",
       "18       SN3    D 2021-08-22 2021-08-24\n",
       "19       SN3    E 2021-08-24 2021-09-08\n",
       "20       SN3    D 2021-09-08 2021-09-10\n",
       "21       SN3    C 2021-09-22 2021-09-23\n",
       "22       SN3    B 2021-09-23 2021-09-28\n",
       "23       SN8    A 2021-07-20 2021-08-04\n",
       "24       SN8    B 2021-08-04 2021-08-09\n",
       "25       SN8    C 2021-08-09 2021-08-10\n",
       "26       SN8    D 2021-08-22 2021-08-24\n",
       "27       SN8    E 2021-08-24 2021-09-08\n",
       "28       SN8    D 2021-09-08 2021-09-10\n",
       "29       SN8    C 2021-09-22 2021-09-23\n",
       "30       SN8    B 2021-09-23 2021-09-28\n",
       "31       SN1    A 2021-07-20 2021-08-04\n",
       "32       SN1    B 2021-08-04 2021-08-09\n",
       "33       SN1    C 2021-08-09 2021-08-10\n",
       "34       SN1    D 2021-08-22 2021-08-24\n",
       "35       SN1    E 2021-08-24 2021-09-08\n",
       "36       SN1    D 2021-09-08 2021-09-10\n",
       "37       SN1    C 2021-09-22 2021-09-23\n",
       "38       SN1    B 2021-09-23 2021-09-28\n",
       "39       SN2    A 2021-07-20 2021-08-04\n",
       "40       SN2    B 2021-08-04 2021-08-09\n",
       "41       SN2    C 2021-08-09 2021-08-10\n",
       "42       SN2    D 2021-08-22 2021-08-24\n",
       "43       SN2    E 2021-08-24 2021-09-08\n",
       "44       SN2    D 2021-09-08 2021-09-10\n",
       "45       SN2    C 2021-09-22 2021-09-23\n",
       "46       SN2    B 2021-09-23 2021-09-28\n",
       "47       SN7    A 2021-09-15 2021-09-30\n",
       "48       SN7    B 2021-09-30 2021-10-05\n",
       "49       SN7    C 2021-10-05 2021-10-06"
      ]
     },
     "execution_count": 102,
     "metadata": {},
     "output_type": "execute_result"
    }
   ],
   "source": [
    "print(\"events shape :\", events.shape)\n",
    "events.head(50)"
   ]
  },
  {
   "cell_type": "markdown",
   "metadata": {},
   "source": [
    "## II.    correction algorithm"
   ]
  },
  {
   "cell_type": "code",
   "execution_count": 103,
   "metadata": {},
   "outputs": [
    {
     "name": "stdout",
     "output_type": "stream",
     "text": [
      "corrupted_data\n",
      "['SN5' 'A' Timestamp('2021-12-26 00:00:00')\n",
      " Timestamp('2022-01-10 00:00:00')]\n",
      "errors for containers : 0\n"
     ]
    }
   ],
   "source": [
    "def fetch_same_date(data, entry):\n",
    "    df = data.loc[data['Entry']==entry]\n",
    "    if df.empty:\n",
    "        return(\"ok\", \"ok\", False)\n",
    "    return(df['Entry'].iloc[0], df['Exit'].iloc[0], True)\n",
    "\n",
    "\n",
    "def complete_steps(data):\n",
    "    sorted_events = data.sort_values(['Exit'])\n",
    "    cycle = ['A','B','C','D','E','D','C','B']\n",
    "    values = []\n",
    "    for container in containers:\n",
    "        df = sorted_events.loc[(sorted_events['Container'] == container)]\n",
    "        new_values = []\n",
    "        step = 0\n",
    "        for i,line in enumerate(df.values):\n",
    "\n",
    "            while line[1] != cycle[step%8]:\n",
    "                container_ = container\n",
    "                state_ = cycle[step%8]\n",
    "                entry_, exit_, result = fetch_same_date(data, df.values[i-1][3])\n",
    "                print(\"corrupted_data\")\n",
    "                print(line)\n",
    "                if not result:\n",
    "                    entry_ = \"ok\"\n",
    "                    exit_ = \"ok\"\n",
    "                \n",
    "                new_values.append([container_, state_, entry_, exit_])\n",
    "                step+=1\n",
    "\n",
    "            step+=1\n",
    "            new_values.append(line)\n",
    "        values.extend(new_values)\n",
    "    \n",
    "    return(pd.DataFrame(values, columns=['Container', 'Zone', 'Entry', 'Exit']))\n",
    "\n",
    "\n",
    "\n",
    "def sanity_checking(data):\n",
    "    data_ = data.explode('Container').sort_values(['Exit'])\n",
    "    states = ['A','B','C','D','E','D','C','B']\n",
    "    c=0\n",
    "    for container in containers:\n",
    "        df = data_.loc[data_['Container']==container]\n",
    "        pointer=0\n",
    "        for line in df.values:\n",
    "            if line[1]!=states[pointer]:\n",
    "                print(line)\n",
    "                c+=1\n",
    "\n",
    "            pointer+=1\n",
    "            if pointer==8:\n",
    "                pointer=0\n",
    "    return(c)\n",
    "data = complete_steps(events)\n",
    "print(\"errors for containers :\", sanity_checking(data))"
   ]
  },
  {
   "cell_type": "code",
   "execution_count": null,
   "metadata": {},
   "outputs": [],
   "source": [
    "#data.to_csv('../dataset/containers.csv',index=False)"
   ]
  },
  {
   "cell_type": "markdown",
   "metadata": {},
   "source": [
    "## III. ML Model"
   ]
  },
  {
   "cell_type": "code",
   "execution_count": 104,
   "metadata": {},
   "outputs": [
    {
     "data": {
      "text/html": [
       "<div>\n",
       "<style scoped>\n",
       "    .dataframe tbody tr th:only-of-type {\n",
       "        vertical-align: middle;\n",
       "    }\n",
       "\n",
       "    .dataframe tbody tr th {\n",
       "        vertical-align: top;\n",
       "    }\n",
       "\n",
       "    .dataframe thead th {\n",
       "        text-align: right;\n",
       "    }\n",
       "</style>\n",
       "<table border=\"1\" class=\"dataframe\">\n",
       "  <thead>\n",
       "    <tr style=\"text-align: right;\">\n",
       "      <th></th>\n",
       "      <th>Days</th>\n",
       "      <th>Inverted</th>\n",
       "      <th>PerfMean</th>\n",
       "      <th>PerfStd</th>\n",
       "      <th>EntryLoad</th>\n",
       "      <th>ExitLoad</th>\n",
       "      <th>EntryDemand</th>\n",
       "      <th>ExitDemand</th>\n",
       "      <th>Distance</th>\n",
       "      <th>ContainerQuantity</th>\n",
       "      <th>...</th>\n",
       "      <th>Entry_snowfall_sum</th>\n",
       "      <th>Entry_wind_speed_10m_max</th>\n",
       "      <th>Entry_wind_gusts_10m_max</th>\n",
       "      <th>Entry_wind_direction_10m_dominant</th>\n",
       "      <th>Exit_precipitation_sum</th>\n",
       "      <th>Exit_rain_sum</th>\n",
       "      <th>Exit_snowfall_sum</th>\n",
       "      <th>Exit_wind_speed_10m_max</th>\n",
       "      <th>Exit_wind_gusts_10m_max</th>\n",
       "      <th>Exit_wind_direction_10m_dominant</th>\n",
       "    </tr>\n",
       "  </thead>\n",
       "  <tbody>\n",
       "    <tr>\n",
       "      <th>0</th>\n",
       "      <td>15.0</td>\n",
       "      <td>0.0</td>\n",
       "      <td>24.0</td>\n",
       "      <td>7.348469</td>\n",
       "      <td>0.0</td>\n",
       "      <td>0.0</td>\n",
       "      <td>0.0</td>\n",
       "      <td>0.0</td>\n",
       "      <td>0.00</td>\n",
       "      <td>2.0</td>\n",
       "      <td>...</td>\n",
       "      <td>0.0</td>\n",
       "      <td>26.980793</td>\n",
       "      <td>63.00</td>\n",
       "      <td>247.30750</td>\n",
       "      <td>0.0</td>\n",
       "      <td>0.0</td>\n",
       "      <td>0.0</td>\n",
       "      <td>21.897945</td>\n",
       "      <td>42.12</td>\n",
       "      <td>343.37125</td>\n",
       "    </tr>\n",
       "    <tr>\n",
       "      <th>1</th>\n",
       "      <td>0.0</td>\n",
       "      <td>0.0</td>\n",
       "      <td>0.0</td>\n",
       "      <td>0.000000</td>\n",
       "      <td>0.0</td>\n",
       "      <td>0.0</td>\n",
       "      <td>0.0</td>\n",
       "      <td>0.0</td>\n",
       "      <td>9.70</td>\n",
       "      <td>2.0</td>\n",
       "      <td>...</td>\n",
       "      <td>0.0</td>\n",
       "      <td>21.897945</td>\n",
       "      <td>42.12</td>\n",
       "      <td>343.37125</td>\n",
       "      <td>0.0</td>\n",
       "      <td>0.0</td>\n",
       "      <td>0.0</td>\n",
       "      <td>21.897945</td>\n",
       "      <td>42.12</td>\n",
       "      <td>343.37125</td>\n",
       "    </tr>\n",
       "    <tr>\n",
       "      <th>2</th>\n",
       "      <td>5.0</td>\n",
       "      <td>0.0</td>\n",
       "      <td>5.0</td>\n",
       "      <td>0.000000</td>\n",
       "      <td>0.0</td>\n",
       "      <td>0.0</td>\n",
       "      <td>0.0</td>\n",
       "      <td>0.0</td>\n",
       "      <td>0.00</td>\n",
       "      <td>2.0</td>\n",
       "      <td>...</td>\n",
       "      <td>0.0</td>\n",
       "      <td>21.897945</td>\n",
       "      <td>42.12</td>\n",
       "      <td>343.37125</td>\n",
       "      <td>3.7</td>\n",
       "      <td>3.7</td>\n",
       "      <td>0.0</td>\n",
       "      <td>19.174856</td>\n",
       "      <td>36.36</td>\n",
       "      <td>242.80690</td>\n",
       "    </tr>\n",
       "    <tr>\n",
       "      <th>3</th>\n",
       "      <td>0.0</td>\n",
       "      <td>0.0</td>\n",
       "      <td>0.0</td>\n",
       "      <td>0.000000</td>\n",
       "      <td>0.0</td>\n",
       "      <td>0.0</td>\n",
       "      <td>0.0</td>\n",
       "      <td>0.0</td>\n",
       "      <td>9.42</td>\n",
       "      <td>2.0</td>\n",
       "      <td>...</td>\n",
       "      <td>0.0</td>\n",
       "      <td>19.174856</td>\n",
       "      <td>36.36</td>\n",
       "      <td>242.80690</td>\n",
       "      <td>3.7</td>\n",
       "      <td>3.7</td>\n",
       "      <td>0.0</td>\n",
       "      <td>19.174856</td>\n",
       "      <td>36.36</td>\n",
       "      <td>242.80690</td>\n",
       "    </tr>\n",
       "    <tr>\n",
       "      <th>4</th>\n",
       "      <td>1.0</td>\n",
       "      <td>0.0</td>\n",
       "      <td>1.0</td>\n",
       "      <td>0.000000</td>\n",
       "      <td>0.0</td>\n",
       "      <td>0.0</td>\n",
       "      <td>0.0</td>\n",
       "      <td>0.0</td>\n",
       "      <td>0.00</td>\n",
       "      <td>2.0</td>\n",
       "      <td>...</td>\n",
       "      <td>0.0</td>\n",
       "      <td>19.174856</td>\n",
       "      <td>36.36</td>\n",
       "      <td>242.80690</td>\n",
       "      <td>17.6</td>\n",
       "      <td>17.6</td>\n",
       "      <td>0.0</td>\n",
       "      <td>21.096123</td>\n",
       "      <td>39.96</td>\n",
       "      <td>251.11560</td>\n",
       "    </tr>\n",
       "  </tbody>\n",
       "</table>\n",
       "<p>5 rows × 27 columns</p>\n",
       "</div>"
      ],
      "text/plain": [
       "   Days  Inverted  PerfMean   PerfStd  EntryLoad  ExitLoad  EntryDemand  \\\n",
       "0  15.0       0.0      24.0  7.348469        0.0       0.0          0.0   \n",
       "1   0.0       0.0       0.0  0.000000        0.0       0.0          0.0   \n",
       "2   5.0       0.0       5.0  0.000000        0.0       0.0          0.0   \n",
       "3   0.0       0.0       0.0  0.000000        0.0       0.0          0.0   \n",
       "4   1.0       0.0       1.0  0.000000        0.0       0.0          0.0   \n",
       "\n",
       "   ExitDemand  Distance  ContainerQuantity  ... Entry_snowfall_sum  \\\n",
       "0         0.0      0.00                2.0  ...                0.0   \n",
       "1         0.0      9.70                2.0  ...                0.0   \n",
       "2         0.0      0.00                2.0  ...                0.0   \n",
       "3         0.0      9.42                2.0  ...                0.0   \n",
       "4         0.0      0.00                2.0  ...                0.0   \n",
       "\n",
       "  Entry_wind_speed_10m_max  Entry_wind_gusts_10m_max  \\\n",
       "0                26.980793                     63.00   \n",
       "1                21.897945                     42.12   \n",
       "2                21.897945                     42.12   \n",
       "3                19.174856                     36.36   \n",
       "4                19.174856                     36.36   \n",
       "\n",
       "   Entry_wind_direction_10m_dominant  Exit_precipitation_sum  Exit_rain_sum  \\\n",
       "0                          247.30750                     0.0            0.0   \n",
       "1                          343.37125                     0.0            0.0   \n",
       "2                          343.37125                     3.7            3.7   \n",
       "3                          242.80690                     3.7            3.7   \n",
       "4                          242.80690                    17.6           17.6   \n",
       "\n",
       "   Exit_snowfall_sum  Exit_wind_speed_10m_max  Exit_wind_gusts_10m_max  \\\n",
       "0                0.0                21.897945                    42.12   \n",
       "1                0.0                21.897945                    42.12   \n",
       "2                0.0                19.174856                    36.36   \n",
       "3                0.0                19.174856                    36.36   \n",
       "4                0.0                21.096123                    39.96   \n",
       "\n",
       "   Exit_wind_direction_10m_dominant  \n",
       "0                         343.37125  \n",
       "1                         343.37125  \n",
       "2                         242.80690  \n",
       "3                         242.80690  \n",
       "4                         251.11560  \n",
       "\n",
       "[5 rows x 27 columns]"
      ]
     },
     "execution_count": 104,
     "metadata": {},
     "output_type": "execute_result"
    }
   ],
   "source": [
    "dataset.head()"
   ]
  },
  {
   "cell_type": "code",
   "execution_count": 105,
   "metadata": {},
   "outputs": [],
   "source": [
    "y = dataset.Days\n",
    "X = dataset.drop(columns=['Days','Entry','Exit'])"
   ]
  },
  {
   "cell_type": "code",
   "execution_count": 124,
   "metadata": {},
   "outputs": [],
   "source": [
    "X_train, X_test, y_train, y_test = train_test_split(X, y, test_size=0.1)"
   ]
  },
  {
   "cell_type": "code",
   "execution_count": 125,
   "metadata": {},
   "outputs": [
    {
     "name": "stdout",
     "output_type": "stream",
     "text": [
      "mean squared error :  806.1940033535628\n"
     ]
    }
   ],
   "source": [
    "model = xgb.XGBRegressor()\n",
    "model.fit(X_train, y_train)\n",
    "predictions = model.predict(X_test)\n",
    "mse = mean_squared_error(y_test, predictions)\n",
    "print(\"mean squared error : \", mse)"
   ]
  },
  {
   "cell_type": "code",
   "execution_count": 148,
   "metadata": {},
   "outputs": [
    {
     "data": {
      "application/vnd.plotly.v1+json": {
       "config": {
        "plotlyServerURL": "https://plot.ly"
       },
       "data": [
        {
         "marker": {
          "color": "#48AF8A"
         },
         "orientation": "h",
         "type": "bar",
         "x": [
          0.3932825028896332,
          0.18357646465301514,
          0.06939830631017685,
          0.060993555933237076,
          0.048566702753305435,
          0.04567737504839897,
          0.044382501393556595,
          0.043591540306806564,
          0.028923561796545982,
          0.022987112402915955,
          0.020131291821599007,
          0.01986684277653694,
          0.009608250111341476,
          0.0026642512530088425,
          0.002423311583697796,
          0.0021625934168696404,
          0.0016767095075920224,
          0.00008469565364066511,
          0.000002457307346048765,
          0,
          0,
          0,
          0,
          0
         ],
         "y": [
          "Average stage duration",
          "Stage",
          "Entry wind direction",
          "Exit wind speed",
          "Exit wind direction",
          "Entry demand",
          "Exit demand",
          "Container quantity",
          "Entry load",
          "Entry wind speedx",
          "Exit working day",
          "Entry precipitation",
          "Entry working day",
          "Exit load",
          "Exit precipitation",
          "Exit wind gusts",
          "Entry wind gusts",
          "Direction",
          "Distance",
          "Entry rain",
          "Entry snowfall",
          "Exit rain",
          "Exit snowfall",
          "Deviation of stage duration"
         ]
        }
       ],
       "layout": {
        "height": 800,
        "template": {
         "data": {
          "bar": [
           {
            "error_x": {
             "color": "#2a3f5f"
            },
            "error_y": {
             "color": "#2a3f5f"
            },
            "marker": {
             "line": {
              "color": "#E5ECF6",
              "width": 0.5
             },
             "pattern": {
              "fillmode": "overlay",
              "size": 10,
              "solidity": 0.2
             }
            },
            "type": "bar"
           }
          ],
          "barpolar": [
           {
            "marker": {
             "line": {
              "color": "#E5ECF6",
              "width": 0.5
             },
             "pattern": {
              "fillmode": "overlay",
              "size": 10,
              "solidity": 0.2
             }
            },
            "type": "barpolar"
           }
          ],
          "carpet": [
           {
            "aaxis": {
             "endlinecolor": "#2a3f5f",
             "gridcolor": "white",
             "linecolor": "white",
             "minorgridcolor": "white",
             "startlinecolor": "#2a3f5f"
            },
            "baxis": {
             "endlinecolor": "#2a3f5f",
             "gridcolor": "white",
             "linecolor": "white",
             "minorgridcolor": "white",
             "startlinecolor": "#2a3f5f"
            },
            "type": "carpet"
           }
          ],
          "choropleth": [
           {
            "colorbar": {
             "outlinewidth": 0,
             "ticks": ""
            },
            "type": "choropleth"
           }
          ],
          "contour": [
           {
            "colorbar": {
             "outlinewidth": 0,
             "ticks": ""
            },
            "colorscale": [
             [
              0,
              "#0d0887"
             ],
             [
              0.1111111111111111,
              "#46039f"
             ],
             [
              0.2222222222222222,
              "#7201a8"
             ],
             [
              0.3333333333333333,
              "#9c179e"
             ],
             [
              0.4444444444444444,
              "#bd3786"
             ],
             [
              0.5555555555555556,
              "#d8576b"
             ],
             [
              0.6666666666666666,
              "#ed7953"
             ],
             [
              0.7777777777777778,
              "#fb9f3a"
             ],
             [
              0.8888888888888888,
              "#fdca26"
             ],
             [
              1,
              "#f0f921"
             ]
            ],
            "type": "contour"
           }
          ],
          "contourcarpet": [
           {
            "colorbar": {
             "outlinewidth": 0,
             "ticks": ""
            },
            "type": "contourcarpet"
           }
          ],
          "heatmap": [
           {
            "colorbar": {
             "outlinewidth": 0,
             "ticks": ""
            },
            "colorscale": [
             [
              0,
              "#0d0887"
             ],
             [
              0.1111111111111111,
              "#46039f"
             ],
             [
              0.2222222222222222,
              "#7201a8"
             ],
             [
              0.3333333333333333,
              "#9c179e"
             ],
             [
              0.4444444444444444,
              "#bd3786"
             ],
             [
              0.5555555555555556,
              "#d8576b"
             ],
             [
              0.6666666666666666,
              "#ed7953"
             ],
             [
              0.7777777777777778,
              "#fb9f3a"
             ],
             [
              0.8888888888888888,
              "#fdca26"
             ],
             [
              1,
              "#f0f921"
             ]
            ],
            "type": "heatmap"
           }
          ],
          "heatmapgl": [
           {
            "colorbar": {
             "outlinewidth": 0,
             "ticks": ""
            },
            "colorscale": [
             [
              0,
              "#0d0887"
             ],
             [
              0.1111111111111111,
              "#46039f"
             ],
             [
              0.2222222222222222,
              "#7201a8"
             ],
             [
              0.3333333333333333,
              "#9c179e"
             ],
             [
              0.4444444444444444,
              "#bd3786"
             ],
             [
              0.5555555555555556,
              "#d8576b"
             ],
             [
              0.6666666666666666,
              "#ed7953"
             ],
             [
              0.7777777777777778,
              "#fb9f3a"
             ],
             [
              0.8888888888888888,
              "#fdca26"
             ],
             [
              1,
              "#f0f921"
             ]
            ],
            "type": "heatmapgl"
           }
          ],
          "histogram": [
           {
            "marker": {
             "pattern": {
              "fillmode": "overlay",
              "size": 10,
              "solidity": 0.2
             }
            },
            "type": "histogram"
           }
          ],
          "histogram2d": [
           {
            "colorbar": {
             "outlinewidth": 0,
             "ticks": ""
            },
            "colorscale": [
             [
              0,
              "#0d0887"
             ],
             [
              0.1111111111111111,
              "#46039f"
             ],
             [
              0.2222222222222222,
              "#7201a8"
             ],
             [
              0.3333333333333333,
              "#9c179e"
             ],
             [
              0.4444444444444444,
              "#bd3786"
             ],
             [
              0.5555555555555556,
              "#d8576b"
             ],
             [
              0.6666666666666666,
              "#ed7953"
             ],
             [
              0.7777777777777778,
              "#fb9f3a"
             ],
             [
              0.8888888888888888,
              "#fdca26"
             ],
             [
              1,
              "#f0f921"
             ]
            ],
            "type": "histogram2d"
           }
          ],
          "histogram2dcontour": [
           {
            "colorbar": {
             "outlinewidth": 0,
             "ticks": ""
            },
            "colorscale": [
             [
              0,
              "#0d0887"
             ],
             [
              0.1111111111111111,
              "#46039f"
             ],
             [
              0.2222222222222222,
              "#7201a8"
             ],
             [
              0.3333333333333333,
              "#9c179e"
             ],
             [
              0.4444444444444444,
              "#bd3786"
             ],
             [
              0.5555555555555556,
              "#d8576b"
             ],
             [
              0.6666666666666666,
              "#ed7953"
             ],
             [
              0.7777777777777778,
              "#fb9f3a"
             ],
             [
              0.8888888888888888,
              "#fdca26"
             ],
             [
              1,
              "#f0f921"
             ]
            ],
            "type": "histogram2dcontour"
           }
          ],
          "mesh3d": [
           {
            "colorbar": {
             "outlinewidth": 0,
             "ticks": ""
            },
            "type": "mesh3d"
           }
          ],
          "parcoords": [
           {
            "line": {
             "colorbar": {
              "outlinewidth": 0,
              "ticks": ""
             }
            },
            "type": "parcoords"
           }
          ],
          "pie": [
           {
            "automargin": true,
            "type": "pie"
           }
          ],
          "scatter": [
           {
            "fillpattern": {
             "fillmode": "overlay",
             "size": 10,
             "solidity": 0.2
            },
            "type": "scatter"
           }
          ],
          "scatter3d": [
           {
            "line": {
             "colorbar": {
              "outlinewidth": 0,
              "ticks": ""
             }
            },
            "marker": {
             "colorbar": {
              "outlinewidth": 0,
              "ticks": ""
             }
            },
            "type": "scatter3d"
           }
          ],
          "scattercarpet": [
           {
            "marker": {
             "colorbar": {
              "outlinewidth": 0,
              "ticks": ""
             }
            },
            "type": "scattercarpet"
           }
          ],
          "scattergeo": [
           {
            "marker": {
             "colorbar": {
              "outlinewidth": 0,
              "ticks": ""
             }
            },
            "type": "scattergeo"
           }
          ],
          "scattergl": [
           {
            "marker": {
             "colorbar": {
              "outlinewidth": 0,
              "ticks": ""
             }
            },
            "type": "scattergl"
           }
          ],
          "scattermapbox": [
           {
            "marker": {
             "colorbar": {
              "outlinewidth": 0,
              "ticks": ""
             }
            },
            "type": "scattermapbox"
           }
          ],
          "scatterpolar": [
           {
            "marker": {
             "colorbar": {
              "outlinewidth": 0,
              "ticks": ""
             }
            },
            "type": "scatterpolar"
           }
          ],
          "scatterpolargl": [
           {
            "marker": {
             "colorbar": {
              "outlinewidth": 0,
              "ticks": ""
             }
            },
            "type": "scatterpolargl"
           }
          ],
          "scatterternary": [
           {
            "marker": {
             "colorbar": {
              "outlinewidth": 0,
              "ticks": ""
             }
            },
            "type": "scatterternary"
           }
          ],
          "surface": [
           {
            "colorbar": {
             "outlinewidth": 0,
             "ticks": ""
            },
            "colorscale": [
             [
              0,
              "#0d0887"
             ],
             [
              0.1111111111111111,
              "#46039f"
             ],
             [
              0.2222222222222222,
              "#7201a8"
             ],
             [
              0.3333333333333333,
              "#9c179e"
             ],
             [
              0.4444444444444444,
              "#bd3786"
             ],
             [
              0.5555555555555556,
              "#d8576b"
             ],
             [
              0.6666666666666666,
              "#ed7953"
             ],
             [
              0.7777777777777778,
              "#fb9f3a"
             ],
             [
              0.8888888888888888,
              "#fdca26"
             ],
             [
              1,
              "#f0f921"
             ]
            ],
            "type": "surface"
           }
          ],
          "table": [
           {
            "cells": {
             "fill": {
              "color": "#EBF0F8"
             },
             "line": {
              "color": "white"
             }
            },
            "header": {
             "fill": {
              "color": "#C8D4E3"
             },
             "line": {
              "color": "white"
             }
            },
            "type": "table"
           }
          ]
         },
         "layout": {
          "annotationdefaults": {
           "arrowcolor": "#2a3f5f",
           "arrowhead": 0,
           "arrowwidth": 1
          },
          "autotypenumbers": "strict",
          "coloraxis": {
           "colorbar": {
            "outlinewidth": 0,
            "ticks": ""
           }
          },
          "colorscale": {
           "diverging": [
            [
             0,
             "#8e0152"
            ],
            [
             0.1,
             "#c51b7d"
            ],
            [
             0.2,
             "#de77ae"
            ],
            [
             0.3,
             "#f1b6da"
            ],
            [
             0.4,
             "#fde0ef"
            ],
            [
             0.5,
             "#f7f7f7"
            ],
            [
             0.6,
             "#e6f5d0"
            ],
            [
             0.7,
             "#b8e186"
            ],
            [
             0.8,
             "#7fbc41"
            ],
            [
             0.9,
             "#4d9221"
            ],
            [
             1,
             "#276419"
            ]
           ],
           "sequential": [
            [
             0,
             "#0d0887"
            ],
            [
             0.1111111111111111,
             "#46039f"
            ],
            [
             0.2222222222222222,
             "#7201a8"
            ],
            [
             0.3333333333333333,
             "#9c179e"
            ],
            [
             0.4444444444444444,
             "#bd3786"
            ],
            [
             0.5555555555555556,
             "#d8576b"
            ],
            [
             0.6666666666666666,
             "#ed7953"
            ],
            [
             0.7777777777777778,
             "#fb9f3a"
            ],
            [
             0.8888888888888888,
             "#fdca26"
            ],
            [
             1,
             "#f0f921"
            ]
           ],
           "sequentialminus": [
            [
             0,
             "#0d0887"
            ],
            [
             0.1111111111111111,
             "#46039f"
            ],
            [
             0.2222222222222222,
             "#7201a8"
            ],
            [
             0.3333333333333333,
             "#9c179e"
            ],
            [
             0.4444444444444444,
             "#bd3786"
            ],
            [
             0.5555555555555556,
             "#d8576b"
            ],
            [
             0.6666666666666666,
             "#ed7953"
            ],
            [
             0.7777777777777778,
             "#fb9f3a"
            ],
            [
             0.8888888888888888,
             "#fdca26"
            ],
            [
             1,
             "#f0f921"
            ]
           ]
          },
          "colorway": [
           "#636efa",
           "#EF553B",
           "#00cc96",
           "#ab63fa",
           "#FFA15A",
           "#19d3f3",
           "#FF6692",
           "#B6E880",
           "#FF97FF",
           "#FECB52"
          ],
          "font": {
           "color": "#2a3f5f"
          },
          "geo": {
           "bgcolor": "white",
           "lakecolor": "white",
           "landcolor": "#E5ECF6",
           "showlakes": true,
           "showland": true,
           "subunitcolor": "white"
          },
          "hoverlabel": {
           "align": "left"
          },
          "hovermode": "closest",
          "mapbox": {
           "style": "light"
          },
          "paper_bgcolor": "white",
          "plot_bgcolor": "#E5ECF6",
          "polar": {
           "angularaxis": {
            "gridcolor": "white",
            "linecolor": "white",
            "ticks": ""
           },
           "bgcolor": "#E5ECF6",
           "radialaxis": {
            "gridcolor": "white",
            "linecolor": "white",
            "ticks": ""
           }
          },
          "scene": {
           "xaxis": {
            "backgroundcolor": "#E5ECF6",
            "gridcolor": "white",
            "gridwidth": 2,
            "linecolor": "white",
            "showbackground": true,
            "ticks": "",
            "zerolinecolor": "white"
           },
           "yaxis": {
            "backgroundcolor": "#E5ECF6",
            "gridcolor": "white",
            "gridwidth": 2,
            "linecolor": "white",
            "showbackground": true,
            "ticks": "",
            "zerolinecolor": "white"
           },
           "zaxis": {
            "backgroundcolor": "#E5ECF6",
            "gridcolor": "white",
            "gridwidth": 2,
            "linecolor": "white",
            "showbackground": true,
            "ticks": "",
            "zerolinecolor": "white"
           }
          },
          "shapedefaults": {
           "line": {
            "color": "#2a3f5f"
           }
          },
          "ternary": {
           "aaxis": {
            "gridcolor": "white",
            "linecolor": "white",
            "ticks": ""
           },
           "baxis": {
            "gridcolor": "white",
            "linecolor": "white",
            "ticks": ""
           },
           "bgcolor": "#E5ECF6",
           "caxis": {
            "gridcolor": "white",
            "linecolor": "white",
            "ticks": ""
           }
          },
          "title": {
           "x": 0.05
          },
          "xaxis": {
           "automargin": true,
           "gridcolor": "white",
           "linecolor": "white",
           "ticks": "",
           "title": {
            "standoff": 15
           },
           "zerolinecolor": "white",
           "zerolinewidth": 2
          },
          "yaxis": {
           "automargin": true,
           "gridcolor": "white",
           "linecolor": "white",
           "ticks": "",
           "title": {
            "standoff": 15
           },
           "zerolinecolor": "white",
           "zerolinewidth": 2
          }
         }
        },
        "title": {
         "text": "Feature Importance"
        },
        "xaxis": {
         "title": {
          "text": "Importance"
         }
        },
        "yaxis": {
         "automargin": true,
         "title": {
          "text": "Feature"
         }
        }
       }
      }
     },
     "metadata": {},
     "output_type": "display_data"
    }
   ],
   "source": [
    "feature_rename = {\n",
    "'Inverted':'Direction',\n",
    "'PerfMean':'Average stage duration', \n",
    "'PerfStd':'Deviation of stage duration', \n",
    "'EntryLoad':'Entry load', \n",
    "'ExitLoad':'Exit load',\n",
    "'EntryDemand':'Entry demand',\n",
    "'ExitDemand':'Exit demand',\n",
    "'Distance':'Distance',\n",
    "'ContainerQuantity':'Container quantity',\n",
    "'Stage':'Stage',\n",
    "'Entry_Working_Day':'Entry working day',\n",
    "'Exit_Working_Day':'Exit working day',\n",
    "'Entry_precipitation_sum':'Entry precipitation',\n",
    "'Entry_rain_sum':'Entry rain',\n",
    "'Entry_snowfall_sum':'Entry snowfall',\n",
    "'Entry_wind_speed_10m_max':'Entry wind speedx',\n",
    "'Entry_wind_gusts_10m_max':'Entry wind gusts',\n",
    "'Entry_wind_direction_10m_dominant':'Entry wind direction',\n",
    "'Exit_precipitation_sum':'Exit precipitation',\n",
    "'Exit_rain_sum':'Exit rain',\n",
    "'Exit_snowfall_sum':'Exit snowfall',\n",
    "'Exit_wind_speed_10m_max':'Exit wind speed',\n",
    "'Exit_wind_gusts_10m_max':'Exit wind gusts',\n",
    "'Exit_wind_direction_10m_dominant':'Exit wind direction',\n",
    "}\n",
    "\n",
    "\n",
    "importances = model.feature_importances_\n",
    "\n",
    "feature_importance_df = pd.DataFrame({\n",
    "    'Feature': X.columns.map(feature_rename),\n",
    "    'Importance': importances\n",
    "})\n",
    "\n",
    "feature_importance_df = feature_importance_df.sort_values(by='Importance', ascending=False)\n",
    "fig = go.Figure(go.Bar(\n",
    "    x=feature_importance_df['Importance'],\n",
    "    y=feature_importance_df['Feature'],\n",
    "    orientation='h',\n",
    "    marker=dict(color='#48AF8A')  # Using middle green color for bars\n",
    "))\n",
    "\n",
    "# Update layout\n",
    "fig.update_layout(title='Feature Importance',\n",
    "                  xaxis_title='Importance',\n",
    "                  yaxis_title='Feature',\n",
    "                  yaxis=dict(automargin=True),\n",
    "                  height=800,\n",
    "                 )\n",
    "# Show plot\n",
    "fig.show()"
   ]
  },
  {
   "cell_type": "code",
   "execution_count": 145,
   "metadata": {},
   "outputs": [
    {
     "name": "stdout",
     "output_type": "stream",
     "text": [
      "Index(['Inverted', 'PerfMean', 'PerfStd', 'EntryLoad', 'ExitLoad',\n",
      "       'EntryDemand', 'ExitDemand', 'Distance', 'ContainerQuantity', 'Stage',\n",
      "       'Entry_Working_Day', 'Exit_Working_Day', 'Entry_precipitation_sum',\n",
      "       'Entry_rain_sum', 'Entry_snowfall_sum', 'Entry_wind_speed_10m_max',\n",
      "       'Entry_wind_gusts_10m_max', 'Entry_wind_direction_10m_dominant',\n",
      "       'Exit_precipitation_sum', 'Exit_rain_sum', 'Exit_snowfall_sum',\n",
      "       'Exit_wind_speed_10m_max', 'Exit_wind_gusts_10m_max',\n",
      "       'Exit_wind_direction_10m_dominant'],\n",
      "      dtype='object')\n"
     ]
    }
   ],
   "source": [
    "print(X.columns)\n",
    "feature_rename = {\n",
    "'Inverted':'Direction',\n",
    "'PerfMean':'Average number of days it takes', \n",
    "'PerfStd':'PerfStd', \n",
    "'EntryLoad':'Entry load', \n",
    "'ExitLoad':'Exit load',\n",
    "'EntryDemand':'Entry demand',\n",
    "'ExitDemand':'Exit demand',\n",
    "'Distance':'Distance',\n",
    "'ContainerQuantity':'Container quantity',\n",
    "'Stage':'Stage',\n",
    "'Entry_Working_Day':'Entry working day',\n",
    "'Exit_Working_Day':'Exit working day',\n",
    "'Entry_precipitation_sum':'Entry precipitation',\n",
    "'Entry_rain_sum':'Entry rain',\n",
    "'Entry_snowfall_sum':'Entry snowfall',\n",
    "'Entry_wind_speed_10m_max':'Entry wind speedx',\n",
    "'Entry_wind_gusts_10m_max':'Entry wind gusts',\n",
    "'Entry_wind_direction_10m_dominant':'Entry wind direction',\n",
    "'Exit_precipitation_sum':'Exit precipitation',\n",
    "'Exit_rain_sum':'Exit rain',\n",
    "'Exit_snowfall_sum':'Exit snowfall',\n",
    "'Exit_wind_speed_10m_max':'Exit wind speed',\n",
    "'Exit_wind_gusts_10m_max':'Exit wind gusts',\n",
    "'Exit_wind_direction_10m_dominant':'Exit wind direction',\n",
    "}"
   ]
  },
  {
   "cell_type": "code",
   "execution_count": 55,
   "metadata": {},
   "outputs": [
    {
     "name": "stdout",
     "output_type": "stream",
     "text": [
      "Epoch 1/20\n",
      "8/8 [==============================] - 2s 55ms/step - loss: 39036.0234 - val_loss: 41582.7539\n",
      "Epoch 2/20\n",
      "8/8 [==============================] - 0s 10ms/step - loss: 33879.7422 - val_loss: 52384.6406\n",
      "Epoch 3/20\n",
      "8/8 [==============================] - 0s 8ms/step - loss: 16405.3477 - val_loss: 345.1138\n",
      "Epoch 4/20\n",
      "8/8 [==============================] - 0s 13ms/step - loss: 14700.9980 - val_loss: 1090.6819\n",
      "Epoch 5/20\n",
      "8/8 [==============================] - 0s 20ms/step - loss: 9587.3848 - val_loss: 5204.8237\n",
      "Epoch 6/20\n",
      "8/8 [==============================] - 0s 19ms/step - loss: 4611.6694 - val_loss: 4619.6709\n",
      "Epoch 7/20\n",
      "8/8 [==============================] - 0s 26ms/step - loss: 3059.1565 - val_loss: 3196.1497\n",
      "Epoch 8/20\n",
      "8/8 [==============================] - 0s 11ms/step - loss: 1892.2528 - val_loss: 2195.1353\n",
      "Epoch 9/20\n",
      "8/8 [==============================] - 0s 15ms/step - loss: 1525.6367 - val_loss: 1717.1317\n",
      "Epoch 10/20\n",
      "8/8 [==============================] - 0s 17ms/step - loss: 1390.8785 - val_loss: 777.0520\n",
      "Epoch 11/20\n",
      "8/8 [==============================] - 0s 26ms/step - loss: 1249.9443 - val_loss: 590.7365\n",
      "Epoch 12/20\n",
      "8/8 [==============================] - 0s 20ms/step - loss: 1210.4742 - val_loss: 224.2141\n",
      "Epoch 13/20\n",
      "8/8 [==============================] - 0s 34ms/step - loss: 1182.8137 - val_loss: 305.0490\n",
      "Epoch 14/20\n",
      "8/8 [==============================] - 0s 31ms/step - loss: 1155.7034 - val_loss: 271.7215\n",
      "Epoch 15/20\n",
      "8/8 [==============================] - 0s 24ms/step - loss: 1143.7866 - val_loss: 284.0850\n",
      "Epoch 16/20\n",
      "8/8 [==============================] - 0s 21ms/step - loss: 1135.5757 - val_loss: 285.8174\n",
      "Epoch 17/20\n",
      "8/8 [==============================] - 0s 20ms/step - loss: 1148.1782 - val_loss: 281.6959\n",
      "Epoch 18/20\n",
      "8/8 [==============================] - 0s 31ms/step - loss: 1139.0630 - val_loss: 291.6535\n",
      "Epoch 19/20\n",
      "8/8 [==============================] - 0s 13ms/step - loss: 1139.8260 - val_loss: 281.0284\n",
      "Epoch 20/20\n",
      "8/8 [==============================] - 0s 9ms/step - loss: 1137.5513 - val_loss: 300.7265\n"
     ]
    },
    {
     "data": {
      "image/png": "[encoded data removed]",
      "text/plain": [
       "<Figure size 640x480 with 1 Axes>"
      ]
     },
     "metadata": {},
     "output_type": "display_data"
    }
   ],
   "source": [
    "model_dl = tf.keras.Sequential([\n",
    "    tf.keras.layers.Dense(124, input_shape=(X.shape[1],)),\n",
    "    tf.keras.layers.Dense(64),\n",
    "    tf.keras.layers.Dense(1)\n",
    "])\n",
    "\n",
    "model_dl.compile(\n",
    "    optimizer='adam',\n",
    "    loss='mean_squared_error'\n",
    ")\n",
    "\n",
    "history = model_dl.fit(\n",
    "    X_train, \n",
    "    y_train, \n",
    "    epochs=20, \n",
    "    batch_size=32,\n",
    "    validation_data=(X_test, y_test))\n",
    "val_loss = history.history['val_loss']\n",
    "train_loss = history.history['loss']\n",
    "epochs = range(len(val_loss))\n",
    "plt.plot(epochs, val_loss, 'r', label='Validation loss')\n",
    "plt.plot(epochs, train_loss, 'b', label='train loss')\n",
    "plt.title('loss')\n",
    "plt.xlabel('Epochs')\n",
    "plt.ylabel('Loss')\n",
    "plt.legend()\n",
    "plt.show()"
   ]
  },
  {
   "cell_type": "code",
   "execution_count": 63,
   "metadata": {},
   "outputs": [
    {
     "data": {
      "image/png": "[encoded data removed]",
      "text/plain": [
       "<Figure size 640x480 with 1 Axes>"
      ]
     },
     "metadata": {},
     "output_type": "display_data"
    },
    {
     "data": {
      "image/png": "[encoded data removed]",
      "text/plain": [
       "<Figure size 640x480 with 1 Axes>"
      ]
     },
     "metadata": {},
     "output_type": "display_data"
    },
    {
     "data": {
      "image/png": "[encoded data removed]",
      "text/plain": [
       "<Figure size 640x480 with 1 Axes>"
      ]
     },
     "metadata": {},
     "output_type": "display_data"
    },
    {
     "data": {
      "image/png": "[encoded data removed]",
      "text/plain": [
       "<Figure size 640x480 with 1 Axes>"
      ]
     },
     "metadata": {},
     "output_type": "display_data"
    },
    {
     "data": {
      "image/png": "[encoded data removed]",
      "text/plain": [
       "<Figure size 640x480 with 1 Axes>"
      ]
     },
     "metadata": {},
     "output_type": "display_data"
    }
   ],
   "source": [
    "model_dl = tf.keras.Sequential([\n",
    "    tf.keras.layers.Dense(124, input_shape=(X.shape[1],)),\n",
    "    tf.keras.layers.Dense(64),\n",
    "    tf.keras.layers.Dense(1)\n",
    "])\n",
    "\n",
    "model_dl.compile(\n",
    "    optimizer='adam',\n",
    "    loss='mean_squared_error'\n",
    ")\n",
    "\n",
    "kf = KFold(n_splits=5, shuffle=True)\n",
    "\n",
    "fold = 1\n",
    "for train_index, val_index in kf.split(X):\n",
    "    X_train, X_val = X.iloc[train_index], X.iloc[val_index]\n",
    "    y_train, y_val = y[train_index], y[val_index]\n",
    "    model_dl = tf.keras.Sequential([\n",
    "    tf.keras.layers.Dense(124, input_shape=(X.shape[1],)),\n",
    "    tf.keras.layers.Dense(64),\n",
    "    tf.keras.layers.Dense(1)\n",
    "    ])\n",
    "\n",
    "    model_dl.compile(\n",
    "    optimizer='adam',\n",
    "    loss='mean_squared_error'\n",
    "    )\n",
    "    \n",
    "    # Train the model\n",
    "    history = model_dl.fit(\n",
    "        X_train, \n",
    "        y_train, \n",
    "        epochs=20, \n",
    "        batch_size=32, \n",
    "        validation_data=(X_val, y_val),\n",
    "        verbose=0\n",
    "    )\n",
    "    \n",
    "    val_loss = history.history['val_loss']\n",
    "    train_loss = history.history['loss']\n",
    "    epochs = range(len(val_loss))\n",
    "    \n",
    "    plt.figure()\n",
    "    plt.plot(epochs, val_loss, 'r', label='Validation loss')\n",
    "    plt.plot(epochs, train_loss, 'b', label='Train loss')\n",
    "    plt.title(f'Fold {fold} - Loss')\n",
    "    plt.xlabel('Epochs')\n",
    "    plt.ylabel('Loss')\n",
    "    plt.legend()\n",
    "    plt.show()\n",
    "    \n",
    "    fold += 1\n"
   ]
  },
  {
   "cell_type": "code",
   "execution_count": null,
   "metadata": {},
   "outputs": [],
   "source": []
  },
  {
   "cell_type": "code",
   "execution_count": 94,
   "metadata": {},
   "outputs": [
    {
     "data": {
      "application/vnd.plotly.v1+json": {
       "config": {
        "plotlyServerURL": "https://plot.ly"
       },
       "data": [
        {
         "labels": [
          "container 1",
          "container 2",
          "container 3",
          "container 4",
          "container 5",
          "container 6",
          "container 7",
          "container 8"
         ],
         "marker": {
          "colors": [
           "#BFEEDB",
           "#8ED3AE",
           "#48AF8A",
           "#247B6C",
           "#CCE3F8",
           "#85C6EB",
           "#519EE5",
           "#283952"
          ]
         },
         "type": "pie",
         "values": [
          64,
          50,
          48,
          48,
          40,
          40,
          32,
          32
         ]
        }
       ],
       "layout": {
        "template": {
         "data": {
          "bar": [
           {
            "error_x": {
             "color": "#2a3f5f"
            },
            "error_y": {
             "color": "#2a3f5f"
            },
            "marker": {
             "line": {
              "color": "#E5ECF6",
              "width": 0.5
             },
             "pattern": {
              "fillmode": "overlay",
              "size": 10,
              "solidity": 0.2
             }
            },
            "type": "bar"
           }
          ],
          "barpolar": [
           {
            "marker": {
             "line": {
              "color": "#E5ECF6",
              "width": 0.5
             },
             "pattern": {
              "fillmode": "overlay",
              "size": 10,
              "solidity": 0.2
             }
            },
            "type": "barpolar"
           }
          ],
          "carpet": [
           {
            "aaxis": {
             "endlinecolor": "#2a3f5f",
             "gridcolor": "white",
             "linecolor": "white",
             "minorgridcolor": "white",
             "startlinecolor": "#2a3f5f"
            },
            "baxis": {
             "endlinecolor": "#2a3f5f",
             "gridcolor": "white",
             "linecolor": "white",
             "minorgridcolor": "white",
             "startlinecolor": "#2a3f5f"
            },
            "type": "carpet"
           }
          ],
          "choropleth": [
           {
            "colorbar": {
             "outlinewidth": 0,
             "ticks": ""
            },
            "type": "choropleth"
           }
          ],
          "contour": [
           {
            "colorbar": {
             "outlinewidth": 0,
             "ticks": ""
            },
            "colorscale": [
             [
              0,
              "#0d0887"
             ],
             [
              0.1111111111111111,
              "#46039f"
             ],
             [
              0.2222222222222222,
              "#7201a8"
             ],
             [
              0.3333333333333333,
              "#9c179e"
             ],
             [
              0.4444444444444444,
              "#bd3786"
             ],
             [
              0.5555555555555556,
              "#d8576b"
             ],
             [
              0.6666666666666666,
              "#ed7953"
             ],
             [
              0.7777777777777778,
              "#fb9f3a"
             ],
             [
              0.8888888888888888,
              "#fdca26"
             ],
             [
              1,
              "#f0f921"
             ]
            ],
            "type": "contour"
           }
          ],
          "contourcarpet": [
           {
            "colorbar": {
             "outlinewidth": 0,
             "ticks": ""
            },
            "type": "contourcarpet"
           }
          ],
          "heatmap": [
           {
            "colorbar": {
             "outlinewidth": 0,
             "ticks": ""
            },
            "colorscale": [
             [
              0,
              "#0d0887"
             ],
             [
              0.1111111111111111,
              "#46039f"
             ],
             [
              0.2222222222222222,
              "#7201a8"
             ],
             [
              0.3333333333333333,
              "#9c179e"
             ],
             [
              0.4444444444444444,
              "#bd3786"
             ],
             [
              0.5555555555555556,
              "#d8576b"
             ],
             [
              0.6666666666666666,
              "#ed7953"
             ],
             [
              0.7777777777777778,
              "#fb9f3a"
             ],
             [
              0.8888888888888888,
              "#fdca26"
             ],
             [
              1,
              "#f0f921"
             ]
            ],
            "type": "heatmap"
           }
          ],
          "heatmapgl": [
           {
            "colorbar": {
             "outlinewidth": 0,
             "ticks": ""
            },
            "colorscale": [
             [
              0,
              "#0d0887"
             ],
             [
              0.1111111111111111,
              "#46039f"
             ],
             [
              0.2222222222222222,
              "#7201a8"
             ],
             [
              0.3333333333333333,
              "#9c179e"
             ],
             [
              0.4444444444444444,
              "#bd3786"
             ],
             [
              0.5555555555555556,
              "#d8576b"
             ],
             [
              0.6666666666666666,
              "#ed7953"
             ],
             [
              0.7777777777777778,
              "#fb9f3a"
             ],
             [
              0.8888888888888888,
              "#fdca26"
             ],
             [
              1,
              "#f0f921"
             ]
            ],
            "type": "heatmapgl"
           }
          ],
          "histogram": [
           {
            "marker": {
             "pattern": {
              "fillmode": "overlay",
              "size": 10,
              "solidity": 0.2
             }
            },
            "type": "histogram"
           }
          ],
          "histogram2d": [
           {
            "colorbar": {
             "outlinewidth": 0,
             "ticks": ""
            },
            "colorscale": [
             [
              0,
              "#0d0887"
             ],
             [
              0.1111111111111111,
              "#46039f"
             ],
             [
              0.2222222222222222,
              "#7201a8"
             ],
             [
              0.3333333333333333,
              "#9c179e"
             ],
             [
              0.4444444444444444,
              "#bd3786"
             ],
             [
              0.5555555555555556,
              "#d8576b"
             ],
             [
              0.6666666666666666,
              "#ed7953"
             ],
             [
              0.7777777777777778,
              "#fb9f3a"
             ],
             [
              0.8888888888888888,
              "#fdca26"
             ],
             [
              1,
              "#f0f921"
             ]
            ],
            "type": "histogram2d"
           }
          ],
          "histogram2dcontour": [
           {
            "colorbar": {
             "outlinewidth": 0,
             "ticks": ""
            },
            "colorscale": [
             [
              0,
              "#0d0887"
             ],
             [
              0.1111111111111111,
              "#46039f"
             ],
             [
              0.2222222222222222,
              "#7201a8"
             ],
             [
              0.3333333333333333,
              "#9c179e"
             ],
             [
              0.4444444444444444,
              "#bd3786"
             ],
             [
              0.5555555555555556,
              "#d8576b"
             ],
             [
              0.6666666666666666,
              "#ed7953"
             ],
             [
              0.7777777777777778,
              "#fb9f3a"
             ],
             [
              0.8888888888888888,
              "#fdca26"
             ],
             [
              1,
              "#f0f921"
             ]
            ],
            "type": "histogram2dcontour"
           }
          ],
          "mesh3d": [
           {
            "colorbar": {
             "outlinewidth": 0,
             "ticks": ""
            },
            "type": "mesh3d"
           }
          ],
          "parcoords": [
           {
            "line": {
             "colorbar": {
              "outlinewidth": 0,
              "ticks": ""
             }
            },
            "type": "parcoords"
           }
          ],
          "pie": [
           {
            "automargin": true,
            "type": "pie"
           }
          ],
          "scatter": [
           {
            "fillpattern": {
             "fillmode": "overlay",
             "size": 10,
             "solidity": 0.2
            },
            "type": "scatter"
           }
          ],
          "scatter3d": [
           {
            "line": {
             "colorbar": {
              "outlinewidth": 0,
              "ticks": ""
             }
            },
            "marker": {
             "colorbar": {
              "outlinewidth": 0,
              "ticks": ""
             }
            },
            "type": "scatter3d"
           }
          ],
          "scattercarpet": [
           {
            "marker": {
             "colorbar": {
              "outlinewidth": 0,
              "ticks": ""
             }
            },
            "type": "scattercarpet"
           }
          ],
          "scattergeo": [
           {
            "marker": {
             "colorbar": {
              "outlinewidth": 0,
              "ticks": ""
             }
            },
            "type": "scattergeo"
           }
          ],
          "scattergl": [
           {
            "marker": {
             "colorbar": {
              "outlinewidth": 0,
              "ticks": ""
             }
            },
            "type": "scattergl"
           }
          ],
          "scattermapbox": [
           {
            "marker": {
             "colorbar": {
              "outlinewidth": 0,
              "ticks": ""
             }
            },
            "type": "scattermapbox"
           }
          ],
          "scatterpolar": [
           {
            "marker": {
             "colorbar": {
              "outlinewidth": 0,
              "ticks": ""
             }
            },
            "type": "scatterpolar"
           }
          ],
          "scatterpolargl": [
           {
            "marker": {
             "colorbar": {
              "outlinewidth": 0,
              "ticks": ""
             }
            },
            "type": "scatterpolargl"
           }
          ],
          "scatterternary": [
           {
            "marker": {
             "colorbar": {
              "outlinewidth": 0,
              "ticks": ""
             }
            },
            "type": "scatterternary"
           }
          ],
          "surface": [
           {
            "colorbar": {
             "outlinewidth": 0,
             "ticks": ""
            },
            "colorscale": [
             [
              0,
              "#0d0887"
             ],
             [
              0.1111111111111111,
              "#46039f"
             ],
             [
              0.2222222222222222,
              "#7201a8"
             ],
             [
              0.3333333333333333,
              "#9c179e"
             ],
             [
              0.4444444444444444,
              "#bd3786"
             ],
             [
              0.5555555555555556,
              "#d8576b"
             ],
             [
              0.6666666666666666,
              "#ed7953"
             ],
             [
              0.7777777777777778,
              "#fb9f3a"
             ],
             [
              0.8888888888888888,
              "#fdca26"
             ],
             [
              1,
              "#f0f921"
             ]
            ],
            "type": "surface"
           }
          ],
          "table": [
           {
            "cells": {
             "fill": {
              "color": "#EBF0F8"
             },
             "line": {
              "color": "white"
             }
            },
            "header": {
             "fill": {
              "color": "#C8D4E3"
             },
             "line": {
              "color": "white"
             }
            },
            "type": "table"
           }
          ]
         },
         "layout": {
          "annotationdefaults": {
           "arrowcolor": "#2a3f5f",
           "arrowhead": 0,
           "arrowwidth": 1
          },
          "autotypenumbers": "strict",
          "coloraxis": {
           "colorbar": {
            "outlinewidth": 0,
            "ticks": ""
           }
          },
          "colorscale": {
           "diverging": [
            [
             0,
             "#8e0152"
            ],
            [
             0.1,
             "#c51b7d"
            ],
            [
             0.2,
             "#de77ae"
            ],
            [
             0.3,
             "#f1b6da"
            ],
            [
             0.4,
             "#fde0ef"
            ],
            [
             0.5,
             "#f7f7f7"
            ],
            [
             0.6,
             "#e6f5d0"
            ],
            [
             0.7,
             "#b8e186"
            ],
            [
             0.8,
             "#7fbc41"
            ],
            [
             0.9,
             "#4d9221"
            ],
            [
             1,
             "#276419"
            ]
           ],
           "sequential": [
            [
             0,
             "#0d0887"
            ],
            [
             0.1111111111111111,
             "#46039f"
            ],
            [
             0.2222222222222222,
             "#7201a8"
            ],
            [
             0.3333333333333333,
             "#9c179e"
            ],
            [
             0.4444444444444444,
             "#bd3786"
            ],
            [
             0.5555555555555556,
             "#d8576b"
            ],
            [
             0.6666666666666666,
             "#ed7953"
            ],
            [
             0.7777777777777778,
             "#fb9f3a"
            ],
            [
             0.8888888888888888,
             "#fdca26"
            ],
            [
             1,
             "#f0f921"
            ]
           ],
           "sequentialminus": [
            [
             0,
             "#0d0887"
            ],
            [
             0.1111111111111111,
             "#46039f"
            ],
            [
             0.2222222222222222,
             "#7201a8"
            ],
            [
             0.3333333333333333,
             "#9c179e"
            ],
            [
             0.4444444444444444,
             "#bd3786"
            ],
            [
             0.5555555555555556,
             "#d8576b"
            ],
            [
             0.6666666666666666,
             "#ed7953"
            ],
            [
             0.7777777777777778,
             "#fb9f3a"
            ],
            [
             0.8888888888888888,
             "#fdca26"
            ],
            [
             1,
             "#f0f921"
            ]
           ]
          },
          "colorway": [
           "#636efa",
           "#EF553B",
           "#00cc96",
           "#ab63fa",
           "#FFA15A",
           "#19d3f3",
           "#FF6692",
           "#B6E880",
           "#FF97FF",
           "#FECB52"
          ],
          "font": {
           "color": "#2a3f5f"
          },
          "geo": {
           "bgcolor": "white",
           "lakecolor": "white",
           "landcolor": "#E5ECF6",
           "showlakes": true,
           "showland": true,
           "subunitcolor": "white"
          },
          "hoverlabel": {
           "align": "left"
          },
          "hovermode": "closest",
          "mapbox": {
           "style": "light"
          },
          "paper_bgcolor": "white",
          "plot_bgcolor": "#E5ECF6",
          "polar": {
           "angularaxis": {
            "gridcolor": "white",
            "linecolor": "white",
            "ticks": ""
           },
           "bgcolor": "#E5ECF6",
           "radialaxis": {
            "gridcolor": "white",
            "linecolor": "white",
            "ticks": ""
           }
          },
          "scene": {
           "xaxis": {
            "backgroundcolor": "#E5ECF6",
            "gridcolor": "white",
            "gridwidth": 2,
            "linecolor": "white",
            "showbackground": true,
            "ticks": "",
            "zerolinecolor": "white"
           },
           "yaxis": {
            "backgroundcolor": "#E5ECF6",
            "gridcolor": "white",
            "gridwidth": 2,
            "linecolor": "white",
            "showbackground": true,
            "ticks": "",
            "zerolinecolor": "white"
           },
           "zaxis": {
            "backgroundcolor": "#E5ECF6",
            "gridcolor": "white",
            "gridwidth": 2,
            "linecolor": "white",
            "showbackground": true,
            "ticks": "",
            "zerolinecolor": "white"
           }
          },
          "shapedefaults": {
           "line": {
            "color": "#2a3f5f"
           }
          },
          "ternary": {
           "aaxis": {
            "gridcolor": "white",
            "linecolor": "white",
            "ticks": ""
           },
           "baxis": {
            "gridcolor": "white",
            "linecolor": "white",
            "ticks": ""
           },
           "bgcolor": "#E5ECF6",
           "caxis": {
            "gridcolor": "white",
            "linecolor": "white",
            "ticks": ""
           }
          },
          "title": {
           "x": 0.05
          },
          "xaxis": {
           "automargin": true,
           "gridcolor": "white",
           "linecolor": "white",
           "ticks": "",
           "title": {
            "standoff": 15
           },
           "zerolinecolor": "white",
           "zerolinewidth": 2
          },
          "yaxis": {
           "automargin": true,
           "gridcolor": "white",
           "linecolor": "white",
           "ticks": "",
           "title": {
            "standoff": 15
           },
           "zerolinecolor": "white",
           "zerolinewidth": 2
          }
         }
        },
        "title": {
         "text": "Usage of containers"
        }
       }
      }
     },
     "metadata": {},
     "output_type": "display_data"
    }
   ],
   "source": [
    "import plotly.graph_objects as go\n",
    "\n",
    "# Define colors\n",
    "colors = ['#BFEEDB', '#8ED3AE', '#48AF8A', '#247B6C', '#CCE3F8', '#85C6EB', '#519EE5', '#283952']\n",
    "\n",
    "# Data\n",
    "containers = ['container '+str(i) for i in range(1,9)]\n",
    "quantites_containers = list(data['Container'].value_counts())\n",
    "\n",
    "# Create figure\n",
    "fig = go.Figure(data=[go.Pie(labels=containers, values=quantites_containers)])\n",
    "\n",
    "# Update layout\n",
    "fig.update_traces(marker=dict(colors=colors))\n",
    "fig.update_layout(title='Usage of containers')\n",
    "\n",
    "# Show plot\n",
    "fig.show()"
   ]
  },
  {
   "cell_type": "code",
   "execution_count": 98,
   "metadata": {},
   "outputs": [
    {
     "ename": "AttributeError",
     "evalue": "module 'xgboost' has no attribute 'get_score'",
     "output_type": "error",
     "traceback": [
      "\u001b[0;31m---------------------------------------------------------------------------\u001b[0m",
      "\u001b[0;31mAttributeError\u001b[0m                            Traceback (most recent call last)",
      "Cell \u001b[0;32mIn[98], line 10\u001b[0m\n\u001b[1;32m      7\u001b[0m     feats_imp\u001b[38;5;241m.\u001b[39mreset_index(drop\u001b[38;5;241m=\u001b[39m\u001b[38;5;28;01mTrue\u001b[39;00m,inplace\u001b[38;5;241m=\u001b[39m\u001b[38;5;28;01mTrue\u001b[39;00m)\n\u001b[1;32m      8\u001b[0m     \u001b[38;5;28;01mreturn\u001b[39;00m feats_imp\n\u001b[0;32m---> 10\u001b[0m feature_importance_df \u001b[38;5;241m=\u001b[39m \u001b[43mget_xgb_imp\u001b[49m\u001b[43m(\u001b[49m\u001b[43mxgb\u001b[49m\u001b[43m,\u001b[49m\u001b[43m \u001b[49m\u001b[43mX\u001b[49m\u001b[38;5;241;43m.\u001b[39;49m\u001b[43mcolumns\u001b[49m\u001b[43m)\u001b[49m\n",
      "Cell \u001b[0;32mIn[98], line 2\u001b[0m, in \u001b[0;36mget_xgb_imp\u001b[0;34m(xgb, feat_names)\u001b[0m\n\u001b[1;32m      1\u001b[0m \u001b[38;5;28;01mdef\u001b[39;00m \u001b[38;5;21mget_xgb_imp\u001b[39m(xgb, feat_names):\n\u001b[0;32m----> 2\u001b[0m     imp_vals \u001b[38;5;241m=\u001b[39m \u001b[43mxgb\u001b[49m\u001b[38;5;241;43m.\u001b[39;49m\u001b[43mget_score\u001b[49m(importance_type\u001b[38;5;241m=\u001b[39m\u001b[38;5;124m'\u001b[39m\u001b[38;5;124mgain\u001b[39m\u001b[38;5;124m'\u001b[39m)\n\u001b[1;32m      3\u001b[0m     feats_imp \u001b[38;5;241m=\u001b[39m pd\u001b[38;5;241m.\u001b[39mDataFrame(imp_vals,index\u001b[38;5;241m=\u001b[39mnp\u001b[38;5;241m.\u001b[39marange(\u001b[38;5;241m2\u001b[39m))\u001b[38;5;241m.\u001b[39mT\n\u001b[1;32m      4\u001b[0m     feats_imp\u001b[38;5;241m.\u001b[39miloc[:,\u001b[38;5;241m0\u001b[39m]\u001b[38;5;241m=\u001b[39m feats_imp\u001b[38;5;241m.\u001b[39mindex    \n",
      "\u001b[0;31mAttributeError\u001b[0m: module 'xgboost' has no attribute 'get_score'"
     ]
    }
   ],
   "source": [
    "def get_xgb_imp(xgb, feat_names):\n",
    "    imp_vals = xgb.get_score(importance_type='gain')\n",
    "    feats_imp = pd.DataFrame(imp_vals,index=np.arange(2)).T\n",
    "    feats_imp.iloc[:,0]= feats_imp.index    \n",
    "    feats_imp.columns=['feature','importance']\n",
    "    feats_imp.sort_values('importance',inplace=True,ascending=False)\n",
    "    feats_imp.reset_index(drop=True,inplace=True)\n",
    "    return feats_imp\n",
    "\n",
    "feature_importance_df = get_xgb_imp(xgb, X.columns)"
   ]
  }
 ],
 "metadata": {
  "kernelspec": {
   "display_name": "Python 3",
   "language": "python",
   "name": "python3"
  },
  "language_info": {
   "codemirror_mode": {
    "name": "ipython",
    "version": 3
   },
   "file_extension": ".py",
   "mimetype": "text/x-python",
   "name": "python",
   "nbconvert_exporter": "python",
   "pygments_lexer": "ipython3",
   "version": "3.10.12"
  }
 },
 "nbformat": 4,
 "nbformat_minor": 2
}
