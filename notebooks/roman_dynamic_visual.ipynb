{
 "cells": [
  {
   "cell_type": "code",
   "execution_count": 101,
   "metadata": {},
   "outputs": [],
   "source": [
    "import pandas as pd\n",
    "import numpy as np\n",
    "import plotly.express as px\n",
    "from itertools import product"
   ]
  },
  {
   "cell_type": "code",
   "execution_count": 102,
   "metadata": {},
   "outputs": [],
   "source": [
    "planning = pd.read_excel('../dataset/a6_booster_delivery_planning.xlsx')\n",
    "tracks = pd.read_excel('../dataset/ariane_tracks_booster_container_2.0.xlsx')\n",
    "\n",
    "tracks['Entry'] = pd.to_datetime(tracks['Entry'], format='%d.%m.%Y')\n",
    "tracks['Exit'] = pd.to_datetime(tracks['Exit'], format='%d.%m.%Y')"
   ]
  },
  {
   "cell_type": "code",
   "execution_count": 103,
   "metadata": {},
   "outputs": [],
   "source": [
    "sorted_tracks = tracks.sort_values(by=['Container','Entry'])"
   ]
  },
  {
   "cell_type": "code",
   "execution_count": 104,
   "metadata": {},
   "outputs": [],
   "source": [
    "dates = pd.date_range(start=min(sorted_tracks['Entry']), end=max(sorted_tracks['Entry'])).to_list()\n",
    "containers = list(sorted_tracks['Container'].unique())"
   ]
  },
  {
   "cell_type": "code",
   "execution_count": 105,
   "metadata": {},
   "outputs": [],
   "source": [
    "df = pd.DataFrame(list(product(dates,containers)), columns=['Date', 'Container'])"
   ]
  },
  {
   "cell_type": "code",
   "execution_count": 106,
   "metadata": {},
   "outputs": [],
   "source": [
    "crossed_data = (df\n",
    "                .merge(sorted_tracks[['Container', 'Zone', 'Entry', 'Exit']], how = 'cross')\n",
    "                .query('Entry <= Date <= Exit')\n",
    ")"
   ]
  },
  {
   "cell_type": "code",
   "execution_count": 107,
   "metadata": {},
   "outputs": [],
   "source": [
    "crossed_data = crossed_data[crossed_data['Container_x'] == crossed_data['Container_y']].rename(columns={'Container_x':'Container'}).drop(columns='Container_y').reset_index(drop=True)"
   ]
  }
 ],
 "metadata": {
  "kernelspec": {
   "display_name": "Python 3",
   "language": "python",
   "name": "python3"
  },
  "language_info": {
   "codemirror_mode": {
    "name": "ipython",
    "version": 3
   },
   "file_extension": ".py",
   "mimetype": "text/x-python",
   "name": "python",
   "nbconvert_exporter": "python",
   "pygments_lexer": "ipython3",
   "version": "3.10.10"
  }
 },
 "nbformat": 4,
 "nbformat_minor": 2
}
