{
 "cells": [
  {
   "cell_type": "code",
   "execution_count": 100,
   "id": "0f279d9d-26f4-4af0-bc72-0e49353320ed",
   "metadata": {},
   "outputs": [],
   "source": [
    "import numpy as np\n",
    "import pandas as pd\n",
    "import random"
   ]
  },
  {
   "cell_type": "code",
   "execution_count": 101,
   "id": "99c7e27e-b210-4665-b1c2-2d17c34b9020",
   "metadata": {},
   "outputs": [],
   "source": [
    "datas = \"../dataset/true_datas.csv\"\n",
    "datas = pd.read_csv(datas)\n"
   ]
  },
  {
   "cell_type": "code",
   "execution_count": 103,
   "id": "8c9d25d5-c9c1-4d20-a2b2-74d61ceaa6cb",
   "metadata": {},
   "outputs": [],
   "source": [
    "def get_season(month):\n",
    "    if month in [3, 4, 5]:   # Spring: March, April, May\n",
    "        return 0\n",
    "    elif month in [6, 7, 8]:  # Summer: June, July, August\n",
    "        return 1\n",
    "    elif month in [9, 10, 11]: # Autumn/Fall: September, October, November\n",
    "        return 2\n",
    "    else:   # Winter: December, January, February\n",
    "        return 3\n",
    "\n",
    "datas['Season'] = pd.to_datetime(datas['Entry']).dt.month.map(get_season)\n"
   ]
  },
  {
   "cell_type": "code",
   "execution_count": 104,
   "id": "6e85f0ff-71a1-4207-9a52-b406445e2e92",
   "metadata": {},
   "outputs": [
    {
     "data": {
      "text/html": [
       "<div>\n",
       "<style scoped>\n",
       "    .dataframe tbody tr th:only-of-type {\n",
       "        vertical-align: middle;\n",
       "    }\n",
       "\n",
       "    .dataframe tbody tr th {\n",
       "        vertical-align: top;\n",
       "    }\n",
       "\n",
       "    .dataframe thead th {\n",
       "        text-align: right;\n",
       "    }\n",
       "</style>\n",
       "<table border=\"1\" class=\"dataframe\">\n",
       "  <thead>\n",
       "    <tr style=\"text-align: right;\">\n",
       "      <th></th>\n",
       "      <th>Days</th>\n",
       "      <th>Inverted</th>\n",
       "      <th>PerfMean</th>\n",
       "      <th>PerfStd</th>\n",
       "      <th>EntryLoad</th>\n",
       "      <th>ExitLoad</th>\n",
       "      <th>EntryDemand</th>\n",
       "      <th>ExitDemand</th>\n",
       "      <th>Distance</th>\n",
       "      <th>ContainerQuantity</th>\n",
       "      <th>...</th>\n",
       "      <th>Entry_wind_speed_10m_max</th>\n",
       "      <th>Entry_wind_gusts_10m_max</th>\n",
       "      <th>Entry_wind_direction_10m_dominant</th>\n",
       "      <th>Exit_precipitation_sum</th>\n",
       "      <th>Exit_rain_sum</th>\n",
       "      <th>Exit_snowfall_sum</th>\n",
       "      <th>Exit_wind_speed_10m_max</th>\n",
       "      <th>Exit_wind_gusts_10m_max</th>\n",
       "      <th>Exit_wind_direction_10m_dominant</th>\n",
       "      <th>Season</th>\n",
       "    </tr>\n",
       "  </thead>\n",
       "  <tbody>\n",
       "    <tr>\n",
       "      <th>0</th>\n",
       "      <td>15.0</td>\n",
       "      <td>0.0</td>\n",
       "      <td>24.0</td>\n",
       "      <td>7.348469</td>\n",
       "      <td>0.0</td>\n",
       "      <td>0.0</td>\n",
       "      <td>0.0</td>\n",
       "      <td>0.0</td>\n",
       "      <td>0.00</td>\n",
       "      <td>2.0</td>\n",
       "      <td>...</td>\n",
       "      <td>26.980793</td>\n",
       "      <td>63.000000</td>\n",
       "      <td>247.30750</td>\n",
       "      <td>0.000000</td>\n",
       "      <td>0.000000</td>\n",
       "      <td>0.0</td>\n",
       "      <td>21.897945</td>\n",
       "      <td>42.120000</td>\n",
       "      <td>343.37125</td>\n",
       "      <td>3</td>\n",
       "    </tr>\n",
       "    <tr>\n",
       "      <th>1</th>\n",
       "      <td>0.0</td>\n",
       "      <td>0.0</td>\n",
       "      <td>0.0</td>\n",
       "      <td>0.000000</td>\n",
       "      <td>0.0</td>\n",
       "      <td>0.0</td>\n",
       "      <td>0.0</td>\n",
       "      <td>0.0</td>\n",
       "      <td>9.70</td>\n",
       "      <td>2.0</td>\n",
       "      <td>...</td>\n",
       "      <td>21.897945</td>\n",
       "      <td>42.120000</td>\n",
       "      <td>343.37125</td>\n",
       "      <td>0.000000</td>\n",
       "      <td>0.000000</td>\n",
       "      <td>0.0</td>\n",
       "      <td>21.897945</td>\n",
       "      <td>42.120000</td>\n",
       "      <td>343.37125</td>\n",
       "      <td>3</td>\n",
       "    </tr>\n",
       "    <tr>\n",
       "      <th>2</th>\n",
       "      <td>5.0</td>\n",
       "      <td>0.0</td>\n",
       "      <td>5.0</td>\n",
       "      <td>0.000000</td>\n",
       "      <td>0.0</td>\n",
       "      <td>0.0</td>\n",
       "      <td>0.0</td>\n",
       "      <td>0.0</td>\n",
       "      <td>0.00</td>\n",
       "      <td>2.0</td>\n",
       "      <td>...</td>\n",
       "      <td>21.897945</td>\n",
       "      <td>42.120000</td>\n",
       "      <td>343.37125</td>\n",
       "      <td>3.700000</td>\n",
       "      <td>3.700000</td>\n",
       "      <td>0.0</td>\n",
       "      <td>19.174856</td>\n",
       "      <td>36.360000</td>\n",
       "      <td>242.80690</td>\n",
       "      <td>3</td>\n",
       "    </tr>\n",
       "    <tr>\n",
       "      <th>3</th>\n",
       "      <td>0.0</td>\n",
       "      <td>0.0</td>\n",
       "      <td>0.0</td>\n",
       "      <td>0.000000</td>\n",
       "      <td>0.0</td>\n",
       "      <td>0.0</td>\n",
       "      <td>0.0</td>\n",
       "      <td>0.0</td>\n",
       "      <td>9.42</td>\n",
       "      <td>2.0</td>\n",
       "      <td>...</td>\n",
       "      <td>19.174856</td>\n",
       "      <td>36.360000</td>\n",
       "      <td>242.80690</td>\n",
       "      <td>3.700000</td>\n",
       "      <td>3.700000</td>\n",
       "      <td>0.0</td>\n",
       "      <td>19.174856</td>\n",
       "      <td>36.360000</td>\n",
       "      <td>242.80690</td>\n",
       "      <td>3</td>\n",
       "    </tr>\n",
       "    <tr>\n",
       "      <th>4</th>\n",
       "      <td>1.0</td>\n",
       "      <td>0.0</td>\n",
       "      <td>1.0</td>\n",
       "      <td>0.000000</td>\n",
       "      <td>0.0</td>\n",
       "      <td>0.0</td>\n",
       "      <td>0.0</td>\n",
       "      <td>0.0</td>\n",
       "      <td>0.00</td>\n",
       "      <td>2.0</td>\n",
       "      <td>...</td>\n",
       "      <td>19.174856</td>\n",
       "      <td>36.360000</td>\n",
       "      <td>242.80690</td>\n",
       "      <td>17.600000</td>\n",
       "      <td>17.600000</td>\n",
       "      <td>0.0</td>\n",
       "      <td>21.096123</td>\n",
       "      <td>39.960000</td>\n",
       "      <td>251.11560</td>\n",
       "      <td>3</td>\n",
       "    </tr>\n",
       "    <tr>\n",
       "      <th>...</th>\n",
       "      <td>...</td>\n",
       "      <td>...</td>\n",
       "      <td>...</td>\n",
       "      <td>...</td>\n",
       "      <td>...</td>\n",
       "      <td>...</td>\n",
       "      <td>...</td>\n",
       "      <td>...</td>\n",
       "      <td>...</td>\n",
       "      <td>...</td>\n",
       "      <td>...</td>\n",
       "      <td>...</td>\n",
       "      <td>...</td>\n",
       "      <td>...</td>\n",
       "      <td>...</td>\n",
       "      <td>...</td>\n",
       "      <td>...</td>\n",
       "      <td>...</td>\n",
       "      <td>...</td>\n",
       "      <td>...</td>\n",
       "      <td>...</td>\n",
       "    </tr>\n",
       "    <tr>\n",
       "      <th>250</th>\n",
       "      <td>2.0</td>\n",
       "      <td>1.0</td>\n",
       "      <td>2.0</td>\n",
       "      <td>0.000000</td>\n",
       "      <td>0.0</td>\n",
       "      <td>0.0</td>\n",
       "      <td>0.0</td>\n",
       "      <td>0.0</td>\n",
       "      <td>0.00</td>\n",
       "      <td>4.0</td>\n",
       "      <td>...</td>\n",
       "      <td>17.385378</td>\n",
       "      <td>34.792004</td>\n",
       "      <td>173.40240</td>\n",
       "      <td>1.955556</td>\n",
       "      <td>1.955556</td>\n",
       "      <td>0.0</td>\n",
       "      <td>17.385378</td>\n",
       "      <td>34.792004</td>\n",
       "      <td>173.40240</td>\n",
       "      <td>0</td>\n",
       "    </tr>\n",
       "    <tr>\n",
       "      <th>251</th>\n",
       "      <td>10.0</td>\n",
       "      <td>1.0</td>\n",
       "      <td>10.5</td>\n",
       "      <td>1.060660</td>\n",
       "      <td>0.0</td>\n",
       "      <td>0.0</td>\n",
       "      <td>0.0</td>\n",
       "      <td>0.0</td>\n",
       "      <td>6698.14</td>\n",
       "      <td>4.0</td>\n",
       "      <td>...</td>\n",
       "      <td>17.385378</td>\n",
       "      <td>34.792004</td>\n",
       "      <td>173.40240</td>\n",
       "      <td>1.955556</td>\n",
       "      <td>1.955556</td>\n",
       "      <td>0.0</td>\n",
       "      <td>17.385378</td>\n",
       "      <td>34.792004</td>\n",
       "      <td>173.40240</td>\n",
       "      <td>0</td>\n",
       "    </tr>\n",
       "    <tr>\n",
       "      <th>252</th>\n",
       "      <td>1.0</td>\n",
       "      <td>1.0</td>\n",
       "      <td>1.0</td>\n",
       "      <td>0.000000</td>\n",
       "      <td>0.0</td>\n",
       "      <td>0.0</td>\n",
       "      <td>0.0</td>\n",
       "      <td>0.0</td>\n",
       "      <td>0.00</td>\n",
       "      <td>4.0</td>\n",
       "      <td>...</td>\n",
       "      <td>17.385378</td>\n",
       "      <td>34.792004</td>\n",
       "      <td>173.40240</td>\n",
       "      <td>1.955556</td>\n",
       "      <td>1.955556</td>\n",
       "      <td>0.0</td>\n",
       "      <td>17.385378</td>\n",
       "      <td>34.792004</td>\n",
       "      <td>173.40240</td>\n",
       "      <td>0</td>\n",
       "    </tr>\n",
       "    <tr>\n",
       "      <th>253</th>\n",
       "      <td>0.0</td>\n",
       "      <td>1.0</td>\n",
       "      <td>0.0</td>\n",
       "      <td>0.000000</td>\n",
       "      <td>0.0</td>\n",
       "      <td>0.0</td>\n",
       "      <td>0.0</td>\n",
       "      <td>0.0</td>\n",
       "      <td>9.42</td>\n",
       "      <td>4.0</td>\n",
       "      <td>...</td>\n",
       "      <td>17.385378</td>\n",
       "      <td>34.792004</td>\n",
       "      <td>173.40240</td>\n",
       "      <td>1.955556</td>\n",
       "      <td>1.955556</td>\n",
       "      <td>0.0</td>\n",
       "      <td>17.385378</td>\n",
       "      <td>34.792004</td>\n",
       "      <td>173.40240</td>\n",
       "      <td>0</td>\n",
       "    </tr>\n",
       "    <tr>\n",
       "      <th>254</th>\n",
       "      <td>5.0</td>\n",
       "      <td>1.0</td>\n",
       "      <td>5.0</td>\n",
       "      <td>0.000000</td>\n",
       "      <td>0.0</td>\n",
       "      <td>0.0</td>\n",
       "      <td>0.0</td>\n",
       "      <td>0.0</td>\n",
       "      <td>0.00</td>\n",
       "      <td>4.0</td>\n",
       "      <td>...</td>\n",
       "      <td>17.385378</td>\n",
       "      <td>34.792004</td>\n",
       "      <td>173.40240</td>\n",
       "      <td>1.955556</td>\n",
       "      <td>1.955556</td>\n",
       "      <td>0.0</td>\n",
       "      <td>17.385378</td>\n",
       "      <td>34.792004</td>\n",
       "      <td>173.40240</td>\n",
       "      <td>0</td>\n",
       "    </tr>\n",
       "  </tbody>\n",
       "</table>\n",
       "<p>255 rows × 26 columns</p>\n",
       "</div>"
      ],
      "text/plain": [
       "     Days  Inverted  PerfMean   PerfStd  EntryLoad  ExitLoad  EntryDemand  \\\n",
       "0    15.0       0.0      24.0  7.348469        0.0       0.0          0.0   \n",
       "1     0.0       0.0       0.0  0.000000        0.0       0.0          0.0   \n",
       "2     5.0       0.0       5.0  0.000000        0.0       0.0          0.0   \n",
       "3     0.0       0.0       0.0  0.000000        0.0       0.0          0.0   \n",
       "4     1.0       0.0       1.0  0.000000        0.0       0.0          0.0   \n",
       "..    ...       ...       ...       ...        ...       ...          ...   \n",
       "250   2.0       1.0       2.0  0.000000        0.0       0.0          0.0   \n",
       "251  10.0       1.0      10.5  1.060660        0.0       0.0          0.0   \n",
       "252   1.0       1.0       1.0  0.000000        0.0       0.0          0.0   \n",
       "253   0.0       1.0       0.0  0.000000        0.0       0.0          0.0   \n",
       "254   5.0       1.0       5.0  0.000000        0.0       0.0          0.0   \n",
       "\n",
       "     ExitDemand  Distance  ContainerQuantity  ...  Entry_wind_speed_10m_max  \\\n",
       "0           0.0      0.00                2.0  ...                 26.980793   \n",
       "1           0.0      9.70                2.0  ...                 21.897945   \n",
       "2           0.0      0.00                2.0  ...                 21.897945   \n",
       "3           0.0      9.42                2.0  ...                 19.174856   \n",
       "4           0.0      0.00                2.0  ...                 19.174856   \n",
       "..          ...       ...                ...  ...                       ...   \n",
       "250         0.0      0.00                4.0  ...                 17.385378   \n",
       "251         0.0   6698.14                4.0  ...                 17.385378   \n",
       "252         0.0      0.00                4.0  ...                 17.385378   \n",
       "253         0.0      9.42                4.0  ...                 17.385378   \n",
       "254         0.0      0.00                4.0  ...                 17.385378   \n",
       "\n",
       "     Entry_wind_gusts_10m_max  Entry_wind_direction_10m_dominant  \\\n",
       "0                   63.000000                          247.30750   \n",
       "1                   42.120000                          343.37125   \n",
       "2                   42.120000                          343.37125   \n",
       "3                   36.360000                          242.80690   \n",
       "4                   36.360000                          242.80690   \n",
       "..                        ...                                ...   \n",
       "250                 34.792004                          173.40240   \n",
       "251                 34.792004                          173.40240   \n",
       "252                 34.792004                          173.40240   \n",
       "253                 34.792004                          173.40240   \n",
       "254                 34.792004                          173.40240   \n",
       "\n",
       "     Exit_precipitation_sum  Exit_rain_sum  Exit_snowfall_sum  \\\n",
       "0                  0.000000       0.000000                0.0   \n",
       "1                  0.000000       0.000000                0.0   \n",
       "2                  3.700000       3.700000                0.0   \n",
       "3                  3.700000       3.700000                0.0   \n",
       "4                 17.600000      17.600000                0.0   \n",
       "..                      ...            ...                ...   \n",
       "250                1.955556       1.955556                0.0   \n",
       "251                1.955556       1.955556                0.0   \n",
       "252                1.955556       1.955556                0.0   \n",
       "253                1.955556       1.955556                0.0   \n",
       "254                1.955556       1.955556                0.0   \n",
       "\n",
       "     Exit_wind_speed_10m_max  Exit_wind_gusts_10m_max  \\\n",
       "0                  21.897945                42.120000   \n",
       "1                  21.897945                42.120000   \n",
       "2                  19.174856                36.360000   \n",
       "3                  19.174856                36.360000   \n",
       "4                  21.096123                39.960000   \n",
       "..                       ...                      ...   \n",
       "250                17.385378                34.792004   \n",
       "251                17.385378                34.792004   \n",
       "252                17.385378                34.792004   \n",
       "253                17.385378                34.792004   \n",
       "254                17.385378                34.792004   \n",
       "\n",
       "     Exit_wind_direction_10m_dominant  Season  \n",
       "0                           343.37125       3  \n",
       "1                           343.37125       3  \n",
       "2                           242.80690       3  \n",
       "3                           242.80690       3  \n",
       "4                           251.11560       3  \n",
       "..                                ...     ...  \n",
       "250                         173.40240       0  \n",
       "251                         173.40240       0  \n",
       "252                         173.40240       0  \n",
       "253                         173.40240       0  \n",
       "254                         173.40240       0  \n",
       "\n",
       "[255 rows x 26 columns]"
      ]
     },
     "execution_count": 104,
     "metadata": {},
     "output_type": "execute_result"
    }
   ],
   "source": [
    "datas = datas.drop(columns=['Exit','Entry'])\n",
    "datas"
   ]
  },
  {
   "cell_type": "code",
   "execution_count": 105,
   "id": "7731a557-3a07-4ae4-aac6-e4f763d1dd14",
   "metadata": {},
   "outputs": [
    {
     "data": {
      "text/plain": [
       "(Days                                 float64\n",
       " Inverted                             float64\n",
       " PerfMean                             float64\n",
       " PerfStd                              float64\n",
       " EntryLoad                            float64\n",
       " ExitLoad                             float64\n",
       " EntryDemand                          float64\n",
       " ExitDemand                           float64\n",
       " Distance                             float64\n",
       " ContainerQuantity                    float64\n",
       " Stage                                  int64\n",
       " Entry_Working_Day                      int64\n",
       " Exit_Working_Day                       int64\n",
       " Entry_precipitation_sum              float64\n",
       " Entry_rain_sum                       float64\n",
       " Entry_snowfall_sum                   float64\n",
       " Entry_wind_speed_10m_max             float64\n",
       " Entry_wind_gusts_10m_max             float64\n",
       " Entry_wind_direction_10m_dominant    float64\n",
       " Exit_precipitation_sum               float64\n",
       " Exit_rain_sum                        float64\n",
       " Exit_snowfall_sum                    float64\n",
       " Exit_wind_speed_10m_max              float64\n",
       " Exit_wind_gusts_10m_max              float64\n",
       " Exit_wind_direction_10m_dominant     float64\n",
       " Season                                 int64\n",
       " dtype: object,\n",
       " 255)"
      ]
     },
     "execution_count": 105,
     "metadata": {},
     "output_type": "execute_result"
    }
   ],
   "source": [
    "datas.dtypes, len(datas)"
   ]
  },
  {
   "cell_type": "code",
   "execution_count": 123,
   "id": "9539e5c9-b0d9-412c-89ff-15a056079d49",
   "metadata": {},
   "outputs": [
    {
     "ename": "KeyError",
     "evalue": "'augmented_Exit_snowfall_sum'",
     "output_type": "error",
     "traceback": [
      "\u001b[1;31m---------------------------------------------------------------------------\u001b[0m",
      "\u001b[1;31mKeyError\u001b[0m                                  Traceback (most recent call last)",
      "File \u001b[1;32mC:\\ProgramData\\anaconda3\\envs\\py39\\lib\\site-packages\\pandas\\core\\indexes\\base.py:3805\u001b[0m, in \u001b[0;36mIndex.get_loc\u001b[1;34m(self, key)\u001b[0m\n\u001b[0;32m   3804\u001b[0m \u001b[38;5;28;01mtry\u001b[39;00m:\n\u001b[1;32m-> 3805\u001b[0m     \u001b[38;5;28;01mreturn\u001b[39;00m \u001b[38;5;28;43mself\u001b[39;49m\u001b[38;5;241;43m.\u001b[39;49m\u001b[43m_engine\u001b[49m\u001b[38;5;241;43m.\u001b[39;49m\u001b[43mget_loc\u001b[49m\u001b[43m(\u001b[49m\u001b[43mcasted_key\u001b[49m\u001b[43m)\u001b[49m\n\u001b[0;32m   3806\u001b[0m \u001b[38;5;28;01mexcept\u001b[39;00m \u001b[38;5;167;01mKeyError\u001b[39;00m \u001b[38;5;28;01mas\u001b[39;00m err:\n",
      "File \u001b[1;32mindex.pyx:167\u001b[0m, in \u001b[0;36mpandas._libs.index.IndexEngine.get_loc\u001b[1;34m()\u001b[0m\n",
      "File \u001b[1;32mindex.pyx:196\u001b[0m, in \u001b[0;36mpandas._libs.index.IndexEngine.get_loc\u001b[1;34m()\u001b[0m\n",
      "File \u001b[1;32mpandas\\\\_libs\\\\hashtable_class_helper.pxi:7081\u001b[0m, in \u001b[0;36mpandas._libs.hashtable.PyObjectHashTable.get_item\u001b[1;34m()\u001b[0m\n",
      "File \u001b[1;32mpandas\\\\_libs\\\\hashtable_class_helper.pxi:7089\u001b[0m, in \u001b[0;36mpandas._libs.hashtable.PyObjectHashTable.get_item\u001b[1;34m()\u001b[0m\n",
      "\u001b[1;31mKeyError\u001b[0m: 'augmented_Exit_snowfall_sum'",
      "\nThe above exception was the direct cause of the following exception:\n",
      "\u001b[1;31mKeyError\u001b[0m                                  Traceback (most recent call last)",
      "Cell \u001b[1;32mIn[123], line 109\u001b[0m\n\u001b[0;32m    106\u001b[0m augmentation_factor \u001b[38;5;241m=\u001b[39m \u001b[38;5;241m2\u001b[39m \u001b[38;5;66;03m# int\u001b[39;00m\n\u001b[0;32m    108\u001b[0m \u001b[38;5;66;03m# Perform data augmentation\u001b[39;00m\n\u001b[1;32m--> 109\u001b[0m augmented_df \u001b[38;5;241m=\u001b[39m \u001b[43maugment_data\u001b[49m\u001b[43m(\u001b[49m\u001b[43mdatas\u001b[49m\u001b[43m,\u001b[49m\u001b[43m \u001b[49m\u001b[43maugmentation_factor\u001b[49m\u001b[43m)\u001b[49m\n\u001b[0;32m    111\u001b[0m \u001b[38;5;28mprint\u001b[39m(\u001b[38;5;28mlen\u001b[39m(augmented_df))\n\u001b[0;32m    112\u001b[0m augmented_df[:\u001b[38;5;241m20\u001b[39m]\n",
      "Cell \u001b[1;32mIn[123], line 51\u001b[0m, in \u001b[0;36maugment_data\u001b[1;34m(df, augmentation_factor)\u001b[0m\n\u001b[0;32m     49\u001b[0m augmented_Entry_snowfall_sum \u001b[38;5;241m=\u001b[39m df[\u001b[38;5;124m'\u001b[39m\u001b[38;5;124mEntry_snowfall_sum\u001b[39m\u001b[38;5;124m'\u001b[39m]\u001b[38;5;241m.\u001b[39mapply(weather_snow_distribution_percentage)\n\u001b[0;32m     50\u001b[0m augmented_Exit_snowfall_sum \u001b[38;5;241m=\u001b[39m df[\u001b[38;5;124m'\u001b[39m\u001b[38;5;124mExit_snowfall_sum\u001b[39m\u001b[38;5;124m'\u001b[39m]\u001b[38;5;241m.\u001b[39mapply(weather_snow_distribution_percentage)\n\u001b[1;32m---> 51\u001b[0m mask \u001b[38;5;241m=\u001b[39m (\u001b[38;5;241m~\u001b[39m\u001b[43mdf\u001b[49m\u001b[43m[\u001b[49m\u001b[38;5;124;43m'\u001b[39;49m\u001b[38;5;124;43maugmented_Exit_snowfall_sum\u001b[39;49m\u001b[38;5;124;43m'\u001b[39;49m\u001b[43m]\u001b[49m\u001b[38;5;241m.\u001b[39misnull()) \u001b[38;5;241m&\u001b[39m (df[\u001b[38;5;124m'\u001b[39m\u001b[38;5;124mseason\u001b[39m\u001b[38;5;124m'\u001b[39m] \u001b[38;5;241m!=\u001b[39m \u001b[38;5;241m3\u001b[39m)\n\u001b[0;32m     52\u001b[0m \u001b[38;5;66;03m# Set values to 0\u001b[39;00m\n\u001b[0;32m     53\u001b[0m augmented_df\u001b[38;5;241m.\u001b[39mloc[mask, \u001b[38;5;124m'\u001b[39m\u001b[38;5;124maugmented_Exit_snowfall_sum\u001b[39m\u001b[38;5;124m'\u001b[39m] \u001b[38;5;241m=\u001b[39m \u001b[38;5;241m0\u001b[39m\n",
      "File \u001b[1;32mC:\\ProgramData\\anaconda3\\envs\\py39\\lib\\site-packages\\pandas\\core\\frame.py:4090\u001b[0m, in \u001b[0;36mDataFrame.__getitem__\u001b[1;34m(self, key)\u001b[0m\n\u001b[0;32m   4088\u001b[0m \u001b[38;5;28;01mif\u001b[39;00m \u001b[38;5;28mself\u001b[39m\u001b[38;5;241m.\u001b[39mcolumns\u001b[38;5;241m.\u001b[39mnlevels \u001b[38;5;241m>\u001b[39m \u001b[38;5;241m1\u001b[39m:\n\u001b[0;32m   4089\u001b[0m     \u001b[38;5;28;01mreturn\u001b[39;00m \u001b[38;5;28mself\u001b[39m\u001b[38;5;241m.\u001b[39m_getitem_multilevel(key)\n\u001b[1;32m-> 4090\u001b[0m indexer \u001b[38;5;241m=\u001b[39m \u001b[38;5;28;43mself\u001b[39;49m\u001b[38;5;241;43m.\u001b[39;49m\u001b[43mcolumns\u001b[49m\u001b[38;5;241;43m.\u001b[39;49m\u001b[43mget_loc\u001b[49m\u001b[43m(\u001b[49m\u001b[43mkey\u001b[49m\u001b[43m)\u001b[49m\n\u001b[0;32m   4091\u001b[0m \u001b[38;5;28;01mif\u001b[39;00m is_integer(indexer):\n\u001b[0;32m   4092\u001b[0m     indexer \u001b[38;5;241m=\u001b[39m [indexer]\n",
      "File \u001b[1;32mC:\\ProgramData\\anaconda3\\envs\\py39\\lib\\site-packages\\pandas\\core\\indexes\\base.py:3812\u001b[0m, in \u001b[0;36mIndex.get_loc\u001b[1;34m(self, key)\u001b[0m\n\u001b[0;32m   3807\u001b[0m     \u001b[38;5;28;01mif\u001b[39;00m \u001b[38;5;28misinstance\u001b[39m(casted_key, \u001b[38;5;28mslice\u001b[39m) \u001b[38;5;129;01mor\u001b[39;00m (\n\u001b[0;32m   3808\u001b[0m         \u001b[38;5;28misinstance\u001b[39m(casted_key, abc\u001b[38;5;241m.\u001b[39mIterable)\n\u001b[0;32m   3809\u001b[0m         \u001b[38;5;129;01mand\u001b[39;00m \u001b[38;5;28many\u001b[39m(\u001b[38;5;28misinstance\u001b[39m(x, \u001b[38;5;28mslice\u001b[39m) \u001b[38;5;28;01mfor\u001b[39;00m x \u001b[38;5;129;01min\u001b[39;00m casted_key)\n\u001b[0;32m   3810\u001b[0m     ):\n\u001b[0;32m   3811\u001b[0m         \u001b[38;5;28;01mraise\u001b[39;00m InvalidIndexError(key)\n\u001b[1;32m-> 3812\u001b[0m     \u001b[38;5;28;01mraise\u001b[39;00m \u001b[38;5;167;01mKeyError\u001b[39;00m(key) \u001b[38;5;28;01mfrom\u001b[39;00m \u001b[38;5;21;01merr\u001b[39;00m\n\u001b[0;32m   3813\u001b[0m \u001b[38;5;28;01mexcept\u001b[39;00m \u001b[38;5;167;01mTypeError\u001b[39;00m:\n\u001b[0;32m   3814\u001b[0m     \u001b[38;5;66;03m# If we have a listlike key, _check_indexing_error will raise\u001b[39;00m\n\u001b[0;32m   3815\u001b[0m     \u001b[38;5;66;03m#  InvalidIndexError. Otherwise we fall through and re-raise\u001b[39;00m\n\u001b[0;32m   3816\u001b[0m     \u001b[38;5;66;03m#  the TypeError.\u001b[39;00m\n\u001b[0;32m   3817\u001b[0m     \u001b[38;5;28mself\u001b[39m\u001b[38;5;241m.\u001b[39m_check_indexing_error(key)\n",
      "\u001b[1;31mKeyError\u001b[0m: 'augmented_Exit_snowfall_sum'"
     ]
    }
   ],
   "source": [
    "# Function to perform data augmentation\n",
    "def distribution_percentage(x):\n",
    "    if x == 0:\n",
    "        return x\n",
    "    else:\n",
    "        # Add a random value from a specified distribution\n",
    "        return x*(1+abs(np.random.normal(0, 0.1)))\n",
    "\n",
    "def weather_rain_distribution_percentage(x):\n",
    "    r = random.random()\n",
    "    if x == 0 and r<0.90:\n",
    "        return x\n",
    "    elif x == 0 and r>0.90:\n",
    "        return np.random.normal(3.5, 7)\n",
    "    else:\n",
    "        # Add a random value from a specified distribution\n",
    "        return x*(1+abs(np.random.normal(0, 0.1)))\n",
    "\n",
    "\n",
    "def weather_snow_distribution_percentage(x):\n",
    "    r = random.random()\n",
    "    if r<0.95:\n",
    "        return x\n",
    "    elif r>0.95:\n",
    "        return np.random.normal(0.01, 0.005)\n",
    "\n",
    "\n",
    "def augment_data(df, augmentation_factor=1):\n",
    "    augmented_data = []\n",
    "    for _ in range(int(augmentation_factor-1)):\n",
    "        # Apply transformation (for example, adding random noise)\n",
    "        augmented_Days = df['Days'] + abs(np.random.normal(0, 0.1, len(df))) + abs(np.random.poisson(lam=0.075, size=len(df))*np.random.normal(0, np.sqrt(5), size=len(df)))\n",
    "        # print(abs(np.random.poisson(lam=0.075, size=len(df))*np.random.normal(0, 10, size=len(df))))\n",
    "        augmented_Inverted = df['Inverted']\n",
    "        augmented_PerfMean = df['PerfMean'].apply(distribution_percentage)\n",
    "        augmented_PerfStd = df['PerfStd'].apply(distribution_percentage) #Im supposed to compute them but no time\n",
    "        augmented_EntryLoad = df['EntryLoad']\n",
    "        augmented_ExitLoad = df['ExitLoad']\n",
    "        augmented_EntryDemand = df['EntryDemand']\n",
    "        augmented_ExitDemand = df['ExitDemand']\n",
    "        augmented_Distance = df['Distance'].apply(distribution_percentage)\n",
    "        augmented_ContainerQuantity =df['ContainerQuantity']\n",
    "        augmented_Stage = df['Stage']\n",
    "        augmented_Season = df['Season']\n",
    "        augmented_Entry_Working_Day = df['Entry_Working_Day']\n",
    "        augmented_Exit_Working_Day = df['Exit_Working_Day']\n",
    "        augmented_Entry_rain_sum = df['Entry_rain_sum'].apply(weather_rain_distribution_percentage)\n",
    "        augmented_Exit_rain_sum = df['Exit_rain_sum'].apply(weather_rain_distribution_percentage)\n",
    "        augmented_Entry_snowfall_sum = df['Entry_snowfall_sum'].apply(weather_snow_distribution_percentage)\n",
    "        augmented_Exit_snowfall_sum = df['Exit_snowfall_sum'].apply(weather_snow_distribution_percentage)\n",
    "        mask = (~df['augmented_Exit_snowfall_sum'].isnull()) & (df['season'] != 3)\n",
    "        # Set values to 0\n",
    "        augmented_df.loc[mask, 'augmented_Exit_snowfall_sum'] = 0\n",
    "        mask = (~df['augmented_Entry_snowfall_sum'].isnull()) & (df['season'] != 3)\n",
    "        # Set values to 0\n",
    "        augmented_df.loc[mask, 'augmented_Entry_snowfall_sum'] = 0\n",
    "        augmented_Entry_precipitation_sum = augmented_Entry_rain_sum + augmented_Entry_snowfall_sum\n",
    "        augmented_Exit_precipitation_sum = augmented_Exit_rain_sum + augmented_Exit_snowfall_sum\n",
    "        augmented_Entry_wind_speed_10m_max = df['Entry_wind_speed_10m_max'] + np.random.normal(0, 0.6, len(df))\n",
    "        augmented_Entry_wind_gusts_10m_max = df['Entry_wind_gusts_10m_max'] + np.random.normal(0, 1.2, len(df))\n",
    "        augmented_Entry_wind_direction_10m_dominant = df['Entry_wind_direction_10m_dominant'] + np.random.normal(0, 10, len(df))\n",
    "        augmented_Exit_wind_speed_10m_max = df['Exit_wind_speed_10m_max'] + np.random.normal(0, 0.6, len(df))\n",
    "        augmented_Exit_wind_gusts_10m_max = df['Exit_wind_gusts_10m_max'] + np.random.normal(0, 1.2, len(df))\n",
    "        augmented_Exit_wind_direction_10m_dominant = df['Exit_wind_direction_10m_dominant'] + np.random.normal(0, 10, len(df))\n",
    "        \n",
    "        # print(augmented_Days)\n",
    "        \n",
    "        # Create a new DataFrame with augmented data\n",
    "        augmented_df = pd.DataFrame({\n",
    "            'Days': augmented_Days,\n",
    "            'Season' : augmented_Season,\n",
    "            'Inverted': augmented_Inverted,\n",
    "            'PerfMean': augmented_PerfMean,\n",
    "            'PerfStd': augmented_PerfStd,\n",
    "            'Distance': augmented_Distance,\n",
    "            'EntryLoad': augmented_EntryLoad,\n",
    "            'ExitLoad': augmented_ExitLoad,\n",
    "            'EntryDemand': augmented_EntryDemand,\n",
    "            'ExitDemand': augmented_ExitDemand,\n",
    "            'ContainerQuantity': augmented_ContainerQuantity,\n",
    "            'Stage': augmented_Stage,\n",
    "            'Entry_Working_Day': augmented_Entry_Working_Day,\n",
    "            'Exit_Working_Day': augmented_Exit_Working_Day,\n",
    "            'Entry_precipitation_sum': augmented_Entry_precipitation_sum,\n",
    "            'Exit_precipitation_sum': augmented_Exit_precipitation_sum,\n",
    "            'Entry_snowfall_sum': augmented_Entry_snowfall_sum,\n",
    "            'Exit_snowfall_sum': augmented_Exit_snowfall_sum,\n",
    "            'Entry_rain_sum': augmented_Entry_rain_sum,\n",
    "            'Exit_rain_sum': augmented_Exit_rain_sum,\n",
    "            'Entry_wind_speed_10m_max': augmented_Entry_wind_speed_10m_max,\n",
    "            'Entry_wind_gusts_10m_max': augmented_Entry_wind_gusts_10m_max,\n",
    "            'Entry_wind_direction_10m_dominant': augmented_Entry_wind_direction_10m_dominant,\n",
    "            'Exit_wind_speed_10m_max': augmented_Exit_wind_speed_10m_max,\n",
    "            'Exit_wind_gusts_10m_max': augmented_Exit_wind_gusts_10m_max,\n",
    "            'Exit_wind_direction_10m_dominant': augmented_Exit_wind_direction_10m_dominant\n",
    "        })\n",
    "        \n",
    "        augmented_data.append(augmented_df)\n",
    "    \n",
    "    \n",
    "    # Concatenate the original DataFrame with the augmented data\n",
    "    augmented_df = pd.concat([df] + augmented_data, ignore_index=True)\n",
    "    return augmented_df\n",
    "\n",
    "# Number of times to augment the data\n",
    "augmentation_factor = 2 # int\n",
    "\n",
    "# Perform data augmentation\n",
    "augmented_df = augment_data(datas, augmentation_factor)\n",
    "\n",
    "print(len(augmented_df))\n",
    "augmented_df[:20]\n"
   ]
  },
  {
   "cell_type": "code",
   "execution_count": 117,
   "id": "332e8ffb-2a97-41ed-91d4-a3bc98b815f3",
   "metadata": {},
   "outputs": [
    {
     "data": {
      "text/html": [
       "<div>\n",
       "<style scoped>\n",
       "    .dataframe tbody tr th:only-of-type {\n",
       "        vertical-align: middle;\n",
       "    }\n",
       "\n",
       "    .dataframe tbody tr th {\n",
       "        vertical-align: top;\n",
       "    }\n",
       "\n",
       "    .dataframe thead th {\n",
       "        text-align: right;\n",
       "    }\n",
       "</style>\n",
       "<table border=\"1\" class=\"dataframe\">\n",
       "  <thead>\n",
       "    <tr style=\"text-align: right;\">\n",
       "      <th></th>\n",
       "      <th>Days</th>\n",
       "      <th>Inverted</th>\n",
       "      <th>PerfMean</th>\n",
       "      <th>PerfStd</th>\n",
       "      <th>EntryLoad</th>\n",
       "      <th>ExitLoad</th>\n",
       "      <th>EntryDemand</th>\n",
       "      <th>ExitDemand</th>\n",
       "      <th>Distance</th>\n",
       "      <th>ContainerQuantity</th>\n",
       "      <th>...</th>\n",
       "      <th>Entry_wind_speed_10m_max</th>\n",
       "      <th>Entry_wind_gusts_10m_max</th>\n",
       "      <th>Entry_wind_direction_10m_dominant</th>\n",
       "      <th>Exit_precipitation_sum</th>\n",
       "      <th>Exit_rain_sum</th>\n",
       "      <th>Exit_snowfall_sum</th>\n",
       "      <th>Exit_wind_speed_10m_max</th>\n",
       "      <th>Exit_wind_gusts_10m_max</th>\n",
       "      <th>Exit_wind_direction_10m_dominant</th>\n",
       "      <th>Season</th>\n",
       "    </tr>\n",
       "  </thead>\n",
       "  <tbody>\n",
       "    <tr>\n",
       "      <th>255</th>\n",
       "      <td>15.063999</td>\n",
       "      <td>0.0</td>\n",
       "      <td>26.020084</td>\n",
       "      <td>7.595421</td>\n",
       "      <td>0.0</td>\n",
       "      <td>0.0</td>\n",
       "      <td>0.0</td>\n",
       "      <td>0.0</td>\n",
       "      <td>0.000000</td>\n",
       "      <td>2.0</td>\n",
       "      <td>...</td>\n",
       "      <td>26.468628</td>\n",
       "      <td>62.574418</td>\n",
       "      <td>240.872996</td>\n",
       "      <td>0.000000</td>\n",
       "      <td>0.000000</td>\n",
       "      <td>0.0</td>\n",
       "      <td>22.865623</td>\n",
       "      <td>43.198333</td>\n",
       "      <td>345.982379</td>\n",
       "      <td>3</td>\n",
       "    </tr>\n",
       "    <tr>\n",
       "      <th>256</th>\n",
       "      <td>0.119897</td>\n",
       "      <td>0.0</td>\n",
       "      <td>0.000000</td>\n",
       "      <td>0.000000</td>\n",
       "      <td>0.0</td>\n",
       "      <td>0.0</td>\n",
       "      <td>0.0</td>\n",
       "      <td>0.0</td>\n",
       "      <td>10.502859</td>\n",
       "      <td>2.0</td>\n",
       "      <td>...</td>\n",
       "      <td>22.287378</td>\n",
       "      <td>41.964104</td>\n",
       "      <td>356.246092</td>\n",
       "      <td>0.000000</td>\n",
       "      <td>0.000000</td>\n",
       "      <td>0.0</td>\n",
       "      <td>21.276202</td>\n",
       "      <td>42.585210</td>\n",
       "      <td>347.594552</td>\n",
       "      <td>3</td>\n",
       "    </tr>\n",
       "    <tr>\n",
       "      <th>257</th>\n",
       "      <td>5.026573</td>\n",
       "      <td>0.0</td>\n",
       "      <td>6.005367</td>\n",
       "      <td>0.000000</td>\n",
       "      <td>0.0</td>\n",
       "      <td>0.0</td>\n",
       "      <td>0.0</td>\n",
       "      <td>0.0</td>\n",
       "      <td>0.000000</td>\n",
       "      <td>2.0</td>\n",
       "      <td>...</td>\n",
       "      <td>21.632855</td>\n",
       "      <td>40.275387</td>\n",
       "      <td>363.167602</td>\n",
       "      <td>4.047080</td>\n",
       "      <td>4.047080</td>\n",
       "      <td>0.0</td>\n",
       "      <td>19.326725</td>\n",
       "      <td>38.035010</td>\n",
       "      <td>236.058670</td>\n",
       "      <td>3</td>\n",
       "    </tr>\n",
       "    <tr>\n",
       "      <th>258</th>\n",
       "      <td>0.056402</td>\n",
       "      <td>0.0</td>\n",
       "      <td>0.000000</td>\n",
       "      <td>0.000000</td>\n",
       "      <td>0.0</td>\n",
       "      <td>0.0</td>\n",
       "      <td>0.0</td>\n",
       "      <td>0.0</td>\n",
       "      <td>11.149445</td>\n",
       "      <td>2.0</td>\n",
       "      <td>...</td>\n",
       "      <td>18.920876</td>\n",
       "      <td>36.101547</td>\n",
       "      <td>232.547684</td>\n",
       "      <td>3.732820</td>\n",
       "      <td>3.732820</td>\n",
       "      <td>0.0</td>\n",
       "      <td>19.686601</td>\n",
       "      <td>36.745390</td>\n",
       "      <td>242.583046</td>\n",
       "      <td>3</td>\n",
       "    </tr>\n",
       "    <tr>\n",
       "      <th>259</th>\n",
       "      <td>1.150530</td>\n",
       "      <td>0.0</td>\n",
       "      <td>1.141541</td>\n",
       "      <td>0.000000</td>\n",
       "      <td>0.0</td>\n",
       "      <td>0.0</td>\n",
       "      <td>0.0</td>\n",
       "      <td>0.0</td>\n",
       "      <td>0.000000</td>\n",
       "      <td>2.0</td>\n",
       "      <td>...</td>\n",
       "      <td>19.054492</td>\n",
       "      <td>35.868687</td>\n",
       "      <td>231.251005</td>\n",
       "      <td>18.441452</td>\n",
       "      <td>18.441452</td>\n",
       "      <td>0.0</td>\n",
       "      <td>21.378363</td>\n",
       "      <td>37.745063</td>\n",
       "      <td>252.670218</td>\n",
       "      <td>3</td>\n",
       "    </tr>\n",
       "    <tr>\n",
       "      <th>260</th>\n",
       "      <td>11.076108</td>\n",
       "      <td>0.0</td>\n",
       "      <td>10.628137</td>\n",
       "      <td>0.614894</td>\n",
       "      <td>0.0</td>\n",
       "      <td>2.0</td>\n",
       "      <td>0.0</td>\n",
       "      <td>2.0</td>\n",
       "      <td>6952.289520</td>\n",
       "      <td>2.0</td>\n",
       "      <td>...</td>\n",
       "      <td>20.773622</td>\n",
       "      <td>40.693101</td>\n",
       "      <td>246.334014</td>\n",
       "      <td>0.000000</td>\n",
       "      <td>0.000000</td>\n",
       "      <td>0.0</td>\n",
       "      <td>11.560482</td>\n",
       "      <td>22.974457</td>\n",
       "      <td>327.084478</td>\n",
       "      <td>3</td>\n",
       "    </tr>\n",
       "    <tr>\n",
       "      <th>261</th>\n",
       "      <td>2.038829</td>\n",
       "      <td>0.0</td>\n",
       "      <td>2.020589</td>\n",
       "      <td>0.000000</td>\n",
       "      <td>2.0</td>\n",
       "      <td>2.0</td>\n",
       "      <td>2.0</td>\n",
       "      <td>2.0</td>\n",
       "      <td>0.000000</td>\n",
       "      <td>2.0</td>\n",
       "      <td>...</td>\n",
       "      <td>12.714552</td>\n",
       "      <td>25.882373</td>\n",
       "      <td>365.859218</td>\n",
       "      <td>2.308175</td>\n",
       "      <td>2.308175</td>\n",
       "      <td>0.0</td>\n",
       "      <td>15.883530</td>\n",
       "      <td>34.265422</td>\n",
       "      <td>283.303925</td>\n",
       "      <td>3</td>\n",
       "    </tr>\n",
       "    <tr>\n",
       "      <th>262</th>\n",
       "      <td>0.067109</td>\n",
       "      <td>0.0</td>\n",
       "      <td>0.000000</td>\n",
       "      <td>0.000000</td>\n",
       "      <td>2.0</td>\n",
       "      <td>2.0</td>\n",
       "      <td>2.0</td>\n",
       "      <td>2.0</td>\n",
       "      <td>15.801777</td>\n",
       "      <td>2.0</td>\n",
       "      <td>...</td>\n",
       "      <td>17.503267</td>\n",
       "      <td>34.750857</td>\n",
       "      <td>273.861712</td>\n",
       "      <td>2.194518</td>\n",
       "      <td>2.194518</td>\n",
       "      <td>0.0</td>\n",
       "      <td>16.249277</td>\n",
       "      <td>31.425957</td>\n",
       "      <td>287.500041</td>\n",
       "      <td>3</td>\n",
       "    </tr>\n",
       "    <tr>\n",
       "      <th>263</th>\n",
       "      <td>15.065888</td>\n",
       "      <td>0.0</td>\n",
       "      <td>16.913226</td>\n",
       "      <td>4.043317</td>\n",
       "      <td>2.0</td>\n",
       "      <td>2.0</td>\n",
       "      <td>2.0</td>\n",
       "      <td>2.0</td>\n",
       "      <td>0.000000</td>\n",
       "      <td>2.0</td>\n",
       "      <td>...</td>\n",
       "      <td>16.477320</td>\n",
       "      <td>34.280984</td>\n",
       "      <td>272.517354</td>\n",
       "      <td>0.626774</td>\n",
       "      <td>0.626774</td>\n",
       "      <td>0.0</td>\n",
       "      <td>18.140966</td>\n",
       "      <td>41.193254</td>\n",
       "      <td>257.853792</td>\n",
       "      <td>3</td>\n",
       "    </tr>\n",
       "    <tr>\n",
       "      <th>264</th>\n",
       "      <td>0.058241</td>\n",
       "      <td>1.0</td>\n",
       "      <td>0.000000</td>\n",
       "      <td>0.000000</td>\n",
       "      <td>2.0</td>\n",
       "      <td>2.0</td>\n",
       "      <td>2.0</td>\n",
       "      <td>2.0</td>\n",
       "      <td>16.733821</td>\n",
       "      <td>2.0</td>\n",
       "      <td>...</td>\n",
       "      <td>19.093117</td>\n",
       "      <td>36.338232</td>\n",
       "      <td>251.594052</td>\n",
       "      <td>0.604366</td>\n",
       "      <td>0.604366</td>\n",
       "      <td>0.0</td>\n",
       "      <td>17.915497</td>\n",
       "      <td>38.071407</td>\n",
       "      <td>261.681063</td>\n",
       "      <td>3</td>\n",
       "    </tr>\n",
       "    <tr>\n",
       "      <th>265</th>\n",
       "      <td>2.066366</td>\n",
       "      <td>1.0</td>\n",
       "      <td>2.511168</td>\n",
       "      <td>0.000000</td>\n",
       "      <td>2.0</td>\n",
       "      <td>2.0</td>\n",
       "      <td>2.0</td>\n",
       "      <td>2.0</td>\n",
       "      <td>0.000000</td>\n",
       "      <td>2.0</td>\n",
       "      <td>...</td>\n",
       "      <td>18.462006</td>\n",
       "      <td>40.528514</td>\n",
       "      <td>260.957357</td>\n",
       "      <td>13.832113</td>\n",
       "      <td>13.832113</td>\n",
       "      <td>0.0</td>\n",
       "      <td>33.875934</td>\n",
       "      <td>73.117914</td>\n",
       "      <td>250.111835</td>\n",
       "      <td>3</td>\n",
       "    </tr>\n",
       "    <tr>\n",
       "      <th>266</th>\n",
       "      <td>10.127566</td>\n",
       "      <td>1.0</td>\n",
       "      <td>10.739507</td>\n",
       "      <td>1.142495</td>\n",
       "      <td>2.0</td>\n",
       "      <td>0.0</td>\n",
       "      <td>2.0</td>\n",
       "      <td>0.0</td>\n",
       "      <td>7149.426192</td>\n",
       "      <td>2.0</td>\n",
       "      <td>...</td>\n",
       "      <td>33.950537</td>\n",
       "      <td>69.987907</td>\n",
       "      <td>251.307531</td>\n",
       "      <td>14.605367</td>\n",
       "      <td>14.605367</td>\n",
       "      <td>0.0</td>\n",
       "      <td>20.848264</td>\n",
       "      <td>45.277664</td>\n",
       "      <td>194.666132</td>\n",
       "      <td>3</td>\n",
       "    </tr>\n",
       "    <tr>\n",
       "      <th>267</th>\n",
       "      <td>1.115919</td>\n",
       "      <td>1.0</td>\n",
       "      <td>1.039035</td>\n",
       "      <td>0.000000</td>\n",
       "      <td>0.0</td>\n",
       "      <td>0.0</td>\n",
       "      <td>0.0</td>\n",
       "      <td>0.0</td>\n",
       "      <td>0.000000</td>\n",
       "      <td>2.0</td>\n",
       "      <td>...</td>\n",
       "      <td>19.510685</td>\n",
       "      <td>44.445605</td>\n",
       "      <td>183.274631</td>\n",
       "      <td>2.212951</td>\n",
       "      <td>2.212951</td>\n",
       "      <td>0.0</td>\n",
       "      <td>15.652700</td>\n",
       "      <td>35.833779</td>\n",
       "      <td>226.082573</td>\n",
       "      <td>3</td>\n",
       "    </tr>\n",
       "    <tr>\n",
       "      <th>268</th>\n",
       "      <td>0.101624</td>\n",
       "      <td>1.0</td>\n",
       "      <td>0.000000</td>\n",
       "      <td>0.000000</td>\n",
       "      <td>0.0</td>\n",
       "      <td>0.0</td>\n",
       "      <td>0.0</td>\n",
       "      <td>0.0</td>\n",
       "      <td>9.801943</td>\n",
       "      <td>1.0</td>\n",
       "      <td>...</td>\n",
       "      <td>15.574112</td>\n",
       "      <td>34.968413</td>\n",
       "      <td>239.882543</td>\n",
       "      <td>2.210235</td>\n",
       "      <td>2.210235</td>\n",
       "      <td>0.0</td>\n",
       "      <td>15.501815</td>\n",
       "      <td>35.005300</td>\n",
       "      <td>228.264090</td>\n",
       "      <td>3</td>\n",
       "    </tr>\n",
       "    <tr>\n",
       "      <th>269</th>\n",
       "      <td>5.007947</td>\n",
       "      <td>1.0</td>\n",
       "      <td>5.412197</td>\n",
       "      <td>0.000000</td>\n",
       "      <td>0.0</td>\n",
       "      <td>0.0</td>\n",
       "      <td>0.0</td>\n",
       "      <td>0.0</td>\n",
       "      <td>0.000000</td>\n",
       "      <td>1.0</td>\n",
       "      <td>...</td>\n",
       "      <td>16.560548</td>\n",
       "      <td>32.386890</td>\n",
       "      <td>230.125676</td>\n",
       "      <td>0.000000</td>\n",
       "      <td>0.000000</td>\n",
       "      <td>0.0</td>\n",
       "      <td>19.364317</td>\n",
       "      <td>35.213961</td>\n",
       "      <td>141.765398</td>\n",
       "      <td>3</td>\n",
       "    </tr>\n",
       "    <tr>\n",
       "      <th>270</th>\n",
       "      <td>158.084221</td>\n",
       "      <td>1.0</td>\n",
       "      <td>125.800637</td>\n",
       "      <td>107.939108</td>\n",
       "      <td>0.0</td>\n",
       "      <td>0.0</td>\n",
       "      <td>0.0</td>\n",
       "      <td>0.0</td>\n",
       "      <td>9.798641</td>\n",
       "      <td>1.0</td>\n",
       "      <td>...</td>\n",
       "      <td>19.479915</td>\n",
       "      <td>34.972275</td>\n",
       "      <td>143.389736</td>\n",
       "      <td>0.110021</td>\n",
       "      <td>0.110021</td>\n",
       "      <td>0.0</td>\n",
       "      <td>18.400589</td>\n",
       "      <td>39.031983</td>\n",
       "      <td>259.175357</td>\n",
       "      <td>3</td>\n",
       "    </tr>\n",
       "    <tr>\n",
       "      <th>271</th>\n",
       "      <td>30.096135</td>\n",
       "      <td>0.0</td>\n",
       "      <td>28.082829</td>\n",
       "      <td>8.027333</td>\n",
       "      <td>0.0</td>\n",
       "      <td>2.0</td>\n",
       "      <td>0.0</td>\n",
       "      <td>4.0</td>\n",
       "      <td>0.000000</td>\n",
       "      <td>2.0</td>\n",
       "      <td>...</td>\n",
       "      <td>19.022865</td>\n",
       "      <td>38.546855</td>\n",
       "      <td>272.495227</td>\n",
       "      <td>2.289982</td>\n",
       "      <td>2.289982</td>\n",
       "      <td>0.0</td>\n",
       "      <td>26.796868</td>\n",
       "      <td>51.188067</td>\n",
       "      <td>269.614189</td>\n",
       "      <td>1</td>\n",
       "    </tr>\n",
       "    <tr>\n",
       "      <th>272</th>\n",
       "      <td>0.075269</td>\n",
       "      <td>0.0</td>\n",
       "      <td>0.000000</td>\n",
       "      <td>0.000000</td>\n",
       "      <td>2.0</td>\n",
       "      <td>2.0</td>\n",
       "      <td>4.0</td>\n",
       "      <td>4.0</td>\n",
       "      <td>10.812767</td>\n",
       "      <td>4.0</td>\n",
       "      <td>...</td>\n",
       "      <td>25.995453</td>\n",
       "      <td>50.284231</td>\n",
       "      <td>258.098939</td>\n",
       "      <td>2.302366</td>\n",
       "      <td>2.302366</td>\n",
       "      <td>0.0</td>\n",
       "      <td>26.449398</td>\n",
       "      <td>52.836037</td>\n",
       "      <td>240.645216</td>\n",
       "      <td>1</td>\n",
       "    </tr>\n",
       "    <tr>\n",
       "      <th>273</th>\n",
       "      <td>5.007442</td>\n",
       "      <td>0.0</td>\n",
       "      <td>5.410878</td>\n",
       "      <td>0.000000</td>\n",
       "      <td>2.0</td>\n",
       "      <td>2.0</td>\n",
       "      <td>4.0</td>\n",
       "      <td>4.0</td>\n",
       "      <td>0.000000</td>\n",
       "      <td>4.0</td>\n",
       "      <td>...</td>\n",
       "      <td>27.508814</td>\n",
       "      <td>53.770461</td>\n",
       "      <td>261.021725</td>\n",
       "      <td>0.000000</td>\n",
       "      <td>0.000000</td>\n",
       "      <td>0.0</td>\n",
       "      <td>15.646405</td>\n",
       "      <td>41.181745</td>\n",
       "      <td>291.026200</td>\n",
       "      <td>1</td>\n",
       "    </tr>\n",
       "    <tr>\n",
       "      <th>274</th>\n",
       "      <td>0.046335</td>\n",
       "      <td>0.0</td>\n",
       "      <td>0.000000</td>\n",
       "      <td>0.000000</td>\n",
       "      <td>2.0</td>\n",
       "      <td>2.0</td>\n",
       "      <td>4.0</td>\n",
       "      <td>4.0</td>\n",
       "      <td>10.416182</td>\n",
       "      <td>4.0</td>\n",
       "      <td>...</td>\n",
       "      <td>15.558016</td>\n",
       "      <td>42.887384</td>\n",
       "      <td>276.343548</td>\n",
       "      <td>0.000000</td>\n",
       "      <td>0.000000</td>\n",
       "      <td>0.0</td>\n",
       "      <td>16.535712</td>\n",
       "      <td>41.292643</td>\n",
       "      <td>287.598857</td>\n",
       "      <td>1</td>\n",
       "    </tr>\n",
       "    <tr>\n",
       "      <th>275</th>\n",
       "      <td>1.032940</td>\n",
       "      <td>0.0</td>\n",
       "      <td>1.066719</td>\n",
       "      <td>0.000000</td>\n",
       "      <td>2.0</td>\n",
       "      <td>2.0</td>\n",
       "      <td>4.0</td>\n",
       "      <td>4.0</td>\n",
       "      <td>0.000000</td>\n",
       "      <td>4.0</td>\n",
       "      <td>...</td>\n",
       "      <td>15.961345</td>\n",
       "      <td>43.251019</td>\n",
       "      <td>277.249565</td>\n",
       "      <td>0.000000</td>\n",
       "      <td>0.000000</td>\n",
       "      <td>0.0</td>\n",
       "      <td>9.756106</td>\n",
       "      <td>22.381083</td>\n",
       "      <td>319.288094</td>\n",
       "      <td>1</td>\n",
       "    </tr>\n",
       "  </tbody>\n",
       "</table>\n",
       "<p>21 rows × 26 columns</p>\n",
       "</div>"
      ],
      "text/plain": [
       "           Days  Inverted    PerfMean     PerfStd  EntryLoad  ExitLoad  \\\n",
       "255   15.063999       0.0   26.020084    7.595421        0.0       0.0   \n",
       "256    0.119897       0.0    0.000000    0.000000        0.0       0.0   \n",
       "257    5.026573       0.0    6.005367    0.000000        0.0       0.0   \n",
       "258    0.056402       0.0    0.000000    0.000000        0.0       0.0   \n",
       "259    1.150530       0.0    1.141541    0.000000        0.0       0.0   \n",
       "260   11.076108       0.0   10.628137    0.614894        0.0       2.0   \n",
       "261    2.038829       0.0    2.020589    0.000000        2.0       2.0   \n",
       "262    0.067109       0.0    0.000000    0.000000        2.0       2.0   \n",
       "263   15.065888       0.0   16.913226    4.043317        2.0       2.0   \n",
       "264    0.058241       1.0    0.000000    0.000000        2.0       2.0   \n",
       "265    2.066366       1.0    2.511168    0.000000        2.0       2.0   \n",
       "266   10.127566       1.0   10.739507    1.142495        2.0       0.0   \n",
       "267    1.115919       1.0    1.039035    0.000000        0.0       0.0   \n",
       "268    0.101624       1.0    0.000000    0.000000        0.0       0.0   \n",
       "269    5.007947       1.0    5.412197    0.000000        0.0       0.0   \n",
       "270  158.084221       1.0  125.800637  107.939108        0.0       0.0   \n",
       "271   30.096135       0.0   28.082829    8.027333        0.0       2.0   \n",
       "272    0.075269       0.0    0.000000    0.000000        2.0       2.0   \n",
       "273    5.007442       0.0    5.410878    0.000000        2.0       2.0   \n",
       "274    0.046335       0.0    0.000000    0.000000        2.0       2.0   \n",
       "275    1.032940       0.0    1.066719    0.000000        2.0       2.0   \n",
       "\n",
       "     EntryDemand  ExitDemand     Distance  ContainerQuantity  ...  \\\n",
       "255          0.0         0.0     0.000000                2.0  ...   \n",
       "256          0.0         0.0    10.502859                2.0  ...   \n",
       "257          0.0         0.0     0.000000                2.0  ...   \n",
       "258          0.0         0.0    11.149445                2.0  ...   \n",
       "259          0.0         0.0     0.000000                2.0  ...   \n",
       "260          0.0         2.0  6952.289520                2.0  ...   \n",
       "261          2.0         2.0     0.000000                2.0  ...   \n",
       "262          2.0         2.0    15.801777                2.0  ...   \n",
       "263          2.0         2.0     0.000000                2.0  ...   \n",
       "264          2.0         2.0    16.733821                2.0  ...   \n",
       "265          2.0         2.0     0.000000                2.0  ...   \n",
       "266          2.0         0.0  7149.426192                2.0  ...   \n",
       "267          0.0         0.0     0.000000                2.0  ...   \n",
       "268          0.0         0.0     9.801943                1.0  ...   \n",
       "269          0.0         0.0     0.000000                1.0  ...   \n",
       "270          0.0         0.0     9.798641                1.0  ...   \n",
       "271          0.0         4.0     0.000000                2.0  ...   \n",
       "272          4.0         4.0    10.812767                4.0  ...   \n",
       "273          4.0         4.0     0.000000                4.0  ...   \n",
       "274          4.0         4.0    10.416182                4.0  ...   \n",
       "275          4.0         4.0     0.000000                4.0  ...   \n",
       "\n",
       "     Entry_wind_speed_10m_max  Entry_wind_gusts_10m_max  \\\n",
       "255                 26.468628                 62.574418   \n",
       "256                 22.287378                 41.964104   \n",
       "257                 21.632855                 40.275387   \n",
       "258                 18.920876                 36.101547   \n",
       "259                 19.054492                 35.868687   \n",
       "260                 20.773622                 40.693101   \n",
       "261                 12.714552                 25.882373   \n",
       "262                 17.503267                 34.750857   \n",
       "263                 16.477320                 34.280984   \n",
       "264                 19.093117                 36.338232   \n",
       "265                 18.462006                 40.528514   \n",
       "266                 33.950537                 69.987907   \n",
       "267                 19.510685                 44.445605   \n",
       "268                 15.574112                 34.968413   \n",
       "269                 16.560548                 32.386890   \n",
       "270                 19.479915                 34.972275   \n",
       "271                 19.022865                 38.546855   \n",
       "272                 25.995453                 50.284231   \n",
       "273                 27.508814                 53.770461   \n",
       "274                 15.558016                 42.887384   \n",
       "275                 15.961345                 43.251019   \n",
       "\n",
       "     Entry_wind_direction_10m_dominant  Exit_precipitation_sum  Exit_rain_sum  \\\n",
       "255                         240.872996                0.000000       0.000000   \n",
       "256                         356.246092                0.000000       0.000000   \n",
       "257                         363.167602                4.047080       4.047080   \n",
       "258                         232.547684                3.732820       3.732820   \n",
       "259                         231.251005               18.441452      18.441452   \n",
       "260                         246.334014                0.000000       0.000000   \n",
       "261                         365.859218                2.308175       2.308175   \n",
       "262                         273.861712                2.194518       2.194518   \n",
       "263                         272.517354                0.626774       0.626774   \n",
       "264                         251.594052                0.604366       0.604366   \n",
       "265                         260.957357               13.832113      13.832113   \n",
       "266                         251.307531               14.605367      14.605367   \n",
       "267                         183.274631                2.212951       2.212951   \n",
       "268                         239.882543                2.210235       2.210235   \n",
       "269                         230.125676                0.000000       0.000000   \n",
       "270                         143.389736                0.110021       0.110021   \n",
       "271                         272.495227                2.289982       2.289982   \n",
       "272                         258.098939                2.302366       2.302366   \n",
       "273                         261.021725                0.000000       0.000000   \n",
       "274                         276.343548                0.000000       0.000000   \n",
       "275                         277.249565                0.000000       0.000000   \n",
       "\n",
       "     Exit_snowfall_sum  Exit_wind_speed_10m_max  Exit_wind_gusts_10m_max  \\\n",
       "255                0.0                22.865623                43.198333   \n",
       "256                0.0                21.276202                42.585210   \n",
       "257                0.0                19.326725                38.035010   \n",
       "258                0.0                19.686601                36.745390   \n",
       "259                0.0                21.378363                37.745063   \n",
       "260                0.0                11.560482                22.974457   \n",
       "261                0.0                15.883530                34.265422   \n",
       "262                0.0                16.249277                31.425957   \n",
       "263                0.0                18.140966                41.193254   \n",
       "264                0.0                17.915497                38.071407   \n",
       "265                0.0                33.875934                73.117914   \n",
       "266                0.0                20.848264                45.277664   \n",
       "267                0.0                15.652700                35.833779   \n",
       "268                0.0                15.501815                35.005300   \n",
       "269                0.0                19.364317                35.213961   \n",
       "270                0.0                18.400589                39.031983   \n",
       "271                0.0                26.796868                51.188067   \n",
       "272                0.0                26.449398                52.836037   \n",
       "273                0.0                15.646405                41.181745   \n",
       "274                0.0                16.535712                41.292643   \n",
       "275                0.0                 9.756106                22.381083   \n",
       "\n",
       "     Exit_wind_direction_10m_dominant  Season  \n",
       "255                        345.982379       3  \n",
       "256                        347.594552       3  \n",
       "257                        236.058670       3  \n",
       "258                        242.583046       3  \n",
       "259                        252.670218       3  \n",
       "260                        327.084478       3  \n",
       "261                        283.303925       3  \n",
       "262                        287.500041       3  \n",
       "263                        257.853792       3  \n",
       "264                        261.681063       3  \n",
       "265                        250.111835       3  \n",
       "266                        194.666132       3  \n",
       "267                        226.082573       3  \n",
       "268                        228.264090       3  \n",
       "269                        141.765398       3  \n",
       "270                        259.175357       3  \n",
       "271                        269.614189       1  \n",
       "272                        240.645216       1  \n",
       "273                        291.026200       1  \n",
       "274                        287.598857       1  \n",
       "275                        319.288094       1  \n",
       "\n",
       "[21 rows x 26 columns]"
      ]
     },
     "execution_count": 117,
     "metadata": {},
     "output_type": "execute_result"
    }
   ],
   "source": [
    "augmented_df[255:276]"
   ]
  },
  {
   "cell_type": "code",
   "execution_count": 119,
   "id": "024ba229-ab6d-40d3-8b67-323bbe3eb23b",
   "metadata": {},
   "outputs": [
    {
     "data": {
      "text/plain": [
       "count    255.000000\n",
       "mean       0.000021\n",
       "std        0.000123\n",
       "min        0.000000\n",
       "25%        0.000000\n",
       "50%        0.000000\n",
       "75%        0.000000\n",
       "max        0.000753\n",
       "Name: Exit_snowfall_sum, dtype: float64"
      ]
     },
     "execution_count": 119,
     "metadata": {},
     "output_type": "execute_result"
    }
   ],
   "source": [
    "datas['Exit_snowfall_sum'].describe()"
   ]
  },
  {
   "cell_type": "code",
   "execution_count": 109,
   "id": "a985dc0c-414b-4014-87f5-029c4bc74a3d",
   "metadata": {},
   "outputs": [
    {
     "data": {
      "text/plain": [
       "0      247.30750\n",
       "1      343.37125\n",
       "2      343.37125\n",
       "3      242.80690\n",
       "4      242.80690\n",
       "         ...    \n",
       "250    173.40240\n",
       "251    173.40240\n",
       "252    173.40240\n",
       "253    173.40240\n",
       "254    173.40240\n",
       "Name: Entry_wind_direction_10m_dominant, Length: 255, dtype: float64"
      ]
     },
     "execution_count": 109,
     "metadata": {},
     "output_type": "execute_result"
    }
   ],
   "source": [
    "datas['Entry_wind_direction_10m_dominant']"
   ]
  },
  {
   "cell_type": "code",
   "execution_count": 110,
   "id": "1c0f0db8-618d-4fe5-838c-94ff40d1b202",
   "metadata": {},
   "outputs": [],
   "source": [
    "augmented_df.to_csv('augmented_data.csv', index=False)"
   ]
  },
  {
   "cell_type": "code",
   "execution_count": 111,
   "id": "250304bc-b139-481c-ac5c-46f0faa2c07e",
   "metadata": {},
   "outputs": [
    {
     "data": {
      "image/png": "[encoded data removed]",
      "text/plain": [
       "<Figure size 1200x800 with 4 Axes>"
      ]
     },
     "metadata": {},
     "output_type": "display_data"
    }
   ],
   "source": [
    "import matplotlib.pyplot as plt\n",
    "\n",
    "# Convert DataFrame columns to NumPy arrays\n",
    "days_original = datas['Days'].to_numpy()\n",
    "rain_original = datas['Entry_rain_sum'].to_numpy()\n",
    "wind_gusts_original = datas['Entry_wind_gusts_10m_max'].to_numpy()\n",
    "snowfall_original = datas['Entry_snowfall_sum'].to_numpy()\n",
    "\n",
    "# Calculate the difference between original and augmented data\n",
    "delta_days = augmented_df['Days'][255:].to_numpy() - days_original\n",
    "delta_rain = augmented_df['Entry_rain_sum'][255:].to_numpy() - rain_original\n",
    "delta_wind_gusts = augmented_df['Entry_wind_gusts_10m_max'][255:].to_numpy() - wind_gusts_original\n",
    "delta_snowfall = augmented_df['Entry_snowfall_sum'][255:].to_numpy() - snowfall_original\n",
    "\n",
    "# Create subplots\n",
    "fig, axs = plt.subplots(2, 2, figsize=(12, 8))\n",
    "\n",
    "# Plot the difference for each variable\n",
    "axs[0, 0].plot(delta_days, color='#48AF8A')\n",
    "axs[0, 0].set_title('Difference in Days')\n",
    "axs[0, 1].plot(delta_rain, color='#519EE5')\n",
    "axs[0, 1].set_title('Difference in Rain Sum')\n",
    "axs[1, 0].plot(delta_wind_gusts, color='#283952')\n",
    "axs[1, 0].set_title('Difference in Wind Gusts (10m max)')\n",
    "axs[1, 1].plot(delta_snowfall, color='#8ED3AE')\n",
    "axs[1, 1].set_title('Difference in Snowfall Sum')\n",
    "\n",
    "# Show plot\n",
    "plt.tight_layout()\n",
    "plt.show()\n"
   ]
  },
  {
   "cell_type": "code",
   "execution_count": 112,
   "id": "61934741-5c63-4e2e-8a2f-660fdae410c2",
   "metadata": {},
   "outputs": [
    {
     "data": {
      "application/vnd.plotly.v1+json": {
       "config": {
        "plotlyServerURL": "https://plot.ly"
       },
       "data": [
        {
         "line": {
          "color": "#48AF8A",
          "width": 2
         },
         "mode": "lines",
         "name": "Gaussian Distribution",
         "type": "scatter",
         "x": [
          -5,
          -4.898989898989899,
          -4.797979797979798,
          -4.696969696969697,
          -4.595959595959596,
          -4.494949494949495,
          -4.393939393939394,
          -4.292929292929293,
          -4.191919191919192,
          -4.090909090909091,
          -3.9898989898989896,
          -3.888888888888889,
          -3.787878787878788,
          -3.686868686868687,
          -3.5858585858585856,
          -3.484848484848485,
          -3.383838383838384,
          -3.282828282828283,
          -3.1818181818181817,
          -3.080808080808081,
          -2.9797979797979797,
          -2.878787878787879,
          -2.7777777777777777,
          -2.676767676767677,
          -2.5757575757575757,
          -2.474747474747475,
          -2.3737373737373737,
          -2.272727272727273,
          -2.1717171717171717,
          -2.070707070707071,
          -1.9696969696969697,
          -1.868686868686869,
          -1.7676767676767677,
          -1.6666666666666665,
          -1.5656565656565657,
          -1.4646464646464645,
          -1.3636363636363638,
          -1.2626262626262625,
          -1.1616161616161618,
          -1.0606060606060606,
          -0.9595959595959593,
          -0.858585858585859,
          -0.7575757575757578,
          -0.6565656565656566,
          -0.5555555555555554,
          -0.45454545454545503,
          -0.3535353535353538,
          -0.2525252525252526,
          -0.15151515151515138,
          -0.050505050505050164,
          0.050505050505050164,
          0.15151515151515138,
          0.2525252525252526,
          0.3535353535353538,
          0.45454545454545414,
          0.5555555555555554,
          0.6565656565656566,
          0.7575757575757578,
          0.8585858585858581,
          0.9595959595959593,
          1.0606060606060606,
          1.1616161616161618,
          1.262626262626262,
          1.3636363636363633,
          1.4646464646464645,
          1.5656565656565657,
          1.666666666666667,
          1.7676767676767673,
          1.8686868686868685,
          1.9696969696969697,
          2.070707070707071,
          2.1717171717171713,
          2.2727272727272725,
          2.3737373737373737,
          2.474747474747475,
          2.5757575757575752,
          2.6767676767676765,
          2.7777777777777777,
          2.878787878787879,
          2.9797979797979792,
          3.0808080808080813,
          3.1818181818181817,
          3.282828282828282,
          3.383838383838384,
          3.4848484848484844,
          3.5858585858585865,
          3.686868686868687,
          3.787878787878787,
          3.8888888888888893,
          3.9898989898989896,
          4.09090909090909,
          4.191919191919192,
          4.292929292929292,
          4.3939393939393945,
          4.494949494949495,
          4.595959595959595,
          4.696969696969697,
          4.797979797979798,
          4.8989898989899,
          5
         ],
         "y": [
          1.4867195147342979e-06,
          2.451061042942331e-06,
          3.9998903724166265e-06,
          6.461166392648796e-06,
          1.0331006581321705e-05,
          1.6350958895825316e-05,
          2.561608119513828e-05,
          3.9723822381414824e-05,
          6.09759039529897e-05,
          9.264763532301418e-05,
          0.000139341123134969,
          0.0002074403087679207,
          0.0003056862254780555,
          0.000445889724807599,
          0.0006437954979268651,
          0.0009201047696229659,
          0.0013016538416489132,
          0.0018227310960012768,
          0.0025264957781039343,
          0.0034664379189757624,
          0.00470779076312334,
          0.006328776428582762,
          0.008421534484118354,
          0.011092554839374866,
          0.01446241479763419,
          0.018664609934066448,
          0.023843274502042874,
          0.030149613916800638,
          0.03773692314063993,
          0.046754142406705466,
          0.05733800512481293,
          0.06960395839232576,
          0.0836361772145172,
          0.09947713879274872,
          0.11711735953274449,
          0.13648600918747048,
          0.15744318761884368,
          0.17977466512481263,
          0.20318983550122394,
          0.22732350563136094,
          0.2517419469842393,
          0.27595337147011534,
          0.29942268327109967,
          0.3215900234094101,
          0.34189229416612926,
          0.35978655781262325,
          0.3747739794063901,
          0.3864228530895687,
          0.3943892340049189,
          0.39843380169134646,
          0.39843380169134646,
          0.3943892340049189,
          0.3864228530895687,
          0.3747739794063901,
          0.35978655781262336,
          0.34189229416612926,
          0.3215900234094101,
          0.29942268327109967,
          0.2759533714701155,
          0.2517419469842393,
          0.22732350563136094,
          0.20318983550122394,
          0.17977466512481274,
          0.15744318761884377,
          0.13648600918747048,
          0.11711735953274449,
          0.09947713879274865,
          0.08363617721451726,
          0.06960395839232582,
          0.05733800512481293,
          0.046754142406705466,
          0.037736923140639964,
          0.030149613916800676,
          0.023843274502042874,
          0.018664609934066448,
          0.01446241479763421,
          0.01109255483937488,
          0.008421534484118354,
          0.006328776428582762,
          0.004707790763123343,
          0.0034664379189757563,
          0.0025264957781039343,
          0.0018227310960012818,
          0.0013016538416489132,
          0.0009201047696229674,
          0.0006437954979268627,
          0.000445889724807599,
          0.0003056862254780566,
          0.00020744030876792028,
          0.000139341123134969,
          9.26476353230145e-05,
          6.09759039529897e-05,
          3.972382238141496e-05,
          2.5616081195138144e-05,
          1.6350958895825316e-05,
          1.0331006581321742e-05,
          6.461166392648796e-06,
          3.9998903724166265e-06,
          2.451061042942322e-06,
          1.4867195147342979e-06
         ]
        }
       ],
       "layout": {
        "plot_bgcolor": "white",
        "template": {
         "data": {
          "bar": [
           {
            "error_x": {
             "color": "#2a3f5f"
            },
            "error_y": {
             "color": "#2a3f5f"
            },
            "marker": {
             "line": {
              "color": "#E5ECF6",
              "width": 0.5
             },
             "pattern": {
              "fillmode": "overlay",
              "size": 10,
              "solidity": 0.2
             }
            },
            "type": "bar"
           }
          ],
          "barpolar": [
           {
            "marker": {
             "line": {
              "color": "#E5ECF6",
              "width": 0.5
             },
             "pattern": {
              "fillmode": "overlay",
              "size": 10,
              "solidity": 0.2
             }
            },
            "type": "barpolar"
           }
          ],
          "carpet": [
           {
            "aaxis": {
             "endlinecolor": "#2a3f5f",
             "gridcolor": "white",
             "linecolor": "white",
             "minorgridcolor": "white",
             "startlinecolor": "#2a3f5f"
            },
            "baxis": {
             "endlinecolor": "#2a3f5f",
             "gridcolor": "white",
             "linecolor": "white",
             "minorgridcolor": "white",
             "startlinecolor": "#2a3f5f"
            },
            "type": "carpet"
           }
          ],
          "choropleth": [
           {
            "colorbar": {
             "outlinewidth": 0,
             "ticks": ""
            },
            "type": "choropleth"
           }
          ],
          "contour": [
           {
            "colorbar": {
             "outlinewidth": 0,
             "ticks": ""
            },
            "colorscale": [
             [
              0,
              "#0d0887"
             ],
             [
              0.1111111111111111,
              "#46039f"
             ],
             [
              0.2222222222222222,
              "#7201a8"
             ],
             [
              0.3333333333333333,
              "#9c179e"
             ],
             [
              0.4444444444444444,
              "#bd3786"
             ],
             [
              0.5555555555555556,
              "#d8576b"
             ],
             [
              0.6666666666666666,
              "#ed7953"
             ],
             [
              0.7777777777777778,
              "#fb9f3a"
             ],
             [
              0.8888888888888888,
              "#fdca26"
             ],
             [
              1,
              "#f0f921"
             ]
            ],
            "type": "contour"
           }
          ],
          "contourcarpet": [
           {
            "colorbar": {
             "outlinewidth": 0,
             "ticks": ""
            },
            "type": "contourcarpet"
           }
          ],
          "heatmap": [
           {
            "colorbar": {
             "outlinewidth": 0,
             "ticks": ""
            },
            "colorscale": [
             [
              0,
              "#0d0887"
             ],
             [
              0.1111111111111111,
              "#46039f"
             ],
             [
              0.2222222222222222,
              "#7201a8"
             ],
             [
              0.3333333333333333,
              "#9c179e"
             ],
             [
              0.4444444444444444,
              "#bd3786"
             ],
             [
              0.5555555555555556,
              "#d8576b"
             ],
             [
              0.6666666666666666,
              "#ed7953"
             ],
             [
              0.7777777777777778,
              "#fb9f3a"
             ],
             [
              0.8888888888888888,
              "#fdca26"
             ],
             [
              1,
              "#f0f921"
             ]
            ],
            "type": "heatmap"
           }
          ],
          "heatmapgl": [
           {
            "colorbar": {
             "outlinewidth": 0,
             "ticks": ""
            },
            "colorscale": [
             [
              0,
              "#0d0887"
             ],
             [
              0.1111111111111111,
              "#46039f"
             ],
             [
              0.2222222222222222,
              "#7201a8"
             ],
             [
              0.3333333333333333,
              "#9c179e"
             ],
             [
              0.4444444444444444,
              "#bd3786"
             ],
             [
              0.5555555555555556,
              "#d8576b"
             ],
             [
              0.6666666666666666,
              "#ed7953"
             ],
             [
              0.7777777777777778,
              "#fb9f3a"
             ],
             [
              0.8888888888888888,
              "#fdca26"
             ],
             [
              1,
              "#f0f921"
             ]
            ],
            "type": "heatmapgl"
           }
          ],
          "histogram": [
           {
            "marker": {
             "pattern": {
              "fillmode": "overlay",
              "size": 10,
              "solidity": 0.2
             }
            },
            "type": "histogram"
           }
          ],
          "histogram2d": [
           {
            "colorbar": {
             "outlinewidth": 0,
             "ticks": ""
            },
            "colorscale": [
             [
              0,
              "#0d0887"
             ],
             [
              0.1111111111111111,
              "#46039f"
             ],
             [
              0.2222222222222222,
              "#7201a8"
             ],
             [
              0.3333333333333333,
              "#9c179e"
             ],
             [
              0.4444444444444444,
              "#bd3786"
             ],
             [
              0.5555555555555556,
              "#d8576b"
             ],
             [
              0.6666666666666666,
              "#ed7953"
             ],
             [
              0.7777777777777778,
              "#fb9f3a"
             ],
             [
              0.8888888888888888,
              "#fdca26"
             ],
             [
              1,
              "#f0f921"
             ]
            ],
            "type": "histogram2d"
           }
          ],
          "histogram2dcontour": [
           {
            "colorbar": {
             "outlinewidth": 0,
             "ticks": ""
            },
            "colorscale": [
             [
              0,
              "#0d0887"
             ],
             [
              0.1111111111111111,
              "#46039f"
             ],
             [
              0.2222222222222222,
              "#7201a8"
             ],
             [
              0.3333333333333333,
              "#9c179e"
             ],
             [
              0.4444444444444444,
              "#bd3786"
             ],
             [
              0.5555555555555556,
              "#d8576b"
             ],
             [
              0.6666666666666666,
              "#ed7953"
             ],
             [
              0.7777777777777778,
              "#fb9f3a"
             ],
             [
              0.8888888888888888,
              "#fdca26"
             ],
             [
              1,
              "#f0f921"
             ]
            ],
            "type": "histogram2dcontour"
           }
          ],
          "mesh3d": [
           {
            "colorbar": {
             "outlinewidth": 0,
             "ticks": ""
            },
            "type": "mesh3d"
           }
          ],
          "parcoords": [
           {
            "line": {
             "colorbar": {
              "outlinewidth": 0,
              "ticks": ""
             }
            },
            "type": "parcoords"
           }
          ],
          "pie": [
           {
            "automargin": true,
            "type": "pie"
           }
          ],
          "scatter": [
           {
            "fillpattern": {
             "fillmode": "overlay",
             "size": 10,
             "solidity": 0.2
            },
            "type": "scatter"
           }
          ],
          "scatter3d": [
           {
            "line": {
             "colorbar": {
              "outlinewidth": 0,
              "ticks": ""
             }
            },
            "marker": {
             "colorbar": {
              "outlinewidth": 0,
              "ticks": ""
             }
            },
            "type": "scatter3d"
           }
          ],
          "scattercarpet": [
           {
            "marker": {
             "colorbar": {
              "outlinewidth": 0,
              "ticks": ""
             }
            },
            "type": "scattercarpet"
           }
          ],
          "scattergeo": [
           {
            "marker": {
             "colorbar": {
              "outlinewidth": 0,
              "ticks": ""
             }
            },
            "type": "scattergeo"
           }
          ],
          "scattergl": [
           {
            "marker": {
             "colorbar": {
              "outlinewidth": 0,
              "ticks": ""
             }
            },
            "type": "scattergl"
           }
          ],
          "scattermapbox": [
           {
            "marker": {
             "colorbar": {
              "outlinewidth": 0,
              "ticks": ""
             }
            },
            "type": "scattermapbox"
           }
          ],
          "scatterpolar": [
           {
            "marker": {
             "colorbar": {
              "outlinewidth": 0,
              "ticks": ""
             }
            },
            "type": "scatterpolar"
           }
          ],
          "scatterpolargl": [
           {
            "marker": {
             "colorbar": {
              "outlinewidth": 0,
              "ticks": ""
             }
            },
            "type": "scatterpolargl"
           }
          ],
          "scatterternary": [
           {
            "marker": {
             "colorbar": {
              "outlinewidth": 0,
              "ticks": ""
             }
            },
            "type": "scatterternary"
           }
          ],
          "surface": [
           {
            "colorbar": {
             "outlinewidth": 0,
             "ticks": ""
            },
            "colorscale": [
             [
              0,
              "#0d0887"
             ],
             [
              0.1111111111111111,
              "#46039f"
             ],
             [
              0.2222222222222222,
              "#7201a8"
             ],
             [
              0.3333333333333333,
              "#9c179e"
             ],
             [
              0.4444444444444444,
              "#bd3786"
             ],
             [
              0.5555555555555556,
              "#d8576b"
             ],
             [
              0.6666666666666666,
              "#ed7953"
             ],
             [
              0.7777777777777778,
              "#fb9f3a"
             ],
             [
              0.8888888888888888,
              "#fdca26"
             ],
             [
              1,
              "#f0f921"
             ]
            ],
            "type": "surface"
           }
          ],
          "table": [
           {
            "cells": {
             "fill": {
              "color": "#EBF0F8"
             },
             "line": {
              "color": "white"
             }
            },
            "header": {
             "fill": {
              "color": "#C8D4E3"
             },
             "line": {
              "color": "white"
             }
            },
            "type": "table"
           }
          ]
         },
         "layout": {
          "annotationdefaults": {
           "arrowcolor": "#2a3f5f",
           "arrowhead": 0,
           "arrowwidth": 1
          },
          "autotypenumbers": "strict",
          "coloraxis": {
           "colorbar": {
            "outlinewidth": 0,
            "ticks": ""
           }
          },
          "colorscale": {
           "diverging": [
            [
             0,
             "#8e0152"
            ],
            [
             0.1,
             "#c51b7d"
            ],
            [
             0.2,
             "#de77ae"
            ],
            [
             0.3,
             "#f1b6da"
            ],
            [
             0.4,
             "#fde0ef"
            ],
            [
             0.5,
             "#f7f7f7"
            ],
            [
             0.6,
             "#e6f5d0"
            ],
            [
             0.7,
             "#b8e186"
            ],
            [
             0.8,
             "#7fbc41"
            ],
            [
             0.9,
             "#4d9221"
            ],
            [
             1,
             "#276419"
            ]
           ],
           "sequential": [
            [
             0,
             "#0d0887"
            ],
            [
             0.1111111111111111,
             "#46039f"
            ],
            [
             0.2222222222222222,
             "#7201a8"
            ],
            [
             0.3333333333333333,
             "#9c179e"
            ],
            [
             0.4444444444444444,
             "#bd3786"
            ],
            [
             0.5555555555555556,
             "#d8576b"
            ],
            [
             0.6666666666666666,
             "#ed7953"
            ],
            [
             0.7777777777777778,
             "#fb9f3a"
            ],
            [
             0.8888888888888888,
             "#fdca26"
            ],
            [
             1,
             "#f0f921"
            ]
           ],
           "sequentialminus": [
            [
             0,
             "#0d0887"
            ],
            [
             0.1111111111111111,
             "#46039f"
            ],
            [
             0.2222222222222222,
             "#7201a8"
            ],
            [
             0.3333333333333333,
             "#9c179e"
            ],
            [
             0.4444444444444444,
             "#bd3786"
            ],
            [
             0.5555555555555556,
             "#d8576b"
            ],
            [
             0.6666666666666666,
             "#ed7953"
            ],
            [
             0.7777777777777778,
             "#fb9f3a"
            ],
            [
             0.8888888888888888,
             "#fdca26"
            ],
            [
             1,
             "#f0f921"
            ]
           ]
          },
          "colorway": [
           "#636efa",
           "#EF553B",
           "#00cc96",
           "#ab63fa",
           "#FFA15A",
           "#19d3f3",
           "#FF6692",
           "#B6E880",
           "#FF97FF",
           "#FECB52"
          ],
          "font": {
           "color": "#2a3f5f"
          },
          "geo": {
           "bgcolor": "white",
           "lakecolor": "white",
           "landcolor": "#E5ECF6",
           "showlakes": true,
           "showland": true,
           "subunitcolor": "white"
          },
          "hoverlabel": {
           "align": "left"
          },
          "hovermode": "closest",
          "mapbox": {
           "style": "light"
          },
          "paper_bgcolor": "white",
          "plot_bgcolor": "#E5ECF6",
          "polar": {
           "angularaxis": {
            "gridcolor": "white",
            "linecolor": "white",
            "ticks": ""
           },
           "bgcolor": "#E5ECF6",
           "radialaxis": {
            "gridcolor": "white",
            "linecolor": "white",
            "ticks": ""
           }
          },
          "scene": {
           "xaxis": {
            "backgroundcolor": "#E5ECF6",
            "gridcolor": "white",
            "gridwidth": 2,
            "linecolor": "white",
            "showbackground": true,
            "ticks": "",
            "zerolinecolor": "white"
           },
           "yaxis": {
            "backgroundcolor": "#E5ECF6",
            "gridcolor": "white",
            "gridwidth": 2,
            "linecolor": "white",
            "showbackground": true,
            "ticks": "",
            "zerolinecolor": "white"
           },
           "zaxis": {
            "backgroundcolor": "#E5ECF6",
            "gridcolor": "white",
            "gridwidth": 2,
            "linecolor": "white",
            "showbackground": true,
            "ticks": "",
            "zerolinecolor": "white"
           }
          },
          "shapedefaults": {
           "line": {
            "color": "#2a3f5f"
           }
          },
          "ternary": {
           "aaxis": {
            "gridcolor": "white",
            "linecolor": "white",
            "ticks": ""
           },
           "baxis": {
            "gridcolor": "white",
            "linecolor": "white",
            "ticks": ""
           },
           "bgcolor": "#E5ECF6",
           "caxis": {
            "gridcolor": "white",
            "linecolor": "white",
            "ticks": ""
           }
          },
          "title": {
           "x": 0.05
          },
          "xaxis": {
           "automargin": true,
           "gridcolor": "white",
           "linecolor": "white",
           "ticks": "",
           "title": {
            "standoff": 15
           },
           "zerolinecolor": "white",
           "zerolinewidth": 2
          },
          "yaxis": {
           "automargin": true,
           "gridcolor": "white",
           "linecolor": "white",
           "ticks": "",
           "title": {
            "standoff": 15
           },
           "zerolinecolor": "white",
           "zerolinewidth": 2
          }
         }
        },
        "title": {
         "text": "Gaussian Distribution"
        },
        "xaxis": {
         "title": {
          "text": "X"
         }
        },
        "yaxis": {
         "title": {
          "text": "Probability Density"
         }
        }
       }
      },
      "text/html": [
       "<div>                            <div id=\"e9f0d362-e259-4fe7-99e0-b01bffd68267\" class=\"plotly-graph-div\" style=\"height:525px; width:100%;\"></div>            <script type=\"text/javascript\">                require([\"plotly\"], function(Plotly) {                    window.PLOTLYENV=window.PLOTLYENV || {};                                    if (document.getElementById(\"e9f0d362-e259-4fe7-99e0-b01bffd68267\")) {                    Plotly.newPlot(                        \"e9f0d362-e259-4fe7-99e0-b01bffd68267\",                        [{\"line\":{\"color\":\"#48AF8A\",\"width\":2},\"mode\":\"lines\",\"name\":\"Gaussian Distribution\",\"x\":[-5.0,-4.898989898989899,-4.797979797979798,-4.696969696969697,-4.595959595959596,-4.494949494949495,-4.393939393939394,-4.292929292929293,-4.191919191919192,-4.090909090909091,-3.9898989898989896,-3.888888888888889,-3.787878787878788,-3.686868686868687,-3.5858585858585856,-3.484848484848485,-3.383838383838384,-3.282828282828283,-3.1818181818181817,-3.080808080808081,-2.9797979797979797,-2.878787878787879,-2.7777777777777777,-2.676767676767677,-2.5757575757575757,-2.474747474747475,-2.3737373737373737,-2.272727272727273,-2.1717171717171717,-2.070707070707071,-1.9696969696969697,-1.868686868686869,-1.7676767676767677,-1.6666666666666665,-1.5656565656565657,-1.4646464646464645,-1.3636363636363638,-1.2626262626262625,-1.1616161616161618,-1.0606060606060606,-0.9595959595959593,-0.858585858585859,-0.7575757575757578,-0.6565656565656566,-0.5555555555555554,-0.45454545454545503,-0.3535353535353538,-0.2525252525252526,-0.15151515151515138,-0.050505050505050164,0.050505050505050164,0.15151515151515138,0.2525252525252526,0.3535353535353538,0.45454545454545414,0.5555555555555554,0.6565656565656566,0.7575757575757578,0.8585858585858581,0.9595959595959593,1.0606060606060606,1.1616161616161618,1.262626262626262,1.3636363636363633,1.4646464646464645,1.5656565656565657,1.666666666666667,1.7676767676767673,1.8686868686868685,1.9696969696969697,2.070707070707071,2.1717171717171713,2.2727272727272725,2.3737373737373737,2.474747474747475,2.5757575757575752,2.6767676767676765,2.7777777777777777,2.878787878787879,2.9797979797979792,3.0808080808080813,3.1818181818181817,3.282828282828282,3.383838383838384,3.4848484848484844,3.5858585858585865,3.686868686868687,3.787878787878787,3.8888888888888893,3.9898989898989896,4.09090909090909,4.191919191919192,4.292929292929292,4.3939393939393945,4.494949494949495,4.595959595959595,4.696969696969697,4.797979797979798,4.8989898989899,5.0],\"y\":[1.4867195147342979e-06,2.451061042942331e-06,3.9998903724166265e-06,6.461166392648796e-06,1.0331006581321705e-05,1.6350958895825316e-05,2.561608119513828e-05,3.9723822381414824e-05,6.09759039529897e-05,9.264763532301418e-05,0.000139341123134969,0.0002074403087679207,0.0003056862254780555,0.000445889724807599,0.0006437954979268651,0.0009201047696229659,0.0013016538416489132,0.0018227310960012768,0.0025264957781039343,0.0034664379189757624,0.00470779076312334,0.006328776428582762,0.008421534484118354,0.011092554839374866,0.01446241479763419,0.018664609934066448,0.023843274502042874,0.030149613916800638,0.03773692314063993,0.046754142406705466,0.05733800512481293,0.06960395839232576,0.0836361772145172,0.09947713879274872,0.11711735953274449,0.13648600918747048,0.15744318761884368,0.17977466512481263,0.20318983550122394,0.22732350563136094,0.2517419469842393,0.27595337147011534,0.29942268327109967,0.3215900234094101,0.34189229416612926,0.35978655781262325,0.3747739794063901,0.3864228530895687,0.3943892340049189,0.39843380169134646,0.39843380169134646,0.3943892340049189,0.3864228530895687,0.3747739794063901,0.35978655781262336,0.34189229416612926,0.3215900234094101,0.29942268327109967,0.2759533714701155,0.2517419469842393,0.22732350563136094,0.20318983550122394,0.17977466512481274,0.15744318761884377,0.13648600918747048,0.11711735953274449,0.09947713879274865,0.08363617721451726,0.06960395839232582,0.05733800512481293,0.046754142406705466,0.037736923140639964,0.030149613916800676,0.023843274502042874,0.018664609934066448,0.01446241479763421,0.01109255483937488,0.008421534484118354,0.006328776428582762,0.004707790763123343,0.0034664379189757563,0.0025264957781039343,0.0018227310960012818,0.0013016538416489132,0.0009201047696229674,0.0006437954979268627,0.000445889724807599,0.0003056862254780566,0.00020744030876792028,0.000139341123134969,9.26476353230145e-05,6.09759039529897e-05,3.972382238141496e-05,2.5616081195138144e-05,1.6350958895825316e-05,1.0331006581321742e-05,6.461166392648796e-06,3.9998903724166265e-06,2.451061042942322e-06,1.4867195147342979e-06],\"type\":\"scatter\"}],                        {\"template\":{\"data\":{\"histogram2dcontour\":[{\"type\":\"histogram2dcontour\",\"colorbar\":{\"outlinewidth\":0,\"ticks\":\"\"},\"colorscale\":[[0.0,\"#0d0887\"],[0.1111111111111111,\"#46039f\"],[0.2222222222222222,\"#7201a8\"],[0.3333333333333333,\"#9c179e\"],[0.4444444444444444,\"#bd3786\"],[0.5555555555555556,\"#d8576b\"],[0.6666666666666666,\"#ed7953\"],[0.7777777777777778,\"#fb9f3a\"],[0.8888888888888888,\"#fdca26\"],[1.0,\"#f0f921\"]]}],\"choropleth\":[{\"type\":\"choropleth\",\"colorbar\":{\"outlinewidth\":0,\"ticks\":\"\"}}],\"histogram2d\":[{\"type\":\"histogram2d\",\"colorbar\":{\"outlinewidth\":0,\"ticks\":\"\"},\"colorscale\":[[0.0,\"#0d0887\"],[0.1111111111111111,\"#46039f\"],[0.2222222222222222,\"#7201a8\"],[0.3333333333333333,\"#9c179e\"],[0.4444444444444444,\"#bd3786\"],[0.5555555555555556,\"#d8576b\"],[0.6666666666666666,\"#ed7953\"],[0.7777777777777778,\"#fb9f3a\"],[0.8888888888888888,\"#fdca26\"],[1.0,\"#f0f921\"]]}],\"heatmap\":[{\"type\":\"heatmap\",\"colorbar\":{\"outlinewidth\":0,\"ticks\":\"\"},\"colorscale\":[[0.0,\"#0d0887\"],[0.1111111111111111,\"#46039f\"],[0.2222222222222222,\"#7201a8\"],[0.3333333333333333,\"#9c179e\"],[0.4444444444444444,\"#bd3786\"],[0.5555555555555556,\"#d8576b\"],[0.6666666666666666,\"#ed7953\"],[0.7777777777777778,\"#fb9f3a\"],[0.8888888888888888,\"#fdca26\"],[1.0,\"#f0f921\"]]}],\"heatmapgl\":[{\"type\":\"heatmapgl\",\"colorbar\":{\"outlinewidth\":0,\"ticks\":\"\"},\"colorscale\":[[0.0,\"#0d0887\"],[0.1111111111111111,\"#46039f\"],[0.2222222222222222,\"#7201a8\"],[0.3333333333333333,\"#9c179e\"],[0.4444444444444444,\"#bd3786\"],[0.5555555555555556,\"#d8576b\"],[0.6666666666666666,\"#ed7953\"],[0.7777777777777778,\"#fb9f3a\"],[0.8888888888888888,\"#fdca26\"],[1.0,\"#f0f921\"]]}],\"contourcarpet\":[{\"type\":\"contourcarpet\",\"colorbar\":{\"outlinewidth\":0,\"ticks\":\"\"}}],\"contour\":[{\"type\":\"contour\",\"colorbar\":{\"outlinewidth\":0,\"ticks\":\"\"},\"colorscale\":[[0.0,\"#0d0887\"],[0.1111111111111111,\"#46039f\"],[0.2222222222222222,\"#7201a8\"],[0.3333333333333333,\"#9c179e\"],[0.4444444444444444,\"#bd3786\"],[0.5555555555555556,\"#d8576b\"],[0.6666666666666666,\"#ed7953\"],[0.7777777777777778,\"#fb9f3a\"],[0.8888888888888888,\"#fdca26\"],[1.0,\"#f0f921\"]]}],\"surface\":[{\"type\":\"surface\",\"colorbar\":{\"outlinewidth\":0,\"ticks\":\"\"},\"colorscale\":[[0.0,\"#0d0887\"],[0.1111111111111111,\"#46039f\"],[0.2222222222222222,\"#7201a8\"],[0.3333333333333333,\"#9c179e\"],[0.4444444444444444,\"#bd3786\"],[0.5555555555555556,\"#d8576b\"],[0.6666666666666666,\"#ed7953\"],[0.7777777777777778,\"#fb9f3a\"],[0.8888888888888888,\"#fdca26\"],[1.0,\"#f0f921\"]]}],\"mesh3d\":[{\"type\":\"mesh3d\",\"colorbar\":{\"outlinewidth\":0,\"ticks\":\"\"}}],\"scatter\":[{\"fillpattern\":{\"fillmode\":\"overlay\",\"size\":10,\"solidity\":0.2},\"type\":\"scatter\"}],\"parcoords\":[{\"type\":\"parcoords\",\"line\":{\"colorbar\":{\"outlinewidth\":0,\"ticks\":\"\"}}}],\"scatterpolargl\":[{\"type\":\"scatterpolargl\",\"marker\":{\"colorbar\":{\"outlinewidth\":0,\"ticks\":\"\"}}}],\"bar\":[{\"error_x\":{\"color\":\"#2a3f5f\"},\"error_y\":{\"color\":\"#2a3f5f\"},\"marker\":{\"line\":{\"color\":\"#E5ECF6\",\"width\":0.5},\"pattern\":{\"fillmode\":\"overlay\",\"size\":10,\"solidity\":0.2}},\"type\":\"bar\"}],\"scattergeo\":[{\"type\":\"scattergeo\",\"marker\":{\"colorbar\":{\"outlinewidth\":0,\"ticks\":\"\"}}}],\"scatterpolar\":[{\"type\":\"scatterpolar\",\"marker\":{\"colorbar\":{\"outlinewidth\":0,\"ticks\":\"\"}}}],\"histogram\":[{\"marker\":{\"pattern\":{\"fillmode\":\"overlay\",\"size\":10,\"solidity\":0.2}},\"type\":\"histogram\"}],\"scattergl\":[{\"type\":\"scattergl\",\"marker\":{\"colorbar\":{\"outlinewidth\":0,\"ticks\":\"\"}}}],\"scatter3d\":[{\"type\":\"scatter3d\",\"line\":{\"colorbar\":{\"outlinewidth\":0,\"ticks\":\"\"}},\"marker\":{\"colorbar\":{\"outlinewidth\":0,\"ticks\":\"\"}}}],\"scattermapbox\":[{\"type\":\"scattermapbox\",\"marker\":{\"colorbar\":{\"outlinewidth\":0,\"ticks\":\"\"}}}],\"scatterternary\":[{\"type\":\"scatterternary\",\"marker\":{\"colorbar\":{\"outlinewidth\":0,\"ticks\":\"\"}}}],\"scattercarpet\":[{\"type\":\"scattercarpet\",\"marker\":{\"colorbar\":{\"outlinewidth\":0,\"ticks\":\"\"}}}],\"carpet\":[{\"aaxis\":{\"endlinecolor\":\"#2a3f5f\",\"gridcolor\":\"white\",\"linecolor\":\"white\",\"minorgridcolor\":\"white\",\"startlinecolor\":\"#2a3f5f\"},\"baxis\":{\"endlinecolor\":\"#2a3f5f\",\"gridcolor\":\"white\",\"linecolor\":\"white\",\"minorgridcolor\":\"white\",\"startlinecolor\":\"#2a3f5f\"},\"type\":\"carpet\"}],\"table\":[{\"cells\":{\"fill\":{\"color\":\"#EBF0F8\"},\"line\":{\"color\":\"white\"}},\"header\":{\"fill\":{\"color\":\"#C8D4E3\"},\"line\":{\"color\":\"white\"}},\"type\":\"table\"}],\"barpolar\":[{\"marker\":{\"line\":{\"color\":\"#E5ECF6\",\"width\":0.5},\"pattern\":{\"fillmode\":\"overlay\",\"size\":10,\"solidity\":0.2}},\"type\":\"barpolar\"}],\"pie\":[{\"automargin\":true,\"type\":\"pie\"}]},\"layout\":{\"autotypenumbers\":\"strict\",\"colorway\":[\"#636efa\",\"#EF553B\",\"#00cc96\",\"#ab63fa\",\"#FFA15A\",\"#19d3f3\",\"#FF6692\",\"#B6E880\",\"#FF97FF\",\"#FECB52\"],\"font\":{\"color\":\"#2a3f5f\"},\"hovermode\":\"closest\",\"hoverlabel\":{\"align\":\"left\"},\"paper_bgcolor\":\"white\",\"plot_bgcolor\":\"#E5ECF6\",\"polar\":{\"bgcolor\":\"#E5ECF6\",\"angularaxis\":{\"gridcolor\":\"white\",\"linecolor\":\"white\",\"ticks\":\"\"},\"radialaxis\":{\"gridcolor\":\"white\",\"linecolor\":\"white\",\"ticks\":\"\"}},\"ternary\":{\"bgcolor\":\"#E5ECF6\",\"aaxis\":{\"gridcolor\":\"white\",\"linecolor\":\"white\",\"ticks\":\"\"},\"baxis\":{\"gridcolor\":\"white\",\"linecolor\":\"white\",\"ticks\":\"\"},\"caxis\":{\"gridcolor\":\"white\",\"linecolor\":\"white\",\"ticks\":\"\"}},\"coloraxis\":{\"colorbar\":{\"outlinewidth\":0,\"ticks\":\"\"}},\"colorscale\":{\"sequential\":[[0.0,\"#0d0887\"],[0.1111111111111111,\"#46039f\"],[0.2222222222222222,\"#7201a8\"],[0.3333333333333333,\"#9c179e\"],[0.4444444444444444,\"#bd3786\"],[0.5555555555555556,\"#d8576b\"],[0.6666666666666666,\"#ed7953\"],[0.7777777777777778,\"#fb9f3a\"],[0.8888888888888888,\"#fdca26\"],[1.0,\"#f0f921\"]],\"sequentialminus\":[[0.0,\"#0d0887\"],[0.1111111111111111,\"#46039f\"],[0.2222222222222222,\"#7201a8\"],[0.3333333333333333,\"#9c179e\"],[0.4444444444444444,\"#bd3786\"],[0.5555555555555556,\"#d8576b\"],[0.6666666666666666,\"#ed7953\"],[0.7777777777777778,\"#fb9f3a\"],[0.8888888888888888,\"#fdca26\"],[1.0,\"#f0f921\"]],\"diverging\":[[0,\"#8e0152\"],[0.1,\"#c51b7d\"],[0.2,\"#de77ae\"],[0.3,\"#f1b6da\"],[0.4,\"#fde0ef\"],[0.5,\"#f7f7f7\"],[0.6,\"#e6f5d0\"],[0.7,\"#b8e186\"],[0.8,\"#7fbc41\"],[0.9,\"#4d9221\"],[1,\"#276419\"]]},\"xaxis\":{\"gridcolor\":\"white\",\"linecolor\":\"white\",\"ticks\":\"\",\"title\":{\"standoff\":15},\"zerolinecolor\":\"white\",\"automargin\":true,\"zerolinewidth\":2},\"yaxis\":{\"gridcolor\":\"white\",\"linecolor\":\"white\",\"ticks\":\"\",\"title\":{\"standoff\":15},\"zerolinecolor\":\"white\",\"automargin\":true,\"zerolinewidth\":2},\"scene\":{\"xaxis\":{\"backgroundcolor\":\"#E5ECF6\",\"gridcolor\":\"white\",\"linecolor\":\"white\",\"showbackground\":true,\"ticks\":\"\",\"zerolinecolor\":\"white\",\"gridwidth\":2},\"yaxis\":{\"backgroundcolor\":\"#E5ECF6\",\"gridcolor\":\"white\",\"linecolor\":\"white\",\"showbackground\":true,\"ticks\":\"\",\"zerolinecolor\":\"white\",\"gridwidth\":2},\"zaxis\":{\"backgroundcolor\":\"#E5ECF6\",\"gridcolor\":\"white\",\"linecolor\":\"white\",\"showbackground\":true,\"ticks\":\"\",\"zerolinecolor\":\"white\",\"gridwidth\":2}},\"shapedefaults\":{\"line\":{\"color\":\"#2a3f5f\"}},\"annotationdefaults\":{\"arrowcolor\":\"#2a3f5f\",\"arrowhead\":0,\"arrowwidth\":1},\"geo\":{\"bgcolor\":\"white\",\"landcolor\":\"#E5ECF6\",\"subunitcolor\":\"white\",\"showland\":true,\"showlakes\":true,\"lakecolor\":\"white\"},\"title\":{\"x\":0.05},\"mapbox\":{\"style\":\"light\"}}},\"title\":{\"text\":\"Gaussian Distribution\"},\"xaxis\":{\"title\":{\"text\":\"X\"}},\"yaxis\":{\"title\":{\"text\":\"Probability Density\"}},\"plot_bgcolor\":\"white\"},                        {\"responsive\": true}                    ).then(function(){\n",
       "                            \n",
       "var gd = document.getElementById('e9f0d362-e259-4fe7-99e0-b01bffd68267');\n",
       "var x = new MutationObserver(function (mutations, observer) {{\n",
       "        var display = window.getComputedStyle(gd).display;\n",
       "        if (!display || display === 'none') {{\n",
       "            console.log([gd, 'removed!']);\n",
       "            Plotly.purge(gd);\n",
       "            observer.disconnect();\n",
       "        }}\n",
       "}});\n",
       "\n",
       "// Listen for the removal of the full notebook cells\n",
       "var notebookContainer = gd.closest('#notebook-container');\n",
       "if (notebookContainer) {{\n",
       "    x.observe(notebookContainer, {childList: true});\n",
       "}}\n",
       "\n",
       "// Listen for the clearing of the current output cell\n",
       "var outputEl = gd.closest('.output');\n",
       "if (outputEl) {{\n",
       "    x.observe(outputEl, {childList: true});\n",
       "}}\n",
       "\n",
       "                        })                };                });            </script>        </div>"
      ]
     },
     "metadata": {},
     "output_type": "display_data"
    }
   ],
   "source": [
    "import plotly.graph_objs as go\n",
    "import numpy as np\n",
    "\n",
    "# Generate data for Gaussian distribution\n",
    "x = np.linspace(-5, 5, 100)\n",
    "y = np.exp(-x**2 / 2) / np.sqrt(2 * np.pi)\n",
    "\n",
    "# Create plotly figure\n",
    "fig = go.Figure()\n",
    "\n",
    "# Add Gaussian distribution curve\n",
    "fig.add_trace(go.Scatter(x=x, y=y, mode='lines', line=dict(color='#48AF8A', width=2), name='Gaussian Distribution'))\n",
    "\n",
    "# Update layout\n",
    "fig.update_layout(title='Gaussian Distribution',\n",
    "                  xaxis_title='X',\n",
    "                  yaxis_title='Probability Density',\n",
    "                  plot_bgcolor='white')\n",
    "\n",
    "# Show plot\n",
    "fig.show()\n"
   ]
  },
  {
   "cell_type": "code",
   "execution_count": 113,
   "id": "d5d18a11-bc4a-4bba-a116-8c3828007aea",
   "metadata": {
    "scrolled": true
   },
   "outputs": [
    {
     "data": {
      "application/vnd.plotly.v1+json": {
       "config": {
        "plotlyServerURL": "https://plot.ly"
       },
       "data": [
        {
         "line": {
          "color": "#519EE5",
          "width": 2
         },
         "mode": "lines",
         "name": "Poisson Distribution",
         "type": "scatter",
         "x": [
          0,
          0.015015015015015015,
          0.03003003003003003,
          0.04504504504504504,
          0.06006006006006006,
          0.07507507507507508,
          0.09009009009009009,
          0.10510510510510511,
          0.12012012012012012,
          0.13513513513513514,
          0.15015015015015015,
          0.16516516516516516,
          0.18018018018018017,
          0.19519519519519518,
          0.21021021021021022,
          0.22522522522522523,
          0.24024024024024024,
          0.2552552552552553,
          0.2702702702702703,
          0.2852852852852853,
          0.3003003003003003,
          0.3153153153153153,
          0.3303303303303303,
          0.34534534534534533,
          0.36036036036036034,
          0.37537537537537535,
          0.39039039039039036,
          0.40540540540540543,
          0.42042042042042044,
          0.43543543543543545,
          0.45045045045045046,
          0.46546546546546547,
          0.4804804804804805,
          0.4954954954954955,
          0.5105105105105106,
          0.5255255255255256,
          0.5405405405405406,
          0.5555555555555556,
          0.5705705705705706,
          0.5855855855855856,
          0.6006006006006006,
          0.6156156156156156,
          0.6306306306306306,
          0.6456456456456456,
          0.6606606606606606,
          0.6756756756756757,
          0.6906906906906907,
          0.7057057057057057,
          0.7207207207207207,
          0.7357357357357357,
          0.7507507507507507,
          0.7657657657657657,
          0.7807807807807807,
          0.7957957957957957,
          0.8108108108108109,
          0.8258258258258259,
          0.8408408408408409,
          0.8558558558558559,
          0.8708708708708709,
          0.8858858858858859,
          0.9009009009009009,
          0.9159159159159159,
          0.9309309309309309,
          0.9459459459459459,
          0.960960960960961,
          0.975975975975976,
          0.990990990990991,
          1.006006006006006,
          1.021021021021021,
          1.0360360360360361,
          1.0510510510510511,
          1.0660660660660661,
          1.0810810810810811,
          1.0960960960960962,
          1.1111111111111112,
          1.1261261261261262,
          1.1411411411411412,
          1.1561561561561562,
          1.1711711711711712,
          1.1861861861861862,
          1.2012012012012012,
          1.2162162162162162,
          1.2312312312312312,
          1.2462462462462462,
          1.2612612612612613,
          1.2762762762762763,
          1.2912912912912913,
          1.3063063063063063,
          1.3213213213213213,
          1.3363363363363363,
          1.3513513513513513,
          1.3663663663663663,
          1.3813813813813813,
          1.3963963963963963,
          1.4114114114114114,
          1.4264264264264264,
          1.4414414414414414,
          1.4564564564564564,
          1.4714714714714714,
          1.4864864864864864,
          1.5015015015015014,
          1.5165165165165164,
          1.5315315315315314,
          1.5465465465465464,
          1.5615615615615615,
          1.5765765765765765,
          1.5915915915915915,
          1.6066066066066067,
          1.6216216216216217,
          1.6366366366366367,
          1.6516516516516517,
          1.6666666666666667,
          1.6816816816816818,
          1.6966966966966968,
          1.7117117117117118,
          1.7267267267267268,
          1.7417417417417418,
          1.7567567567567568,
          1.7717717717717718,
          1.7867867867867868,
          1.8018018018018018,
          1.8168168168168168,
          1.8318318318318318,
          1.8468468468468469,
          1.8618618618618619,
          1.8768768768768769,
          1.8918918918918919,
          1.906906906906907,
          1.921921921921922,
          1.936936936936937,
          1.951951951951952,
          1.966966966966967,
          1.981981981981982,
          1.996996996996997,
          2.012012012012012,
          2.027027027027027,
          2.042042042042042,
          2.057057057057057,
          2.0720720720720722,
          2.0870870870870872,
          2.1021021021021022,
          2.1171171171171173,
          2.1321321321321323,
          2.1471471471471473,
          2.1621621621621623,
          2.1771771771771773,
          2.1921921921921923,
          2.2072072072072073,
          2.2222222222222223,
          2.2372372372372373,
          2.2522522522522523,
          2.2672672672672673,
          2.2822822822822824,
          2.2972972972972974,
          2.3123123123123124,
          2.3273273273273274,
          2.3423423423423424,
          2.3573573573573574,
          2.3723723723723724,
          2.3873873873873874,
          2.4024024024024024,
          2.4174174174174174,
          2.4324324324324325,
          2.4474474474474475,
          2.4624624624624625,
          2.4774774774774775,
          2.4924924924924925,
          2.5075075075075075,
          2.5225225225225225,
          2.5375375375375375,
          2.5525525525525525,
          2.5675675675675675,
          2.5825825825825826,
          2.5975975975975976,
          2.6126126126126126,
          2.6276276276276276,
          2.6426426426426426,
          2.6576576576576576,
          2.6726726726726726,
          2.6876876876876876,
          2.7027027027027026,
          2.7177177177177176,
          2.7327327327327327,
          2.7477477477477477,
          2.7627627627627627,
          2.7777777777777777,
          2.7927927927927927,
          2.8078078078078077,
          2.8228228228228227,
          2.8378378378378377,
          2.8528528528528527,
          2.8678678678678677,
          2.8828828828828827,
          2.8978978978978978,
          2.9129129129129128,
          2.9279279279279278,
          2.942942942942943,
          2.957957957957958,
          2.972972972972973,
          2.987987987987988,
          3.003003003003003,
          3.018018018018018,
          3.033033033033033,
          3.048048048048048,
          3.063063063063063,
          3.078078078078078,
          3.093093093093093,
          3.108108108108108,
          3.123123123123123,
          3.138138138138138,
          3.153153153153153,
          3.168168168168168,
          3.183183183183183,
          3.198198198198198,
          3.2132132132132134,
          3.2282282282282284,
          3.2432432432432434,
          3.2582582582582584,
          3.2732732732732734,
          3.2882882882882885,
          3.3033033033033035,
          3.3183183183183185,
          3.3333333333333335,
          3.3483483483483485,
          3.3633633633633635,
          3.3783783783783785,
          3.3933933933933935,
          3.4084084084084085,
          3.4234234234234235,
          3.4384384384384385,
          3.4534534534534536,
          3.4684684684684686,
          3.4834834834834836,
          3.4984984984984986,
          3.5135135135135136,
          3.5285285285285286,
          3.5435435435435436,
          3.5585585585585586,
          3.5735735735735736,
          3.5885885885885886,
          3.6036036036036037,
          3.6186186186186187,
          3.6336336336336337,
          3.6486486486486487,
          3.6636636636636637,
          3.6786786786786787,
          3.6936936936936937,
          3.7087087087087087,
          3.7237237237237237,
          3.7387387387387387,
          3.7537537537537538,
          3.7687687687687688,
          3.7837837837837838,
          3.798798798798799,
          3.813813813813814,
          3.828828828828829,
          3.843843843843844,
          3.858858858858859,
          3.873873873873874,
          3.888888888888889,
          3.903903903903904,
          3.918918918918919,
          3.933933933933934,
          3.948948948948949,
          3.963963963963964,
          3.978978978978979,
          3.993993993993994,
          4.009009009009009,
          4.024024024024024,
          4.039039039039039,
          4.054054054054054,
          4.069069069069069,
          4.084084084084084,
          4.099099099099099,
          4.114114114114114,
          4.129129129129129,
          4.1441441441441444,
          4.1591591591591595,
          4.1741741741741745,
          4.1891891891891895,
          4.2042042042042045,
          4.2192192192192195,
          4.2342342342342345,
          4.2492492492492495,
          4.2642642642642645,
          4.2792792792792795,
          4.2942942942942945,
          4.3093093093093096,
          4.324324324324325,
          4.33933933933934,
          4.354354354354355,
          4.36936936936937,
          4.384384384384385,
          4.3993993993994,
          4.414414414414415,
          4.42942942942943,
          4.444444444444445,
          4.45945945945946,
          4.474474474474475,
          4.48948948948949,
          4.504504504504505,
          4.51951951951952,
          4.534534534534535,
          4.54954954954955,
          4.564564564564565,
          4.57957957957958,
          4.594594594594595,
          4.60960960960961,
          4.624624624624625,
          4.63963963963964,
          4.654654654654655,
          4.66966966966967,
          4.684684684684685,
          4.6996996996997,
          4.714714714714715,
          4.72972972972973,
          4.744744744744745,
          4.75975975975976,
          4.774774774774775,
          4.78978978978979,
          4.804804804804805,
          4.81981981981982,
          4.834834834834835,
          4.84984984984985,
          4.864864864864865,
          4.87987987987988,
          4.894894894894895,
          4.90990990990991,
          4.924924924924925,
          4.93993993993994,
          4.954954954954955,
          4.96996996996997,
          4.984984984984985,
          5,
          5.015015015015015,
          5.03003003003003,
          5.045045045045045,
          5.06006006006006,
          5.075075075075075,
          5.09009009009009,
          5.105105105105105,
          5.12012012012012,
          5.135135135135135,
          5.15015015015015,
          5.165165165165165,
          5.18018018018018,
          5.195195195195195,
          5.21021021021021,
          5.225225225225225,
          5.24024024024024,
          5.255255255255255,
          5.27027027027027,
          5.285285285285285,
          5.3003003003003,
          5.315315315315315,
          5.33033033033033,
          5.345345345345345,
          5.36036036036036,
          5.375375375375375,
          5.39039039039039,
          5.405405405405405,
          5.42042042042042,
          5.435435435435435,
          5.45045045045045,
          5.465465465465465,
          5.48048048048048,
          5.495495495495495,
          5.51051051051051,
          5.525525525525525,
          5.54054054054054,
          5.555555555555555,
          5.57057057057057,
          5.585585585585585,
          5.6006006006006,
          5.615615615615615,
          5.63063063063063,
          5.645645645645645,
          5.66066066066066,
          5.675675675675675,
          5.6906906906906904,
          5.7057057057057055,
          5.7207207207207205,
          5.7357357357357355,
          5.7507507507507505,
          5.7657657657657655,
          5.7807807807807805,
          5.7957957957957955,
          5.8108108108108105,
          5.8258258258258255,
          5.8408408408408405,
          5.8558558558558556,
          5.870870870870871,
          5.885885885885886,
          5.900900900900901,
          5.915915915915916,
          5.930930930930931,
          5.945945945945946,
          5.960960960960961,
          5.975975975975976,
          5.990990990990991,
          6.006006006006006,
          6.021021021021021,
          6.036036036036036,
          6.051051051051051,
          6.066066066066066,
          6.081081081081081,
          6.096096096096096,
          6.111111111111111,
          6.126126126126126,
          6.141141141141141,
          6.156156156156156,
          6.171171171171171,
          6.186186186186186,
          6.201201201201201,
          6.216216216216216,
          6.231231231231231,
          6.246246246246246,
          6.261261261261261,
          6.276276276276276,
          6.291291291291291,
          6.306306306306306,
          6.321321321321321,
          6.336336336336336,
          6.351351351351351,
          6.366366366366366,
          6.381381381381381,
          6.396396396396396,
          6.411411411411412,
          6.426426426426427,
          6.441441441441442,
          6.456456456456457,
          6.471471471471472,
          6.486486486486487,
          6.501501501501502,
          6.516516516516517,
          6.531531531531532,
          6.546546546546547,
          6.561561561561562,
          6.576576576576577,
          6.591591591591592,
          6.606606606606607,
          6.621621621621622,
          6.636636636636637,
          6.651651651651652,
          6.666666666666667,
          6.681681681681682,
          6.696696696696697,
          6.711711711711712,
          6.726726726726727,
          6.741741741741742,
          6.756756756756757,
          6.771771771771772,
          6.786786786786787,
          6.801801801801802,
          6.816816816816817,
          6.831831831831832,
          6.846846846846847,
          6.861861861861862,
          6.876876876876877,
          6.891891891891892,
          6.906906906906907,
          6.921921921921922,
          6.936936936936937,
          6.951951951951952,
          6.966966966966967,
          6.981981981981982,
          6.996996996996997,
          7.012012012012012,
          7.027027027027027,
          7.042042042042042,
          7.057057057057057,
          7.072072072072072,
          7.087087087087087,
          7.102102102102102,
          7.117117117117117,
          7.132132132132132,
          7.147147147147147,
          7.162162162162162,
          7.177177177177177,
          7.192192192192192,
          7.207207207207207,
          7.222222222222222,
          7.237237237237237,
          7.252252252252252,
          7.267267267267267,
          7.282282282282282,
          7.297297297297297,
          7.312312312312312,
          7.327327327327327,
          7.342342342342342,
          7.357357357357357,
          7.372372372372372,
          7.387387387387387,
          7.402402402402402,
          7.4174174174174174,
          7.4324324324324325,
          7.4474474474474475,
          7.4624624624624625,
          7.4774774774774775,
          7.4924924924924925,
          7.5075075075075075,
          7.5225225225225225,
          7.5375375375375375,
          7.5525525525525525,
          7.5675675675675675,
          7.5825825825825826,
          7.597597597597598,
          7.612612612612613,
          7.627627627627628,
          7.642642642642643,
          7.657657657657658,
          7.672672672672673,
          7.687687687687688,
          7.702702702702703,
          7.717717717717718,
          7.732732732732733,
          7.747747747747748,
          7.762762762762763,
          7.777777777777778,
          7.792792792792793,
          7.807807807807808,
          7.822822822822823,
          7.837837837837838,
          7.852852852852853,
          7.867867867867868,
          7.882882882882883,
          7.897897897897898,
          7.912912912912913,
          7.927927927927928,
          7.942942942942943,
          7.957957957957958,
          7.972972972972973,
          7.987987987987988,
          8.003003003003004,
          8.018018018018019,
          8.033033033033034,
          8.048048048048049,
          8.063063063063064,
          8.078078078078079,
          8.093093093093094,
          8.108108108108109,
          8.123123123123124,
          8.138138138138139,
          8.153153153153154,
          8.168168168168169,
          8.183183183183184,
          8.198198198198199,
          8.213213213213214,
          8.228228228228229,
          8.243243243243244,
          8.258258258258259,
          8.273273273273274,
          8.288288288288289,
          8.303303303303304,
          8.318318318318319,
          8.333333333333334,
          8.348348348348349,
          8.363363363363364,
          8.378378378378379,
          8.393393393393394,
          8.408408408408409,
          8.423423423423424,
          8.438438438438439,
          8.453453453453454,
          8.468468468468469,
          8.483483483483484,
          8.498498498498499,
          8.513513513513514,
          8.528528528528529,
          8.543543543543544,
          8.558558558558559,
          8.573573573573574,
          8.588588588588589,
          8.603603603603604,
          8.618618618618619,
          8.633633633633634,
          8.64864864864865,
          8.663663663663664,
          8.67867867867868,
          8.693693693693694,
          8.70870870870871,
          8.723723723723724,
          8.73873873873874,
          8.753753753753754,
          8.76876876876877,
          8.783783783783784,
          8.7987987987988,
          8.813813813813814,
          8.82882882882883,
          8.843843843843844,
          8.85885885885886,
          8.873873873873874,
          8.88888888888889,
          8.903903903903904,
          8.91891891891892,
          8.933933933933934,
          8.94894894894895,
          8.963963963963964,
          8.97897897897898,
          8.993993993993994,
          9.00900900900901,
          9.024024024024024,
          9.03903903903904,
          9.054054054054054,
          9.06906906906907,
          9.084084084084084,
          9.0990990990991,
          9.114114114114114,
          9.12912912912913,
          9.144144144144144,
          9.15915915915916,
          9.174174174174174,
          9.18918918918919,
          9.204204204204204,
          9.21921921921922,
          9.234234234234235,
          9.24924924924925,
          9.264264264264265,
          9.27927927927928,
          9.294294294294295,
          9.30930930930931,
          9.324324324324325,
          9.33933933933934,
          9.354354354354355,
          9.36936936936937,
          9.384384384384385,
          9.3993993993994,
          9.414414414414415,
          9.42942942942943,
          9.444444444444445,
          9.45945945945946,
          9.474474474474475,
          9.48948948948949,
          9.504504504504505,
          9.51951951951952,
          9.534534534534535,
          9.54954954954955,
          9.564564564564565,
          9.57957957957958,
          9.594594594594595,
          9.60960960960961,
          9.624624624624625,
          9.63963963963964,
          9.654654654654655,
          9.66966966966967,
          9.684684684684685,
          9.6996996996997,
          9.714714714714715,
          9.72972972972973,
          9.744744744744745,
          9.75975975975976,
          9.774774774774775,
          9.78978978978979,
          9.804804804804805,
          9.81981981981982,
          9.834834834834835,
          9.84984984984985,
          9.864864864864865,
          9.87987987987988,
          9.894894894894895,
          9.90990990990991,
          9.924924924924925,
          9.93993993993994,
          9.954954954954955,
          9.96996996996997,
          9.984984984984985,
          10,
          10.015015015015015,
          10.03003003003003,
          10.045045045045045,
          10.06006006006006,
          10.075075075075075,
          10.09009009009009,
          10.105105105105105,
          10.12012012012012,
          10.135135135135135,
          10.15015015015015,
          10.165165165165165,
          10.18018018018018,
          10.195195195195195,
          10.21021021021021,
          10.225225225225225,
          10.24024024024024,
          10.255255255255255,
          10.27027027027027,
          10.285285285285285,
          10.3003003003003,
          10.315315315315315,
          10.33033033033033,
          10.345345345345345,
          10.36036036036036,
          10.375375375375375,
          10.39039039039039,
          10.405405405405405,
          10.42042042042042,
          10.435435435435435,
          10.45045045045045,
          10.465465465465465,
          10.48048048048048,
          10.495495495495495,
          10.51051051051051,
          10.525525525525525,
          10.54054054054054,
          10.555555555555555,
          10.57057057057057,
          10.585585585585585,
          10.6006006006006,
          10.615615615615615,
          10.63063063063063,
          10.645645645645645,
          10.66066066066066,
          10.675675675675675,
          10.69069069069069,
          10.705705705705705,
          10.72072072072072,
          10.735735735735735,
          10.75075075075075,
          10.765765765765765,
          10.78078078078078,
          10.795795795795796,
          10.81081081081081,
          10.825825825825826,
          10.84084084084084,
          10.855855855855856,
          10.87087087087087,
          10.885885885885886,
          10.9009009009009,
          10.915915915915916,
          10.93093093093093,
          10.945945945945946,
          10.96096096096096,
          10.975975975975976,
          10.99099099099099,
          11.006006006006006,
          11.02102102102102,
          11.036036036036036,
          11.05105105105105,
          11.066066066066066,
          11.08108108108108,
          11.096096096096096,
          11.11111111111111,
          11.126126126126126,
          11.14114114114114,
          11.156156156156156,
          11.17117117117117,
          11.186186186186186,
          11.2012012012012,
          11.216216216216216,
          11.23123123123123,
          11.246246246246246,
          11.26126126126126,
          11.276276276276276,
          11.29129129129129,
          11.306306306306306,
          11.32132132132132,
          11.336336336336336,
          11.35135135135135,
          11.366366366366366,
          11.381381381381381,
          11.396396396396396,
          11.411411411411411,
          11.426426426426426,
          11.441441441441441,
          11.456456456456456,
          11.471471471471471,
          11.486486486486486,
          11.501501501501501,
          11.516516516516516,
          11.531531531531531,
          11.546546546546546,
          11.561561561561561,
          11.576576576576576,
          11.591591591591591,
          11.606606606606606,
          11.621621621621621,
          11.636636636636636,
          11.651651651651651,
          11.666666666666666,
          11.681681681681681,
          11.696696696696696,
          11.711711711711711,
          11.726726726726726,
          11.741741741741741,
          11.756756756756756,
          11.771771771771771,
          11.786786786786786,
          11.801801801801801,
          11.816816816816816,
          11.831831831831831,
          11.846846846846846,
          11.861861861861861,
          11.876876876876876,
          11.891891891891891,
          11.906906906906906,
          11.921921921921921,
          11.936936936936936,
          11.951951951951951,
          11.966966966966966,
          11.981981981981981,
          11.996996996996996,
          12.012012012012011,
          12.027027027027026,
          12.042042042042041,
          12.057057057057056,
          12.072072072072071,
          12.087087087087086,
          12.102102102102101,
          12.117117117117116,
          12.132132132132131,
          12.147147147147146,
          12.162162162162161,
          12.177177177177176,
          12.192192192192191,
          12.207207207207206,
          12.222222222222221,
          12.237237237237236,
          12.252252252252251,
          12.267267267267266,
          12.282282282282281,
          12.297297297297296,
          12.312312312312311,
          12.327327327327327,
          12.342342342342342,
          12.357357357357357,
          12.372372372372372,
          12.387387387387387,
          12.402402402402402,
          12.417417417417417,
          12.432432432432432,
          12.447447447447447,
          12.462462462462462,
          12.477477477477477,
          12.492492492492492,
          12.507507507507507,
          12.522522522522522,
          12.537537537537537,
          12.552552552552552,
          12.567567567567567,
          12.582582582582582,
          12.597597597597597,
          12.612612612612612,
          12.627627627627627,
          12.642642642642642,
          12.657657657657657,
          12.672672672672672,
          12.687687687687687,
          12.702702702702702,
          12.717717717717717,
          12.732732732732732,
          12.747747747747747,
          12.762762762762762,
          12.777777777777777,
          12.792792792792792,
          12.807807807807807,
          12.822822822822824,
          12.837837837837839,
          12.852852852852854,
          12.867867867867869,
          12.882882882882884,
          12.897897897897899,
          12.912912912912914,
          12.927927927927929,
          12.942942942942944,
          12.957957957957959,
          12.972972972972974,
          12.987987987987989,
          13.003003003003004,
          13.018018018018019,
          13.033033033033034,
          13.048048048048049,
          13.063063063063064,
          13.078078078078079,
          13.093093093093094,
          13.108108108108109,
          13.123123123123124,
          13.138138138138139,
          13.153153153153154,
          13.168168168168169,
          13.183183183183184,
          13.198198198198199,
          13.213213213213214,
          13.228228228228229,
          13.243243243243244,
          13.258258258258259,
          13.273273273273274,
          13.288288288288289,
          13.303303303303304,
          13.318318318318319,
          13.333333333333334,
          13.348348348348349,
          13.363363363363364,
          13.378378378378379,
          13.393393393393394,
          13.408408408408409,
          13.423423423423424,
          13.438438438438439,
          13.453453453453454,
          13.468468468468469,
          13.483483483483484,
          13.498498498498499,
          13.513513513513514,
          13.528528528528529,
          13.543543543543544,
          13.558558558558559,
          13.573573573573574,
          13.588588588588589,
          13.603603603603604,
          13.618618618618619,
          13.633633633633634,
          13.64864864864865,
          13.663663663663664,
          13.67867867867868,
          13.693693693693694,
          13.70870870870871,
          13.723723723723724,
          13.73873873873874,
          13.753753753753754,
          13.76876876876877,
          13.783783783783784,
          13.7987987987988,
          13.813813813813814,
          13.82882882882883,
          13.843843843843844,
          13.85885885885886,
          13.873873873873874,
          13.88888888888889,
          13.903903903903904,
          13.91891891891892,
          13.933933933933934,
          13.94894894894895,
          13.963963963963964,
          13.97897897897898,
          13.993993993993994,
          14.00900900900901,
          14.024024024024024,
          14.03903903903904,
          14.054054054054054,
          14.06906906906907,
          14.084084084084084,
          14.0990990990991,
          14.114114114114114,
          14.12912912912913,
          14.144144144144144,
          14.15915915915916,
          14.174174174174174,
          14.18918918918919,
          14.204204204204204,
          14.21921921921922,
          14.234234234234235,
          14.24924924924925,
          14.264264264264265,
          14.27927927927928,
          14.294294294294295,
          14.30930930930931,
          14.324324324324325,
          14.33933933933934,
          14.354354354354355,
          14.36936936936937,
          14.384384384384385,
          14.3993993993994,
          14.414414414414415,
          14.42942942942943,
          14.444444444444445,
          14.45945945945946,
          14.474474474474475,
          14.48948948948949,
          14.504504504504505,
          14.51951951951952,
          14.534534534534535,
          14.54954954954955,
          14.564564564564565,
          14.57957957957958,
          14.594594594594595,
          14.60960960960961,
          14.624624624624625,
          14.63963963963964,
          14.654654654654655,
          14.66966966966967,
          14.684684684684685,
          14.6996996996997,
          14.714714714714715,
          14.72972972972973,
          14.744744744744745,
          14.75975975975976,
          14.774774774774775,
          14.78978978978979,
          14.804804804804805,
          14.81981981981982,
          14.834834834834835,
          14.84984984984985,
          14.864864864864865,
          14.87987987987988,
          14.894894894894895,
          14.90990990990991,
          14.924924924924925,
          14.93993993993994,
          14.954954954954955,
          14.96996996996997,
          14.984984984984985,
          15
         ],
         "y": [
          0.014644982561926494,
          0.014866201185982975,
          0.015090080981310821,
          0.015316641683113941,
          0.015545902957989084,
          0.015777884399322338,
          0.016012605522633155,
          0.016250085760866492,
          0.016490344459633616,
          0.016733400872401993,
          0.016979274155634903,
          0.01722798336388135,
          0.017479547444816806,
          0.017733985234235562,
          0.017991315450995124,
          0.018251556691913615,
          0.018514727426620563,
          0.018780845992362107,
          0.01904993058876119,
          0.019321999272533506,
          0.019597069952160217,
          0.019875160382517985,
          0.02015628815946735,
          0.020440470714400343,
          0.020727725308748123,
          0.02101806902844969,
          0.021311518778382537,
          0.02160809127675637,
          0.02190780304947062,
          0.02221067042443716,
          0.02251670952586896,
          0.022825936268535928,
          0.023138366351989105,
          0.023454015254754036,
          0.02377289822849502,
          0.02409503029215078,
          0.024420426226043353,
          0.024749100565961014,
          0.02508106759721677,
          0.02541634134868348,
          0.02575493558680716,
          0.0260968638095996,
          0.026442139240611715,
          0.026790774822889156,
          0.027142783212911314,
          0.02749817677451541,
          0.027856967572806996,
          0.028219167368058337,
          0.028584787609596304,
          0.02895383942968104,
          0.029326333637377345,
          0.029702280712419964,
          0.0300816907990746,
          0.030464573699996174,
          0.030850938870086,
          0.03124079541034962,
          0.03163415206175671,
          0.03203101719910513,
          0.03243139882489052,
          0.03283530456318334,
          0.03324274165351511,
          0.03365371694477554,
          0.03406823688912253,
          0.03448630753590654,
          0.03490793452561156,
          0.03533312308381418,
          0.03576187801516287,
          0.03619420369737921,
          0.03663010407528303,
          0.03706958265484341,
          0.03751264249725737,
          0.037959286213058295,
          0.038409515956256024,
          0.03886333341851049,
          0.0393207398233411,
          0.03978173592037361,
          0.0402463219796267,
          0.040714497785840145,
          0.04118626263284673,
          0.04166161531798974,
          0.042140554136588404,
          0.042623076876453,
          0.043109180812452,
          0.04359886270113302,
          0.04409211877539998,
          0.044588944739248314,
          0.04508933576256041,
          0.045593286475963404,
          0.04610079096575141,
          0.046611842768874284,
          0.04712643486799493,
          0.04764455968661753,
          0.04816620908428851,
          0.04869137435187244,
          0.04922004620690523,
          0.04975221478902619,
          0.05028786965549164,
          0.05082699977677178,
          0.05136959353223314,
          0.05191563870590854,
          0.052465122482356734,
          0.05301803144261391,
          0.05357435156023893,
          0.05413406819745443,
          0.05469716610138607,
          0.055263629400401644,
          0.05583344160055227,
          0.056406585582117724,
          0.0569830435962578,
          0.057562797261771874,
          0.05814582756196846,
          0.05873211484164698,
          0.05932163880419336,
          0.05991437850879186,
          0.060510312367754567,
          0.061109418143970924,
          0.06171167294847882,
          0.0623170532381593,
          0.06292553481355673,
          0.0635370928168262,
          0.06415170172980997,
          0.06476933537224487,
          0.06538996690010208,
          0.06601356880406155,
          0.06664011290812219,
          0.06726957036835002,
          0.0679019116717655,
          0.06853710663537206,
          0.0691751244053271,
          0.06981593345625715,
          0.07045950159071891,
          0.07110579593880732,
          0.07175478295791232,
          0.07240642843262586,
          0.07306069747480028,
          0.07371755452375968,
          0.07437696334666544,
          0.07503888703903724,
          0.075703288025431,
          0.07637012806027449,
          0.0770393682288625,
          0.07771096894851193,
          0.07838488996987861,
          0.07906109037843628,
          0.07973952859611938,
          0.08042016238312985,
          0.08110294883990972,
          0.08178784440927972,
          0.082474804878745,
          0.08316378538296884,
          0.08385474040641482,
          0.08454762378615846,
          0.08524238871486885,
          0.08593898774396068,
          0.08663737278691767,
          0.08733749512278736,
          0.08803930539984824,
          0.0887427536394491,
          0.08944778924002159,
          0.09015436098126557,
          0.090862417028508,
          0.0915719049372355,
          0.0922827716578004,
          0.09299496354030087,
          0.09370842633963473,
          0.09442310522072708,
          0.09513894476393167,
          0.09585588897060603,
          0.09657388126885973,
          0.09729286451947611,
          0.09801278102200668,
          0.09873357252103813,
          0.0994551802126313,
          0.10017754475093192,
          0.10090060625495237,
          0.1016243043155239,
          0.1023485780024187,
          0.10307336587164113,
          0.10379860597288737,
          0.10452423585717242,
          0.10525019258462401,
          0.10597641273244197,
          0.1067028324030226,
          0.10742938723224638,
          0.10815601239792846,
          0.10888264262843035,
          0.10960921221143179,
          0.1103356550028614,
          0.11106190443598483,
          0.11178789353064891,
          0.11251355490268032,
          0.11323882077343743,
          0.11396362297951343,
          0.11468789298258936,
          0.11541156187943508,
          0.1161345604120568,
          0.11685681897798883,
          0.117578267640728,
          0.11829883614030898,
          0.11901845390401791,
          0.119737050057243,
          0.12045455343445936,
          0.12117089259034639,
          0.12188599581103517,
          0.12259979112548382,
          0.12331220631697834,
          0.12402316893475657,
          0.124732606305753,
          0.12544044554646172,
          0.12614661357491505,
          0.12685103712277535,
          0.12755364274753742,
          0.12825435684483838,
          0.1289531056608729,
          0.12964981530491057,
          0.1303444117619126,
          0.13103682090524543,
          0.13172696850948742,
          0.13241478026332673,
          0.13310018178254648,
          0.13378309862309462,
          0.13446345629423528,
          0.13514118027177832,
          0.13581619601138428,
          0.1364884289619409,
          0.13715780457900867,
          0.13782424833833126,
          0.13848768574940845,
          0.13914804236912737,
          0.139805243815449,
          0.1404592157811465,
          0.14110988404759187,
          0.1417571744985871,
          0.1424010131342372,
          0.14304132608486006,
          0.14367803962493106,
          0.14431108018705774,
          0.1449403743759815,
          0.14556584898260222,
          0.14618743099802242,
          0.14680504762760707,
          0.14741862630505526,
          0.1480280947064803,
          0.14863338076449392,
          0.1492344126822913,
          0.14983111894773268,
          0.15042342834741826,
          0.1510112699807517,
          0.1515945732739894,
          0.15217326799427083,
          0.15274728426362646,
          0.15331655257295948,
          0.15388100379599687,
          0.15444056920320678,
          0.15499518047567756,
          0.15554476971895484,
          0.1560892694768329,
          0.15662861274509618,
          0.15716273298520708,
          0.1576915641379363,
          0.15821504063693173,
          0.15873309742222189,
          0.1592456699536502,
          0.15975269422423624,
          0.16025410677345997,
          0.16074984470046524,
          0.1612398456771785,
          0.16172404796133927,
          0.16220239040943812,
          0.16267481248955895,
          0.1631412542941211,
          0.16360165655251804,
          0.16405596064364894,
          0.16450410860833892,
          0.16494604316164496,
          0.16538170770504323,
          0.1658110463384948,
          0.16623400387238535,
          0.16665052583933632,
          0.16706055850588286,
          0.16746404888401625,
          0.16786094474258614,
          0.16825119461856006,
          0.16863474782813653,
          0.16901155447770821,
          0.16938156547467204,
          0.16974473253808295,
          0.17010100820914806,
          0.1704503458615579,
          0.17079269971165187,
          0.17112802482841433,
          0.17145627714329897,
          0.17177741345987785,
          0.17209139146331226,
          0.17239816972964278,
          0.17269770773489554,
          0.17298996586400153,
          0.173274905419527,
          0.17355248863021133,
          0.17382267865931034,
          0.17408543961274256,
          0.17434073654703522,
          0.17458853547706835,
          0.17482880338361392,
          0.17506150822066832,
          0.17528661892257494,
          0.17550410541093592,
          0.17571393860130974,
          0.17591609040969328,
          0.17611053375878596,
          0.17629724258403423,
          0.1764761918394545,
          0.17664735750323246,
          0.17681071658309724,
          0.17696624712146888,
          0.177113928200377,
          0.1772537399461496,
          0.17738566353387042,
          0.17750968119160318,
          0.1776257762043819,
          0.1777339329179653,
          0.17783413674235482,
          0.17792637415507498,
          0.17801063270421447,
          0.17808690101122798,
          0.1781551687734971,
          0.17821542676664967,
          0.1782676668466373,
          0.1783118819515697,
          0.17834806610330567,
          0.1783762144088004,
          0.17839632306120798,
          0.17840838934073974,
          0.17841241161527713,
          0.17840838934073974,
          0.17839632306120798,
          0.1783762144088004,
          0.17834806610330567,
          0.1783118819515697,
          0.1782676668466373,
          0.17821542676664967,
          0.1781551687734971,
          0.17808690101122798,
          0.17801063270421447,
          0.17792637415507498,
          0.17783413674235482,
          0.1777339329179653,
          0.1776257762043819,
          0.17750968119160318,
          0.17738566353387042,
          0.1772537399461496,
          0.177113928200377,
          0.17696624712146888,
          0.17681071658309724,
          0.17664735750323246,
          0.1764761918394545,
          0.17629724258403423,
          0.17611053375878596,
          0.17591609040969328,
          0.17571393860130974,
          0.17550410541093592,
          0.17528661892257494,
          0.17506150822066832,
          0.17482880338361392,
          0.17458853547706835,
          0.17434073654703522,
          0.17408543961274256,
          0.17382267865931034,
          0.17355248863021133,
          0.173274905419527,
          0.17298996586400153,
          0.17269770773489554,
          0.17239816972964278,
          0.17209139146331226,
          0.17177741345987785,
          0.17145627714329897,
          0.17112802482841433,
          0.17079269971165187,
          0.1704503458615579,
          0.17010100820914806,
          0.16974473253808295,
          0.16938156547467204,
          0.16901155447770821,
          0.16863474782813653,
          0.16825119461856006,
          0.16786094474258614,
          0.16746404888401625,
          0.16706055850588286,
          0.16665052583933632,
          0.16623400387238535,
          0.1658110463384948,
          0.16538170770504323,
          0.16494604316164496,
          0.16450410860833892,
          0.16405596064364894,
          0.16360165655251804,
          0.1631412542941211,
          0.16267481248955895,
          0.16220239040943812,
          0.16172404796133927,
          0.16123984567717853,
          0.16074984470046527,
          0.16025410677346,
          0.15975269422423624,
          0.1592456699536502,
          0.15873309742222189,
          0.15821504063693173,
          0.15769156413793634,
          0.15716273298520708,
          0.15662861274509618,
          0.1560892694768329,
          0.15554476971895487,
          0.1549951804756776,
          0.15444056920320678,
          0.15388100379599687,
          0.15331655257295948,
          0.1527472842636265,
          0.15217326799427083,
          0.15159457327398942,
          0.1510112699807517,
          0.15042342834741826,
          0.1498311189477327,
          0.1492344126822913,
          0.14863338076449395,
          0.14802809470648032,
          0.14741862630505528,
          0.14680504762760707,
          0.1461874309980224,
          0.1455658489826022,
          0.14494037437598148,
          0.1443110801870577,
          0.14367803962493103,
          0.14304132608486003,
          0.1424010131342372,
          0.1417571744985871,
          0.14110988404759184,
          0.1404592157811465,
          0.13980524381544898,
          0.13914804236912734,
          0.13848768574940842,
          0.13782424833833123,
          0.13715780457900864,
          0.13648842896194088,
          0.13581619601138425,
          0.13514118027177832,
          0.13446345629423526,
          0.13378309862309462,
          0.13310018178254648,
          0.1324147802633267,
          0.1317269685094874,
          0.1310368209052454,
          0.13034441176191258,
          0.12964981530491057,
          0.1289531056608729,
          0.12825435684483838,
          0.12755364274753742,
          0.12685103712277535,
          0.12614661357491505,
          0.12544044554646172,
          0.124732606305753,
          0.12402316893475657,
          0.12331220631697834,
          0.12259979112548382,
          0.12188599581103517,
          0.12117089259034639,
          0.12045455343445936,
          0.119737050057243,
          0.11901845390401791,
          0.11829883614030898,
          0.117578267640728,
          0.11685681897798883,
          0.1161345604120568,
          0.11541156187943508,
          0.11468789298258936,
          0.11396362297951343,
          0.11323882077343743,
          0.11251355490268032,
          0.11178789353064891,
          0.11106190443598483,
          0.1103356550028614,
          0.10960921221143179,
          0.10888264262843035,
          0.10815601239792846,
          0.10742938723224638,
          0.1067028324030226,
          0.10597641273244197,
          0.10525019258462401,
          0.10452423585717242,
          0.10379860597288737,
          0.10307336587164113,
          0.1023485780024187,
          0.1016243043155239,
          0.10090060625495237,
          0.10017754475093192,
          0.0994551802126313,
          0.09873357252103813,
          0.09801278102200668,
          0.09729286451947611,
          0.09657388126885973,
          0.09585588897060603,
          0.09513894476393167,
          0.09442310522072708,
          0.09370842633963473,
          0.09299496354030087,
          0.0922827716578004,
          0.0915719049372355,
          0.090862417028508,
          0.09015436098126557,
          0.08944778924002159,
          0.0887427536394491,
          0.08803930539984824,
          0.08733749512278736,
          0.08663737278691767,
          0.08593898774396068,
          0.08524238871486885,
          0.08454762378615846,
          0.08385474040641482,
          0.08316378538296884,
          0.082474804878745,
          0.08178784440927972,
          0.08110294883990972,
          0.08042016238312985,
          0.07973952859611938,
          0.07906109037843628,
          0.07838488996987861,
          0.07771096894851193,
          0.0770393682288625,
          0.07637012806027449,
          0.075703288025431,
          0.07503888703903724,
          0.07437696334666544,
          0.07371755452375968,
          0.07306069747480028,
          0.07240642843262582,
          0.07175478295791228,
          0.0711057959388073,
          0.07045950159071887,
          0.06981593345625711,
          0.06917512440532705,
          0.06853710663537202,
          0.06790191167176547,
          0.06726957036834998,
          0.06664011290812215,
          0.06601356880406149,
          0.06538996690010203,
          0.06476933537224483,
          0.06415170172980994,
          0.06353709281682617,
          0.06292553481355669,
          0.06231705323815927,
          0.06171167294847878,
          0.06110941814397088,
          0.06051031236775454,
          0.05991437850879182,
          0.059321638804193326,
          0.058732114841646955,
          0.05814582756196842,
          0.05756279726177183,
          0.05698304359625776,
          0.056406585582117696,
          0.055833441600552265,
          0.05526362940040162,
          0.054697166101386065,
          0.054134068197454414,
          0.05357435156023891,
          0.053018031442613904,
          0.05246512248235673,
          0.05191563870590852,
          0.05136959353223313,
          0.05082699977677177,
          0.05028786965549162,
          0.04975221478902618,
          0.04922004620690522,
          0.04869137435187242,
          0.04816620908428848,
          0.04764455968661751,
          0.04712643486799492,
          0.046611842768874284,
          0.046100790965751405,
          0.0455932864759634,
          0.04508933576256039,
          0.04458894473924831,
          0.04409211877539997,
          0.043598862701133,
          0.043109180812451985,
          0.042623076876452996,
          0.04214055413658838,
          0.04166161531798973,
          0.041186262632846714,
          0.040714497785840145,
          0.04024632197962668,
          0.039781735920373595,
          0.03932073982334108,
          0.03886333341851048,
          0.038409515956256024,
          0.03795928621305829,
          0.037512642497257366,
          0.0370695826548434,
          0.03663010407528302,
          0.0361942036973792,
          0.03576187801516287,
          0.03533312308381418,
          0.03490793452561156,
          0.03448630753590654,
          0.03406823688912253,
          0.03365371694477554,
          0.03324274165351511,
          0.03283530456318334,
          0.03243139882489052,
          0.03203101719910513,
          0.03163415206175671,
          0.03124079541034962,
          0.030850938870086,
          0.030464573699996174,
          0.0300816907990746,
          0.029702280712419964,
          0.029326333637377345,
          0.02895383942968104,
          0.028584787609596304,
          0.028219167368058337,
          0.027856967572806996,
          0.02749817677451541,
          0.027142783212911314,
          0.026790774822889156,
          0.026442139240611715,
          0.0260968638095996,
          0.02575493558680716,
          0.02541634134868348,
          0.02508106759721677,
          0.024749100565961014,
          0.024420426226043353,
          0.02409503029215078,
          0.02377289822849502,
          0.023454015254754036,
          0.023138366351989105,
          0.022825936268535928,
          0.02251670952586896,
          0.02221067042443716,
          0.02190780304947062,
          0.02160809127675637,
          0.021311518778382537,
          0.02101806902844969,
          0.020727725308748123,
          0.020440470714400343,
          0.02015628815946735,
          0.019875160382517985,
          0.019597069952160217,
          0.019321999272533506,
          0.01904993058876119,
          0.018780845992362107,
          0.018514727426620563,
          0.018251556691913615,
          0.017991315450995124,
          0.017733985234235562,
          0.017479547444816806,
          0.01722798336388135,
          0.016979274155634903,
          0.016733400872401993,
          0.016490344459633616,
          0.016250085760866492,
          0.016012605522633155,
          0.015777884399322338,
          0.015545902957989084,
          0.015316641683113941,
          0.015090080981310821,
          0.014866201185982975,
          0.014644982561926494,
          0.01442640530988108,
          0.014210449571027454,
          0.01399709543143112,
          0.013786322926431964,
          0.013578112044979522,
          0.013372442733913324,
          0.01316929490218815,
          0.012968648425043895,
          0.012770483148119667,
          0.012574778891511955,
          0.012381515453776583,
          0.01219067261587422,
          0.012002230145059337,
          0.011816167798712286,
          0.011632465328114542,
          0.011451102482166764,
          0.011272059011049745,
          0.011095314669828063,
          0.010920849221996331,
          0.010748642442968116,
          0.010578674123507327,
          0.010410924073102214,
          0.010245372123281832,
          0.010081998130875108,
          0.009920781981212505,
          0.009761703591270257,
          0.009604742912757418,
          0.009449879935145651,
          0.009297094688641929,
          0.00914636724710427,
          0.008997677730900667,
          0.008851006309711265,
          0.00870633320527408,
          0.00856363869407435,
          0.008422903109977767,
          0.008284106846807743,
          0.008147230360867038,
          0.008012254173403857,
          0.007879158873022768,
          0.007747925118040672,
          0.007618533638788098,
          0.007490965239856129,
          0.007365200802289241,
          0.007241221285724381,
          0.007119007730476643,
          0.006998541259571795,
          0.006879803080726102,
          0.006762774488273757,
          0.006647436865042247,
          0.006533771684176148,
          0.0064217605109096266,
          0.006311385004288088,
          0.006202626918839403,
          0.006095468106195097,
          0.005989890516661935,
          0.005885876200744335,
          0.005783407310618053,
          0.005682466101555613,
          0.005583034933303874,
          0.005485096271414273,
          0.005388632688526141,
          0.0052936268656036565,
          0.0052000615931268165,
          0.005107919772236993,
          0.005017184415837541,
          0.004927838649649933,
          0.00483986571322599,
          0.004753248960916634,
          0.004667971862797742,
          0.004584018005553597,
          0.004501371093318443,
          0.004420014948476696,
          0.004339933512422332,
          0.004261110846277956,
          0.004183531131574144,
          0.004107178670889531,
          0.004032037888452263,
          0.0039580933307032575,
          0.003885329666821925,
          0.0038137316892147997,
          0.0037432843139677116,
          0.0036739725812619762,
          0.003605781655755225,
          0.0035386968269273556,
          0.0034727035093922234,
          0.0034077872431755593,
          0.003343933693959734,
          0.0032811286532958635,
          0.0032193580387838605,
          0.0031586078942209364,
          0.0030988643897191404,
          0.003040113821792469,
          0.0029823426134141192,
          0.002925537314044403,
          0.0028696845996298848,
          0.0028147712725743175,
          0.002760784261681871,
          0.002707710622073228,
          0.002655537535075095,
          0.002604252308083646,
          0.0025538423744024606,
          0.0025042952930554546,
          0.002455598748575384,
          0.0024077405507684155,
          0.002360708634455305,
          0.0023144910591897066,
          0.0022690760089541374,
          0.002224451791834095,
          0.002180606839670888,
          0.002137529707693637,
          0.0020952090741309807,
          0.0020536337398030097,
          0.0020127926276938784,
          0.001972674782505649,
          0.0019332693701938066,
          0.0018945656774849776,
          0.0018565531113773064,
          0.0018192211986239918,
          0.0017825595852004302,
          0.0017465580357554726,
          0.0017112064330472355,
          0.0016764947773639364,
          0.0016424131859302158,
          0.001608951892299386,
          0.001576101245732076,
          0.0015438517105616915,
          0.001512193865547144,
          0.0014811184032132753,
          0.0014506161291794122,
          0.0014206779614764713,
          0.0013912949298530233,
          0.0013624581750707476,
          0.00133415894818967,
          0.001306388609843592,
          0.0012791386295061137,
          0.0012524005847476213,
          0.0012261661604836668,
          0.0012004271482150704,
          0.0011751754452601637,
          0.0011504030539795167,
          0.0011261020809935384,
          0.0011022647363932766,
          0.0010788833329448124,
          0.0010559502852875622,
          0.001033458109126848,
          0.0010113994204210748,
          0.0009897669345638428,
          0.0009685534655613163,
          0.0009477519252051802,
          0.0009273553222415005,
          0.0009073567615357798,
          0.000887749443234545,
          0.0008685266619237361,
          0.0008496818057842076,
          0.000831208355744626,
          0.0008130998846320443,
          0.0007953500563204378,
          0.0007779526248774621,
          0.0007609014337097142,
          0.0007441904147067483,
          0.0007278135873841043,
          0.0007117650580256003,
          0.0006960390188251397,
          0.0006806297470282633,
          0.000665531604073694,
          0.0006507390347350887,
          0.0006362465662632388,
          0.0006220488075289246,
          0.000608140448166651,
          0.0005945162577194637,
          0.0005811710847850516,
          0.0005680998561633459,
          0.0005552975760057956,
          0.000542759324966518,
          0.0005304802593555097,
          0.0005184556102940908,
          0.0005066806828727684,
          0.0004951508553116788,
          0.000483861578123782,
          0.000472808373280971,
          0.00046198683338324116,
          0.0004513926208310882,
          0.0004410214670012695,
          0.00043086917142607875,
          0.00042093160097627025,
          0.00041120468904776885,
          0.0004016844347522952,
          0.0003923669021120301,
          0.00038324821925845106,
          0.00037432457763543454,
          0.0003655922312067693,
          0.000357047495668165,
          0.0003486867476638751,
          0.00034050642400802874,
          0.0003325030209107797,
          0.00032467309320935266,
          0.0003170132536040894,
          0.00030952017189957674,
          0.0003021905742509373,
          0.00029502124241536807,
          0.00028800901300899735,
          0.0002811507767691395,
          0.00027444347782200644,
          0.0002678841129559543,
          0.0002614697309003175,
          0.0002551974316098943,
          0.00024906436555514135,
          0.00024306773301812523,
          0.00023720478339428635,
          0.00023147281450005975,
          0.00022586917188639505,
          0.00022039124815822095,
          0.00021503648229988877,
          0.00020980235900663224,
          0.0002046864080220773,
          0.00019968620348182742,
          0.0001947993632631592,
          0.00019002354834084728,
          0.00018535646214914024,
          0.000180795849949916,
          0.00017633949820702115,
          0.0001719852339668215,
          0.00016773092424496888,
          0.00016357447541939755,
          0.0001595138326295589,
          0.0001555469791819006,
          0.00015167193596159133,
          0.00014788676085049943,
          0.00014418954815141784,
          0.00014057842801854043,
          0.00013705156589418051,
          0.00013360716195172977,
          0.00013024345054484754,
          0.00012695869966287325,
          0.00012375121039244952,
          0.00012061931638534363,
          0.00011756138333245493,
          0.00011457580844398913,
          0.00011166101993578628,
          0.00010881547652177943,
          0.00010603766691256704,
          0.00010332610932007597,
          0.00010067935096829349,
          9.809596761004118e-05,
          9.55745630497693e-05,
          9.311376867234083e-05,
          9.071224297778056e-05,
          8.836867112195879e-05,
          8.608176446317837e-05,
          8.385026011463628e-05,
          8.167292050272548e-05,
          7.95485329311453e-05,
          7.747590915078456e-05,
          7.545388493534459e-05,
          7.348131966266337e-05,
          7.155709590170671e-05,
          6.968011900518674e-05,
          6.78493167077716e-05,
          6.60636387298441e-05,
          6.432205638677295e-05,
          6.26235622036532e-05,
          6.0967169535476967e-05,
          5.9351912192690905e-05,
          5.7776844072099986e-05,
          5.624103879307267e-05,
          5.474358933900562e-05,
          5.3283607704003816e-05,
          5.186022454473145e-05,
          5.047258883738823e-05,
          4.911986753976787e-05,
          4.780124525835126e-05,
          4.651592392038947e-05,
          4.526312245092962e-05,
          4.4042076454738444e-05,
          4.285203790307543e-05,
          4.169227482526879e-05,
          4.0562071005047825e-05,
          3.946072568158303e-05,
          3.838755325518709e-05,
          3.734188299762888e-05,
          3.632305876701226e-05,
          3.5330438727171545e-05,
          3.43633950715359e-05,
          3.342131375141397e-05,
          3.2503594208651146e-05,
          3.16096491126099e-05,
          3.0738904101426e-05,
          2.989079752749194e-05,
          2.906478020711863e-05,
          2.8260315174327992e-05,
          2.7476877438727293e-05,
          2.671395374741749e-05,
          2.597104235088779e-05,
          2.5247652772847058e-05,
          2.4543305583945967e-05,
          2.385753217934045e-05,
          2.318987456004995e-05,
          2.2539885118062034e-05,
          2.1907126425136922e-05,
          2.129117102526362e-05,
          2.069160123072169e-05,
          2.0108008921701514e-05,
          1.953999534943591e-05,
          1.898717094279743e-05,
          1.8449155118314988e-05,
          1.7925576093563562e-05,
          1.7416070703881708e-05,
          1.6920284222371344e-05,
          1.643787018313459e-05,
          1.596849020770276e-05,
          1.5511813834613078e-05,
          1.5067518352088808e-05,
          1.4635288633778495e-05,
          1.421481697751124e-05,
          1.3805802947023755e-05,
          1.3407953216617095e-05,
          1.302098141869955e-05,
          1.2644607994173812e-05,
          1.2278560045625964e-05,
          1.1922571193274927e-05,
          1.1576381433640621e-05,
          1.1239737000890162e-05,
          1.0912390230821078e-05,
          1.0594099427441592e-05,
          1.028462873210758e-05,
          9.9837479951772e-06,
          9.691232650143363e-06,
          9.406863590205599e-06,
          9.130427047242907e-06,
          8.861714473149039e-06,
          8.600522423493164e-06,
          8.346652443468038e-06,
          8.099910956089133e-06
         ]
        }
       ],
       "layout": {
        "plot_bgcolor": "white",
        "template": {
         "data": {
          "bar": [
           {
            "error_x": {
             "color": "#2a3f5f"
            },
            "error_y": {
             "color": "#2a3f5f"
            },
            "marker": {
             "line": {
              "color": "#E5ECF6",
              "width": 0.5
             },
             "pattern": {
              "fillmode": "overlay",
              "size": 10,
              "solidity": 0.2
             }
            },
            "type": "bar"
           }
          ],
          "barpolar": [
           {
            "marker": {
             "line": {
              "color": "#E5ECF6",
              "width": 0.5
             },
             "pattern": {
              "fillmode": "overlay",
              "size": 10,
              "solidity": 0.2
             }
            },
            "type": "barpolar"
           }
          ],
          "carpet": [
           {
            "aaxis": {
             "endlinecolor": "#2a3f5f",
             "gridcolor": "white",
             "linecolor": "white",
             "minorgridcolor": "white",
             "startlinecolor": "#2a3f5f"
            },
            "baxis": {
             "endlinecolor": "#2a3f5f",
             "gridcolor": "white",
             "linecolor": "white",
             "minorgridcolor": "white",
             "startlinecolor": "#2a3f5f"
            },
            "type": "carpet"
           }
          ],
          "choropleth": [
           {
            "colorbar": {
             "outlinewidth": 0,
             "ticks": ""
            },
            "type": "choropleth"
           }
          ],
          "contour": [
           {
            "colorbar": {
             "outlinewidth": 0,
             "ticks": ""
            },
            "colorscale": [
             [
              0,
              "#0d0887"
             ],
             [
              0.1111111111111111,
              "#46039f"
             ],
             [
              0.2222222222222222,
              "#7201a8"
             ],
             [
              0.3333333333333333,
              "#9c179e"
             ],
             [
              0.4444444444444444,
              "#bd3786"
             ],
             [
              0.5555555555555556,
              "#d8576b"
             ],
             [
              0.6666666666666666,
              "#ed7953"
             ],
             [
              0.7777777777777778,
              "#fb9f3a"
             ],
             [
              0.8888888888888888,
              "#fdca26"
             ],
             [
              1,
              "#f0f921"
             ]
            ],
            "type": "contour"
           }
          ],
          "contourcarpet": [
           {
            "colorbar": {
             "outlinewidth": 0,
             "ticks": ""
            },
            "type": "contourcarpet"
           }
          ],
          "heatmap": [
           {
            "colorbar": {
             "outlinewidth": 0,
             "ticks": ""
            },
            "colorscale": [
             [
              0,
              "#0d0887"
             ],
             [
              0.1111111111111111,
              "#46039f"
             ],
             [
              0.2222222222222222,
              "#7201a8"
             ],
             [
              0.3333333333333333,
              "#9c179e"
             ],
             [
              0.4444444444444444,
              "#bd3786"
             ],
             [
              0.5555555555555556,
              "#d8576b"
             ],
             [
              0.6666666666666666,
              "#ed7953"
             ],
             [
              0.7777777777777778,
              "#fb9f3a"
             ],
             [
              0.8888888888888888,
              "#fdca26"
             ],
             [
              1,
              "#f0f921"
             ]
            ],
            "type": "heatmap"
           }
          ],
          "heatmapgl": [
           {
            "colorbar": {
             "outlinewidth": 0,
             "ticks": ""
            },
            "colorscale": [
             [
              0,
              "#0d0887"
             ],
             [
              0.1111111111111111,
              "#46039f"
             ],
             [
              0.2222222222222222,
              "#7201a8"
             ],
             [
              0.3333333333333333,
              "#9c179e"
             ],
             [
              0.4444444444444444,
              "#bd3786"
             ],
             [
              0.5555555555555556,
              "#d8576b"
             ],
             [
              0.6666666666666666,
              "#ed7953"
             ],
             [
              0.7777777777777778,
              "#fb9f3a"
             ],
             [
              0.8888888888888888,
              "#fdca26"
             ],
             [
              1,
              "#f0f921"
             ]
            ],
            "type": "heatmapgl"
           }
          ],
          "histogram": [
           {
            "marker": {
             "pattern": {
              "fillmode": "overlay",
              "size": 10,
              "solidity": 0.2
             }
            },
            "type": "histogram"
           }
          ],
          "histogram2d": [
           {
            "colorbar": {
             "outlinewidth": 0,
             "ticks": ""
            },
            "colorscale": [
             [
              0,
              "#0d0887"
             ],
             [
              0.1111111111111111,
              "#46039f"
             ],
             [
              0.2222222222222222,
              "#7201a8"
             ],
             [
              0.3333333333333333,
              "#9c179e"
             ],
             [
              0.4444444444444444,
              "#bd3786"
             ],
             [
              0.5555555555555556,
              "#d8576b"
             ],
             [
              0.6666666666666666,
              "#ed7953"
             ],
             [
              0.7777777777777778,
              "#fb9f3a"
             ],
             [
              0.8888888888888888,
              "#fdca26"
             ],
             [
              1,
              "#f0f921"
             ]
            ],
            "type": "histogram2d"
           }
          ],
          "histogram2dcontour": [
           {
            "colorbar": {
             "outlinewidth": 0,
             "ticks": ""
            },
            "colorscale": [
             [
              0,
              "#0d0887"
             ],
             [
              0.1111111111111111,
              "#46039f"
             ],
             [
              0.2222222222222222,
              "#7201a8"
             ],
             [
              0.3333333333333333,
              "#9c179e"
             ],
             [
              0.4444444444444444,
              "#bd3786"
             ],
             [
              0.5555555555555556,
              "#d8576b"
             ],
             [
              0.6666666666666666,
              "#ed7953"
             ],
             [
              0.7777777777777778,
              "#fb9f3a"
             ],
             [
              0.8888888888888888,
              "#fdca26"
             ],
             [
              1,
              "#f0f921"
             ]
            ],
            "type": "histogram2dcontour"
           }
          ],
          "mesh3d": [
           {
            "colorbar": {
             "outlinewidth": 0,
             "ticks": ""
            },
            "type": "mesh3d"
           }
          ],
          "parcoords": [
           {
            "line": {
             "colorbar": {
              "outlinewidth": 0,
              "ticks": ""
             }
            },
            "type": "parcoords"
           }
          ],
          "pie": [
           {
            "automargin": true,
            "type": "pie"
           }
          ],
          "scatter": [
           {
            "fillpattern": {
             "fillmode": "overlay",
             "size": 10,
             "solidity": 0.2
            },
            "type": "scatter"
           }
          ],
          "scatter3d": [
           {
            "line": {
             "colorbar": {
              "outlinewidth": 0,
              "ticks": ""
             }
            },
            "marker": {
             "colorbar": {
              "outlinewidth": 0,
              "ticks": ""
             }
            },
            "type": "scatter3d"
           }
          ],
          "scattercarpet": [
           {
            "marker": {
             "colorbar": {
              "outlinewidth": 0,
              "ticks": ""
             }
            },
            "type": "scattercarpet"
           }
          ],
          "scattergeo": [
           {
            "marker": {
             "colorbar": {
              "outlinewidth": 0,
              "ticks": ""
             }
            },
            "type": "scattergeo"
           }
          ],
          "scattergl": [
           {
            "marker": {
             "colorbar": {
              "outlinewidth": 0,
              "ticks": ""
             }
            },
            "type": "scattergl"
           }
          ],
          "scattermapbox": [
           {
            "marker": {
             "colorbar": {
              "outlinewidth": 0,
              "ticks": ""
             }
            },
            "type": "scattermapbox"
           }
          ],
          "scatterpolar": [
           {
            "marker": {
             "colorbar": {
              "outlinewidth": 0,
              "ticks": ""
             }
            },
            "type": "scatterpolar"
           }
          ],
          "scatterpolargl": [
           {
            "marker": {
             "colorbar": {
              "outlinewidth": 0,
              "ticks": ""
             }
            },
            "type": "scatterpolargl"
           }
          ],
          "scatterternary": [
           {
            "marker": {
             "colorbar": {
              "outlinewidth": 0,
              "ticks": ""
             }
            },
            "type": "scatterternary"
           }
          ],
          "surface": [
           {
            "colorbar": {
             "outlinewidth": 0,
             "ticks": ""
            },
            "colorscale": [
             [
              0,
              "#0d0887"
             ],
             [
              0.1111111111111111,
              "#46039f"
             ],
             [
              0.2222222222222222,
              "#7201a8"
             ],
             [
              0.3333333333333333,
              "#9c179e"
             ],
             [
              0.4444444444444444,
              "#bd3786"
             ],
             [
              0.5555555555555556,
              "#d8576b"
             ],
             [
              0.6666666666666666,
              "#ed7953"
             ],
             [
              0.7777777777777778,
              "#fb9f3a"
             ],
             [
              0.8888888888888888,
              "#fdca26"
             ],
             [
              1,
              "#f0f921"
             ]
            ],
            "type": "surface"
           }
          ],
          "table": [
           {
            "cells": {
             "fill": {
              "color": "#EBF0F8"
             },
             "line": {
              "color": "white"
             }
            },
            "header": {
             "fill": {
              "color": "#C8D4E3"
             },
             "line": {
              "color": "white"
             }
            },
            "type": "table"
           }
          ]
         },
         "layout": {
          "annotationdefaults": {
           "arrowcolor": "#2a3f5f",
           "arrowhead": 0,
           "arrowwidth": 1
          },
          "autotypenumbers": "strict",
          "coloraxis": {
           "colorbar": {
            "outlinewidth": 0,
            "ticks": ""
           }
          },
          "colorscale": {
           "diverging": [
            [
             0,
             "#8e0152"
            ],
            [
             0.1,
             "#c51b7d"
            ],
            [
             0.2,
             "#de77ae"
            ],
            [
             0.3,
             "#f1b6da"
            ],
            [
             0.4,
             "#fde0ef"
            ],
            [
             0.5,
             "#f7f7f7"
            ],
            [
             0.6,
             "#e6f5d0"
            ],
            [
             0.7,
             "#b8e186"
            ],
            [
             0.8,
             "#7fbc41"
            ],
            [
             0.9,
             "#4d9221"
            ],
            [
             1,
             "#276419"
            ]
           ],
           "sequential": [
            [
             0,
             "#0d0887"
            ],
            [
             0.1111111111111111,
             "#46039f"
            ],
            [
             0.2222222222222222,
             "#7201a8"
            ],
            [
             0.3333333333333333,
             "#9c179e"
            ],
            [
             0.4444444444444444,
             "#bd3786"
            ],
            [
             0.5555555555555556,
             "#d8576b"
            ],
            [
             0.6666666666666666,
             "#ed7953"
            ],
            [
             0.7777777777777778,
             "#fb9f3a"
            ],
            [
             0.8888888888888888,
             "#fdca26"
            ],
            [
             1,
             "#f0f921"
            ]
           ],
           "sequentialminus": [
            [
             0,
             "#0d0887"
            ],
            [
             0.1111111111111111,
             "#46039f"
            ],
            [
             0.2222222222222222,
             "#7201a8"
            ],
            [
             0.3333333333333333,
             "#9c179e"
            ],
            [
             0.4444444444444444,
             "#bd3786"
            ],
            [
             0.5555555555555556,
             "#d8576b"
            ],
            [
             0.6666666666666666,
             "#ed7953"
            ],
            [
             0.7777777777777778,
             "#fb9f3a"
            ],
            [
             0.8888888888888888,
             "#fdca26"
            ],
            [
             1,
             "#f0f921"
            ]
           ]
          },
          "colorway": [
           "#636efa",
           "#EF553B",
           "#00cc96",
           "#ab63fa",
           "#FFA15A",
           "#19d3f3",
           "#FF6692",
           "#B6E880",
           "#FF97FF",
           "#FECB52"
          ],
          "font": {
           "color": "#2a3f5f"
          },
          "geo": {
           "bgcolor": "white",
           "lakecolor": "white",
           "landcolor": "#E5ECF6",
           "showlakes": true,
           "showland": true,
           "subunitcolor": "white"
          },
          "hoverlabel": {
           "align": "left"
          },
          "hovermode": "closest",
          "mapbox": {
           "style": "light"
          },
          "paper_bgcolor": "white",
          "plot_bgcolor": "#E5ECF6",
          "polar": {
           "angularaxis": {
            "gridcolor": "white",
            "linecolor": "white",
            "ticks": ""
           },
           "bgcolor": "#E5ECF6",
           "radialaxis": {
            "gridcolor": "white",
            "linecolor": "white",
            "ticks": ""
           }
          },
          "scene": {
           "xaxis": {
            "backgroundcolor": "#E5ECF6",
            "gridcolor": "white",
            "gridwidth": 2,
            "linecolor": "white",
            "showbackground": true,
            "ticks": "",
            "zerolinecolor": "white"
           },
           "yaxis": {
            "backgroundcolor": "#E5ECF6",
            "gridcolor": "white",
            "gridwidth": 2,
            "linecolor": "white",
            "showbackground": true,
            "ticks": "",
            "zerolinecolor": "white"
           },
           "zaxis": {
            "backgroundcolor": "#E5ECF6",
            "gridcolor": "white",
            "gridwidth": 2,
            "linecolor": "white",
            "showbackground": true,
            "ticks": "",
            "zerolinecolor": "white"
           }
          },
          "shapedefaults": {
           "line": {
            "color": "#2a3f5f"
           }
          },
          "ternary": {
           "aaxis": {
            "gridcolor": "white",
            "linecolor": "white",
            "ticks": ""
           },
           "baxis": {
            "gridcolor": "white",
            "linecolor": "white",
            "ticks": ""
           },
           "bgcolor": "#E5ECF6",
           "caxis": {
            "gridcolor": "white",
            "linecolor": "white",
            "ticks": ""
           }
          },
          "title": {
           "x": 0.05
          },
          "xaxis": {
           "automargin": true,
           "gridcolor": "white",
           "linecolor": "white",
           "ticks": "",
           "title": {
            "standoff": 15
           },
           "zerolinecolor": "white",
           "zerolinewidth": 2
          },
          "yaxis": {
           "automargin": true,
           "gridcolor": "white",
           "linecolor": "white",
           "ticks": "",
           "title": {
            "standoff": 15
           },
           "zerolinecolor": "white",
           "zerolinewidth": 2
          }
         }
        },
        "title": {
         "text": "Poisson Distribution"
        },
        "xaxis": {
         "title": {
          "text": "X"
         }
        },
        "yaxis": {
         "title": {
          "text": "Probability Density"
         }
        }
       }
      },
      "text/html": [
       "<div>                            <div id=\"2a35223c-6244-4b6b-8262-08515bbb7bab\" class=\"plotly-graph-div\" style=\"height:525px; width:100%;\"></div>            <script type=\"text/javascript\">                require([\"plotly\"], function(Plotly) {                    window.PLOTLYENV=window.PLOTLYENV || {};                                    if (document.getElementById(\"2a35223c-6244-4b6b-8262-08515bbb7bab\")) {                    Plotly.newPlot(                        \"2a35223c-6244-4b6b-8262-08515bbb7bab\",                        [{\"line\":{\"color\":\"#519EE5\",\"width\":2},\"mode\":\"lines\",\"name\":\"Poisson Distribution\",\"x\":[0.0,0.015015015015015015,0.03003003003003003,0.04504504504504504,0.06006006006006006,0.07507507507507508,0.09009009009009009,0.10510510510510511,0.12012012012012012,0.13513513513513514,0.15015015015015015,0.16516516516516516,0.18018018018018017,0.19519519519519518,0.21021021021021022,0.22522522522522523,0.24024024024024024,0.2552552552552553,0.2702702702702703,0.2852852852852853,0.3003003003003003,0.3153153153153153,0.3303303303303303,0.34534534534534533,0.36036036036036034,0.37537537537537535,0.39039039039039036,0.40540540540540543,0.42042042042042044,0.43543543543543545,0.45045045045045046,0.46546546546546547,0.4804804804804805,0.4954954954954955,0.5105105105105106,0.5255255255255256,0.5405405405405406,0.5555555555555556,0.5705705705705706,0.5855855855855856,0.6006006006006006,0.6156156156156156,0.6306306306306306,0.6456456456456456,0.6606606606606606,0.6756756756756757,0.6906906906906907,0.7057057057057057,0.7207207207207207,0.7357357357357357,0.7507507507507507,0.7657657657657657,0.7807807807807807,0.7957957957957957,0.8108108108108109,0.8258258258258259,0.8408408408408409,0.8558558558558559,0.8708708708708709,0.8858858858858859,0.9009009009009009,0.9159159159159159,0.9309309309309309,0.9459459459459459,0.960960960960961,0.975975975975976,0.990990990990991,1.006006006006006,1.021021021021021,1.0360360360360361,1.0510510510510511,1.0660660660660661,1.0810810810810811,1.0960960960960962,1.1111111111111112,1.1261261261261262,1.1411411411411412,1.1561561561561562,1.1711711711711712,1.1861861861861862,1.2012012012012012,1.2162162162162162,1.2312312312312312,1.2462462462462462,1.2612612612612613,1.2762762762762763,1.2912912912912913,1.3063063063063063,1.3213213213213213,1.3363363363363363,1.3513513513513513,1.3663663663663663,1.3813813813813813,1.3963963963963963,1.4114114114114114,1.4264264264264264,1.4414414414414414,1.4564564564564564,1.4714714714714714,1.4864864864864864,1.5015015015015014,1.5165165165165164,1.5315315315315314,1.5465465465465464,1.5615615615615615,1.5765765765765765,1.5915915915915915,1.6066066066066067,1.6216216216216217,1.6366366366366367,1.6516516516516517,1.6666666666666667,1.6816816816816818,1.6966966966966968,1.7117117117117118,1.7267267267267268,1.7417417417417418,1.7567567567567568,1.7717717717717718,1.7867867867867868,1.8018018018018018,1.8168168168168168,1.8318318318318318,1.8468468468468469,1.8618618618618619,1.8768768768768769,1.8918918918918919,1.906906906906907,1.921921921921922,1.936936936936937,1.951951951951952,1.966966966966967,1.981981981981982,1.996996996996997,2.012012012012012,2.027027027027027,2.042042042042042,2.057057057057057,2.0720720720720722,2.0870870870870872,2.1021021021021022,2.1171171171171173,2.1321321321321323,2.1471471471471473,2.1621621621621623,2.1771771771771773,2.1921921921921923,2.2072072072072073,2.2222222222222223,2.2372372372372373,2.2522522522522523,2.2672672672672673,2.2822822822822824,2.2972972972972974,2.3123123123123124,2.3273273273273274,2.3423423423423424,2.3573573573573574,2.3723723723723724,2.3873873873873874,2.4024024024024024,2.4174174174174174,2.4324324324324325,2.4474474474474475,2.4624624624624625,2.4774774774774775,2.4924924924924925,2.5075075075075075,2.5225225225225225,2.5375375375375375,2.5525525525525525,2.5675675675675675,2.5825825825825826,2.5975975975975976,2.6126126126126126,2.6276276276276276,2.6426426426426426,2.6576576576576576,2.6726726726726726,2.6876876876876876,2.7027027027027026,2.7177177177177176,2.7327327327327327,2.7477477477477477,2.7627627627627627,2.7777777777777777,2.7927927927927927,2.8078078078078077,2.8228228228228227,2.8378378378378377,2.8528528528528527,2.8678678678678677,2.8828828828828827,2.8978978978978978,2.9129129129129128,2.9279279279279278,2.942942942942943,2.957957957957958,2.972972972972973,2.987987987987988,3.003003003003003,3.018018018018018,3.033033033033033,3.048048048048048,3.063063063063063,3.078078078078078,3.093093093093093,3.108108108108108,3.123123123123123,3.138138138138138,3.153153153153153,3.168168168168168,3.183183183183183,3.198198198198198,3.2132132132132134,3.2282282282282284,3.2432432432432434,3.2582582582582584,3.2732732732732734,3.2882882882882885,3.3033033033033035,3.3183183183183185,3.3333333333333335,3.3483483483483485,3.3633633633633635,3.3783783783783785,3.3933933933933935,3.4084084084084085,3.4234234234234235,3.4384384384384385,3.4534534534534536,3.4684684684684686,3.4834834834834836,3.4984984984984986,3.5135135135135136,3.5285285285285286,3.5435435435435436,3.5585585585585586,3.5735735735735736,3.5885885885885886,3.6036036036036037,3.6186186186186187,3.6336336336336337,3.6486486486486487,3.6636636636636637,3.6786786786786787,3.6936936936936937,3.7087087087087087,3.7237237237237237,3.7387387387387387,3.7537537537537538,3.7687687687687688,3.7837837837837838,3.798798798798799,3.813813813813814,3.828828828828829,3.843843843843844,3.858858858858859,3.873873873873874,3.888888888888889,3.903903903903904,3.918918918918919,3.933933933933934,3.948948948948949,3.963963963963964,3.978978978978979,3.993993993993994,4.009009009009009,4.024024024024024,4.039039039039039,4.054054054054054,4.069069069069069,4.084084084084084,4.099099099099099,4.114114114114114,4.129129129129129,4.1441441441441444,4.1591591591591595,4.1741741741741745,4.1891891891891895,4.2042042042042045,4.2192192192192195,4.2342342342342345,4.2492492492492495,4.2642642642642645,4.2792792792792795,4.2942942942942945,4.3093093093093096,4.324324324324325,4.33933933933934,4.354354354354355,4.36936936936937,4.384384384384385,4.3993993993994,4.414414414414415,4.42942942942943,4.444444444444445,4.45945945945946,4.474474474474475,4.48948948948949,4.504504504504505,4.51951951951952,4.534534534534535,4.54954954954955,4.564564564564565,4.57957957957958,4.594594594594595,4.60960960960961,4.624624624624625,4.63963963963964,4.654654654654655,4.66966966966967,4.684684684684685,4.6996996996997,4.714714714714715,4.72972972972973,4.744744744744745,4.75975975975976,4.774774774774775,4.78978978978979,4.804804804804805,4.81981981981982,4.834834834834835,4.84984984984985,4.864864864864865,4.87987987987988,4.894894894894895,4.90990990990991,4.924924924924925,4.93993993993994,4.954954954954955,4.96996996996997,4.984984984984985,5.0,5.015015015015015,5.03003003003003,5.045045045045045,5.06006006006006,5.075075075075075,5.09009009009009,5.105105105105105,5.12012012012012,5.135135135135135,5.15015015015015,5.165165165165165,5.18018018018018,5.195195195195195,5.21021021021021,5.225225225225225,5.24024024024024,5.255255255255255,5.27027027027027,5.285285285285285,5.3003003003003,5.315315315315315,5.33033033033033,5.345345345345345,5.36036036036036,5.375375375375375,5.39039039039039,5.405405405405405,5.42042042042042,5.435435435435435,5.45045045045045,5.465465465465465,5.48048048048048,5.495495495495495,5.51051051051051,5.525525525525525,5.54054054054054,5.555555555555555,5.57057057057057,5.585585585585585,5.6006006006006,5.615615615615615,5.63063063063063,5.645645645645645,5.66066066066066,5.675675675675675,5.6906906906906904,5.7057057057057055,5.7207207207207205,5.7357357357357355,5.7507507507507505,5.7657657657657655,5.7807807807807805,5.7957957957957955,5.8108108108108105,5.8258258258258255,5.8408408408408405,5.8558558558558556,5.870870870870871,5.885885885885886,5.900900900900901,5.915915915915916,5.930930930930931,5.945945945945946,5.960960960960961,5.975975975975976,5.990990990990991,6.006006006006006,6.021021021021021,6.036036036036036,6.051051051051051,6.066066066066066,6.081081081081081,6.096096096096096,6.111111111111111,6.126126126126126,6.141141141141141,6.156156156156156,6.171171171171171,6.186186186186186,6.201201201201201,6.216216216216216,6.231231231231231,6.246246246246246,6.261261261261261,6.276276276276276,6.291291291291291,6.306306306306306,6.321321321321321,6.336336336336336,6.351351351351351,6.366366366366366,6.381381381381381,6.396396396396396,6.411411411411412,6.426426426426427,6.441441441441442,6.456456456456457,6.471471471471472,6.486486486486487,6.501501501501502,6.516516516516517,6.531531531531532,6.546546546546547,6.561561561561562,6.576576576576577,6.591591591591592,6.606606606606607,6.621621621621622,6.636636636636637,6.651651651651652,6.666666666666667,6.681681681681682,6.696696696696697,6.711711711711712,6.726726726726727,6.741741741741742,6.756756756756757,6.771771771771772,6.786786786786787,6.801801801801802,6.816816816816817,6.831831831831832,6.846846846846847,6.861861861861862,6.876876876876877,6.891891891891892,6.906906906906907,6.921921921921922,6.936936936936937,6.951951951951952,6.966966966966967,6.981981981981982,6.996996996996997,7.012012012012012,7.027027027027027,7.042042042042042,7.057057057057057,7.072072072072072,7.087087087087087,7.102102102102102,7.117117117117117,7.132132132132132,7.147147147147147,7.162162162162162,7.177177177177177,7.192192192192192,7.207207207207207,7.222222222222222,7.237237237237237,7.252252252252252,7.267267267267267,7.282282282282282,7.297297297297297,7.312312312312312,7.327327327327327,7.342342342342342,7.357357357357357,7.372372372372372,7.387387387387387,7.402402402402402,7.4174174174174174,7.4324324324324325,7.4474474474474475,7.4624624624624625,7.4774774774774775,7.4924924924924925,7.5075075075075075,7.5225225225225225,7.5375375375375375,7.5525525525525525,7.5675675675675675,7.5825825825825826,7.597597597597598,7.612612612612613,7.627627627627628,7.642642642642643,7.657657657657658,7.672672672672673,7.687687687687688,7.702702702702703,7.717717717717718,7.732732732732733,7.747747747747748,7.762762762762763,7.777777777777778,7.792792792792793,7.807807807807808,7.822822822822823,7.837837837837838,7.852852852852853,7.867867867867868,7.882882882882883,7.897897897897898,7.912912912912913,7.927927927927928,7.942942942942943,7.957957957957958,7.972972972972973,7.987987987987988,8.003003003003004,8.018018018018019,8.033033033033034,8.048048048048049,8.063063063063064,8.078078078078079,8.093093093093094,8.108108108108109,8.123123123123124,8.138138138138139,8.153153153153154,8.168168168168169,8.183183183183184,8.198198198198199,8.213213213213214,8.228228228228229,8.243243243243244,8.258258258258259,8.273273273273274,8.288288288288289,8.303303303303304,8.318318318318319,8.333333333333334,8.348348348348349,8.363363363363364,8.378378378378379,8.393393393393394,8.408408408408409,8.423423423423424,8.438438438438439,8.453453453453454,8.468468468468469,8.483483483483484,8.498498498498499,8.513513513513514,8.528528528528529,8.543543543543544,8.558558558558559,8.573573573573574,8.588588588588589,8.603603603603604,8.618618618618619,8.633633633633634,8.64864864864865,8.663663663663664,8.67867867867868,8.693693693693694,8.70870870870871,8.723723723723724,8.73873873873874,8.753753753753754,8.76876876876877,8.783783783783784,8.7987987987988,8.813813813813814,8.82882882882883,8.843843843843844,8.85885885885886,8.873873873873874,8.88888888888889,8.903903903903904,8.91891891891892,8.933933933933934,8.94894894894895,8.963963963963964,8.97897897897898,8.993993993993994,9.00900900900901,9.024024024024024,9.03903903903904,9.054054054054054,9.06906906906907,9.084084084084084,9.0990990990991,9.114114114114114,9.12912912912913,9.144144144144144,9.15915915915916,9.174174174174174,9.18918918918919,9.204204204204204,9.21921921921922,9.234234234234235,9.24924924924925,9.264264264264265,9.27927927927928,9.294294294294295,9.30930930930931,9.324324324324325,9.33933933933934,9.354354354354355,9.36936936936937,9.384384384384385,9.3993993993994,9.414414414414415,9.42942942942943,9.444444444444445,9.45945945945946,9.474474474474475,9.48948948948949,9.504504504504505,9.51951951951952,9.534534534534535,9.54954954954955,9.564564564564565,9.57957957957958,9.594594594594595,9.60960960960961,9.624624624624625,9.63963963963964,9.654654654654655,9.66966966966967,9.684684684684685,9.6996996996997,9.714714714714715,9.72972972972973,9.744744744744745,9.75975975975976,9.774774774774775,9.78978978978979,9.804804804804805,9.81981981981982,9.834834834834835,9.84984984984985,9.864864864864865,9.87987987987988,9.894894894894895,9.90990990990991,9.924924924924925,9.93993993993994,9.954954954954955,9.96996996996997,9.984984984984985,10.0,10.015015015015015,10.03003003003003,10.045045045045045,10.06006006006006,10.075075075075075,10.09009009009009,10.105105105105105,10.12012012012012,10.135135135135135,10.15015015015015,10.165165165165165,10.18018018018018,10.195195195195195,10.21021021021021,10.225225225225225,10.24024024024024,10.255255255255255,10.27027027027027,10.285285285285285,10.3003003003003,10.315315315315315,10.33033033033033,10.345345345345345,10.36036036036036,10.375375375375375,10.39039039039039,10.405405405405405,10.42042042042042,10.435435435435435,10.45045045045045,10.465465465465465,10.48048048048048,10.495495495495495,10.51051051051051,10.525525525525525,10.54054054054054,10.555555555555555,10.57057057057057,10.585585585585585,10.6006006006006,10.615615615615615,10.63063063063063,10.645645645645645,10.66066066066066,10.675675675675675,10.69069069069069,10.705705705705705,10.72072072072072,10.735735735735735,10.75075075075075,10.765765765765765,10.78078078078078,10.795795795795796,10.81081081081081,10.825825825825826,10.84084084084084,10.855855855855856,10.87087087087087,10.885885885885886,10.9009009009009,10.915915915915916,10.93093093093093,10.945945945945946,10.96096096096096,10.975975975975976,10.99099099099099,11.006006006006006,11.02102102102102,11.036036036036036,11.05105105105105,11.066066066066066,11.08108108108108,11.096096096096096,11.11111111111111,11.126126126126126,11.14114114114114,11.156156156156156,11.17117117117117,11.186186186186186,11.2012012012012,11.216216216216216,11.23123123123123,11.246246246246246,11.26126126126126,11.276276276276276,11.29129129129129,11.306306306306306,11.32132132132132,11.336336336336336,11.35135135135135,11.366366366366366,11.381381381381381,11.396396396396396,11.411411411411411,11.426426426426426,11.441441441441441,11.456456456456456,11.471471471471471,11.486486486486486,11.501501501501501,11.516516516516516,11.531531531531531,11.546546546546546,11.561561561561561,11.576576576576576,11.591591591591591,11.606606606606606,11.621621621621621,11.636636636636636,11.651651651651651,11.666666666666666,11.681681681681681,11.696696696696696,11.711711711711711,11.726726726726726,11.741741741741741,11.756756756756756,11.771771771771771,11.786786786786786,11.801801801801801,11.816816816816816,11.831831831831831,11.846846846846846,11.861861861861861,11.876876876876876,11.891891891891891,11.906906906906906,11.921921921921921,11.936936936936936,11.951951951951951,11.966966966966966,11.981981981981981,11.996996996996996,12.012012012012011,12.027027027027026,12.042042042042041,12.057057057057056,12.072072072072071,12.087087087087086,12.102102102102101,12.117117117117116,12.132132132132131,12.147147147147146,12.162162162162161,12.177177177177176,12.192192192192191,12.207207207207206,12.222222222222221,12.237237237237236,12.252252252252251,12.267267267267266,12.282282282282281,12.297297297297296,12.312312312312311,12.327327327327327,12.342342342342342,12.357357357357357,12.372372372372372,12.387387387387387,12.402402402402402,12.417417417417417,12.432432432432432,12.447447447447447,12.462462462462462,12.477477477477477,12.492492492492492,12.507507507507507,12.522522522522522,12.537537537537537,12.552552552552552,12.567567567567567,12.582582582582582,12.597597597597597,12.612612612612612,12.627627627627627,12.642642642642642,12.657657657657657,12.672672672672672,12.687687687687687,12.702702702702702,12.717717717717717,12.732732732732732,12.747747747747747,12.762762762762762,12.777777777777777,12.792792792792792,12.807807807807807,12.822822822822824,12.837837837837839,12.852852852852854,12.867867867867869,12.882882882882884,12.897897897897899,12.912912912912914,12.927927927927929,12.942942942942944,12.957957957957959,12.972972972972974,12.987987987987989,13.003003003003004,13.018018018018019,13.033033033033034,13.048048048048049,13.063063063063064,13.078078078078079,13.093093093093094,13.108108108108109,13.123123123123124,13.138138138138139,13.153153153153154,13.168168168168169,13.183183183183184,13.198198198198199,13.213213213213214,13.228228228228229,13.243243243243244,13.258258258258259,13.273273273273274,13.288288288288289,13.303303303303304,13.318318318318319,13.333333333333334,13.348348348348349,13.363363363363364,13.378378378378379,13.393393393393394,13.408408408408409,13.423423423423424,13.438438438438439,13.453453453453454,13.468468468468469,13.483483483483484,13.498498498498499,13.513513513513514,13.528528528528529,13.543543543543544,13.558558558558559,13.573573573573574,13.588588588588589,13.603603603603604,13.618618618618619,13.633633633633634,13.64864864864865,13.663663663663664,13.67867867867868,13.693693693693694,13.70870870870871,13.723723723723724,13.73873873873874,13.753753753753754,13.76876876876877,13.783783783783784,13.7987987987988,13.813813813813814,13.82882882882883,13.843843843843844,13.85885885885886,13.873873873873874,13.88888888888889,13.903903903903904,13.91891891891892,13.933933933933934,13.94894894894895,13.963963963963964,13.97897897897898,13.993993993993994,14.00900900900901,14.024024024024024,14.03903903903904,14.054054054054054,14.06906906906907,14.084084084084084,14.0990990990991,14.114114114114114,14.12912912912913,14.144144144144144,14.15915915915916,14.174174174174174,14.18918918918919,14.204204204204204,14.21921921921922,14.234234234234235,14.24924924924925,14.264264264264265,14.27927927927928,14.294294294294295,14.30930930930931,14.324324324324325,14.33933933933934,14.354354354354355,14.36936936936937,14.384384384384385,14.3993993993994,14.414414414414415,14.42942942942943,14.444444444444445,14.45945945945946,14.474474474474475,14.48948948948949,14.504504504504505,14.51951951951952,14.534534534534535,14.54954954954955,14.564564564564565,14.57957957957958,14.594594594594595,14.60960960960961,14.624624624624625,14.63963963963964,14.654654654654655,14.66966966966967,14.684684684684685,14.6996996996997,14.714714714714715,14.72972972972973,14.744744744744745,14.75975975975976,14.774774774774775,14.78978978978979,14.804804804804805,14.81981981981982,14.834834834834835,14.84984984984985,14.864864864864865,14.87987987987988,14.894894894894895,14.90990990990991,14.924924924924925,14.93993993993994,14.954954954954955,14.96996996996997,14.984984984984985,15.0],\"y\":[0.014644982561926494,0.014866201185982975,0.015090080981310821,0.015316641683113941,0.015545902957989084,0.015777884399322338,0.016012605522633155,0.016250085760866492,0.016490344459633616,0.016733400872401993,0.016979274155634903,0.01722798336388135,0.017479547444816806,0.017733985234235562,0.017991315450995124,0.018251556691913615,0.018514727426620563,0.018780845992362107,0.01904993058876119,0.019321999272533506,0.019597069952160217,0.019875160382517985,0.02015628815946735,0.020440470714400343,0.020727725308748123,0.02101806902844969,0.021311518778382537,0.02160809127675637,0.02190780304947062,0.02221067042443716,0.02251670952586896,0.022825936268535928,0.023138366351989105,0.023454015254754036,0.02377289822849502,0.02409503029215078,0.024420426226043353,0.024749100565961014,0.02508106759721677,0.02541634134868348,0.02575493558680716,0.0260968638095996,0.026442139240611715,0.026790774822889156,0.027142783212911314,0.02749817677451541,0.027856967572806996,0.028219167368058337,0.028584787609596304,0.02895383942968104,0.029326333637377345,0.029702280712419964,0.0300816907990746,0.030464573699996174,0.030850938870086,0.03124079541034962,0.03163415206175671,0.03203101719910513,0.03243139882489052,0.03283530456318334,0.03324274165351511,0.03365371694477554,0.03406823688912253,0.03448630753590654,0.03490793452561156,0.03533312308381418,0.03576187801516287,0.03619420369737921,0.03663010407528303,0.03706958265484341,0.03751264249725737,0.037959286213058295,0.038409515956256024,0.03886333341851049,0.0393207398233411,0.03978173592037361,0.0402463219796267,0.040714497785840145,0.04118626263284673,0.04166161531798974,0.042140554136588404,0.042623076876453,0.043109180812452,0.04359886270113302,0.04409211877539998,0.044588944739248314,0.04508933576256041,0.045593286475963404,0.04610079096575141,0.046611842768874284,0.04712643486799493,0.04764455968661753,0.04816620908428851,0.04869137435187244,0.04922004620690523,0.04975221478902619,0.05028786965549164,0.05082699977677178,0.05136959353223314,0.05191563870590854,0.052465122482356734,0.05301803144261391,0.05357435156023893,0.05413406819745443,0.05469716610138607,0.055263629400401644,0.05583344160055227,0.056406585582117724,0.0569830435962578,0.057562797261771874,0.05814582756196846,0.05873211484164698,0.05932163880419336,0.05991437850879186,0.060510312367754567,0.061109418143970924,0.06171167294847882,0.0623170532381593,0.06292553481355673,0.0635370928168262,0.06415170172980997,0.06476933537224487,0.06538996690010208,0.06601356880406155,0.06664011290812219,0.06726957036835002,0.0679019116717655,0.06853710663537206,0.0691751244053271,0.06981593345625715,0.07045950159071891,0.07110579593880732,0.07175478295791232,0.07240642843262586,0.07306069747480028,0.07371755452375968,0.07437696334666544,0.07503888703903724,0.075703288025431,0.07637012806027449,0.0770393682288625,0.07771096894851193,0.07838488996987861,0.07906109037843628,0.07973952859611938,0.08042016238312985,0.08110294883990972,0.08178784440927972,0.082474804878745,0.08316378538296884,0.08385474040641482,0.08454762378615846,0.08524238871486885,0.08593898774396068,0.08663737278691767,0.08733749512278736,0.08803930539984824,0.0887427536394491,0.08944778924002159,0.09015436098126557,0.090862417028508,0.0915719049372355,0.0922827716578004,0.09299496354030087,0.09370842633963473,0.09442310522072708,0.09513894476393167,0.09585588897060603,0.09657388126885973,0.09729286451947611,0.09801278102200668,0.09873357252103813,0.0994551802126313,0.10017754475093192,0.10090060625495237,0.1016243043155239,0.1023485780024187,0.10307336587164113,0.10379860597288737,0.10452423585717242,0.10525019258462401,0.10597641273244197,0.1067028324030226,0.10742938723224638,0.10815601239792846,0.10888264262843035,0.10960921221143179,0.1103356550028614,0.11106190443598483,0.11178789353064891,0.11251355490268032,0.11323882077343743,0.11396362297951343,0.11468789298258936,0.11541156187943508,0.1161345604120568,0.11685681897798883,0.117578267640728,0.11829883614030898,0.11901845390401791,0.119737050057243,0.12045455343445936,0.12117089259034639,0.12188599581103517,0.12259979112548382,0.12331220631697834,0.12402316893475657,0.124732606305753,0.12544044554646172,0.12614661357491505,0.12685103712277535,0.12755364274753742,0.12825435684483838,0.1289531056608729,0.12964981530491057,0.1303444117619126,0.13103682090524543,0.13172696850948742,0.13241478026332673,0.13310018178254648,0.13378309862309462,0.13446345629423528,0.13514118027177832,0.13581619601138428,0.1364884289619409,0.13715780457900867,0.13782424833833126,0.13848768574940845,0.13914804236912737,0.139805243815449,0.1404592157811465,0.14110988404759187,0.1417571744985871,0.1424010131342372,0.14304132608486006,0.14367803962493106,0.14431108018705774,0.1449403743759815,0.14556584898260222,0.14618743099802242,0.14680504762760707,0.14741862630505526,0.1480280947064803,0.14863338076449392,0.1492344126822913,0.14983111894773268,0.15042342834741826,0.1510112699807517,0.1515945732739894,0.15217326799427083,0.15274728426362646,0.15331655257295948,0.15388100379599687,0.15444056920320678,0.15499518047567756,0.15554476971895484,0.1560892694768329,0.15662861274509618,0.15716273298520708,0.1576915641379363,0.15821504063693173,0.15873309742222189,0.1592456699536502,0.15975269422423624,0.16025410677345997,0.16074984470046524,0.1612398456771785,0.16172404796133927,0.16220239040943812,0.16267481248955895,0.1631412542941211,0.16360165655251804,0.16405596064364894,0.16450410860833892,0.16494604316164496,0.16538170770504323,0.1658110463384948,0.16623400387238535,0.16665052583933632,0.16706055850588286,0.16746404888401625,0.16786094474258614,0.16825119461856006,0.16863474782813653,0.16901155447770821,0.16938156547467204,0.16974473253808295,0.17010100820914806,0.1704503458615579,0.17079269971165187,0.17112802482841433,0.17145627714329897,0.17177741345987785,0.17209139146331226,0.17239816972964278,0.17269770773489554,0.17298996586400153,0.173274905419527,0.17355248863021133,0.17382267865931034,0.17408543961274256,0.17434073654703522,0.17458853547706835,0.17482880338361392,0.17506150822066832,0.17528661892257494,0.17550410541093592,0.17571393860130974,0.17591609040969328,0.17611053375878596,0.17629724258403423,0.1764761918394545,0.17664735750323246,0.17681071658309724,0.17696624712146888,0.177113928200377,0.1772537399461496,0.17738566353387042,0.17750968119160318,0.1776257762043819,0.1777339329179653,0.17783413674235482,0.17792637415507498,0.17801063270421447,0.17808690101122798,0.1781551687734971,0.17821542676664967,0.1782676668466373,0.1783118819515697,0.17834806610330567,0.1783762144088004,0.17839632306120798,0.17840838934073974,0.17841241161527713,0.17840838934073974,0.17839632306120798,0.1783762144088004,0.17834806610330567,0.1783118819515697,0.1782676668466373,0.17821542676664967,0.1781551687734971,0.17808690101122798,0.17801063270421447,0.17792637415507498,0.17783413674235482,0.1777339329179653,0.1776257762043819,0.17750968119160318,0.17738566353387042,0.1772537399461496,0.177113928200377,0.17696624712146888,0.17681071658309724,0.17664735750323246,0.1764761918394545,0.17629724258403423,0.17611053375878596,0.17591609040969328,0.17571393860130974,0.17550410541093592,0.17528661892257494,0.17506150822066832,0.17482880338361392,0.17458853547706835,0.17434073654703522,0.17408543961274256,0.17382267865931034,0.17355248863021133,0.173274905419527,0.17298996586400153,0.17269770773489554,0.17239816972964278,0.17209139146331226,0.17177741345987785,0.17145627714329897,0.17112802482841433,0.17079269971165187,0.1704503458615579,0.17010100820914806,0.16974473253808295,0.16938156547467204,0.16901155447770821,0.16863474782813653,0.16825119461856006,0.16786094474258614,0.16746404888401625,0.16706055850588286,0.16665052583933632,0.16623400387238535,0.1658110463384948,0.16538170770504323,0.16494604316164496,0.16450410860833892,0.16405596064364894,0.16360165655251804,0.1631412542941211,0.16267481248955895,0.16220239040943812,0.16172404796133927,0.16123984567717853,0.16074984470046527,0.16025410677346,0.15975269422423624,0.1592456699536502,0.15873309742222189,0.15821504063693173,0.15769156413793634,0.15716273298520708,0.15662861274509618,0.1560892694768329,0.15554476971895487,0.1549951804756776,0.15444056920320678,0.15388100379599687,0.15331655257295948,0.1527472842636265,0.15217326799427083,0.15159457327398942,0.1510112699807517,0.15042342834741826,0.1498311189477327,0.1492344126822913,0.14863338076449395,0.14802809470648032,0.14741862630505528,0.14680504762760707,0.1461874309980224,0.1455658489826022,0.14494037437598148,0.1443110801870577,0.14367803962493103,0.14304132608486003,0.1424010131342372,0.1417571744985871,0.14110988404759184,0.1404592157811465,0.13980524381544898,0.13914804236912734,0.13848768574940842,0.13782424833833123,0.13715780457900864,0.13648842896194088,0.13581619601138425,0.13514118027177832,0.13446345629423526,0.13378309862309462,0.13310018178254648,0.1324147802633267,0.1317269685094874,0.1310368209052454,0.13034441176191258,0.12964981530491057,0.1289531056608729,0.12825435684483838,0.12755364274753742,0.12685103712277535,0.12614661357491505,0.12544044554646172,0.124732606305753,0.12402316893475657,0.12331220631697834,0.12259979112548382,0.12188599581103517,0.12117089259034639,0.12045455343445936,0.119737050057243,0.11901845390401791,0.11829883614030898,0.117578267640728,0.11685681897798883,0.1161345604120568,0.11541156187943508,0.11468789298258936,0.11396362297951343,0.11323882077343743,0.11251355490268032,0.11178789353064891,0.11106190443598483,0.1103356550028614,0.10960921221143179,0.10888264262843035,0.10815601239792846,0.10742938723224638,0.1067028324030226,0.10597641273244197,0.10525019258462401,0.10452423585717242,0.10379860597288737,0.10307336587164113,0.1023485780024187,0.1016243043155239,0.10090060625495237,0.10017754475093192,0.0994551802126313,0.09873357252103813,0.09801278102200668,0.09729286451947611,0.09657388126885973,0.09585588897060603,0.09513894476393167,0.09442310522072708,0.09370842633963473,0.09299496354030087,0.0922827716578004,0.0915719049372355,0.090862417028508,0.09015436098126557,0.08944778924002159,0.0887427536394491,0.08803930539984824,0.08733749512278736,0.08663737278691767,0.08593898774396068,0.08524238871486885,0.08454762378615846,0.08385474040641482,0.08316378538296884,0.082474804878745,0.08178784440927972,0.08110294883990972,0.08042016238312985,0.07973952859611938,0.07906109037843628,0.07838488996987861,0.07771096894851193,0.0770393682288625,0.07637012806027449,0.075703288025431,0.07503888703903724,0.07437696334666544,0.07371755452375968,0.07306069747480028,0.07240642843262582,0.07175478295791228,0.0711057959388073,0.07045950159071887,0.06981593345625711,0.06917512440532705,0.06853710663537202,0.06790191167176547,0.06726957036834998,0.06664011290812215,0.06601356880406149,0.06538996690010203,0.06476933537224483,0.06415170172980994,0.06353709281682617,0.06292553481355669,0.06231705323815927,0.06171167294847878,0.06110941814397088,0.06051031236775454,0.05991437850879182,0.059321638804193326,0.058732114841646955,0.05814582756196842,0.05756279726177183,0.05698304359625776,0.056406585582117696,0.055833441600552265,0.05526362940040162,0.054697166101386065,0.054134068197454414,0.05357435156023891,0.053018031442613904,0.05246512248235673,0.05191563870590852,0.05136959353223313,0.05082699977677177,0.05028786965549162,0.04975221478902618,0.04922004620690522,0.04869137435187242,0.04816620908428848,0.04764455968661751,0.04712643486799492,0.046611842768874284,0.046100790965751405,0.0455932864759634,0.04508933576256039,0.04458894473924831,0.04409211877539997,0.043598862701133,0.043109180812451985,0.042623076876452996,0.04214055413658838,0.04166161531798973,0.041186262632846714,0.040714497785840145,0.04024632197962668,0.039781735920373595,0.03932073982334108,0.03886333341851048,0.038409515956256024,0.03795928621305829,0.037512642497257366,0.0370695826548434,0.03663010407528302,0.0361942036973792,0.03576187801516287,0.03533312308381418,0.03490793452561156,0.03448630753590654,0.03406823688912253,0.03365371694477554,0.03324274165351511,0.03283530456318334,0.03243139882489052,0.03203101719910513,0.03163415206175671,0.03124079541034962,0.030850938870086,0.030464573699996174,0.0300816907990746,0.029702280712419964,0.029326333637377345,0.02895383942968104,0.028584787609596304,0.028219167368058337,0.027856967572806996,0.02749817677451541,0.027142783212911314,0.026790774822889156,0.026442139240611715,0.0260968638095996,0.02575493558680716,0.02541634134868348,0.02508106759721677,0.024749100565961014,0.024420426226043353,0.02409503029215078,0.02377289822849502,0.023454015254754036,0.023138366351989105,0.022825936268535928,0.02251670952586896,0.02221067042443716,0.02190780304947062,0.02160809127675637,0.021311518778382537,0.02101806902844969,0.020727725308748123,0.020440470714400343,0.02015628815946735,0.019875160382517985,0.019597069952160217,0.019321999272533506,0.01904993058876119,0.018780845992362107,0.018514727426620563,0.018251556691913615,0.017991315450995124,0.017733985234235562,0.017479547444816806,0.01722798336388135,0.016979274155634903,0.016733400872401993,0.016490344459633616,0.016250085760866492,0.016012605522633155,0.015777884399322338,0.015545902957989084,0.015316641683113941,0.015090080981310821,0.014866201185982975,0.014644982561926494,0.01442640530988108,0.014210449571027454,0.01399709543143112,0.013786322926431964,0.013578112044979522,0.013372442733913324,0.01316929490218815,0.012968648425043895,0.012770483148119667,0.012574778891511955,0.012381515453776583,0.01219067261587422,0.012002230145059337,0.011816167798712286,0.011632465328114542,0.011451102482166764,0.011272059011049745,0.011095314669828063,0.010920849221996331,0.010748642442968116,0.010578674123507327,0.010410924073102214,0.010245372123281832,0.010081998130875108,0.009920781981212505,0.009761703591270257,0.009604742912757418,0.009449879935145651,0.009297094688641929,0.00914636724710427,0.008997677730900667,0.008851006309711265,0.00870633320527408,0.00856363869407435,0.008422903109977767,0.008284106846807743,0.008147230360867038,0.008012254173403857,0.007879158873022768,0.007747925118040672,0.007618533638788098,0.007490965239856129,0.007365200802289241,0.007241221285724381,0.007119007730476643,0.006998541259571795,0.006879803080726102,0.006762774488273757,0.006647436865042247,0.006533771684176148,0.0064217605109096266,0.006311385004288088,0.006202626918839403,0.006095468106195097,0.005989890516661935,0.005885876200744335,0.005783407310618053,0.005682466101555613,0.005583034933303874,0.005485096271414273,0.005388632688526141,0.0052936268656036565,0.0052000615931268165,0.005107919772236993,0.005017184415837541,0.004927838649649933,0.00483986571322599,0.004753248960916634,0.004667971862797742,0.004584018005553597,0.004501371093318443,0.004420014948476696,0.004339933512422332,0.004261110846277956,0.004183531131574144,0.004107178670889531,0.004032037888452263,0.0039580933307032575,0.003885329666821925,0.0038137316892147997,0.0037432843139677116,0.0036739725812619762,0.003605781655755225,0.0035386968269273556,0.0034727035093922234,0.0034077872431755593,0.003343933693959734,0.0032811286532958635,0.0032193580387838605,0.0031586078942209364,0.0030988643897191404,0.003040113821792469,0.0029823426134141192,0.002925537314044403,0.0028696845996298848,0.0028147712725743175,0.002760784261681871,0.002707710622073228,0.002655537535075095,0.002604252308083646,0.0025538423744024606,0.0025042952930554546,0.002455598748575384,0.0024077405507684155,0.002360708634455305,0.0023144910591897066,0.0022690760089541374,0.002224451791834095,0.002180606839670888,0.002137529707693637,0.0020952090741309807,0.0020536337398030097,0.0020127926276938784,0.001972674782505649,0.0019332693701938066,0.0018945656774849776,0.0018565531113773064,0.0018192211986239918,0.0017825595852004302,0.0017465580357554726,0.0017112064330472355,0.0016764947773639364,0.0016424131859302158,0.001608951892299386,0.001576101245732076,0.0015438517105616915,0.001512193865547144,0.0014811184032132753,0.0014506161291794122,0.0014206779614764713,0.0013912949298530233,0.0013624581750707476,0.00133415894818967,0.001306388609843592,0.0012791386295061137,0.0012524005847476213,0.0012261661604836668,0.0012004271482150704,0.0011751754452601637,0.0011504030539795167,0.0011261020809935384,0.0011022647363932766,0.0010788833329448124,0.0010559502852875622,0.001033458109126848,0.0010113994204210748,0.0009897669345638428,0.0009685534655613163,0.0009477519252051802,0.0009273553222415005,0.0009073567615357798,0.000887749443234545,0.0008685266619237361,0.0008496818057842076,0.000831208355744626,0.0008130998846320443,0.0007953500563204378,0.0007779526248774621,0.0007609014337097142,0.0007441904147067483,0.0007278135873841043,0.0007117650580256003,0.0006960390188251397,0.0006806297470282633,0.000665531604073694,0.0006507390347350887,0.0006362465662632388,0.0006220488075289246,0.000608140448166651,0.0005945162577194637,0.0005811710847850516,0.0005680998561633459,0.0005552975760057956,0.000542759324966518,0.0005304802593555097,0.0005184556102940908,0.0005066806828727684,0.0004951508553116788,0.000483861578123782,0.000472808373280971,0.00046198683338324116,0.0004513926208310882,0.0004410214670012695,0.00043086917142607875,0.00042093160097627025,0.00041120468904776885,0.0004016844347522952,0.0003923669021120301,0.00038324821925845106,0.00037432457763543454,0.0003655922312067693,0.000357047495668165,0.0003486867476638751,0.00034050642400802874,0.0003325030209107797,0.00032467309320935266,0.0003170132536040894,0.00030952017189957674,0.0003021905742509373,0.00029502124241536807,0.00028800901300899735,0.0002811507767691395,0.00027444347782200644,0.0002678841129559543,0.0002614697309003175,0.0002551974316098943,0.00024906436555514135,0.00024306773301812523,0.00023720478339428635,0.00023147281450005975,0.00022586917188639505,0.00022039124815822095,0.00021503648229988877,0.00020980235900663224,0.0002046864080220773,0.00019968620348182742,0.0001947993632631592,0.00019002354834084728,0.00018535646214914024,0.000180795849949916,0.00017633949820702115,0.0001719852339668215,0.00016773092424496888,0.00016357447541939755,0.0001595138326295589,0.0001555469791819006,0.00015167193596159133,0.00014788676085049943,0.00014418954815141784,0.00014057842801854043,0.00013705156589418051,0.00013360716195172977,0.00013024345054484754,0.00012695869966287325,0.00012375121039244952,0.00012061931638534363,0.00011756138333245493,0.00011457580844398913,0.00011166101993578628,0.00010881547652177943,0.00010603766691256704,0.00010332610932007597,0.00010067935096829349,9.809596761004118e-05,9.55745630497693e-05,9.311376867234083e-05,9.071224297778056e-05,8.836867112195879e-05,8.608176446317837e-05,8.385026011463628e-05,8.167292050272548e-05,7.95485329311453e-05,7.747590915078456e-05,7.545388493534459e-05,7.348131966266337e-05,7.155709590170671e-05,6.968011900518674e-05,6.78493167077716e-05,6.60636387298441e-05,6.432205638677295e-05,6.26235622036532e-05,6.0967169535476967e-05,5.9351912192690905e-05,5.7776844072099986e-05,5.624103879307267e-05,5.474358933900562e-05,5.3283607704003816e-05,5.186022454473145e-05,5.047258883738823e-05,4.911986753976787e-05,4.780124525835126e-05,4.651592392038947e-05,4.526312245092962e-05,4.4042076454738444e-05,4.285203790307543e-05,4.169227482526879e-05,4.0562071005047825e-05,3.946072568158303e-05,3.838755325518709e-05,3.734188299762888e-05,3.632305876701226e-05,3.5330438727171545e-05,3.43633950715359e-05,3.342131375141397e-05,3.2503594208651146e-05,3.16096491126099e-05,3.0738904101426e-05,2.989079752749194e-05,2.906478020711863e-05,2.8260315174327992e-05,2.7476877438727293e-05,2.671395374741749e-05,2.597104235088779e-05,2.5247652772847058e-05,2.4543305583945967e-05,2.385753217934045e-05,2.318987456004995e-05,2.2539885118062034e-05,2.1907126425136922e-05,2.129117102526362e-05,2.069160123072169e-05,2.0108008921701514e-05,1.953999534943591e-05,1.898717094279743e-05,1.8449155118314988e-05,1.7925576093563562e-05,1.7416070703881708e-05,1.6920284222371344e-05,1.643787018313459e-05,1.596849020770276e-05,1.5511813834613078e-05,1.5067518352088808e-05,1.4635288633778495e-05,1.421481697751124e-05,1.3805802947023755e-05,1.3407953216617095e-05,1.302098141869955e-05,1.2644607994173812e-05,1.2278560045625964e-05,1.1922571193274927e-05,1.1576381433640621e-05,1.1239737000890162e-05,1.0912390230821078e-05,1.0594099427441592e-05,1.028462873210758e-05,9.9837479951772e-06,9.691232650143363e-06,9.406863590205599e-06,9.130427047242907e-06,8.861714473149039e-06,8.600522423493164e-06,8.346652443468038e-06,8.099910956089133e-06],\"type\":\"scatter\"}],                        {\"template\":{\"data\":{\"histogram2dcontour\":[{\"type\":\"histogram2dcontour\",\"colorbar\":{\"outlinewidth\":0,\"ticks\":\"\"},\"colorscale\":[[0.0,\"#0d0887\"],[0.1111111111111111,\"#46039f\"],[0.2222222222222222,\"#7201a8\"],[0.3333333333333333,\"#9c179e\"],[0.4444444444444444,\"#bd3786\"],[0.5555555555555556,\"#d8576b\"],[0.6666666666666666,\"#ed7953\"],[0.7777777777777778,\"#fb9f3a\"],[0.8888888888888888,\"#fdca26\"],[1.0,\"#f0f921\"]]}],\"choropleth\":[{\"type\":\"choropleth\",\"colorbar\":{\"outlinewidth\":0,\"ticks\":\"\"}}],\"histogram2d\":[{\"type\":\"histogram2d\",\"colorbar\":{\"outlinewidth\":0,\"ticks\":\"\"},\"colorscale\":[[0.0,\"#0d0887\"],[0.1111111111111111,\"#46039f\"],[0.2222222222222222,\"#7201a8\"],[0.3333333333333333,\"#9c179e\"],[0.4444444444444444,\"#bd3786\"],[0.5555555555555556,\"#d8576b\"],[0.6666666666666666,\"#ed7953\"],[0.7777777777777778,\"#fb9f3a\"],[0.8888888888888888,\"#fdca26\"],[1.0,\"#f0f921\"]]}],\"heatmap\":[{\"type\":\"heatmap\",\"colorbar\":{\"outlinewidth\":0,\"ticks\":\"\"},\"colorscale\":[[0.0,\"#0d0887\"],[0.1111111111111111,\"#46039f\"],[0.2222222222222222,\"#7201a8\"],[0.3333333333333333,\"#9c179e\"],[0.4444444444444444,\"#bd3786\"],[0.5555555555555556,\"#d8576b\"],[0.6666666666666666,\"#ed7953\"],[0.7777777777777778,\"#fb9f3a\"],[0.8888888888888888,\"#fdca26\"],[1.0,\"#f0f921\"]]}],\"heatmapgl\":[{\"type\":\"heatmapgl\",\"colorbar\":{\"outlinewidth\":0,\"ticks\":\"\"},\"colorscale\":[[0.0,\"#0d0887\"],[0.1111111111111111,\"#46039f\"],[0.2222222222222222,\"#7201a8\"],[0.3333333333333333,\"#9c179e\"],[0.4444444444444444,\"#bd3786\"],[0.5555555555555556,\"#d8576b\"],[0.6666666666666666,\"#ed7953\"],[0.7777777777777778,\"#fb9f3a\"],[0.8888888888888888,\"#fdca26\"],[1.0,\"#f0f921\"]]}],\"contourcarpet\":[{\"type\":\"contourcarpet\",\"colorbar\":{\"outlinewidth\":0,\"ticks\":\"\"}}],\"contour\":[{\"type\":\"contour\",\"colorbar\":{\"outlinewidth\":0,\"ticks\":\"\"},\"colorscale\":[[0.0,\"#0d0887\"],[0.1111111111111111,\"#46039f\"],[0.2222222222222222,\"#7201a8\"],[0.3333333333333333,\"#9c179e\"],[0.4444444444444444,\"#bd3786\"],[0.5555555555555556,\"#d8576b\"],[0.6666666666666666,\"#ed7953\"],[0.7777777777777778,\"#fb9f3a\"],[0.8888888888888888,\"#fdca26\"],[1.0,\"#f0f921\"]]}],\"surface\":[{\"type\":\"surface\",\"colorbar\":{\"outlinewidth\":0,\"ticks\":\"\"},\"colorscale\":[[0.0,\"#0d0887\"],[0.1111111111111111,\"#46039f\"],[0.2222222222222222,\"#7201a8\"],[0.3333333333333333,\"#9c179e\"],[0.4444444444444444,\"#bd3786\"],[0.5555555555555556,\"#d8576b\"],[0.6666666666666666,\"#ed7953\"],[0.7777777777777778,\"#fb9f3a\"],[0.8888888888888888,\"#fdca26\"],[1.0,\"#f0f921\"]]}],\"mesh3d\":[{\"type\":\"mesh3d\",\"colorbar\":{\"outlinewidth\":0,\"ticks\":\"\"}}],\"scatter\":[{\"fillpattern\":{\"fillmode\":\"overlay\",\"size\":10,\"solidity\":0.2},\"type\":\"scatter\"}],\"parcoords\":[{\"type\":\"parcoords\",\"line\":{\"colorbar\":{\"outlinewidth\":0,\"ticks\":\"\"}}}],\"scatterpolargl\":[{\"type\":\"scatterpolargl\",\"marker\":{\"colorbar\":{\"outlinewidth\":0,\"ticks\":\"\"}}}],\"bar\":[{\"error_x\":{\"color\":\"#2a3f5f\"},\"error_y\":{\"color\":\"#2a3f5f\"},\"marker\":{\"line\":{\"color\":\"#E5ECF6\",\"width\":0.5},\"pattern\":{\"fillmode\":\"overlay\",\"size\":10,\"solidity\":0.2}},\"type\":\"bar\"}],\"scattergeo\":[{\"type\":\"scattergeo\",\"marker\":{\"colorbar\":{\"outlinewidth\":0,\"ticks\":\"\"}}}],\"scatterpolar\":[{\"type\":\"scatterpolar\",\"marker\":{\"colorbar\":{\"outlinewidth\":0,\"ticks\":\"\"}}}],\"histogram\":[{\"marker\":{\"pattern\":{\"fillmode\":\"overlay\",\"size\":10,\"solidity\":0.2}},\"type\":\"histogram\"}],\"scattergl\":[{\"type\":\"scattergl\",\"marker\":{\"colorbar\":{\"outlinewidth\":0,\"ticks\":\"\"}}}],\"scatter3d\":[{\"type\":\"scatter3d\",\"line\":{\"colorbar\":{\"outlinewidth\":0,\"ticks\":\"\"}},\"marker\":{\"colorbar\":{\"outlinewidth\":0,\"ticks\":\"\"}}}],\"scattermapbox\":[{\"type\":\"scattermapbox\",\"marker\":{\"colorbar\":{\"outlinewidth\":0,\"ticks\":\"\"}}}],\"scatterternary\":[{\"type\":\"scatterternary\",\"marker\":{\"colorbar\":{\"outlinewidth\":0,\"ticks\":\"\"}}}],\"scattercarpet\":[{\"type\":\"scattercarpet\",\"marker\":{\"colorbar\":{\"outlinewidth\":0,\"ticks\":\"\"}}}],\"carpet\":[{\"aaxis\":{\"endlinecolor\":\"#2a3f5f\",\"gridcolor\":\"white\",\"linecolor\":\"white\",\"minorgridcolor\":\"white\",\"startlinecolor\":\"#2a3f5f\"},\"baxis\":{\"endlinecolor\":\"#2a3f5f\",\"gridcolor\":\"white\",\"linecolor\":\"white\",\"minorgridcolor\":\"white\",\"startlinecolor\":\"#2a3f5f\"},\"type\":\"carpet\"}],\"table\":[{\"cells\":{\"fill\":{\"color\":\"#EBF0F8\"},\"line\":{\"color\":\"white\"}},\"header\":{\"fill\":{\"color\":\"#C8D4E3\"},\"line\":{\"color\":\"white\"}},\"type\":\"table\"}],\"barpolar\":[{\"marker\":{\"line\":{\"color\":\"#E5ECF6\",\"width\":0.5},\"pattern\":{\"fillmode\":\"overlay\",\"size\":10,\"solidity\":0.2}},\"type\":\"barpolar\"}],\"pie\":[{\"automargin\":true,\"type\":\"pie\"}]},\"layout\":{\"autotypenumbers\":\"strict\",\"colorway\":[\"#636efa\",\"#EF553B\",\"#00cc96\",\"#ab63fa\",\"#FFA15A\",\"#19d3f3\",\"#FF6692\",\"#B6E880\",\"#FF97FF\",\"#FECB52\"],\"font\":{\"color\":\"#2a3f5f\"},\"hovermode\":\"closest\",\"hoverlabel\":{\"align\":\"left\"},\"paper_bgcolor\":\"white\",\"plot_bgcolor\":\"#E5ECF6\",\"polar\":{\"bgcolor\":\"#E5ECF6\",\"angularaxis\":{\"gridcolor\":\"white\",\"linecolor\":\"white\",\"ticks\":\"\"},\"radialaxis\":{\"gridcolor\":\"white\",\"linecolor\":\"white\",\"ticks\":\"\"}},\"ternary\":{\"bgcolor\":\"#E5ECF6\",\"aaxis\":{\"gridcolor\":\"white\",\"linecolor\":\"white\",\"ticks\":\"\"},\"baxis\":{\"gridcolor\":\"white\",\"linecolor\":\"white\",\"ticks\":\"\"},\"caxis\":{\"gridcolor\":\"white\",\"linecolor\":\"white\",\"ticks\":\"\"}},\"coloraxis\":{\"colorbar\":{\"outlinewidth\":0,\"ticks\":\"\"}},\"colorscale\":{\"sequential\":[[0.0,\"#0d0887\"],[0.1111111111111111,\"#46039f\"],[0.2222222222222222,\"#7201a8\"],[0.3333333333333333,\"#9c179e\"],[0.4444444444444444,\"#bd3786\"],[0.5555555555555556,\"#d8576b\"],[0.6666666666666666,\"#ed7953\"],[0.7777777777777778,\"#fb9f3a\"],[0.8888888888888888,\"#fdca26\"],[1.0,\"#f0f921\"]],\"sequentialminus\":[[0.0,\"#0d0887\"],[0.1111111111111111,\"#46039f\"],[0.2222222222222222,\"#7201a8\"],[0.3333333333333333,\"#9c179e\"],[0.4444444444444444,\"#bd3786\"],[0.5555555555555556,\"#d8576b\"],[0.6666666666666666,\"#ed7953\"],[0.7777777777777778,\"#fb9f3a\"],[0.8888888888888888,\"#fdca26\"],[1.0,\"#f0f921\"]],\"diverging\":[[0,\"#8e0152\"],[0.1,\"#c51b7d\"],[0.2,\"#de77ae\"],[0.3,\"#f1b6da\"],[0.4,\"#fde0ef\"],[0.5,\"#f7f7f7\"],[0.6,\"#e6f5d0\"],[0.7,\"#b8e186\"],[0.8,\"#7fbc41\"],[0.9,\"#4d9221\"],[1,\"#276419\"]]},\"xaxis\":{\"gridcolor\":\"white\",\"linecolor\":\"white\",\"ticks\":\"\",\"title\":{\"standoff\":15},\"zerolinecolor\":\"white\",\"automargin\":true,\"zerolinewidth\":2},\"yaxis\":{\"gridcolor\":\"white\",\"linecolor\":\"white\",\"ticks\":\"\",\"title\":{\"standoff\":15},\"zerolinecolor\":\"white\",\"automargin\":true,\"zerolinewidth\":2},\"scene\":{\"xaxis\":{\"backgroundcolor\":\"#E5ECF6\",\"gridcolor\":\"white\",\"linecolor\":\"white\",\"showbackground\":true,\"ticks\":\"\",\"zerolinecolor\":\"white\",\"gridwidth\":2},\"yaxis\":{\"backgroundcolor\":\"#E5ECF6\",\"gridcolor\":\"white\",\"linecolor\":\"white\",\"showbackground\":true,\"ticks\":\"\",\"zerolinecolor\":\"white\",\"gridwidth\":2},\"zaxis\":{\"backgroundcolor\":\"#E5ECF6\",\"gridcolor\":\"white\",\"linecolor\":\"white\",\"showbackground\":true,\"ticks\":\"\",\"zerolinecolor\":\"white\",\"gridwidth\":2}},\"shapedefaults\":{\"line\":{\"color\":\"#2a3f5f\"}},\"annotationdefaults\":{\"arrowcolor\":\"#2a3f5f\",\"arrowhead\":0,\"arrowwidth\":1},\"geo\":{\"bgcolor\":\"white\",\"landcolor\":\"#E5ECF6\",\"subunitcolor\":\"white\",\"showland\":true,\"showlakes\":true,\"lakecolor\":\"white\"},\"title\":{\"x\":0.05},\"mapbox\":{\"style\":\"light\"}}},\"title\":{\"text\":\"Poisson Distribution\"},\"xaxis\":{\"title\":{\"text\":\"X\"}},\"yaxis\":{\"title\":{\"text\":\"Probability Density\"}},\"plot_bgcolor\":\"white\"},                        {\"responsive\": true}                    ).then(function(){\n",
       "                            \n",
       "var gd = document.getElementById('2a35223c-6244-4b6b-8262-08515bbb7bab');\n",
       "var x = new MutationObserver(function (mutations, observer) {{\n",
       "        var display = window.getComputedStyle(gd).display;\n",
       "        if (!display || display === 'none') {{\n",
       "            console.log([gd, 'removed!']);\n",
       "            Plotly.purge(gd);\n",
       "            observer.disconnect();\n",
       "        }}\n",
       "}});\n",
       "\n",
       "// Listen for the removal of the full notebook cells\n",
       "var notebookContainer = gd.closest('#notebook-container');\n",
       "if (notebookContainer) {{\n",
       "    x.observe(notebookContainer, {childList: true});\n",
       "}}\n",
       "\n",
       "// Listen for the clearing of the current output cell\n",
       "var outputEl = gd.closest('.output');\n",
       "if (outputEl) {{\n",
       "    x.observe(outputEl, {childList: true});\n",
       "}}\n",
       "\n",
       "                        })                };                });            </script>        </div>"
      ]
     },
     "metadata": {},
     "output_type": "display_data"
    }
   ],
   "source": [
    "import plotly.graph_objects as go\n",
    "import numpy as np\n",
    "import math\n",
    "\n",
    "# Define the parameter for the Poisson distribution\n",
    "lam = 5  # lambda parameter for Poisson distribution\n",
    "\n",
    "# Generate x values for plotting\n",
    "x = np.linspace(0, 15, 1000)\n",
    "\n",
    "# Calculate the PDF of the normal distribution using the mean and variance of the Poisson distribution\n",
    "mu = lam\n",
    "sigma = math.sqrt(lam)\n",
    "pdf = 1/(sigma * np.sqrt(2 * np.pi)) * np.exp(-(x - mu)**2 / (2 * sigma**2))\n",
    "\n",
    "# Create figure\n",
    "fig = go.Figure()\n",
    "\n",
    "# Add trace for the continuous approximation of the Poisson distribution using the normal distribution\n",
    "fig.add_trace(go.Scatter(x=x, y=pdf, mode='lines', line=dict(color='#519EE5', width=2), name='Poisson Distribution'))\n",
    "\n",
    "# Update layout\n",
    "fig.update_layout(\n",
    "    title='Poisson Distribution',\n",
    "    xaxis_title='X',\n",
    "    yaxis_title='Probability Density',\n",
    "    plot_bgcolor='white'\n",
    ")\n",
    "\n",
    "# Show plot\n",
    "fig.show()\n"
   ]
  },
  {
   "cell_type": "code",
   "execution_count": 114,
   "id": "e1c2dd33-e3c0-429c-8bb9-4f3f20fb13aa",
   "metadata": {},
   "outputs": [
    {
     "data": {
      "image/png": "[encoded data removed]",
      "text/plain": [
       "<Figure size 800x600 with 1 Axes>"
      ]
     },
     "metadata": {},
     "output_type": "display_data"
    }
   ],
   "source": [
    "import matplotlib.pyplot as plt\n",
    "import numpy as np\n",
    "\n",
    "# Generate data for Gaussian distribution\n",
    "x = np.linspace(-3, 3, 100)\n",
    "y = np.exp(-x**2 / 2) / np.sqrt(2 * np.pi)\n",
    "\n",
    "# Define color palette\n",
    "colors = ['#BFEEDB', '#8ED3AE', '#48AF8A', '#247B6C', '#CCE3F8', '#85C6EB', '#519EE5', '#283952', '#0F141C']\n",
    "\n",
    "# Create plot\n",
    "plt.figure(figsize=(8, 6))\n",
    "\n",
    "# Plot Gaussian distribution curve\n",
    "plt.plot(x, y, color=colors[2], linewidth=2)\n",
    "\n",
    "# Add title and labels\n",
    "plt.title('Gaussian Distribution')\n",
    "plt.xlabel('X')\n",
    "plt.ylabel('Probability Density')\n",
    "\n",
    "# Set background color\n",
    "plt.gca().set_facecolor('white')\n",
    "\n",
    "# Show plot\n",
    "plt.grid(False)\n",
    "plt.show()\n"
   ]
  },
  {
   "cell_type": "code",
   "execution_count": 115,
   "id": "24327f07-f2cb-4e7a-9735-57cd50ffc8c8",
   "metadata": {},
   "outputs": [
    {
     "data": {
      "image/png": "[encoded data removed]",
      "text/plain": [
       "<Figure size 800x600 with 1 Axes>"
      ]
     },
     "metadata": {},
     "output_type": "display_data"
    }
   ],
   "source": [
    "import matplotlib.pyplot as plt\n",
    "import numpy as np\n",
    "import math\n",
    "\n",
    "# Define the parameter for the Poisson distribution\n",
    "lam = 5  # lambda parameter for Poisson distribution\n",
    "\n",
    "# Generate x values for plotting\n",
    "x = np.linspace(-15, 15, 1000)\n",
    "\n",
    "# Calculate the PDF of the normal distribution using the mean and variance of the Poisson distribution\n",
    "mu = lam\n",
    "sigma = math.sqrt(lam)\n",
    "pdf = 1/(sigma * np.sqrt(2 * np.pi)) * np.exp(-(x - mu)**2 / (2 * sigma**2))\n",
    "\n",
    "# Define color palette\n",
    "colors = ['#BFEEDB', '#8ED3AE', '#48AF8A', '#247B6C', '#CCE3F8', '#85C6EB', '#519EE5', '#283952', '#0F141C']\n",
    "\n",
    "# Create plot\n",
    "plt.figure(figsize=(8, 6))\n",
    "\n",
    "# Plot the continuous approximation of the Poisson distribution using the normal distribution\n",
    "plt.plot(x, pdf, color=colors[2], lw=2)\n",
    "\n",
    "# Add title and labels\n",
    "plt.title('Poisson Distribution')\n",
    "plt.xlabel('X')\n",
    "plt.ylabel('Probability Density')\n",
    "\n",
    "# Set background color\n",
    "plt.gca().set_facecolor('white')\n",
    "\n",
    "# Show plot\n",
    "plt.grid(False)\n",
    "plt.show()\n"
   ]
  },
  {
   "cell_type": "code",
   "execution_count": null,
   "id": "1bb1bc67-d094-4e0d-8006-b0686aad811e",
   "metadata": {},
   "outputs": [],
   "source": []
  }
 ],
 "metadata": {
  "kernelspec": {
   "display_name": "Python 3 (ipykernel)",
   "language": "python",
   "name": "python3"
  },
  "language_info": {
   "codemirror_mode": {
    "name": "ipython",
    "version": 3
   },
   "file_extension": ".py",
   "mimetype": "text/x-python",
   "name": "python",
   "nbconvert_exporter": "python",
   "pygments_lexer": "ipython3",
   "version": "3.9.18"
  }
 },
 "nbformat": 4,
 "nbformat_minor": 5
}
