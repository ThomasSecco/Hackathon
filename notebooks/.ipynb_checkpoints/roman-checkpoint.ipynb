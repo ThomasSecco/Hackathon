{
 "cells": [
  {
   "cell_type": "code",
   "execution_count": 1,
   "metadata": {},
   "outputs": [],
   "source": [
    "import pandas as pd"
   ]
  },
  {
   "cell_type": "code",
   "execution_count": 2,
   "metadata": {},
   "outputs": [],
   "source": [
    "planning = pd.read_excel('../dataset/a6_booster_delivery_planning.xlsx')\n",
    "tracks = pd.read_excel('../dataset/ariane_tracks_booster_container_1.0.xlsx')"
   ]
  },
  {
   "cell_type": "code",
   "execution_count": 3,
   "metadata": {},
   "outputs": [
    {
     "data": {
      "text/html": [
       "<div>\n",
       "<style scoped>\n",
       "    .dataframe tbody tr th:only-of-type {\n",
       "        vertical-align: middle;\n",
       "    }\n",
       "\n",
       "    .dataframe tbody tr th {\n",
       "        vertical-align: top;\n",
       "    }\n",
       "\n",
       "    .dataframe thead th {\n",
       "        text-align: right;\n",
       "    }\n",
       "</style>\n",
       "<table border=\"1\" class=\"dataframe\">\n",
       "  <thead>\n",
       "    <tr style=\"text-align: right;\">\n",
       "      <th></th>\n",
       "      <th>Container</th>\n",
       "      <th>Zone</th>\n",
       "      <th>Entry</th>\n",
       "      <th>Exit</th>\n",
       "    </tr>\n",
       "  </thead>\n",
       "  <tbody>\n",
       "    <tr>\n",
       "      <th>0</th>\n",
       "      <td>SN7</td>\n",
       "      <td>A</td>\n",
       "      <td>09.12.2020</td>\n",
       "      <td>24.12.2020</td>\n",
       "    </tr>\n",
       "    <tr>\n",
       "      <th>1</th>\n",
       "      <td>SN7</td>\n",
       "      <td>B</td>\n",
       "      <td>24.12.2020</td>\n",
       "      <td>29.12.2020</td>\n",
       "    </tr>\n",
       "    <tr>\n",
       "      <th>2</th>\n",
       "      <td>SN7</td>\n",
       "      <td>C</td>\n",
       "      <td>29.12.2020</td>\n",
       "      <td>30.12.2020</td>\n",
       "    </tr>\n",
       "    <tr>\n",
       "      <th>3</th>\n",
       "      <td>SN7</td>\n",
       "      <td>D</td>\n",
       "      <td>10.01.2021</td>\n",
       "      <td>12.01.2021</td>\n",
       "    </tr>\n",
       "    <tr>\n",
       "      <th>4</th>\n",
       "      <td>SN7</td>\n",
       "      <td>E</td>\n",
       "      <td>12.01.2021</td>\n",
       "      <td>27.01.2021</td>\n",
       "    </tr>\n",
       "    <tr>\n",
       "      <th>5</th>\n",
       "      <td>SN7</td>\n",
       "      <td>D</td>\n",
       "      <td>27.01.2021</td>\n",
       "      <td>29.01.2021</td>\n",
       "    </tr>\n",
       "    <tr>\n",
       "      <th>6</th>\n",
       "      <td>SN7</td>\n",
       "      <td>C</td>\n",
       "      <td>08.02.2021</td>\n",
       "      <td>09.02.2021</td>\n",
       "    </tr>\n",
       "    <tr>\n",
       "      <th>7</th>\n",
       "      <td>SN7</td>\n",
       "      <td>B</td>\n",
       "      <td>09.02.2021</td>\n",
       "      <td>14.02.2021</td>\n",
       "    </tr>\n",
       "    <tr>\n",
       "      <th>8</th>\n",
       "      <td>SN3</td>\n",
       "      <td>A</td>\n",
       "      <td>09.12.2020</td>\n",
       "      <td>24.12.2020</td>\n",
       "    </tr>\n",
       "    <tr>\n",
       "      <th>9</th>\n",
       "      <td>SN3</td>\n",
       "      <td>B</td>\n",
       "      <td>24.12.2020</td>\n",
       "      <td>29.12.2020</td>\n",
       "    </tr>\n",
       "    <tr>\n",
       "      <th>10</th>\n",
       "      <td>SN3</td>\n",
       "      <td>C</td>\n",
       "      <td>29.12.2020</td>\n",
       "      <td>30.12.2020</td>\n",
       "    </tr>\n",
       "    <tr>\n",
       "      <th>11</th>\n",
       "      <td>SN3</td>\n",
       "      <td>D</td>\n",
       "      <td>10.01.2021</td>\n",
       "      <td>12.01.2021</td>\n",
       "    </tr>\n",
       "    <tr>\n",
       "      <th>12</th>\n",
       "      <td>SN3</td>\n",
       "      <td>E</td>\n",
       "      <td>12.01.2021</td>\n",
       "      <td>27.01.2021</td>\n",
       "    </tr>\n",
       "    <tr>\n",
       "      <th>13</th>\n",
       "      <td>SN3</td>\n",
       "      <td>D</td>\n",
       "      <td>27.01.2021</td>\n",
       "      <td>29.01.2021</td>\n",
       "    </tr>\n",
       "    <tr>\n",
       "      <th>14</th>\n",
       "      <td>SN3</td>\n",
       "      <td>C</td>\n",
       "      <td>08.02.2021</td>\n",
       "      <td>09.02.2021</td>\n",
       "    </tr>\n",
       "    <tr>\n",
       "      <th>15</th>\n",
       "      <td>SN8</td>\n",
       "      <td>A</td>\n",
       "      <td>22.07.2021</td>\n",
       "      <td>06.08.2021</td>\n",
       "    </tr>\n",
       "    <tr>\n",
       "      <th>16</th>\n",
       "      <td>SN8</td>\n",
       "      <td>B</td>\n",
       "      <td>06.08.2021</td>\n",
       "      <td>11.08.2021</td>\n",
       "    </tr>\n",
       "    <tr>\n",
       "      <th>17</th>\n",
       "      <td>SN8</td>\n",
       "      <td>C</td>\n",
       "      <td>11.08.2021</td>\n",
       "      <td>12.08.2021</td>\n",
       "    </tr>\n",
       "    <tr>\n",
       "      <th>18</th>\n",
       "      <td>SN8</td>\n",
       "      <td>D</td>\n",
       "      <td>22.08.2021</td>\n",
       "      <td>24.08.2021</td>\n",
       "    </tr>\n",
       "    <tr>\n",
       "      <th>19</th>\n",
       "      <td>SN8</td>\n",
       "      <td>E</td>\n",
       "      <td>24.08.2021</td>\n",
       "      <td>08.09.2021</td>\n",
       "    </tr>\n",
       "    <tr>\n",
       "      <th>20</th>\n",
       "      <td>SN8</td>\n",
       "      <td>D</td>\n",
       "      <td>08.09.2021</td>\n",
       "      <td>10.09.2021</td>\n",
       "    </tr>\n",
       "    <tr>\n",
       "      <th>21</th>\n",
       "      <td>SN8</td>\n",
       "      <td>C</td>\n",
       "      <td>20.09.2021</td>\n",
       "      <td>21.09.2021</td>\n",
       "    </tr>\n",
       "    <tr>\n",
       "      <th>22</th>\n",
       "      <td>SN8</td>\n",
       "      <td>B</td>\n",
       "      <td>21.09.2021</td>\n",
       "      <td>26.09.2021</td>\n",
       "    </tr>\n",
       "    <tr>\n",
       "      <th>23</th>\n",
       "      <td>SN7</td>\n",
       "      <td>A</td>\n",
       "      <td>22.07.2021</td>\n",
       "      <td>06.08.2021</td>\n",
       "    </tr>\n",
       "    <tr>\n",
       "      <th>24</th>\n",
       "      <td>SN7</td>\n",
       "      <td>B</td>\n",
       "      <td>06.08.2021</td>\n",
       "      <td>11.08.2021</td>\n",
       "    </tr>\n",
       "    <tr>\n",
       "      <th>25</th>\n",
       "      <td>SN7</td>\n",
       "      <td>C</td>\n",
       "      <td>11.08.2021</td>\n",
       "      <td>12.08.2021</td>\n",
       "    </tr>\n",
       "    <tr>\n",
       "      <th>26</th>\n",
       "      <td>SN7</td>\n",
       "      <td>D</td>\n",
       "      <td>22.08.2021</td>\n",
       "      <td>24.08.2021</td>\n",
       "    </tr>\n",
       "    <tr>\n",
       "      <th>27</th>\n",
       "      <td>SN7</td>\n",
       "      <td>E</td>\n",
       "      <td>24.08.2021</td>\n",
       "      <td>08.09.2021</td>\n",
       "    </tr>\n",
       "    <tr>\n",
       "      <th>28</th>\n",
       "      <td>SN7</td>\n",
       "      <td>D</td>\n",
       "      <td>08.09.2021</td>\n",
       "      <td>10.09.2021</td>\n",
       "    </tr>\n",
       "    <tr>\n",
       "      <th>29</th>\n",
       "      <td>SN7</td>\n",
       "      <td>C</td>\n",
       "      <td>20.09.2021</td>\n",
       "      <td>21.09.2021</td>\n",
       "    </tr>\n",
       "    <tr>\n",
       "      <th>30</th>\n",
       "      <td>SN7</td>\n",
       "      <td>B</td>\n",
       "      <td>21.09.2021</td>\n",
       "      <td>26.09.2021</td>\n",
       "    </tr>\n",
       "    <tr>\n",
       "      <th>31</th>\n",
       "      <td>SN3</td>\n",
       "      <td>A</td>\n",
       "      <td>22.07.2021</td>\n",
       "      <td>06.08.2021</td>\n",
       "    </tr>\n",
       "    <tr>\n",
       "      <th>32</th>\n",
       "      <td>SN3</td>\n",
       "      <td>B</td>\n",
       "      <td>06.08.2021</td>\n",
       "      <td>11.08.2021</td>\n",
       "    </tr>\n",
       "    <tr>\n",
       "      <th>33</th>\n",
       "      <td>SN3</td>\n",
       "      <td>C</td>\n",
       "      <td>11.08.2021</td>\n",
       "      <td>12.08.2021</td>\n",
       "    </tr>\n",
       "    <tr>\n",
       "      <th>34</th>\n",
       "      <td>SN3</td>\n",
       "      <td>D</td>\n",
       "      <td>22.08.2021</td>\n",
       "      <td>24.08.2021</td>\n",
       "    </tr>\n",
       "    <tr>\n",
       "      <th>35</th>\n",
       "      <td>SN3</td>\n",
       "      <td>E</td>\n",
       "      <td>24.08.2021</td>\n",
       "      <td>08.09.2021</td>\n",
       "    </tr>\n",
       "    <tr>\n",
       "      <th>36</th>\n",
       "      <td>SN3</td>\n",
       "      <td>D</td>\n",
       "      <td>08.09.2021</td>\n",
       "      <td>10.09.2021</td>\n",
       "    </tr>\n",
       "    <tr>\n",
       "      <th>37</th>\n",
       "      <td>SN3</td>\n",
       "      <td>C</td>\n",
       "      <td>20.09.2021</td>\n",
       "      <td>21.09.2021</td>\n",
       "    </tr>\n",
       "    <tr>\n",
       "      <th>38</th>\n",
       "      <td>SN3</td>\n",
       "      <td>B</td>\n",
       "      <td>21.09.2021</td>\n",
       "      <td>26.09.2021</td>\n",
       "    </tr>\n",
       "    <tr>\n",
       "      <th>39</th>\n",
       "      <td>SN6</td>\n",
       "      <td>A</td>\n",
       "      <td>22.07.2021</td>\n",
       "      <td>06.08.2021</td>\n",
       "    </tr>\n",
       "  </tbody>\n",
       "</table>\n",
       "</div>"
      ],
      "text/plain": [
       "   Container Zone       Entry        Exit\n",
       "0        SN7    A  09.12.2020  24.12.2020\n",
       "1        SN7    B  24.12.2020  29.12.2020\n",
       "2        SN7    C  29.12.2020  30.12.2020\n",
       "3        SN7    D  10.01.2021  12.01.2021\n",
       "4        SN7    E  12.01.2021  27.01.2021\n",
       "5        SN7    D  27.01.2021  29.01.2021\n",
       "6        SN7    C  08.02.2021  09.02.2021\n",
       "7        SN7    B  09.02.2021  14.02.2021\n",
       "8        SN3    A  09.12.2020  24.12.2020\n",
       "9        SN3    B  24.12.2020  29.12.2020\n",
       "10       SN3    C  29.12.2020  30.12.2020\n",
       "11       SN3    D  10.01.2021  12.01.2021\n",
       "12       SN3    E  12.01.2021  27.01.2021\n",
       "13       SN3    D  27.01.2021  29.01.2021\n",
       "14       SN3    C  08.02.2021  09.02.2021\n",
       "15       SN8    A  22.07.2021  06.08.2021\n",
       "16       SN8    B  06.08.2021  11.08.2021\n",
       "17       SN8    C  11.08.2021  12.08.2021\n",
       "18       SN8    D  22.08.2021  24.08.2021\n",
       "19       SN8    E  24.08.2021  08.09.2021\n",
       "20       SN8    D  08.09.2021  10.09.2021\n",
       "21       SN8    C  20.09.2021  21.09.2021\n",
       "22       SN8    B  21.09.2021  26.09.2021\n",
       "23       SN7    A  22.07.2021  06.08.2021\n",
       "24       SN7    B  06.08.2021  11.08.2021\n",
       "25       SN7    C  11.08.2021  12.08.2021\n",
       "26       SN7    D  22.08.2021  24.08.2021\n",
       "27       SN7    E  24.08.2021  08.09.2021\n",
       "28       SN7    D  08.09.2021  10.09.2021\n",
       "29       SN7    C  20.09.2021  21.09.2021\n",
       "30       SN7    B  21.09.2021  26.09.2021\n",
       "31       SN3    A  22.07.2021  06.08.2021\n",
       "32       SN3    B  06.08.2021  11.08.2021\n",
       "33       SN3    C  11.08.2021  12.08.2021\n",
       "34       SN3    D  22.08.2021  24.08.2021\n",
       "35       SN3    E  24.08.2021  08.09.2021\n",
       "36       SN3    D  08.09.2021  10.09.2021\n",
       "37       SN3    C  20.09.2021  21.09.2021\n",
       "38       SN3    B  21.09.2021  26.09.2021\n",
       "39       SN6    A  22.07.2021  06.08.2021"
      ]
     },
     "execution_count": 3,
     "metadata": {},
     "output_type": "execute_result"
    }
   ],
   "source": [
    "tracks.head(40)"
   ]
  },
  {
   "cell_type": "code",
   "execution_count": 4,
   "metadata": {},
   "outputs": [],
   "source": [
    "planning = pd.read_excel('../dataset/a6_booster_delivery_planning.xlsx')\n",
    "tracks = pd.read_excel('../dataset/ariane_tracks_booster_container_1.0.xlsx')\n",
    "\n",
    "tracks['Entry'] = pd.to_datetime(tracks['Entry'], format='%d.%m.%Y')\n",
    "tracks['Exit'] = pd.to_datetime(tracks['Exit'], format='%d.%m.%Y')\n",
    "\n",
    "sorted_tracks = tracks.sort_values(by=['Container','Entry'])"
   ]
  },
  {
   "cell_type": "code",
   "execution_count": 5,
   "metadata": {},
   "outputs": [],
   "source": [
    "sorted_tracks = tracks.sort_values(by=['Container','Entry'])"
   ]
  },
  {
   "cell_type": "code",
   "execution_count": null,
   "metadata": {},
   "outputs": [],
   "source": [
    "sorted_tracks.head(50)"
   ]
  },
  {
   "cell_type": "code",
   "execution_count": null,
   "metadata": {},
   "outputs": [],
   "source": [
    "import matplotlib.pyplot as plt\n",
    "fig = plt.figure(figsize=(20, 10))\n",
    "ax = fig.add_subplot(111)\n",
    "ax.hist(sorted_tracks[sorted_tracks['Zone'] == 'E']['Entry'], ls='dashed', bins=50, fc=(0, 0, 1, 0.5),label='Supply')\n",
    "hist2 = ax.hist(planning[planning['Date'] <= '2024-04-25']['Date'], weights=planning[planning['Date'] <= '2024-04-25']['Config'], ls='dotted', bins=50, fc=(1, 0, 0, 0.5), label='Demand')\n",
    "ax.legend(prop={'size': 10})\n",
    "plt.show()"
   ]
  },
  {
   "cell_type": "code",
   "execution_count": null,
   "metadata": {},
   "outputs": [],
   "source": [
    "grouped_tracks = sorted_tracks.groupby(['Zone', 'Entry'], as_index=False).count()"
   ]
  },
  {
   "cell_type": "code",
   "execution_count": null,
   "metadata": {},
   "outputs": [],
   "source": [
    "real_world = grouped_tracks[(grouped_tracks['Zone'] == 'E')][['Entry', 'Container']]"
   ]
  },
  {
   "cell_type": "code",
   "execution_count": null,
   "metadata": {},
   "outputs": [],
   "source": [
    "import matplotlib.pyplot as plt\n",
    "fig = plt.figure(figsize=(20, 10))\n",
    "ax = fig.add_subplot(111)\n",
    "plt.scatter(real_world['Entry'], real_world['Container'], marker='o', label='Supply', alpha=0.5)\n",
    "plt.scatter(planning[planning['Date'] <= '2024-04-25']['Date'], planning[planning['Date'] <= '2024-04-25']['Config'], marker='s', label='Demand', alpha=0.5)\n",
    "ax.legend(prop={'size': 12})"
   ]
  },
  {
   "cell_type": "code",
   "execution_count": null,
   "metadata": {},
   "outputs": [],
   "source": [
    "all(planning[planning['Date'] < '2024-03-30'] == real_world.rename(columns={'Container': 'Config', 'Entry': 'Date'}).reset_index(drop=True))   "
   ]
  },
  {
   "cell_type": "code",
   "execution_count": null,
   "metadata": {},
   "outputs": [],
   "source": [
    "plt.hist(planning['Date'], weights=planning['Config'])"
   ]
  },
  {
   "cell_type": "markdown",
   "metadata": {},
   "source": []
  },
  {
   "cell_type": "markdown",
   "metadata": {},
   "source": []
  },
  {
   "cell_type": "markdown",
   "metadata": {},
   "source": []
  },
  {
   "cell_type": "markdown",
   "metadata": {},
   "source": []
  },
  {
   "cell_type": "markdown",
   "metadata": {},
   "source": []
  },
  {
   "cell_type": "markdown",
   "metadata": {},
   "source": [
    "## Architecture"
   ]
  },
  {
   "cell_type": "code",
   "execution_count": null,
   "metadata": {},
   "outputs": [],
   "source": [
    "import pandas as pd\n",
    "import numpy as np\n",
    "import torch"
   ]
  },
  {
   "cell_type": "code",
   "execution_count": null,
   "metadata": {},
   "outputs": [],
   "source": [
    "planning = pd.read_excel('../dataset/a6_booster_delivery_planning.xlsx')\n",
    "tracks = pd.read_excel('../dataset/ariane_tracks_booster_container_1.0.xlsx')\n",
    "\n",
    "tracks['Entry'] = pd.to_datetime(tracks['Entry'], format='%d.%m.%Y')\n",
    "tracks['Exit'] = pd.to_datetime(tracks['Exit'], format='%d.%m.%Y')\n",
    "\n",
    "sorted_tracks = tracks.sort_values(by=['Container','Entry'])\n",
    "\n",
    "sorted_tracks = sorted_tracks.reset_index(drop=True)\n",
    "sorted_tracks['StayDays'] = sorted_tracks['Exit'] - sorted_tracks['Entry']"
   ]
  },
  {
   "cell_type": "code",
   "execution_count": null,
   "metadata": {},
   "outputs": [],
   "source": [
    "sorted_tracks.head(50)"
   ]
  },
  {
   "cell_type": "code",
   "execution_count": null,
   "metadata": {},
   "outputs": [],
   "source": [
    "sample = sorted_tracks[sorted_tracks['Container'] == 'SN4']"
   ]
  },
  {
   "cell_type": "code",
   "execution_count": null,
   "metadata": {},
   "outputs": [],
   "source": [
    "samp['ZonePos'] = [ord(x) - 64 for x in samp['Zone']]\n",
    "samp['ZonePosPrev'] = [np.nan] + [ord(x) - 64 for x in samp['Zone']][:-1]\n",
    "samp['ZoneDelta'] = samp['ZonePos'] - samp['ZonePosPrev']\n",
    "samp.loc[samp['ZoneDelta'] >= 0, 'Zone'] = samp[samp['ZoneDelta'] >= 0]['Zone'].astype(str) + '1'"
   ]
  },
  {
   "cell_type": "code",
   "execution_count": null,
   "metadata": {},
   "outputs": [],
   "source": [
    "def stay_prep(sample):\n",
    "\n",
    "    sample = sample.reset_index(drop=True)\n",
    "\n",
    "    sample['ZonePos'] = [ord(x) - 64 for x in sample['Zone']]\n",
    "    sample['ZonePosPrev'] = [np.nan] + [ord(x) - 64 for x in sample['Zone']][:-1]\n",
    "    sample['ZoneDelta'] = sample['ZonePos'] - sample['ZonePosPrev']\n",
    "    sample.loc[sample['ZoneDelta'] < 0, 'Zone'] = sample[sample['ZoneDelta'] < 0]['Zone'].astype(str) + '1'\n",
    "\n",
    "    df_staying = pd.get_dummies(sample['Zone'])\n",
    "    df_staying['Container'] = sample['Container']\n",
    "    df_staying['Entry'] = sample['Entry']\n",
    "    df_staying['Exit'] = sample['Exit']\n",
    "    df_staying['Days'] = sample['StayDays']\n",
    "\n",
    "    return df_staying\n",
    "\n",
    "def move_prep(sample):\n",
    "\n",
    "    sample = sample.reset_index(drop=True)\n",
    "\n",
    "    sample['Transition'] = sample['Zone'].shift(1).str.cat(sample['Zone'])\n",
    "    df_moving = pd.get_dummies(sample['Transition'])\n",
    "\n",
    "    exit_shift = sample['Exit'][:-1].reset_index(drop=True)\n",
    "    exit_shift.index = np.arange(1, len(exit_shift) + 1)\n",
    "    df_moving.loc[1:, 'Entry'] = exit_shift\n",
    "    df_moving.loc[1:,'Exit'] = sample[1:]['Entry']\n",
    "    \n",
    "    shift = sample[1:]['Entry'].reset_index(drop=True) - sample['Exit'][:-1]\n",
    "    shift.index = np.arange(1, len(shift) + 1)\n",
    "    sample.loc[1:, 'TransitionTime'] = shift\n",
    "    df_moving['Container'] = sample['Container']\n",
    "    df_moving['Days'] = sample['TransitionTime']\n",
    "    print('Length before:', len(df_moving))\n",
    "    df_moving = df_moving.dropna(subset='Days')\n",
    "    print('Length after:', len(df_moving))\n",
    "\n",
    "    return df_moving\n",
    "        "
   ]
  },
  {
   "cell_type": "code",
   "execution_count": null,
   "metadata": {},
   "outputs": [],
   "source": [
    "def data_prep(sorted_tracks):\n",
    "    out = None\n",
    "\n",
    "    for container in sorted_tracks['Container'].unique():\n",
    "        print('Doing ', container)\n",
    "        cont_df = sorted_tracks[sorted_tracks['Container'] == container]\n",
    "        moving = move_prep(cont_df)\n",
    "        staying = stay_prep(cont_df)\n",
    "\n",
    "        if out is None:\n",
    "            out = pd.concat([moving, staying])\n",
    "        else:\n",
    "            out = pd.concat([out, moving, staying])\n",
    "\n",
    "    return out"
   ]
  },
  {
   "cell_type": "code",
   "execution_count": null,
   "metadata": {},
   "outputs": [],
   "source": [
    "out = data_prep(sorted_tracks)"
   ]
  },
  {
   "cell_type": "markdown",
   "metadata": {},
   "source": [
    "#### CA is above because of the errors in the data; should add a preprocessing"
   ]
  },
  {
   "cell_type": "code",
   "execution_count": null,
   "metadata": {},
   "outputs": [],
   "source": [
    "# so far - just drop it\n",
    "out = out.drop(columns=['CA'])\n",
    "# set NaN to 0:\n",
    "out = out.fillna(False)"
   ]
  },
  {
   "cell_type": "code",
   "execution_count": null,
   "metadata": {},
   "outputs": [],
   "source": [
    "out"
   ]
  },
  {
   "cell_type": "code",
   "execution_count": null,
   "metadata": {},
   "outputs": [],
   "source": [
    "out[['A', 'AB', 'B', 'B1', 'BC', 'C', 'C1', 'CD', 'D', 'D1', 'DE', 'E', 'ED', 'DC', 'CB', 'BA']] = out[['A', 'AB', 'B', 'B1', 'BC', 'C', 'C1', 'CD', 'D', 'D1', 'DE', 'E', 'ED', 'DC', 'CB', 'BA']]*1\n",
    "out = out[['Container', 'A', 'AB', 'B', 'B1', 'BC', 'C', 'C1', 'CD', 'D', 'D1', 'DE', 'E', 'ED', 'DC', 'CB', 'BA', 'Entry', 'Exit', 'Days']]"
   ]
  },
  {
   "cell_type": "code",
   "execution_count": null,
   "metadata": {},
   "outputs": [],
   "source": [
    "out"
   ]
  },
  {
   "cell_type": "markdown",
   "metadata": {},
   "source": [
    "### TODO: Add sanity check for the data"
   ]
  },
  {
   "cell_type": "code",
   "execution_count": null,
   "metadata": {},
   "outputs": [],
   "source": [
    "summed_out = out.drop(columns=['Container']).groupby(['Entry', 'Exit'], as_index=False).sum()"
   ]
  },
  {
   "cell_type": "code",
   "execution_count": null,
   "metadata": {},
   "outputs": [],
   "source": [
    "summed_out"
   ]
  },
  {
   "cell_type": "markdown",
   "metadata": {},
   "source": [
    "#### removing the inverted combinations (BA, CB, etc.)"
   ]
  },
  {
   "cell_type": "code",
   "execution_count": null,
   "metadata": {},
   "outputs": [],
   "source": [
    "inverted = [['BA', 'AB'], ['CB', 'BC'], ['DC', 'CD'], ['ED', 'DE']]\n",
    "\n",
    "summed_out['Inverted'] = 0\n",
    "for inv, true in inverted:\n",
    "    mask = summed_out[inv] != 0\n",
    "    print(len(mask))\n",
    "    summed_out.loc[mask, true] = summed_out[mask][inv]\n",
    "    summed_out.loc[mask, 'Inverted'] = 1\n",
    "\n",
    "summed_out_inverted = summed_out.drop(columns=['BA', 'CB', 'DC', 'ED'])\n"
   ]
  },
  {
   "cell_type": "code",
   "execution_count": null,
   "metadata": {},
   "outputs": [],
   "source": [
    "summed_out_inverted = summed_out_inverted.rename(columns={'E1': 'E'})\n",
    "\n",
    "for inv, true in [['B1', 'B'], ['C1', 'C'], ['D1', 'D']]:\n",
    "    mask = summed_out_inverted[inv] != 0\n",
    "    print(len(mask))\n",
    "    summed_out_inverted.loc[mask, true] = summed_out_inverted[mask][inv]\n",
    "    summed_out_inverted.loc[mask, 'Inverted'] = 1\n",
    "\n",
    "summed_out_inverted = summed_out_inverted.drop(columns=['B1', 'C1', 'D1'])"
   ]
  },
  {
   "cell_type": "code",
   "execution_count": null,
   "metadata": {},
   "outputs": [],
   "source": [
    "summed_out_inverted"
   ]
  },
  {
   "cell_type": "code",
   "execution_count": null,
   "metadata": {},
   "outputs": [],
   "source": [
    "# since we summed the number of days, we need to divide it by the number of occurences\n",
    "summed_out_inverted['Days'] = summed_out_inverted['Days'].dt.days\n",
    "summed_out_inverted[['A', 'AB', 'B', 'BC', 'C', 'CD', 'D', 'DE', 'E']] = summed_out_inverted[['A', 'AB', 'B', 'BC', 'C', 'CD', 'D', 'DE', 'E']].astype(int)\n",
    "summed_out_inverted['Days'] = summed_out_inverted['Days'] / summed_out_inverted[['A', 'AB', 'B', 'BC', 'C', 'CD', 'D', 'DE', 'E']].sum(axis=1)"
   ]
  },
  {
   "cell_type": "code",
   "execution_count": null,
   "metadata": {},
   "outputs": [],
   "source": [
    "# something weird is going on \n",
    "summed_out_inverted = summed_out_inverted[summed_out_inverted['Days'] != np.inf]\n",
    "summed_out_inverted['Days'] = summed_out_inverted['Days'].astype(int)"
   ]
  },
  {
   "cell_type": "code",
   "execution_count": null,
   "metadata": {},
   "outputs": [],
   "source": [
    "summed_out_inverted.head(60)"
   ]
  },
  {
   "cell_type": "code",
   "execution_count": null,
   "metadata": {},
   "outputs": [],
   "source": [
    "# summed_out = summed_out.drop(columns=['Entry', 'Exit'])"
   ]
  },
  {
   "cell_type": "markdown",
   "metadata": {},
   "source": [
    "### Training"
   ]
  },
  {
   "cell_type": "code",
   "execution_count": null,
   "metadata": {},
   "outputs": [],
   "source": [
    "data = (out-out.min())/(out.max()-out.min())"
   ]
  },
  {
   "cell_type": "code",
   "execution_count": null,
   "metadata": {},
   "outputs": [],
   "source": [
    "data"
   ]
  },
  {
   "cell_type": "code",
   "execution_count": null,
   "metadata": {},
   "outputs": [],
   "source": [
    "from sklearn.model_selection import train_test_split\n",
    "\n",
    "TEST_SIZE = 0.1\n",
    "SEED = 42\n",
    "\n",
    "# instead of stratifying by days, we shuffle:\n",
    "out = out.sample(frac=1, random_state=SEED).reset_index(drop=True)\n",
    "\n",
    "X_train, X_test, y_train, y_test = train_test_split(\n",
    "    out.drop(columns='Days'),\n",
    "    out['Days'],\n",
    "    test_size=TEST_SIZE,\n",
    "    random_state=SEED\n",
    ")"
   ]
  },
  {
   "cell_type": "code",
   "execution_count": null,
   "metadata": {},
   "outputs": [],
   "source": [
    "X_train"
   ]
  },
  {
   "cell_type": "code",
   "execution_count": null,
   "metadata": {},
   "outputs": [],
   "source": [
    "from sklearn.linear_model import LinearRegression\n",
    "reg = LinearRegression().fit(X_train, y_train)"
   ]
  },
  {
   "cell_type": "code",
   "execution_count": null,
   "metadata": {},
   "outputs": [],
   "source": [
    "y_pred = reg.predict(X_test)"
   ]
  },
  {
   "cell_type": "code",
   "execution_count": null,
   "metadata": {},
   "outputs": [],
   "source": [
    "y_pred"
   ]
  },
  {
   "cell_type": "code",
   "execution_count": null,
   "metadata": {},
   "outputs": [],
   "source": [
    "from sklearn.metrics import mean_squared_error\n",
    "\n",
    "mean_squared_error(y_test, y_pred)"
   ]
  },
  {
   "cell_type": "markdown",
   "metadata": {},
   "source": [
    "#### Random Forest"
   ]
  },
  {
   "cell_type": "code",
   "execution_count": null,
   "metadata": {},
   "outputs": [],
   "source": [
    "from sklearn.ensemble import RandomForestRegressor\n",
    "regr = RandomForestRegressor(max_depth=4, random_state=0).fit(X_train, y_train)"
   ]
  },
  {
   "cell_type": "code",
   "execution_count": null,
   "metadata": {},
   "outputs": [],
   "source": [
    "y_pred = regr.predict(X_test)\n",
    "mean_squared_error(y_test, y_pred)"
   ]
  },
  {
   "cell_type": "markdown",
   "metadata": {},
   "source": [
    "### CatBoost"
   ]
  },
  {
   "cell_type": "markdown",
   "metadata": {},
   "source": [
    "TBD"
   ]
  },
  {
   "cell_type": "markdown",
   "metadata": {},
   "source": [
    "### PCA"
   ]
  },
  {
   "cell_type": "markdown",
   "metadata": {},
   "source": [
    "### UPD"
   ]
  },
  {
   "cell_type": "code",
   "execution_count": null,
   "metadata": {},
   "outputs": [],
   "source": [
    "out['Days'].unique()"
   ]
  },
  {
   "cell_type": "code",
   "execution_count": null,
   "metadata": {},
   "outputs": [],
   "source": [
    "out['Days'].iloc[0]"
   ]
  },
  {
   "cell_type": "code",
   "execution_count": null,
   "metadata": {},
   "outputs": [],
   "source": [
    "out[out['BA'] == 1]['Days']"
   ]
  },
  {
   "cell_type": "code",
   "execution_count": null,
   "metadata": {},
   "outputs": [],
   "source": [
    "from sklearn.decomposition import PCA\n",
    "\n",
    "# data = (out-out.min())/(out.max()-out.min())\n",
    "data = out\n",
    "pca_data = data.drop(columns='Days')\n",
    "pca_y = data['Days']"
   ]
  },
  {
   "cell_type": "code",
   "execution_count": null,
   "metadata": {},
   "outputs": [],
   "source": [
    "pca = PCA(n_components=3)\n",
    "pca_data = pca.fit_transform(pca_data)"
   ]
  },
  {
   "cell_type": "code",
   "execution_count": null,
   "metadata": {},
   "outputs": [],
   "source": [
    "pca_data"
   ]
  },
  {
   "cell_type": "code",
   "execution_count": null,
   "metadata": {},
   "outputs": [],
   "source": [
    "print(pca.explained_variance_ratio_)"
   ]
  },
  {
   "cell_type": "code",
   "execution_count": null,
   "metadata": {},
   "outputs": [],
   "source": [
    "X_train, X_test, y_train, y_test = train_test_split(\n",
    "    pca_data,\n",
    "    pca_y,\n",
    "    test_size=TEST_SIZE,\n",
    "    random_state=SEED\n",
    ")"
   ]
  },
  {
   "cell_type": "code",
   "execution_count": null,
   "metadata": {},
   "outputs": [],
   "source": [
    "from sklearn.ensemble import RandomForestRegressor\n",
    "regr = RandomForestRegressor(max_depth=4, random_state=0).fit(X_train, y_train)"
   ]
  },
  {
   "cell_type": "code",
   "execution_count": null,
   "metadata": {},
   "outputs": [],
   "source": [
    "y_pred = regr.predict(X_test)\n",
    "mean_squared_error(y_test, y_pred)"
   ]
  },
  {
   "cell_type": "code",
   "execution_count": null,
   "metadata": {},
   "outputs": [],
   "source": [
    "y_pred"
   ]
  },
  {
   "cell_type": "code",
   "execution_count": null,
   "metadata": {},
   "outputs": [],
   "source": [
    "y_test"
   ]
  }
 ],
 "metadata": {
  "kernelspec": {
   "display_name": "Python 3 (ipykernel)",
   "language": "python",
   "name": "python3"
  },
  "language_info": {
   "codemirror_mode": {
    "name": "ipython",
    "version": 3
   },
   "file_extension": ".py",
   "mimetype": "text/x-python",
   "name": "python",
   "nbconvert_exporter": "python",
   "pygments_lexer": "ipython3",
   "version": "3.9.18"
  }
 },
 "nbformat": 4,
 "nbformat_minor": 4
}
